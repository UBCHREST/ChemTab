{
 "cells": [
  {
   "cell_type": "code",
   "execution_count": 1,
   "id": "6e12d4b8",
   "metadata": {},
   "outputs": [],
   "source": [
    "\"\"\"\n",
    "Created on Wed Aug  4 17:50:06 2021\n",
    "\n",
    "@author: amol\n",
    "\"\"\"\n",
    "\n",
    "# set TF GPU memory growth so that it doesn't hog everything at once\n",
    "import tensorflow as tf\n",
    "physical_devices = tf.config.list_physical_devices('GPU')\n",
    "tf.config.experimental.set_memory_growth(physical_devices[0], True)\n",
    "\n",
    "from main import *\n",
    "debug_mode = True  # faster experiments for debugging\n",
    "\n",
    "# util for getting objects' fields' names\n",
    "field_names = lambda x: list(vars(x).keys())"
   ]
  },
  {
   "cell_type": "code",
   "execution_count": 2,
   "id": "2b6c352f",
   "metadata": {},
   "outputs": [],
   "source": [
    "#Prepare the DataFrame that will be used downstream\n",
    "dp = DataPreparer()\n",
    "dp.createPCAs()\n",
    "dp.sparsePCAs()\n",
    "dp.zmixOrthogonalPCAs()\n",
    "df = dp.getDataframe()\n",
    "\n",
    "# TODO: add PCA from linear model first\n",
    "df.to_csv('PCA_data.csv', index=False)\n",
    "\n",
    "# currently passing dp eventually we want to abstract all the constants into 1 class\n",
    "dm = DataManager(df, dp)"
   ]
  },
  {
   "cell_type": "code",
   "execution_count": null,
   "id": "a7cd841b",
   "metadata": {},
   "outputs": [],
   "source": [
    "'''\n",
    "1. Run the GP Experiments\n",
    "'''\n",
    "import time\n",
    "\n",
    "start=time.time()\n",
    "exprExec = run_gp_experiments(dm, debug_mode=debug_mode)\n",
    "print(f'duration: {time.time()-start}')"
   ]
  },
  {
   "cell_type": "code",
   "execution_count": null,
   "id": "0e7bfb2d",
   "metadata": {},
   "outputs": [],
   "source": [
    "'''\n",
    "2. Run the Simple DNN Experiments\n",
    "'''\n",
    "\n",
    "exprExec = run_simple_dnn_experiments(dm, debug_mode=debug_mode)"
   ]
  },
  {
   "cell_type": "raw",
   "id": "c8b318d0",
   "metadata": {},
   "source": [
    "'''\n",
    "3. Run the PCDNN_v1 Experiments\n",
    "'''\n",
    "exprExec = run_pcdnn_v1_experiments(dm, debug_mode=False)"
   ]
  },
  {
   "cell_type": "code",
   "execution_count": 3,
   "id": "53e6cd08",
   "metadata": {
    "scrolled": true
   },
   "outputs": [
    {
     "name": "stdout",
     "output_type": "stream",
     "text": [
      "NOTE: Enter 'c' at the ipdb>  prompt to continue execution.\n",
      "> \u001b[0;32m<string>\u001b[0m(1)\u001b[0;36m<module>\u001b[0;34m()\u001b[0m\n",
      "\n",
      "ipdb> q\n"
     ]
    }
   ],
   "source": [
    "'''\n",
    "4. Run the PCDNN_v2 Experiments\n",
    "'''\n",
    "\n",
    "%debug exprExec = run_pcdnn_v2_experiments(dm, debug_mode=debug_mode)"
   ]
  },
  {
   "cell_type": "code",
   "execution_count": 3,
   "id": "104b9032",
   "metadata": {},
   "outputs": [
    {
     "name": "stdout",
     "output_type": "stream",
     "text": [
      "Parent DNNModelFactory Instantiated\n"
     ]
    }
   ],
   "source": [
    "\"\"\" prepare PCDNNV2 for loading (from prior experiments) \"\"\"\n",
    "\n",
    "exprExec = PCDNNV2ExperimentExecutor()\n",
    "exprExec.debug_mode = debug_mode\n",
    "\n",
    "exprExec.setModelFactory(PCDNNV2ModelFactory())"
   ]
  },
  {
   "cell_type": "code",
   "execution_count": null,
   "id": "d1d47778",
   "metadata": {},
   "outputs": [],
   "source": [
    "\"\"\" prepare PCDNNV1 for loading (from prior experiments) \"\"\"\n",
    "\n",
    "exprExec = PCDNNV1ExperimentExecutor()\n",
    "exprExec.debug_mode = debug_mode\n",
    "\n",
    "exprExec.setModelFactory(PCDNNV1ModelFactory())"
   ]
  },
  {
   "cell_type": "code",
   "execution_count": null,
   "id": "e5441ff5",
   "metadata": {},
   "outputs": [],
   "source": [
    "\"\"\" prepare SimpleDNN for loading (from prior experiments) \"\"\"\n",
    "\n",
    "exprExec = DNNExperimentExecutor()\n",
    "exprExec.debug_mode = debug_mode\n",
    "\n",
    "exprExec.setModelFactory(SimpleDNNModelFactory())"
   ]
  },
  {
   "cell_type": "code",
   "execution_count": 4,
   "id": "8151e5ad",
   "metadata": {
    "scrolled": true
   },
   "outputs": [
    {
     "name": "stdout",
     "output_type": "stream",
     "text": [
      "--------------------self.build_and_compile_pcdnn_v2_model----------------------\n",
      "53 4 N N N\n",
      "Model: \"model\"\n",
      "__________________________________________________________________________________________________\n",
      "Layer (type)                    Output Shape         Param #     Connected to                     \n",
      "==================================================================================================\n",
      "species_input (InputLayer)      [(None, 53)]         0                                            \n",
      "__________________________________________________________________________________________________\n",
      "zmix (InputLayer)               [(None, 1)]          0                                            \n",
      "__________________________________________________________________________________________________\n",
      "linear_embedding (Functional)   (None, 4)            216         species_input[0][0]              \n",
      "__________________________________________________________________________________________________\n",
      "concatenated_zmix_linear_embedd (None, 5)            0           zmix[0][0]                       \n",
      "                                                                 linear_embedding[0][0]           \n",
      "__________________________________________________________________________________________________\n",
      "prediction (Functional)         (None, 1)            396801      concatenated_zmix_linear_embeddin\n",
      "==================================================================================================\n",
      "Total params: 397,017\n",
      "Trainable params: 394,073\n",
      "Non-trainable params: 2,944\n",
      "__________________________________________________________________________________________________\n",
      "> \u001b[0;32m/home/dwyerdei/rom_project2/src/data/train_test_manager.py\u001b[0m(23)\u001b[0;36mfit_transform\u001b[0;34m()\u001b[0m\n",
      "\u001b[0;32m     21 \u001b[0;31m        \u001b[0;32mif\u001b[0m \u001b[0mself\u001b[0m\u001b[0;34m.\u001b[0m\u001b[0mmin_value\u001b[0m \u001b[0;32mis\u001b[0m \u001b[0;32mNone\u001b[0m\u001b[0;34m:\u001b[0m\u001b[0;34m\u001b[0m\u001b[0;34m\u001b[0m\u001b[0m\n",
      "\u001b[0m\u001b[0;32m     22 \u001b[0;31m            \u001b[0;32mimport\u001b[0m \u001b[0mpdb\u001b[0m\u001b[0;34m;\u001b[0m \u001b[0mpdb\u001b[0m\u001b[0;34m.\u001b[0m\u001b[0mset_trace\u001b[0m\u001b[0;34m(\u001b[0m\u001b[0;34m)\u001b[0m\u001b[0;34m\u001b[0m\u001b[0;34m\u001b[0m\u001b[0m\n",
      "\u001b[0m\u001b[0;32m---> 23 \u001b[0;31m            \u001b[0mself\u001b[0m\u001b[0;34m.\u001b[0m\u001b[0mmin_value\u001b[0m \u001b[0;34m=\u001b[0m \u001b[0mtemp\u001b[0m\u001b[0;34m[\u001b[0m\u001b[0;34m\"target\"\u001b[0m\u001b[0;34m]\u001b[0m\u001b[0;34m.\u001b[0m\u001b[0mmin\u001b[0m\u001b[0;34m(\u001b[0m\u001b[0;34m)\u001b[0m\u001b[0;34m\u001b[0m\u001b[0;34m\u001b[0m\u001b[0m\n",
      "\u001b[0m\u001b[0;32m     24 \u001b[0;31m            \u001b[0;32massert\u001b[0m \u001b[0mself\u001b[0m\u001b[0;34m.\u001b[0m\u001b[0mmin_value\u001b[0m \u001b[0;32mis\u001b[0m \u001b[0;32mnot\u001b[0m \u001b[0;32mNone\u001b[0m\u001b[0;34m\u001b[0m\u001b[0;34m\u001b[0m\u001b[0m\n",
      "\u001b[0m\u001b[0;32m     25 \u001b[0;31m\u001b[0;34m\u001b[0m\u001b[0m\n",
      "\u001b[0m\n",
      "ipdb> c\n",
      "> \u001b[0;32m/home/dwyerdei/rom_project2/src/data/train_test_manager.py\u001b[0m(23)\u001b[0;36mfit_transform\u001b[0;34m()\u001b[0m\n",
      "\u001b[0;32m     21 \u001b[0;31m        \u001b[0;32mif\u001b[0m \u001b[0mself\u001b[0m\u001b[0;34m.\u001b[0m\u001b[0mmin_value\u001b[0m \u001b[0;32mis\u001b[0m \u001b[0;32mNone\u001b[0m\u001b[0;34m:\u001b[0m\u001b[0;34m\u001b[0m\u001b[0;34m\u001b[0m\u001b[0m\n",
      "\u001b[0m\u001b[0;32m     22 \u001b[0;31m            \u001b[0;32mimport\u001b[0m \u001b[0mpdb\u001b[0m\u001b[0;34m;\u001b[0m \u001b[0mpdb\u001b[0m\u001b[0;34m.\u001b[0m\u001b[0mset_trace\u001b[0m\u001b[0;34m(\u001b[0m\u001b[0;34m)\u001b[0m\u001b[0;34m\u001b[0m\u001b[0;34m\u001b[0m\u001b[0m\n",
      "\u001b[0m\u001b[0;32m---> 23 \u001b[0;31m            \u001b[0mself\u001b[0m\u001b[0;34m.\u001b[0m\u001b[0mmin_value\u001b[0m \u001b[0;34m=\u001b[0m \u001b[0mtemp\u001b[0m\u001b[0;34m[\u001b[0m\u001b[0;34m\"target\"\u001b[0m\u001b[0;34m]\u001b[0m\u001b[0;34m.\u001b[0m\u001b[0mmin\u001b[0m\u001b[0;34m(\u001b[0m\u001b[0;34m)\u001b[0m\u001b[0;34m\u001b[0m\u001b[0;34m\u001b[0m\u001b[0m\n",
      "\u001b[0m\u001b[0;32m     24 \u001b[0;31m            \u001b[0;32massert\u001b[0m \u001b[0mself\u001b[0m\u001b[0;34m.\u001b[0m\u001b[0mmin_value\u001b[0m \u001b[0;32mis\u001b[0m \u001b[0;32mnot\u001b[0m \u001b[0;32mNone\u001b[0m\u001b[0;34m\u001b[0m\u001b[0;34m\u001b[0m\u001b[0m\n",
      "\u001b[0m\u001b[0;32m     25 \u001b[0;31m\u001b[0;34m\u001b[0m\u001b[0m\n",
      "\u001b[0m\n",
      "ipdb> c\n",
      "training model: 1\n",
      "Epoch 1/10\n",
      "206/206 [==============================] - 6s 19ms/step - loss: 65.8815 - mae: 5.0161 - mse: 65.8815 - log_mse: 2.7749 - log_mae: 1.1907 - val_loss: 113.3918 - val_mae: 10.5965 - val_mse: 113.3918 - val_log_mse: 4.7313 - val_log_mae: 2.3608\n",
      "Epoch 2/10\n",
      "206/206 [==============================] - 4s 17ms/step - loss: 5.5370 - mae: 1.8648 - mse: 5.5370 - log_mse: 1.5151 - log_mae: 0.5561 - val_loss: 5.0451 - val_mae: 1.8422 - val_mse: 5.0451 - val_log_mse: 1.6049 - val_log_mae: 0.6084\n",
      "Epoch 3/10\n",
      "206/206 [==============================] - 4s 17ms/step - loss: 3.0046 - mae: 1.3555 - mse: 3.0046 - log_mse: 0.9576 - log_mae: 0.2577 - val_loss: 0.7932 - val_mae: 0.6995 - val_mse: 0.7932 - val_log_mse: -0.3811 - val_log_mae: -0.3609\n",
      "Epoch 4/10\n",
      "206/206 [==============================] - 4s 17ms/step - loss: 2.4930 - mae: 1.2364 - mse: 2.4930 - log_mse: 0.7966 - log_mae: 0.1734 - val_loss: 2.7250 - val_mae: 1.5235 - val_mse: 2.7250 - val_log_mse: 0.9776 - val_log_mae: 0.4210\n",
      "Epoch 5/10\n",
      "206/206 [==============================] - 4s 17ms/step - loss: 2.9735 - mae: 1.3522 - mse: 2.9735 - log_mse: 0.9321 - log_mae: 0.2464 - val_loss: 3.9499 - val_mae: 1.8585 - val_mse: 3.9499 - val_log_mse: 1.3586 - val_log_mae: 0.6183\n",
      "Epoch 6/10\n",
      "206/206 [==============================] - 4s 17ms/step - loss: 2.9765 - mae: 1.3715 - mse: 2.9765 - log_mse: 0.9152 - log_mae: 0.2572 - val_loss: 4.9701 - val_mae: 2.1727 - val_mse: 4.9701 - val_log_mse: 1.5955 - val_log_mae: 0.7762\n",
      "Epoch 7/10\n",
      "206/206 [==============================] - 4s 17ms/step - loss: 2.5115 - mae: 1.2083 - mse: 2.5115 - log_mse: 0.7125 - log_mae: 0.1259 - val_loss: 1.1333 - val_mae: 0.7589 - val_mse: 1.1333 - val_log_mse: 0.0126 - val_log_mae: -0.2814\n",
      "Epoch 8/10\n",
      "206/206 [==============================] - 4s 17ms/step - loss: 2.0505 - mae: 1.0803 - mse: 2.0505 - log_mse: 0.6122 - log_mae: 0.0521 - val_loss: 0.7821 - val_mae: 0.7366 - val_mse: 0.7821 - val_log_mse: -0.3951 - val_log_mae: -0.3077\n",
      "Epoch 9/10\n",
      "206/206 [==============================] - 4s 18ms/step - loss: 2.0796 - mae: 1.1342 - mse: 2.0796 - log_mse: 0.5996 - log_mae: 0.0841 - val_loss: 8.2777 - val_mae: 1.9129 - val_mse: 8.2777 - val_log_mse: 2.0683 - val_log_mae: 0.6382\n",
      "Epoch 10/10\n",
      "206/206 [==============================] - 4s 17ms/step - loss: 2.3428 - mae: 1.1872 - mse: 2.3428 - log_mse: 0.7359 - log_mae: 0.1351 - val_loss: 0.3297 - val_mae: 0.2938 - val_mse: 0.3297 - val_log_mse: -1.6399 - val_log_mae: -1.2403\n",
      "> \u001b[0;32m/home/dwyerdei/rom_project2/src/experiment_executor/pcdnn_v2_experiment_executor.py\u001b[0m(148)\u001b[0;36mfitModelAndCalcErr\u001b[0;34m()\u001b[0m\n",
      "\u001b[0;32m    146 \u001b[0;31m\u001b[0;34m\u001b[0m\u001b[0m\n",
      "\u001b[0m\u001b[0;32m    147 \u001b[0;31m            \u001b[0;32mimport\u001b[0m \u001b[0mpdb\u001b[0m\u001b[0;34m;\u001b[0m \u001b[0mpdb\u001b[0m\u001b[0;34m.\u001b[0m\u001b[0mset_trace\u001b[0m\u001b[0;34m(\u001b[0m\u001b[0;34m)\u001b[0m\u001b[0;34m\u001b[0m\u001b[0;34m\u001b[0m\u001b[0m\n",
      "\u001b[0m\u001b[0;32m--> 148 \u001b[0;31m            \u001b[0mcurr_errs\u001b[0m \u001b[0;34m=\u001b[0m \u001b[0mself\u001b[0m\u001b[0;34m.\u001b[0m\u001b[0merrManager\u001b[0m\u001b[0;34m.\u001b[0m\u001b[0mcomputeError\u001b[0m \u001b[0;34m(\u001b[0m\u001b[0mY_pred_raw\u001b[0m\u001b[0;34m,\u001b[0m \u001b[0mY_test_raw\u001b[0m\u001b[0;34m)\u001b[0m\u001b[0;34m\u001b[0m\u001b[0;34m\u001b[0m\u001b[0m\n",
      "\u001b[0m\u001b[0;32m    149 \u001b[0;31m\u001b[0;34m\u001b[0m\u001b[0m\n",
      "\u001b[0m\u001b[0;32m    150 \u001b[0;31m            \u001b[0;32mif\u001b[0m \u001b[0;34m(\u001b[0m\u001b[0mlen\u001b[0m\u001b[0;34m(\u001b[0m\u001b[0merrs\u001b[0m\u001b[0;34m)\u001b[0m \u001b[0;34m==\u001b[0m \u001b[0;36m0\u001b[0m\u001b[0;34m)\u001b[0m \u001b[0;32mor\u001b[0m \u001b[0;34m(\u001b[0m\u001b[0;34m(\u001b[0m\u001b[0mlen\u001b[0m\u001b[0;34m(\u001b[0m\u001b[0merrs\u001b[0m\u001b[0;34m)\u001b[0m \u001b[0;34m>\u001b[0m \u001b[0;36m0\u001b[0m\u001b[0;34m)\u001b[0m \u001b[0;32mand\u001b[0m \u001b[0;34m(\u001b[0m\u001b[0mcurr_errs\u001b[0m\u001b[0;34m[\u001b[0m\u001b[0;34m'MAE'\u001b[0m\u001b[0;34m]\u001b[0m \u001b[0;34m<\u001b[0m \u001b[0mself\u001b[0m\u001b[0;34m.\u001b[0m\u001b[0mmin_mae\u001b[0m\u001b[0;34m)\u001b[0m\u001b[0;34m)\u001b[0m \u001b[0;34m:\u001b[0m\u001b[0;34m\u001b[0m\u001b[0;34m\u001b[0m\u001b[0m\n",
      "\u001b[0m\n",
      "ipdb> s\n",
      "--Call--\n",
      "> \u001b[0;32m/home/dwyerdei/rom_project2/src/experiment_executor/error_manager.py\u001b[0m(13)\u001b[0;36mcomputeError\u001b[0;34m()\u001b[0m\n",
      "\u001b[0;32m     11 \u001b[0;31m        \u001b[0;32mreturn\u001b[0m\u001b[0;34m\u001b[0m\u001b[0;34m\u001b[0m\u001b[0m\n",
      "\u001b[0m\u001b[0;32m     12 \u001b[0;31m\u001b[0;34m\u001b[0m\u001b[0m\n",
      "\u001b[0m\u001b[0;32m---> 13 \u001b[0;31m    \u001b[0;32mdef\u001b[0m \u001b[0mcomputeError\u001b[0m \u001b[0;34m(\u001b[0m\u001b[0mself\u001b[0m\u001b[0;34m,\u001b[0m \u001b[0mY_pred\u001b[0m\u001b[0;34m,\u001b[0m \u001b[0mY_test\u001b[0m\u001b[0;34m)\u001b[0m\u001b[0;34m:\u001b[0m\u001b[0;34m\u001b[0m\u001b[0;34m\u001b[0m\u001b[0m\n",
      "\u001b[0m\u001b[0;32m     14 \u001b[0;31m        \u001b[0mevaluation_df_1\u001b[0m \u001b[0;34m=\u001b[0m \u001b[0mpd\u001b[0m\u001b[0;34m.\u001b[0m\u001b[0mDataFrame\u001b[0m\u001b[0;34m(\u001b[0m\u001b[0;34m)\u001b[0m\u001b[0;34m\u001b[0m\u001b[0;34m\u001b[0m\u001b[0m\n",
      "\u001b[0m\u001b[0;32m     15 \u001b[0;31m\u001b[0;34m\u001b[0m\u001b[0m\n",
      "\u001b[0m\n",
      "ipdb> n\n",
      "> \u001b[0;32m/home/dwyerdei/rom_project2/src/experiment_executor/error_manager.py\u001b[0m(14)\u001b[0;36mcomputeError\u001b[0;34m()\u001b[0m\n",
      "\u001b[0;32m     12 \u001b[0;31m\u001b[0;34m\u001b[0m\u001b[0m\n",
      "\u001b[0m\u001b[0;32m     13 \u001b[0;31m    \u001b[0;32mdef\u001b[0m \u001b[0mcomputeError\u001b[0m \u001b[0;34m(\u001b[0m\u001b[0mself\u001b[0m\u001b[0;34m,\u001b[0m \u001b[0mY_pred\u001b[0m\u001b[0;34m,\u001b[0m \u001b[0mY_test\u001b[0m\u001b[0;34m)\u001b[0m\u001b[0;34m:\u001b[0m\u001b[0;34m\u001b[0m\u001b[0;34m\u001b[0m\u001b[0m\n",
      "\u001b[0m\u001b[0;32m---> 14 \u001b[0;31m        \u001b[0mevaluation_df_1\u001b[0m \u001b[0;34m=\u001b[0m \u001b[0mpd\u001b[0m\u001b[0;34m.\u001b[0m\u001b[0mDataFrame\u001b[0m\u001b[0;34m(\u001b[0m\u001b[0;34m)\u001b[0m\u001b[0;34m\u001b[0m\u001b[0;34m\u001b[0m\u001b[0m\n",
      "\u001b[0m\u001b[0;32m     15 \u001b[0;31m\u001b[0;34m\u001b[0m\u001b[0m\n",
      "\u001b[0m\u001b[0;32m     16 \u001b[0;31m        \u001b[0mevaluation_df_1\u001b[0m\u001b[0;34m[\u001b[0m\u001b[0;34m'souener'\u001b[0m\u001b[0;34m]\u001b[0m \u001b[0;34m=\u001b[0m \u001b[0mY_test\u001b[0m\u001b[0;34m.\u001b[0m\u001b[0mflatten\u001b[0m\u001b[0;34m(\u001b[0m\u001b[0;34m)\u001b[0m\u001b[0;34m\u001b[0m\u001b[0;34m\u001b[0m\u001b[0m\n",
      "\u001b[0m\n"
     ]
    },
    {
     "name": "stdout",
     "output_type": "stream",
     "text": [
      "ipdb> n\n",
      "> \u001b[0;32m/home/dwyerdei/rom_project2/src/experiment_executor/error_manager.py\u001b[0m(16)\u001b[0;36mcomputeError\u001b[0;34m()\u001b[0m\n",
      "\u001b[0;32m     14 \u001b[0;31m        \u001b[0mevaluation_df_1\u001b[0m \u001b[0;34m=\u001b[0m \u001b[0mpd\u001b[0m\u001b[0;34m.\u001b[0m\u001b[0mDataFrame\u001b[0m\u001b[0;34m(\u001b[0m\u001b[0;34m)\u001b[0m\u001b[0;34m\u001b[0m\u001b[0;34m\u001b[0m\u001b[0m\n",
      "\u001b[0m\u001b[0;32m     15 \u001b[0;31m\u001b[0;34m\u001b[0m\u001b[0m\n",
      "\u001b[0m\u001b[0;32m---> 16 \u001b[0;31m        \u001b[0mevaluation_df_1\u001b[0m\u001b[0;34m[\u001b[0m\u001b[0;34m'souener'\u001b[0m\u001b[0;34m]\u001b[0m \u001b[0;34m=\u001b[0m \u001b[0mY_test\u001b[0m\u001b[0;34m.\u001b[0m\u001b[0mflatten\u001b[0m\u001b[0;34m(\u001b[0m\u001b[0;34m)\u001b[0m\u001b[0;34m\u001b[0m\u001b[0;34m\u001b[0m\u001b[0m\n",
      "\u001b[0m\u001b[0;32m     17 \u001b[0;31m\u001b[0;34m\u001b[0m\u001b[0m\n",
      "\u001b[0m\u001b[0;32m     18 \u001b[0;31m        \u001b[0mevaluation_df_1\u001b[0m\u001b[0;34m[\u001b[0m\u001b[0;34m'souener_pred'\u001b[0m\u001b[0;34m]\u001b[0m \u001b[0;34m=\u001b[0m \u001b[0mY_pred\u001b[0m\u001b[0;34m.\u001b[0m\u001b[0mflatten\u001b[0m\u001b[0;34m(\u001b[0m\u001b[0;34m)\u001b[0m\u001b[0;34m\u001b[0m\u001b[0;34m\u001b[0m\u001b[0m\n",
      "\u001b[0m\n",
      "ipdb> n\n",
      "> \u001b[0;32m/home/dwyerdei/rom_project2/src/experiment_executor/error_manager.py\u001b[0m(18)\u001b[0;36mcomputeError\u001b[0;34m()\u001b[0m\n",
      "\u001b[0;32m     16 \u001b[0;31m        \u001b[0mevaluation_df_1\u001b[0m\u001b[0;34m[\u001b[0m\u001b[0;34m'souener'\u001b[0m\u001b[0;34m]\u001b[0m \u001b[0;34m=\u001b[0m \u001b[0mY_test\u001b[0m\u001b[0;34m.\u001b[0m\u001b[0mflatten\u001b[0m\u001b[0;34m(\u001b[0m\u001b[0;34m)\u001b[0m\u001b[0;34m\u001b[0m\u001b[0;34m\u001b[0m\u001b[0m\n",
      "\u001b[0m\u001b[0;32m     17 \u001b[0;31m\u001b[0;34m\u001b[0m\u001b[0m\n",
      "\u001b[0m\u001b[0;32m---> 18 \u001b[0;31m        \u001b[0mevaluation_df_1\u001b[0m\u001b[0;34m[\u001b[0m\u001b[0;34m'souener_pred'\u001b[0m\u001b[0;34m]\u001b[0m \u001b[0;34m=\u001b[0m \u001b[0mY_pred\u001b[0m\u001b[0;34m.\u001b[0m\u001b[0mflatten\u001b[0m\u001b[0;34m(\u001b[0m\u001b[0;34m)\u001b[0m\u001b[0;34m\u001b[0m\u001b[0;34m\u001b[0m\u001b[0m\n",
      "\u001b[0m\u001b[0;32m     19 \u001b[0;31m\u001b[0;34m\u001b[0m\u001b[0m\n",
      "\u001b[0m\u001b[0;32m     20 \u001b[0;31m        \u001b[0mevaluation_df_1\u001b[0m\u001b[0;34m[\u001b[0m\u001b[0;34m'souener_pred_L1'\u001b[0m\u001b[0;34m]\u001b[0m \u001b[0;34m=\u001b[0m \u001b[0;34m(\u001b[0m\u001b[0mevaluation_df_1\u001b[0m\u001b[0;34m[\u001b[0m\u001b[0;34m'souener'\u001b[0m\u001b[0;34m]\u001b[0m \u001b[0;34m-\u001b[0m \u001b[0mevaluation_df_1\u001b[0m\u001b[0;34m[\u001b[0m\u001b[0;34m'souener_pred'\u001b[0m\u001b[0;34m]\u001b[0m\u001b[0;34m)\u001b[0m\u001b[0;34m.\u001b[0m\u001b[0mabs\u001b[0m\u001b[0;34m(\u001b[0m\u001b[0;34m)\u001b[0m\u001b[0;34m\u001b[0m\u001b[0;34m\u001b[0m\u001b[0m\n",
      "\u001b[0m\n",
      "ipdb> n\n",
      "> \u001b[0;32m/home/dwyerdei/rom_project2/src/experiment_executor/error_manager.py\u001b[0m(20)\u001b[0;36mcomputeError\u001b[0;34m()\u001b[0m\n",
      "\u001b[0;32m     18 \u001b[0;31m        \u001b[0mevaluation_df_1\u001b[0m\u001b[0;34m[\u001b[0m\u001b[0;34m'souener_pred'\u001b[0m\u001b[0;34m]\u001b[0m \u001b[0;34m=\u001b[0m \u001b[0mY_pred\u001b[0m\u001b[0;34m.\u001b[0m\u001b[0mflatten\u001b[0m\u001b[0;34m(\u001b[0m\u001b[0;34m)\u001b[0m\u001b[0;34m\u001b[0m\u001b[0;34m\u001b[0m\u001b[0m\n",
      "\u001b[0m\u001b[0;32m     19 \u001b[0;31m\u001b[0;34m\u001b[0m\u001b[0m\n",
      "\u001b[0m\u001b[0;32m---> 20 \u001b[0;31m        \u001b[0mevaluation_df_1\u001b[0m\u001b[0;34m[\u001b[0m\u001b[0;34m'souener_pred_L1'\u001b[0m\u001b[0;34m]\u001b[0m \u001b[0;34m=\u001b[0m \u001b[0;34m(\u001b[0m\u001b[0mevaluation_df_1\u001b[0m\u001b[0;34m[\u001b[0m\u001b[0;34m'souener'\u001b[0m\u001b[0;34m]\u001b[0m \u001b[0;34m-\u001b[0m \u001b[0mevaluation_df_1\u001b[0m\u001b[0;34m[\u001b[0m\u001b[0;34m'souener_pred'\u001b[0m\u001b[0;34m]\u001b[0m\u001b[0;34m)\u001b[0m\u001b[0;34m.\u001b[0m\u001b[0mabs\u001b[0m\u001b[0;34m(\u001b[0m\u001b[0;34m)\u001b[0m\u001b[0;34m\u001b[0m\u001b[0;34m\u001b[0m\u001b[0m\n",
      "\u001b[0m\u001b[0;32m     21 \u001b[0;31m\u001b[0;34m\u001b[0m\u001b[0m\n",
      "\u001b[0m\u001b[0;32m     22 \u001b[0;31m        \u001b[0mevaluation_df_1\u001b[0m\u001b[0;34m[\u001b[0m\u001b[0;34m'souener_pred_L2'\u001b[0m\u001b[0;34m]\u001b[0m \u001b[0;34m=\u001b[0m \u001b[0mevaluation_df_1\u001b[0m\u001b[0;34m[\u001b[0m\u001b[0;34m'souener_pred_L1'\u001b[0m\u001b[0;34m]\u001b[0m \u001b[0;34m*\u001b[0m \u001b[0mevaluation_df_1\u001b[0m\u001b[0;34m[\u001b[0m\u001b[0;34m'souener_pred_L1'\u001b[0m\u001b[0;34m]\u001b[0m\u001b[0;34m\u001b[0m\u001b[0;34m\u001b[0m\u001b[0m\n",
      "\u001b[0m\n",
      "ipdb> n\n",
      "> \u001b[0;32m/home/dwyerdei/rom_project2/src/experiment_executor/error_manager.py\u001b[0m(22)\u001b[0;36mcomputeError\u001b[0;34m()\u001b[0m\n",
      "\u001b[0;32m     20 \u001b[0;31m        \u001b[0mevaluation_df_1\u001b[0m\u001b[0;34m[\u001b[0m\u001b[0;34m'souener_pred_L1'\u001b[0m\u001b[0;34m]\u001b[0m \u001b[0;34m=\u001b[0m \u001b[0;34m(\u001b[0m\u001b[0mevaluation_df_1\u001b[0m\u001b[0;34m[\u001b[0m\u001b[0;34m'souener'\u001b[0m\u001b[0;34m]\u001b[0m \u001b[0;34m-\u001b[0m \u001b[0mevaluation_df_1\u001b[0m\u001b[0;34m[\u001b[0m\u001b[0;34m'souener_pred'\u001b[0m\u001b[0;34m]\u001b[0m\u001b[0;34m)\u001b[0m\u001b[0;34m.\u001b[0m\u001b[0mabs\u001b[0m\u001b[0;34m(\u001b[0m\u001b[0;34m)\u001b[0m\u001b[0;34m\u001b[0m\u001b[0;34m\u001b[0m\u001b[0m\n",
      "\u001b[0m\u001b[0;32m     21 \u001b[0;31m\u001b[0;34m\u001b[0m\u001b[0m\n",
      "\u001b[0m\u001b[0;32m---> 22 \u001b[0;31m        \u001b[0mevaluation_df_1\u001b[0m\u001b[0;34m[\u001b[0m\u001b[0;34m'souener_pred_L2'\u001b[0m\u001b[0;34m]\u001b[0m \u001b[0;34m=\u001b[0m \u001b[0mevaluation_df_1\u001b[0m\u001b[0;34m[\u001b[0m\u001b[0;34m'souener_pred_L1'\u001b[0m\u001b[0;34m]\u001b[0m \u001b[0;34m*\u001b[0m \u001b[0mevaluation_df_1\u001b[0m\u001b[0;34m[\u001b[0m\u001b[0;34m'souener_pred_L1'\u001b[0m\u001b[0;34m]\u001b[0m\u001b[0;34m\u001b[0m\u001b[0;34m\u001b[0m\u001b[0m\n",
      "\u001b[0m\u001b[0;32m     23 \u001b[0;31m\u001b[0;34m\u001b[0m\u001b[0m\n",
      "\u001b[0m\u001b[0;32m     24 \u001b[0;31m        \u001b[0mevaluation_df_1\u001b[0m\u001b[0;34m[\u001b[0m\u001b[0;34m'souener_pred_L1Percent'\u001b[0m\u001b[0;34m]\u001b[0m \u001b[0;34m=\u001b[0m \u001b[0;34m(\u001b[0m\u001b[0;34m(\u001b[0m\u001b[0mevaluation_df_1\u001b[0m\u001b[0;34m[\u001b[0m\u001b[0;34m'souener'\u001b[0m\u001b[0;34m]\u001b[0m \u001b[0;34m-\u001b[0m \u001b[0mevaluation_df_1\u001b[0m\u001b[0;34m[\u001b[0m\u001b[0;34m'souener_pred'\u001b[0m\u001b[0;34m]\u001b[0m\u001b[0;34m)\u001b[0m\u001b[0;34m/\u001b[0m\u001b[0mevaluation_df_1\u001b[0m\u001b[0;34m[\u001b[0m\u001b[0;34m'souener'\u001b[0m\u001b[0;34m]\u001b[0m\u001b[0;34m)\u001b[0m\u001b[0;34m\u001b[0m\u001b[0;34m\u001b[0m\u001b[0m\n",
      "\u001b[0m\n",
      "ipdb> p evaluation_df_1['souener_pred_L1']\n",
      "0       2.217173e+09\n",
      "1       7.463187e+08\n",
      "2       4.343919e+08\n",
      "3       4.582307e+10\n",
      "4       1.224912e+09\n",
      "            ...     \n",
      "8214    3.734173e+08\n",
      "8215    1.134922e+09\n",
      "8216    5.714162e+10\n",
      "8217    2.976602e+08\n",
      "8218    8.584438e+07\n",
      "Name: souener_pred_L1, Length: 8219, dtype: float64\n",
      "ipdb> p Y_pred\n",
      "array([[3.36914668e+09],\n",
      "       [3.27728277e+09],\n",
      "       [1.46680732e+08],\n",
      "       ...,\n",
      "       [2.16455199e+10],\n",
      "       [3.35679355e+07],\n",
      "       [1.03592910e+10]])\n",
      "ipdb> p Y_test\n",
      "array([5.58632012e+09, 4.02360148e+09, 5.81072585e+08, ...,\n",
      "       7.87871399e+10, 3.31228134e+08, 1.02734466e+10])\n",
      "ipdb> Y_pred.flatten()\n",
      "array([3.36914668e+09, 3.27728277e+09, 1.46680732e+08, ...,\n",
      "       2.16455199e+10, 3.35679355e+07, 1.03592910e+10])\n",
      "ipdb> L1 = (Y_test.squeeze()-Y_pred.squeeze())\n",
      "ipdb> L1\n",
      "array([ 2.21717344e+09,  7.46318714e+08,  4.34391853e+08, ...,\n",
      "        5.71416200e+10,  2.97660199e+08, -8.58443824e+07])\n",
      "ipdb> Y_test.squeeze()\n",
      "array([5.58632012e+09, 4.02360148e+09, 5.81072585e+08, ...,\n",
      "       7.87871399e+10, 3.31228134e+08, 1.02734466e+10])\n",
      "ipdb> Y_pred.squeeze()\n",
      "array([3.36914668e+09, 3.27728277e+09, 1.46680732e+08, ...,\n",
      "       2.16455199e+10, 3.35679355e+07, 1.03592910e+10])\n",
      "ipdb> L1.mean()\n",
      "5923378843.964408\n",
      "ipdb> L1**2.mean()\n",
      "*** SyntaxError: invalid syntax\n",
      "ipdb> (L1**2).mean()\n",
      "3.670800043094886e+20\n",
      "ipdb> L1.abs().mean()\n",
      "*** AttributeError: 'numpy.ndarray' object has no attribute 'abs'\n",
      "ipdb> np.abs(L1).mean()\n",
      "*** NameError: name 'np' is not defined\n",
      "ipdb> import numpy as np\n",
      "ipdb> np.abs(L1).mean()\n",
      "6607192765.956968\n",
      "ipdb> np.log(np.abs(L1).mean())\n",
      "22.611424705587464\n",
      "ipdb> np.log(np.abs(L1).mean())/np.log(10)\n",
      "9.820016977607494\n",
      "ipdb> q\n"
     ]
    },
    {
     "ename": "BdbQuit",
     "evalue": "",
     "output_type": "error",
     "traceback": [
      "\u001b[0;31m---------------------------------------------------------------------------\u001b[0m",
      "\u001b[0;31mBdbQuit\u001b[0m                                   Traceback (most recent call last)",
      "\u001b[0;32m<ipython-input-4-3841548be9ae>\u001b[0m in \u001b[0;36m<module>\u001b[0;34m\u001b[0m\n\u001b[1;32m     23\u001b[0m \u001b[0mexprExec\u001b[0m\u001b[0;34m.\u001b[0m\u001b[0mmodelType\u001b[0m \u001b[0;34m=\u001b[0m \u001b[0;34m'PCDNNV2'\u001b[0m\u001b[0;34m\u001b[0m\u001b[0;34m\u001b[0m\u001b[0m\n\u001b[1;32m     24\u001b[0m \u001b[0;34m\u001b[0m\u001b[0m\n\u001b[0;32m---> 25\u001b[0;31m exprExec.executeSingleExperiment(noOfNeurons,dataSetMethod,dataType,inputType,ZmixPresent,noOfCpv,concatenateZmix,kernel_constraint,\n\u001b[0m\u001b[1;32m     26\u001b[0m                                  kernel_regularizer,activity_regularizer,opscaler=opscaler)\n",
      "\u001b[0;32m~/rom_project2/src/experiment_executor/pcdnn_v2_experiment_executor.py\u001b[0m in \u001b[0;36mexecuteSingleExperiment\u001b[0;34m(self, noOfInputNeurons, dataSetMethod, dataType, inputType, ZmixPresent, noOfCpv, concatenateZmix, kernel_constraint, kernel_regularizer, activity_regularizer, ipscaler, opscaler)\u001b[0m\n\u001b[1;32m     58\u001b[0m         \u001b[0mX_train\u001b[0m\u001b[0;34m,\u001b[0m \u001b[0mX_test\u001b[0m\u001b[0;34m,\u001b[0m \u001b[0mY_train\u001b[0m\u001b[0;34m,\u001b[0m \u001b[0mY_test\u001b[0m\u001b[0;34m,\u001b[0m \u001b[0mrom_train\u001b[0m\u001b[0;34m,\u001b[0m \u001b[0mrom_test\u001b[0m\u001b[0;34m,\u001b[0m \u001b[0mzmix_train\u001b[0m\u001b[0;34m,\u001b[0m \u001b[0mzmix_test\u001b[0m \u001b[0;34m=\u001b[0m \u001b[0mself\u001b[0m\u001b[0;34m.\u001b[0m\u001b[0mdm\u001b[0m\u001b[0;34m.\u001b[0m\u001b[0mgetTrainTestData\u001b[0m\u001b[0;34m(\u001b[0m\u001b[0;34m)\u001b[0m\u001b[0;34m\u001b[0m\u001b[0;34m\u001b[0m\u001b[0m\n\u001b[1;32m     59\u001b[0m \u001b[0;34m\u001b[0m\u001b[0m\n\u001b[0;32m---> 60\u001b[0;31m         \u001b[0mself\u001b[0m\u001b[0;34m.\u001b[0m\u001b[0mfitModelAndCalcErr\u001b[0m\u001b[0;34m(\u001b[0m\u001b[0mX_train\u001b[0m\u001b[0;34m,\u001b[0m \u001b[0mY_train\u001b[0m\u001b[0;34m,\u001b[0m \u001b[0mX_test\u001b[0m\u001b[0;34m,\u001b[0m \u001b[0mY_test\u001b[0m\u001b[0;34m,\u001b[0m\u001b[0;32mNone\u001b[0m\u001b[0;34m,\u001b[0m \u001b[0;32mNone\u001b[0m\u001b[0;34m,\u001b[0m \u001b[0mzmix_train\u001b[0m\u001b[0;34m,\u001b[0m \u001b[0mzmix_test\u001b[0m\u001b[0;34m,\u001b[0m \u001b[0mself\u001b[0m\u001b[0;34m.\u001b[0m\u001b[0mdm\u001b[0m\u001b[0;34m.\u001b[0m\u001b[0moutputScaler\u001b[0m\u001b[0;34m,\u001b[0m \u001b[0mconcatenateZmix\u001b[0m\u001b[0;34m,\u001b[0m\u001b[0mkernel_constraint\u001b[0m\u001b[0;34m,\u001b[0m\u001b[0mkernel_regularizer\u001b[0m\u001b[0;34m,\u001b[0m\u001b[0mactivity_regularizer\u001b[0m\u001b[0;34m)\u001b[0m\u001b[0;34m\u001b[0m\u001b[0;34m\u001b[0m\u001b[0m\n\u001b[0m\u001b[1;32m     61\u001b[0m \u001b[0;34m\u001b[0m\u001b[0m\n\u001b[1;32m     62\u001b[0m \u001b[0;34m\u001b[0m\u001b[0m\n",
      "\u001b[0;32m~/rom_project2/src/experiment_executor/pcdnn_v2_experiment_executor.py\u001b[0m in \u001b[0;36mfitModelAndCalcErr\u001b[0;34m(self, X_train, Y_train, X_test, Y_test, rom_train, rom_test, zmix_train, zmix_test, Y_scaler, concatenateZmix, kernel_constraint, kernel_regularizer, activity_regularizer)\u001b[0m\n\u001b[1;32m    146\u001b[0m \u001b[0;34m\u001b[0m\u001b[0m\n\u001b[1;32m    147\u001b[0m             \u001b[0;32mimport\u001b[0m \u001b[0mpdb\u001b[0m\u001b[0;34m;\u001b[0m \u001b[0mpdb\u001b[0m\u001b[0;34m.\u001b[0m\u001b[0mset_trace\u001b[0m\u001b[0;34m(\u001b[0m\u001b[0;34m)\u001b[0m\u001b[0;34m\u001b[0m\u001b[0;34m\u001b[0m\u001b[0m\n\u001b[0;32m--> 148\u001b[0;31m             \u001b[0mcurr_errs\u001b[0m \u001b[0;34m=\u001b[0m \u001b[0mself\u001b[0m\u001b[0;34m.\u001b[0m\u001b[0merrManager\u001b[0m\u001b[0;34m.\u001b[0m\u001b[0mcomputeError\u001b[0m \u001b[0;34m(\u001b[0m\u001b[0mY_pred_raw\u001b[0m\u001b[0;34m,\u001b[0m \u001b[0mY_test_raw\u001b[0m\u001b[0;34m)\u001b[0m\u001b[0;34m\u001b[0m\u001b[0;34m\u001b[0m\u001b[0m\n\u001b[0m\u001b[1;32m    149\u001b[0m \u001b[0;34m\u001b[0m\u001b[0m\n\u001b[1;32m    150\u001b[0m             \u001b[0;32mif\u001b[0m \u001b[0;34m(\u001b[0m\u001b[0mlen\u001b[0m\u001b[0;34m(\u001b[0m\u001b[0merrs\u001b[0m\u001b[0;34m)\u001b[0m \u001b[0;34m==\u001b[0m \u001b[0;36m0\u001b[0m\u001b[0;34m)\u001b[0m \u001b[0;32mor\u001b[0m \u001b[0;34m(\u001b[0m\u001b[0;34m(\u001b[0m\u001b[0mlen\u001b[0m\u001b[0;34m(\u001b[0m\u001b[0merrs\u001b[0m\u001b[0;34m)\u001b[0m \u001b[0;34m>\u001b[0m \u001b[0;36m0\u001b[0m\u001b[0;34m)\u001b[0m \u001b[0;32mand\u001b[0m \u001b[0;34m(\u001b[0m\u001b[0mcurr_errs\u001b[0m\u001b[0;34m[\u001b[0m\u001b[0;34m'MAE'\u001b[0m\u001b[0;34m]\u001b[0m \u001b[0;34m<\u001b[0m \u001b[0mself\u001b[0m\u001b[0;34m.\u001b[0m\u001b[0mmin_mae\u001b[0m\u001b[0;34m)\u001b[0m\u001b[0;34m)\u001b[0m \u001b[0;34m:\u001b[0m\u001b[0;34m\u001b[0m\u001b[0;34m\u001b[0m\u001b[0m\n",
      "\u001b[0;32m~/rom_project2/src/experiment_executor/error_manager.py\u001b[0m in \u001b[0;36mcomputeError\u001b[0;34m(self, Y_pred, Y_test)\u001b[0m\n\u001b[1;32m     20\u001b[0m         \u001b[0mevaluation_df_1\u001b[0m\u001b[0;34m[\u001b[0m\u001b[0;34m'souener_pred_L1'\u001b[0m\u001b[0;34m]\u001b[0m \u001b[0;34m=\u001b[0m \u001b[0;34m(\u001b[0m\u001b[0mevaluation_df_1\u001b[0m\u001b[0;34m[\u001b[0m\u001b[0;34m'souener'\u001b[0m\u001b[0;34m]\u001b[0m \u001b[0;34m-\u001b[0m \u001b[0mevaluation_df_1\u001b[0m\u001b[0;34m[\u001b[0m\u001b[0;34m'souener_pred'\u001b[0m\u001b[0;34m]\u001b[0m\u001b[0;34m)\u001b[0m\u001b[0;34m.\u001b[0m\u001b[0mabs\u001b[0m\u001b[0;34m(\u001b[0m\u001b[0;34m)\u001b[0m\u001b[0;34m\u001b[0m\u001b[0;34m\u001b[0m\u001b[0m\n\u001b[1;32m     21\u001b[0m \u001b[0;34m\u001b[0m\u001b[0m\n\u001b[0;32m---> 22\u001b[0;31m         \u001b[0mevaluation_df_1\u001b[0m\u001b[0;34m[\u001b[0m\u001b[0;34m'souener_pred_L2'\u001b[0m\u001b[0;34m]\u001b[0m \u001b[0;34m=\u001b[0m \u001b[0mevaluation_df_1\u001b[0m\u001b[0;34m[\u001b[0m\u001b[0;34m'souener_pred_L1'\u001b[0m\u001b[0;34m]\u001b[0m \u001b[0;34m*\u001b[0m \u001b[0mevaluation_df_1\u001b[0m\u001b[0;34m[\u001b[0m\u001b[0;34m'souener_pred_L1'\u001b[0m\u001b[0;34m]\u001b[0m\u001b[0;34m\u001b[0m\u001b[0;34m\u001b[0m\u001b[0m\n\u001b[0m\u001b[1;32m     23\u001b[0m \u001b[0;34m\u001b[0m\u001b[0m\n\u001b[1;32m     24\u001b[0m         \u001b[0mevaluation_df_1\u001b[0m\u001b[0;34m[\u001b[0m\u001b[0;34m'souener_pred_L1Percent'\u001b[0m\u001b[0;34m]\u001b[0m \u001b[0;34m=\u001b[0m \u001b[0;34m(\u001b[0m\u001b[0;34m(\u001b[0m\u001b[0mevaluation_df_1\u001b[0m\u001b[0;34m[\u001b[0m\u001b[0;34m'souener'\u001b[0m\u001b[0;34m]\u001b[0m \u001b[0;34m-\u001b[0m \u001b[0mevaluation_df_1\u001b[0m\u001b[0;34m[\u001b[0m\u001b[0;34m'souener_pred'\u001b[0m\u001b[0;34m]\u001b[0m\u001b[0;34m)\u001b[0m\u001b[0;34m/\u001b[0m\u001b[0mevaluation_df_1\u001b[0m\u001b[0;34m[\u001b[0m\u001b[0;34m'souener'\u001b[0m\u001b[0;34m]\u001b[0m\u001b[0;34m)\u001b[0m\u001b[0;34m\u001b[0m\u001b[0;34m\u001b[0m\u001b[0m\n",
      "\u001b[0;32m~/rom_project2/src/experiment_executor/error_manager.py\u001b[0m in \u001b[0;36mcomputeError\u001b[0;34m(self, Y_pred, Y_test)\u001b[0m\n\u001b[1;32m     20\u001b[0m         \u001b[0mevaluation_df_1\u001b[0m\u001b[0;34m[\u001b[0m\u001b[0;34m'souener_pred_L1'\u001b[0m\u001b[0;34m]\u001b[0m \u001b[0;34m=\u001b[0m \u001b[0;34m(\u001b[0m\u001b[0mevaluation_df_1\u001b[0m\u001b[0;34m[\u001b[0m\u001b[0;34m'souener'\u001b[0m\u001b[0;34m]\u001b[0m \u001b[0;34m-\u001b[0m \u001b[0mevaluation_df_1\u001b[0m\u001b[0;34m[\u001b[0m\u001b[0;34m'souener_pred'\u001b[0m\u001b[0;34m]\u001b[0m\u001b[0;34m)\u001b[0m\u001b[0;34m.\u001b[0m\u001b[0mabs\u001b[0m\u001b[0;34m(\u001b[0m\u001b[0;34m)\u001b[0m\u001b[0;34m\u001b[0m\u001b[0;34m\u001b[0m\u001b[0m\n\u001b[1;32m     21\u001b[0m \u001b[0;34m\u001b[0m\u001b[0m\n\u001b[0;32m---> 22\u001b[0;31m         \u001b[0mevaluation_df_1\u001b[0m\u001b[0;34m[\u001b[0m\u001b[0;34m'souener_pred_L2'\u001b[0m\u001b[0;34m]\u001b[0m \u001b[0;34m=\u001b[0m \u001b[0mevaluation_df_1\u001b[0m\u001b[0;34m[\u001b[0m\u001b[0;34m'souener_pred_L1'\u001b[0m\u001b[0;34m]\u001b[0m \u001b[0;34m*\u001b[0m \u001b[0mevaluation_df_1\u001b[0m\u001b[0;34m[\u001b[0m\u001b[0;34m'souener_pred_L1'\u001b[0m\u001b[0;34m]\u001b[0m\u001b[0;34m\u001b[0m\u001b[0;34m\u001b[0m\u001b[0m\n\u001b[0m\u001b[1;32m     23\u001b[0m \u001b[0;34m\u001b[0m\u001b[0m\n\u001b[1;32m     24\u001b[0m         \u001b[0mevaluation_df_1\u001b[0m\u001b[0;34m[\u001b[0m\u001b[0;34m'souener_pred_L1Percent'\u001b[0m\u001b[0;34m]\u001b[0m \u001b[0;34m=\u001b[0m \u001b[0;34m(\u001b[0m\u001b[0;34m(\u001b[0m\u001b[0mevaluation_df_1\u001b[0m\u001b[0;34m[\u001b[0m\u001b[0;34m'souener'\u001b[0m\u001b[0;34m]\u001b[0m \u001b[0;34m-\u001b[0m \u001b[0mevaluation_df_1\u001b[0m\u001b[0;34m[\u001b[0m\u001b[0;34m'souener_pred'\u001b[0m\u001b[0;34m]\u001b[0m\u001b[0;34m)\u001b[0m\u001b[0;34m/\u001b[0m\u001b[0mevaluation_df_1\u001b[0m\u001b[0;34m[\u001b[0m\u001b[0;34m'souener'\u001b[0m\u001b[0;34m]\u001b[0m\u001b[0;34m)\u001b[0m\u001b[0;34m\u001b[0m\u001b[0;34m\u001b[0m\u001b[0m\n",
      "\u001b[0;32m~/.conda/envs/rom-project/lib/python3.8/bdb.py\u001b[0m in \u001b[0;36mtrace_dispatch\u001b[0;34m(self, frame, event, arg)\u001b[0m\n\u001b[1;32m     86\u001b[0m             \u001b[0;32mreturn\u001b[0m \u001b[0;31m# None\u001b[0m\u001b[0;34m\u001b[0m\u001b[0;34m\u001b[0m\u001b[0m\n\u001b[1;32m     87\u001b[0m         \u001b[0;32mif\u001b[0m \u001b[0mevent\u001b[0m \u001b[0;34m==\u001b[0m \u001b[0;34m'line'\u001b[0m\u001b[0;34m:\u001b[0m\u001b[0;34m\u001b[0m\u001b[0;34m\u001b[0m\u001b[0m\n\u001b[0;32m---> 88\u001b[0;31m             \u001b[0;32mreturn\u001b[0m \u001b[0mself\u001b[0m\u001b[0;34m.\u001b[0m\u001b[0mdispatch_line\u001b[0m\u001b[0;34m(\u001b[0m\u001b[0mframe\u001b[0m\u001b[0;34m)\u001b[0m\u001b[0;34m\u001b[0m\u001b[0;34m\u001b[0m\u001b[0m\n\u001b[0m\u001b[1;32m     89\u001b[0m         \u001b[0;32mif\u001b[0m \u001b[0mevent\u001b[0m \u001b[0;34m==\u001b[0m \u001b[0;34m'call'\u001b[0m\u001b[0;34m:\u001b[0m\u001b[0;34m\u001b[0m\u001b[0;34m\u001b[0m\u001b[0m\n\u001b[1;32m     90\u001b[0m             \u001b[0;32mreturn\u001b[0m \u001b[0mself\u001b[0m\u001b[0;34m.\u001b[0m\u001b[0mdispatch_call\u001b[0m\u001b[0;34m(\u001b[0m\u001b[0mframe\u001b[0m\u001b[0;34m,\u001b[0m \u001b[0marg\u001b[0m\u001b[0;34m)\u001b[0m\u001b[0;34m\u001b[0m\u001b[0;34m\u001b[0m\u001b[0m\n",
      "\u001b[0;32m~/.conda/envs/rom-project/lib/python3.8/bdb.py\u001b[0m in \u001b[0;36mdispatch_line\u001b[0;34m(self, frame)\u001b[0m\n\u001b[1;32m    111\u001b[0m         \u001b[0;32mif\u001b[0m \u001b[0mself\u001b[0m\u001b[0;34m.\u001b[0m\u001b[0mstop_here\u001b[0m\u001b[0;34m(\u001b[0m\u001b[0mframe\u001b[0m\u001b[0;34m)\u001b[0m \u001b[0;32mor\u001b[0m \u001b[0mself\u001b[0m\u001b[0;34m.\u001b[0m\u001b[0mbreak_here\u001b[0m\u001b[0;34m(\u001b[0m\u001b[0mframe\u001b[0m\u001b[0;34m)\u001b[0m\u001b[0;34m:\u001b[0m\u001b[0;34m\u001b[0m\u001b[0;34m\u001b[0m\u001b[0m\n\u001b[1;32m    112\u001b[0m             \u001b[0mself\u001b[0m\u001b[0;34m.\u001b[0m\u001b[0muser_line\u001b[0m\u001b[0;34m(\u001b[0m\u001b[0mframe\u001b[0m\u001b[0;34m)\u001b[0m\u001b[0;34m\u001b[0m\u001b[0;34m\u001b[0m\u001b[0m\n\u001b[0;32m--> 113\u001b[0;31m             \u001b[0;32mif\u001b[0m \u001b[0mself\u001b[0m\u001b[0;34m.\u001b[0m\u001b[0mquitting\u001b[0m\u001b[0;34m:\u001b[0m \u001b[0;32mraise\u001b[0m \u001b[0mBdbQuit\u001b[0m\u001b[0;34m\u001b[0m\u001b[0;34m\u001b[0m\u001b[0m\n\u001b[0m\u001b[1;32m    114\u001b[0m         \u001b[0;32mreturn\u001b[0m \u001b[0mself\u001b[0m\u001b[0;34m.\u001b[0m\u001b[0mtrace_dispatch\u001b[0m\u001b[0;34m\u001b[0m\u001b[0;34m\u001b[0m\u001b[0m\n\u001b[1;32m    115\u001b[0m \u001b[0;34m\u001b[0m\u001b[0m\n",
      "\u001b[0;31mBdbQuit\u001b[0m: "
     ]
    }
   ],
   "source": [
    "dataType = 'randomequaltraintestsplit' #'frameworkincludedtrainexcludedtest'\n",
    "inputType = 'AllSpecies'\n",
    "dataSetMethod = f'{inputType}_{dataType}'\n",
    "opscaler = 'PositiveLogNormal' #\"MinMaxScaler\"\n",
    "ZmixPresent = 'Y'\n",
    "concatenateZmix = 'Y'\n",
    "kernel_constraint = 'N'\n",
    "kernel_regularizer = 'N'\n",
    "activity_regularizer = 'N'\n",
    "noOfCpv = 4\n",
    "noOfNeurons = 53\n",
    "\n",
    "exprExec.modelFactory.loss='mse'\n",
    "exprExec.modelFactory.activation_func='relu'\n",
    "exprExec.modelFactory.dropout_rate=0.5\n",
    "exprExec.debug_mode = False\n",
    "exprExec.epochs_override = 10\n",
    "exprExec.n_models_override = 1\n",
    "\n",
    "# initialize experiment executor...\n",
    "exprExec.dm = dm\n",
    "exprExec.df_experimentTracker = pd.DataFrame()\n",
    "exprExec.modelType = 'PCDNNV2'\n",
    "\n",
    "exprExec.executeSingleExperiment(noOfNeurons,dataSetMethod,dataType,inputType,ZmixPresent,noOfCpv,concatenateZmix,kernel_constraint,\n",
    "                                 kernel_regularizer,activity_regularizer,opscaler=opscaler)"
   ]
  },
  {
   "cell_type": "code",
   "execution_count": 5,
   "id": "de6c712f",
   "metadata": {},
   "outputs": [
    {
     "name": "stdout",
     "output_type": "stream",
     "text": [
      "9.340420844751762\n",
      "9.322147451527908\n",
      "11.299755722062626\n",
      "1.2120993310693264\n"
     ]
    }
   ],
   "source": [
    "import numpy as np\n",
    "print(np.log(2189882659.968396)/np.log(10))\n",
    "print(np.log(2099652636.0322459)/np.log(10))\n",
    "print(np.log(199414035386.85098)/np.log(10))\n",
    "#vars(exprExec.dm.outputScaler.log_col_transformers[0])\n",
    "#exprExec.df_err\n",
    "\n",
    "print(np.exp(np.sqrt(0.0370)))\n"
   ]
  },
  {
   "cell_type": "code",
   "execution_count": null,
   "id": "a7717ec5",
   "metadata": {},
   "outputs": [],
   "source": [
    "good_model = exprExec.model\n",
    "print(good_model)"
   ]
  },
  {
   "cell_type": "code",
   "execution_count": null,
   "id": "b7e20aab",
   "metadata": {},
   "outputs": [],
   "source": [
    "import keras\n",
    "help(keras.models.Model.fit)"
   ]
  },
  {
   "cell_type": "code",
   "execution_count": null,
   "id": "8a222796",
   "metadata": {},
   "outputs": [],
   "source": [
    "import model_analyzer.model_analysis as model_analysis\n",
    "import importlib; importlib.reload(model_analysis)\n",
    "\n",
    "bestModel, experimentSettings = exprExec.modelFactory.openBestModel()\n",
    "print(f'\\nexperimentSettings: {experimentSettings}')\n",
    "print(f'\\nbestModel.input_shape: {bestModel.input_shape}')\n",
    "inspector = model_analysis.ModelInspector(exprExec.modelFactory, dm)"
   ]
  },
  {
   "cell_type": "code",
   "execution_count": null,
   "id": "b8f624cd",
   "metadata": {},
   "outputs": [],
   "source": [
    "n_repeats = 5 if debug_mode else 20\n",
    "inspector.plot_permutation_feature_importance(n_repeats=n_repeats)"
   ]
  },
  {
   "cell_type": "code",
   "execution_count": null,
   "id": "84e0002c",
   "metadata": {},
   "outputs": [],
   "source": [
    "inspector.plot_partial_dependence()"
   ]
  },
  {
   "cell_type": "markdown",
   "id": "efc5108b",
   "metadata": {},
   "source": [
    "### Print & Record Linear Embeddings Output"
   ]
  },
  {
   "cell_type": "code",
   "execution_count": null,
   "id": "b9dba3f3",
   "metadata": {},
   "outputs": [],
   "source": [
    "import numpy as np\n",
    "\n",
    "def inspect_PCA(X):\n",
    "    PCA_dict = {}\n",
    "    PCA_dict['X'] = X\n",
    "    PCA_dict['Var'] = PCA_dict['X'].var(axis=0)\n",
    "    \n",
    "    # sort by explained variance\n",
    "    sort_idx = np.argsort(PCA_dict['Var'])[::-1]\n",
    "    PCA_dict['X'] = PCA_dict['X'][:, sort_idx]\n",
    "    PCA_dict['Var'] = PCA_dict['Var'][sort_idx]\n",
    "    PCA_dict['CumVar'] = np.add.accumulate(PCA_dict['Var'])\n",
    "    return PCA_dict\n",
    "\n",
    "\n",
    "X, Y, rom, zmix = dm.getAllData()\n",
    "FullDataset = inspect_PCA(X)\n",
    "try:    \n",
    "    linearAutoEncoder = exprExec.modelFactory.getLinearEncoder()\n",
    "    X = linearAutoEncoder.predict(FullDataset['X'])\n",
    "    DNN_PCA = inspect_PCA(X)\n",
    "except KeyError:\n",
    "    print('No Linear Auto Encoder!')"
   ]
  },
  {
   "cell_type": "code",
   "execution_count": null,
   "id": "422a01a2",
   "metadata": {},
   "outputs": [],
   "source": [
    "#dm.createDataset\n",
    "import matplotlib.pyplot as plt\n",
    "import copy\n",
    "dm_PurePCA = copy.deepcopy(dm)\n",
    "dm_PurePCA.createTrainTestData(dataSetMethod='PurePCA_randomequalflamesplit',\n",
    "                               numCpvComponents=2, ipscaler=None, opscaler=None)\n",
    "\n",
    "X,Y,rom,zmix = dm_PurePCA.getAllData()\n",
    "PurePCA = inspect_PCA(X)\n",
    "print(PurePCA['Var'])\n",
    "print(DNN_PCA['Var'])\n",
    "\n",
    "plt.plot(PurePCA['CumVar']/FullDataset['Var'].sum(), color='r')\n",
    "plt.plot(DNN_PCA['CumVar']/FullDataset['Var'].sum(), color='b')\n",
    "plt.title('PCA Total Variance Comparison')"
   ]
  }
 ],
 "metadata": {
  "kernelspec": {
   "display_name": "Python 3",
   "language": "python",
   "name": "python3"
  },
  "language_info": {
   "codemirror_mode": {
    "name": "ipython",
    "version": 3
   },
   "file_extension": ".py",
   "mimetype": "text/x-python",
   "name": "python",
   "nbconvert_exporter": "python",
   "pygments_lexer": "ipython3",
   "version": "3.8.8"
  }
 },
 "nbformat": 4,
 "nbformat_minor": 5
}
