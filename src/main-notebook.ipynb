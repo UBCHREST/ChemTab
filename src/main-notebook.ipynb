{
 "cells": [
  {
   "cell_type": "code",
   "execution_count": null,
   "id": "6e12d4b8",
   "metadata": {},
   "outputs": [],
   "source": [
    "\"\"\"\n",
    "Created on Wed Aug  4 17:50:06 2021\n",
    "\n",
    "@author: amol\n",
    "\"\"\"\n",
    "\n",
    "# set TF GPU memory growth so that it doesn't hog everything at once\n",
    "import tensorflow as tf\n",
    "physical_devices = tf.config.list_physical_devices('GPU')\n",
    "tf.config.experimental.set_memory_growth(physical_devices[0], True)\n",
    "\n",
    "from main import *\n",
    "debug_mode = True  # faster experiments for debugging"
   ]
  },
  {
   "cell_type": "code",
   "execution_count": null,
   "id": "2b6c352f",
   "metadata": {},
   "outputs": [],
   "source": [
    "#Prepare the DataFrame that will be used downstream\n",
    "dp = DataPreparer()\n",
    "dp.createPCAs()\n",
    "dp.sparsePCAs()\n",
    "dp.zmixOrthogonalPCAs()\n",
    "df = dp.getDataframe()\n",
    "\n",
    "df.to_csv('PCA_data.csv', index=False)\n",
    "\n",
    "# currently passing dp eventually we want to abstract all the constants into 1 class\n",
    "dm = DataManager(df, dp)"
   ]
  },
  {
   "cell_type": "code",
   "execution_count": null,
   "id": "81c171a2",
   "metadata": {
    "scrolled": true
   },
   "outputs": [],
   "source": [
    "print(df)"
   ]
  },
  {
   "cell_type": "code",
   "execution_count": null,
   "id": "a7cd841b",
   "metadata": {},
   "outputs": [],
   "source": [
    "'''\n",
    "1. Run the GP Experiments\n",
    "'''\n",
    "import time\n",
    "\n",
    "start=time.time()\n",
    "exprExec = run_gp_experiments(dm, debug_mode=debug_mode)\n",
    "print(f'duration: {time.time()-start}')"
   ]
  },
  {
   "cell_type": "code",
   "execution_count": null,
   "id": "0e7bfb2d",
   "metadata": {},
   "outputs": [],
   "source": [
    "'''\n",
    "2. Run the Simple DNN Experiments/\n",
    "'''\n",
    "exprExec = run_simple_dnn_experiments(dm, debug_mode=debug_mode)"
   ]
  },
  {
   "cell_type": "code",
   "execution_count": null,
   "id": "4fb3a5d4",
   "metadata": {},
   "outputs": [],
   "source": [
    "'''\n",
    "3. Run the PCDNN_v1 Experiments\n",
    "'''\n",
    "exprExec = run_pcdnn_v1_experiments(dm, debug_mode=debug_mode)"
   ]
  },
  {
   "cell_type": "code",
   "execution_count": null,
   "id": "53e6cd08",
   "metadata": {},
   "outputs": [],
   "source": [
    "'''\n",
    "4. Run the PCDNN_v2 Experiments\n",
    "'''\n",
    "exprExec = run_pcdnn_v2_experiments(dm, debug_mode=debug_mode)"
   ]
  },
  {
   "cell_type": "code",
   "execution_count": null,
   "id": "8a222796",
   "metadata": {},
   "outputs": [],
   "source": [
    "# My version:\n",
    "import model_analyzer.model_analysis as model_analysis\n",
    "import pdb\n",
    "\n",
    "import importlib\n",
    "importlib.reload(model_analysis)\n",
    "\n",
    "bestModel, experimentSettings = exprExec.modelFactory.openBestModel()\n",
    "print(f'\\nexperimentSettings: {experimentSettings}')\n",
    "print(f'\\nbestModel.input_shape: {bestModel.input_shape}')\n",
    "inspector = model_analysis.ModelInspector(exprExec.modelFactory, dm)"
   ]
  },
  {
   "cell_type": "code",
   "execution_count": null,
   "id": "b8f624cd",
   "metadata": {},
   "outputs": [],
   "source": [
    "inspector.plot_permutation_feature_importance()"
   ]
  },
  {
   "cell_type": "code",
   "execution_count": null,
   "id": "84e0002c",
   "metadata": {},
   "outputs": [],
   "source": [
    "inspector.plot_partial_dependence()"
   ]
  },
  {
   "cell_type": "markdown",
   "id": "efc5108b",
   "metadata": {},
   "source": [
    "### Print & Record Linear Embeddings Output"
   ]
  },
  {
   "cell_type": "code",
   "execution_count": null,
   "id": "b9dba3f3",
   "metadata": {},
   "outputs": [],
   "source": [
    "import numpy as np\n",
    "\n",
    "def inspect_PCA(X):\n",
    "    PCA_dict = {}\n",
    "    PCA_dict['X'] = X\n",
    "    PCA_dict['Var'] = PCA_dict['X'].var(axis=0)\n",
    "    \n",
    "    # sort by explained variance\n",
    "    sort_idx = np.argsort(PCA_dict['Var'])[::-1]\n",
    "    PCA_dict['X'] = PCA_dict['X'][:, sort_idx]\n",
    "    PCA_dict['Var'] = PCA_dict['Var'][sort_idx]\n",
    "    PCA_dict['CumVar'] = np.add.accumulate(PCA_dict['Var'])\n",
    "    return PCA_dict\n",
    "\n",
    "\n",
    "X, Y,rom,zmix = dm.getAllData()\n",
    "FullDataset = inspect_PCA(X)\n",
    "try:    \n",
    "    linearAutoEncoder = exprExec.modelFactory.getLinearEncoder()\n",
    "    X = linearAutoEncoder.predict(FullDataset['X'])\n",
    "    DNN_PCA = inspect_PCA(X)\n",
    "except KeyError:\n",
    "    print('No Linear Auto Encoder!')"
   ]
  },
  {
   "cell_type": "code",
   "execution_count": null,
   "id": "422a01a2",
   "metadata": {},
   "outputs": [],
   "source": [
    "#dm.createDataset\n",
    "import copy\n",
    "dm_PurePCA = copy.deepcopy(dm)\n",
    "dm_PurePCA.createTrainTestData(dataSetMethod='PurePCA_randomequalflamesplit',\n",
    "                               numCpvComponents=2, ipscaler=None, opscaler=None)\n",
    "\n",
    "X,Y,rom,zmix = dm_PurePCA.getAllData()\n",
    "PurePCA = inspect_PCA(X)\n",
    "print(PurePCA['Var'])\n",
    "print(DNN_PCA['Var'])\n",
    "\n",
    "plt.plot(PurePCA['CumVar']/FullDataset['Var'].sum(), color='r')\n",
    "plt.plot(DNN_PCA['CumVar']/FullDataset['Var'].sum(), color='b')\n",
    "plt.title('PCA Total Variance Comparison')"
   ]
  },
  {
   "cell_type": "code",
   "execution_count": null,
   "id": "40d59176",
   "metadata": {},
   "outputs": [],
   "source": [
    "import pandas as pd\n",
    "\n",
    "df = pd.DataFrame()\n",
    "df = df.append({'x' : 1, 'y' : 2, 'z': 3}, ignore_index=True)"
   ]
  },
  {
   "cell_type": "code",
   "execution_count": null,
   "id": "883b4609",
   "metadata": {},
   "outputs": [],
   "source": [
    "print(df)\n",
    "df = df.append({'x' : 1, 'y' : 2, 'z': 3}, ignore_index=True)"
   ]
  },
  {
   "cell_type": "code",
   "execution_count": null,
   "id": "b035d96e",
   "metadata": {},
   "outputs": [],
   "source": []
  }
 ],
 "metadata": {
  "kernelspec": {
   "display_name": "Python 3",
   "language": "python",
   "name": "python3"
  },
  "language_info": {
   "codemirror_mode": {
    "name": "ipython",
    "version": 3
   },
   "file_extension": ".py",
   "mimetype": "text/x-python",
   "name": "python",
   "nbconvert_exporter": "python",
   "pygments_lexer": "ipython3",
   "version": "3.8.8"
  }
 },
 "nbformat": 4,
 "nbformat_minor": 5
}
