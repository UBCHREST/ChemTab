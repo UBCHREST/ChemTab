{
 "cells": [
  {
   "cell_type": "code",
   "execution_count": 1,
   "id": "fecad4b3",
   "metadata": {},
   "outputs": [],
   "source": [
    "\"\"\"\n",
    "Created on Wed Aug  4 17:50:06 2021\n",
    "\n",
    "@author: amol\n",
    "\"\"\"\n",
    "\n",
    "# set TF GPU memory growth so that it doesn't hog everything at once\n",
    "import tensorflow as tf\n",
    "physical_devices = tf.config.list_physical_devices('GPU')\n",
    "tf.config.experimental.set_memory_growth(physical_devices[0], True)\n",
    "\n",
    "import os\n",
    "import numpy as np\n",
    "from main import *\n",
    "debug_mode = True  # faster experiments for debugging\n",
    "\n",
    "# util for getting objects' fields' names\n",
    "field_names = lambda x: list(vars(x).keys())"
   ]
  },
  {
   "cell_type": "code",
   "execution_count": 2,
   "id": "797e3ae8",
   "metadata": {},
   "outputs": [],
   "source": [
    "#Prepare the DataFrame that will be used downstream\n",
    "dp = DataPreparer()\n",
    "dp.createPCAs()\n",
    "dp.sparsePCAs()\n",
    "dp.zmixOrthogonalPCAs()\n",
    "df = dp.getDataframe()\n",
    "\n",
    "# currently passing dp eventually we want to abstract all the constants into 1 class\n",
    "dm = DataManager(df, dp)"
   ]
  },
  {
   "cell_type": "code",
   "execution_count": 3,
   "id": "8d1509ca",
   "metadata": {},
   "outputs": [
    {
     "data": {
      "text/plain": [
       "\"\\nbestModel, experimentSettings = exprExec.modelFactory.openBestModel()\\ndm.createTrainTestData(experimentSettings['dataSetMethod'], experimentSettings['noOfCpv'],\\n                       experimentSettings['ipscaler'], experimentSettings['opscaler'])\\ndm.input_data_cols\\n\""
      ]
     },
     "execution_count": 3,
     "metadata": {},
     "output_type": "execute_result"
    }
   ],
   "source": [
    "\"\"\"\n",
    "bestModel, experimentSettings = exprExec.modelFactory.openBestModel()\n",
    "dm.createTrainTestData(experimentSettings['dataSetMethod'], experimentSettings['noOfCpv'],\n",
    "                       experimentSettings['ipscaler'], experimentSettings['opscaler'])\n",
    "dm.input_data_cols\n",
    "\"\"\""
   ]
  },
  {
   "cell_type": "code",
   "execution_count": 4,
   "id": "244190db",
   "metadata": {},
   "outputs": [
    {
     "name": "stderr",
     "output_type": "stream",
     "text": [
      "/home/dwyerdei/rom_project2/src/experiment_executor/pcdnn_v2_experiment_executor.py:33: UserWarning: manually overriding n models to 1! change this!\n",
      "  warnings.warn('manually overriding n models to 1! change this!')\n"
     ]
    },
    {
     "name": "stdout",
     "output_type": "stream",
     "text": [
      "Parent DNNModelFactory Instantiated\n",
      "=================== randomequaltraintestsplit ===================\n",
      "------------------ AllSpeciesAndZmix ------------------\n",
      "--------------------self.build_and_compile_pcdnn_v2_model----------------------\n",
      "53 4 Y Y Y\n"
     ]
    },
    {
     "ename": "KeyboardInterrupt",
     "evalue": "",
     "output_type": "error",
     "traceback": [
      "\u001b[0;31m---------------------------------------------------------------------------\u001b[0m",
      "\u001b[0;31mKeyboardInterrupt\u001b[0m                         Traceback (most recent call last)",
      "\u001b[0;32m<ipython-input-4-44c651a64d00>\u001b[0m in \u001b[0;36m<module>\u001b[0;34m\u001b[0m\n\u001b[1;32m      4\u001b[0m \u001b[0mmodel\u001b[0m \u001b[0;34m=\u001b[0m \u001b[0;34m'PCDNN_V2'\u001b[0m\u001b[0;34m\u001b[0m\u001b[0;34m\u001b[0m\u001b[0m\n\u001b[1;32m      5\u001b[0m \u001b[0;32massert\u001b[0m \u001b[0mmodel\u001b[0m \u001b[0;32min\u001b[0m \u001b[0;34m[\u001b[0m\u001b[0;34m'PCDNN_V2'\u001b[0m\u001b[0;34m,\u001b[0m \u001b[0;34m'PCDNN_V1'\u001b[0m\u001b[0;34m,\u001b[0m \u001b[0;34m'SIMPLE_DNN'\u001b[0m\u001b[0;34m,\u001b[0m \u001b[0;34m'GP'\u001b[0m\u001b[0;34m]\u001b[0m \u001b[0;31m# valid possible models\u001b[0m\u001b[0;34m\u001b[0m\u001b[0;34m\u001b[0m\u001b[0m\n\u001b[0;32m----> 6\u001b[0;31m \u001b[0mexprExec\u001b[0m\u001b[0;34m=\u001b[0m\u001b[0mrun_model_experiments\u001b[0m\u001b[0;34m(\u001b[0m\u001b[0mdm\u001b[0m\u001b[0;34m,\u001b[0m \u001b[0mmodels\u001b[0m\u001b[0;34m=\u001b[0m\u001b[0mmodel\u001b[0m\u001b[0;34m,\u001b[0m \u001b[0mdebug_mode\u001b[0m\u001b[0;34m=\u001b[0m\u001b[0;32mFalse\u001b[0m\u001b[0;34m)\u001b[0m\u001b[0;34m\u001b[0m\u001b[0;34m\u001b[0m\u001b[0m\n\u001b[0m",
      "\u001b[0;32m~/rom_project2/src/main.py\u001b[0m in \u001b[0;36mrun_model_experiments\u001b[0;34m(dm, models, debug_mode)\u001b[0m\n\u001b[1;32m    130\u001b[0m         \u001b[0mmodel\u001b[0m \u001b[0;34m=\u001b[0m \u001b[0mmodel\u001b[0m\u001b[0;34m.\u001b[0m\u001b[0mupper\u001b[0m\u001b[0;34m(\u001b[0m\u001b[0;34m)\u001b[0m\u001b[0;34m.\u001b[0m\u001b[0mreplace\u001b[0m\u001b[0;34m(\u001b[0m\u001b[0;34m'_'\u001b[0m\u001b[0;34m,\u001b[0m\u001b[0;34m''\u001b[0m\u001b[0;34m)\u001b[0m\u001b[0;34m\u001b[0m\u001b[0;34m\u001b[0m\u001b[0m\n\u001b[1;32m    131\u001b[0m         \u001b[0;32massert\u001b[0m \u001b[0mmodel\u001b[0m \u001b[0;32min\u001b[0m \u001b[0msupported_models\u001b[0m\u001b[0;34m\u001b[0m\u001b[0;34m\u001b[0m\u001b[0m\n\u001b[0;32m--> 132\u001b[0;31m         \u001b[0mexpExectrs\u001b[0m\u001b[0;34m.\u001b[0m\u001b[0mappend\u001b[0m\u001b[0;34m(\u001b[0m\u001b[0msupported_models\u001b[0m\u001b[0;34m[\u001b[0m\u001b[0mmodel\u001b[0m\u001b[0;34m]\u001b[0m\u001b[0;34m(\u001b[0m\u001b[0mdm\u001b[0m\u001b[0;34m,\u001b[0m \u001b[0mdebug_mode\u001b[0m\u001b[0;34m=\u001b[0m\u001b[0mdebug_mode\u001b[0m\u001b[0;34m)\u001b[0m\u001b[0;34m)\u001b[0m\u001b[0;34m\u001b[0m\u001b[0;34m\u001b[0m\u001b[0m\n\u001b[0m\u001b[1;32m    133\u001b[0m \u001b[0;34m\u001b[0m\u001b[0m\n\u001b[1;32m    134\u001b[0m     \u001b[0mdm\u001b[0m\u001b[0;34m.\u001b[0m\u001b[0msave_PCA_data\u001b[0m\u001b[0;34m(\u001b[0m\u001b[0mfn\u001b[0m\u001b[0;34m=\u001b[0m\u001b[0;34m'PCA_data.csv'\u001b[0m\u001b[0;34m)\u001b[0m \u001b[0;31m# save updated PCA data\u001b[0m\u001b[0;34m\u001b[0m\u001b[0;34m\u001b[0m\u001b[0m\n",
      "\u001b[0;32m~/rom_project2/src/main.py\u001b[0m in \u001b[0;36mrun_pcdnn_v2_experiments\u001b[0;34m(dm, debug_mode)\u001b[0m\n\u001b[1;32m    112\u001b[0m \u001b[0;34m\u001b[0m\u001b[0m\n\u001b[1;32m    113\u001b[0m     \u001b[0mexpExectr\u001b[0m\u001b[0;34m.\u001b[0m\u001b[0msetModelFactory\u001b[0m\u001b[0;34m(\u001b[0m\u001b[0mPCDNNV2ModelFactory\u001b[0m\u001b[0;34m(\u001b[0m\u001b[0;34m)\u001b[0m\u001b[0;34m)\u001b[0m\u001b[0;34m\u001b[0m\u001b[0;34m\u001b[0m\u001b[0m\n\u001b[0;32m--> 114\u001b[0;31m     \u001b[0mexpExectr\u001b[0m\u001b[0;34m.\u001b[0m\u001b[0mexecuteExperiments\u001b[0m\u001b[0;34m(\u001b[0m\u001b[0mdm\u001b[0m\u001b[0;34m,\u001b[0m \u001b[0;34m\"PCDNNV2\"\u001b[0m\u001b[0;34m,\u001b[0m \u001b[0mpd\u001b[0m\u001b[0;34m.\u001b[0m\u001b[0mDataFrame\u001b[0m\u001b[0;34m(\u001b[0m\u001b[0;34m)\u001b[0m\u001b[0;34m)\u001b[0m\u001b[0;34m\u001b[0m\u001b[0;34m\u001b[0m\u001b[0m\n\u001b[0m\u001b[1;32m    115\u001b[0m \u001b[0;34m\u001b[0m\u001b[0m\n\u001b[1;32m    116\u001b[0m     \u001b[0mdf_experimentTracker\u001b[0m \u001b[0;34m=\u001b[0m \u001b[0mexpExectr\u001b[0m\u001b[0;34m.\u001b[0m\u001b[0mdf_experimentTracker\u001b[0m\u001b[0;34m\u001b[0m\u001b[0;34m\u001b[0m\u001b[0m\n",
      "\u001b[0;32m~/rom_project2/src/experiment_executor/pcdnn_v2_experiment_executor.py\u001b[0m in \u001b[0;36mexecuteExperiments\u001b[0;34m(self, dataManager, modelType, df_experimentTracker)\u001b[0m\n\u001b[1;32m    214\u001b[0m                             \u001b[0;32mfor\u001b[0m \u001b[0mactivity_regularizer\u001b[0m \u001b[0;32min\u001b[0m \u001b[0mactivity_regularizers\u001b[0m\u001b[0;34m:\u001b[0m\u001b[0;34m\u001b[0m\u001b[0;34m\u001b[0m\u001b[0m\n\u001b[1;32m    215\u001b[0m                                 \u001b[0;32mfor\u001b[0m \u001b[0mopscaler\u001b[0m \u001b[0;32min\u001b[0m \u001b[0mopscalers\u001b[0m\u001b[0;34m:\u001b[0m\u001b[0;34m\u001b[0m\u001b[0;34m\u001b[0m\u001b[0m\n\u001b[0;32m--> 216\u001b[0;31m                                     self.executeSingleExperiment(noOfNeurons,dataSetMethod,dataType,inputType,ZmixPresent,noOfCpv,concatenateZmix,kernel_constraint,\n\u001b[0m\u001b[1;32m    217\u001b[0m                                                                  kernel_regularizer,activity_regularizer,opscaler=opscaler, ipscaler=ipscaler)\n\u001b[1;32m    218\u001b[0m \u001b[0;34m\u001b[0m\u001b[0m\n",
      "\u001b[0;32m~/rom_project2/src/experiment_executor/pcdnn_v2_experiment_executor.py\u001b[0m in \u001b[0;36mexecuteSingleExperiment\u001b[0;34m(self, noOfInputNeurons, dataSetMethod, dataType, inputType, ZmixPresent, noOfCpv, concatenateZmix, kernel_constraint, kernel_regularizer, activity_regularizer, ipscaler, opscaler)\u001b[0m\n\u001b[1;32m     49\u001b[0m \u001b[0;34m\u001b[0m\u001b[0m\n\u001b[1;32m     50\u001b[0m         \u001b[0mself\u001b[0m\u001b[0;34m.\u001b[0m\u001b[0mmodelFactory\u001b[0m\u001b[0;34m.\u001b[0m\u001b[0mdebug_mode\u001b[0m \u001b[0;34m=\u001b[0m \u001b[0mself\u001b[0m\u001b[0;34m.\u001b[0m\u001b[0mdebug_mode\u001b[0m\u001b[0;34m\u001b[0m\u001b[0;34m\u001b[0m\u001b[0m\n\u001b[0;32m---> 51\u001b[0;31m         \u001b[0mself\u001b[0m\u001b[0;34m.\u001b[0m\u001b[0mmodel\u001b[0m \u001b[0;34m=\u001b[0m \u001b[0mself\u001b[0m\u001b[0;34m.\u001b[0m\u001b[0mmodelFactory\u001b[0m\u001b[0;34m.\u001b[0m\u001b[0mbuild_and_compile_model\u001b[0m\u001b[0;34m(\u001b[0m\u001b[0mnoOfInputNeurons\u001b[0m\u001b[0;34m,\u001b[0m\u001b[0mnoOfCpv\u001b[0m\u001b[0;34m,\u001b[0m\u001b[0mconcatenateZmix\u001b[0m\u001b[0;34m,\u001b[0m\u001b[0mkernel_constraint\u001b[0m\u001b[0;34m,\u001b[0m\u001b[0mkernel_regularizer\u001b[0m\u001b[0;34m,\u001b[0m\u001b[0mactivity_regularizer\u001b[0m\u001b[0;34m)\u001b[0m\u001b[0;34m\u001b[0m\u001b[0;34m\u001b[0m\u001b[0m\n\u001b[0m\u001b[1;32m     52\u001b[0m \u001b[0;34m\u001b[0m\u001b[0m\n\u001b[1;32m     53\u001b[0m         \u001b[0mself\u001b[0m\u001b[0;34m.\u001b[0m\u001b[0mmodel\u001b[0m\u001b[0;34m.\u001b[0m\u001b[0msummary\u001b[0m\u001b[0;34m(\u001b[0m\u001b[0;34m)\u001b[0m\u001b[0;34m\u001b[0m\u001b[0;34m\u001b[0m\u001b[0m\n",
      "\u001b[0;32m~/rom_project2/src/models/pcdnnv2_model_factory.py\u001b[0m in \u001b[0;36mbuild_and_compile_model\u001b[0;34m(self, noOfInputNeurons, noOfCpv, concatenateZmix, kernel_constraint, kernel_regularizer, activity_regularizer)\u001b[0m\n\u001b[1;32m    131\u001b[0m             \u001b[0minputs\u001b[0m \u001b[0;34m=\u001b[0m \u001b[0;34m[\u001b[0m\u001b[0mspecies_inputs\u001b[0m\u001b[0;34m]\u001b[0m\u001b[0;34m\u001b[0m\u001b[0;34m\u001b[0m\u001b[0m\n\u001b[1;32m    132\u001b[0m \u001b[0;34m\u001b[0m\u001b[0m\n\u001b[0;32m--> 133\u001b[0;31m         x = self.addLinearModel(inputs, noOfInputNeurons, noOfCpv,\n\u001b[0m\u001b[1;32m    134\u001b[0m                                 \u001b[0mconcatenateZmix\u001b[0m\u001b[0;34m=\u001b[0m\u001b[0mconcatenateZmix\u001b[0m\u001b[0;34m,\u001b[0m\u001b[0;34m\u001b[0m\u001b[0;34m\u001b[0m\u001b[0m\n\u001b[1;32m    135\u001b[0m                                 \u001b[0mkernel_constraint\u001b[0m\u001b[0;34m=\u001b[0m\u001b[0mkernel_constraint\u001b[0m\u001b[0;34m,\u001b[0m\u001b[0;34m\u001b[0m\u001b[0;34m\u001b[0m\u001b[0m\n",
      "\u001b[0;32m~/rom_project2/src/models/dnnmodel_model_factory.py\u001b[0m in \u001b[0;36maddLinearModel\u001b[0;34m(self, inputs, noOfInputNeurons, noOfCpv, concatenateZmix, **kwds)\u001b[0m\n\u001b[1;32m     67\u001b[0m         \u001b[0;31m# dimension that keras adds implicitly\u001b[0m\u001b[0;34m\u001b[0m\u001b[0;34m\u001b[0m\u001b[0;34m\u001b[0m\u001b[0m\n\u001b[1;32m     68\u001b[0m         \u001b[0;32massert\u001b[0m \u001b[0mnoOfInputNeurons\u001b[0m \u001b[0;34m==\u001b[0m \u001b[0minputs\u001b[0m\u001b[0;34m[\u001b[0m\u001b[0;36m0\u001b[0m\u001b[0;34m]\u001b[0m\u001b[0;34m.\u001b[0m\u001b[0mshape\u001b[0m\u001b[0;34m[\u001b[0m\u001b[0;36m1\u001b[0m\u001b[0;34m]\u001b[0m\u001b[0;34m\u001b[0m\u001b[0;34m\u001b[0m\u001b[0m\n\u001b[0;32m---> 69\u001b[0;31m         \u001b[0moutput\u001b[0m \u001b[0;34m=\u001b[0m \u001b[0mself\u001b[0m\u001b[0;34m.\u001b[0m\u001b[0mgetLinearLayer\u001b[0m\u001b[0;34m(\u001b[0m\u001b[0mnoOfInputNeurons\u001b[0m\u001b[0;34m,\u001b[0m \u001b[0mnoOfCpv\u001b[0m\u001b[0;34m,\u001b[0m \u001b[0;34m**\u001b[0m\u001b[0mkwds\u001b[0m\u001b[0;34m)\u001b[0m\u001b[0;34m(\u001b[0m\u001b[0minputs\u001b[0m\u001b[0;34m[\u001b[0m\u001b[0;36m0\u001b[0m\u001b[0;34m]\u001b[0m\u001b[0;34m)\u001b[0m\u001b[0;34m\u001b[0m\u001b[0;34m\u001b[0m\u001b[0m\n\u001b[0m\u001b[1;32m     70\u001b[0m \u001b[0;34m\u001b[0m\u001b[0m\n\u001b[1;32m     71\u001b[0m         \u001b[0mlinear_emb_model\u001b[0m \u001b[0;34m=\u001b[0m \u001b[0mkeras\u001b[0m\u001b[0;34m.\u001b[0m\u001b[0mmodels\u001b[0m\u001b[0;34m.\u001b[0m\u001b[0mModel\u001b[0m\u001b[0;34m(\u001b[0m\u001b[0minputs\u001b[0m\u001b[0;34m=\u001b[0m\u001b[0minputs\u001b[0m\u001b[0;34m[\u001b[0m\u001b[0;36m0\u001b[0m\u001b[0;34m]\u001b[0m\u001b[0;34m,\u001b[0m \u001b[0moutputs\u001b[0m\u001b[0;34m=\u001b[0m\u001b[0moutput\u001b[0m\u001b[0;34m,\u001b[0m \u001b[0mname\u001b[0m\u001b[0;34m=\u001b[0m\u001b[0;34m\"linear_embedding\"\u001b[0m\u001b[0;34m)\u001b[0m\u001b[0;34m\u001b[0m\u001b[0;34m\u001b[0m\u001b[0m\n",
      "\u001b[0;32m~/.local/lib/python3.8/site-packages/keras/utils/traceback_utils.py\u001b[0m in \u001b[0;36merror_handler\u001b[0;34m(*args, **kwargs)\u001b[0m\n\u001b[1;32m     62\u001b[0m     \u001b[0mfiltered_tb\u001b[0m \u001b[0;34m=\u001b[0m \u001b[0;32mNone\u001b[0m\u001b[0;34m\u001b[0m\u001b[0;34m\u001b[0m\u001b[0m\n\u001b[1;32m     63\u001b[0m     \u001b[0;32mtry\u001b[0m\u001b[0;34m:\u001b[0m\u001b[0;34m\u001b[0m\u001b[0;34m\u001b[0m\u001b[0m\n\u001b[0;32m---> 64\u001b[0;31m       \u001b[0;32mreturn\u001b[0m \u001b[0mfn\u001b[0m\u001b[0;34m(\u001b[0m\u001b[0;34m*\u001b[0m\u001b[0margs\u001b[0m\u001b[0;34m,\u001b[0m \u001b[0;34m**\u001b[0m\u001b[0mkwargs\u001b[0m\u001b[0;34m)\u001b[0m\u001b[0;34m\u001b[0m\u001b[0;34m\u001b[0m\u001b[0m\n\u001b[0m\u001b[1;32m     65\u001b[0m     \u001b[0;32mexcept\u001b[0m \u001b[0mException\u001b[0m \u001b[0;32mas\u001b[0m \u001b[0me\u001b[0m\u001b[0;34m:\u001b[0m  \u001b[0;31m# pylint: disable=broad-except\u001b[0m\u001b[0;34m\u001b[0m\u001b[0;34m\u001b[0m\u001b[0m\n\u001b[1;32m     66\u001b[0m       \u001b[0mfiltered_tb\u001b[0m \u001b[0;34m=\u001b[0m \u001b[0m_process_traceback_frames\u001b[0m\u001b[0;34m(\u001b[0m\u001b[0me\u001b[0m\u001b[0;34m.\u001b[0m\u001b[0m__traceback__\u001b[0m\u001b[0;34m)\u001b[0m\u001b[0;34m\u001b[0m\u001b[0;34m\u001b[0m\u001b[0m\n",
      "\u001b[0;32m~/.local/lib/python3.8/site-packages/keras/engine/base_layer.py\u001b[0m in \u001b[0;36m__call__\u001b[0;34m(self, *args, **kwargs)\u001b[0m\n\u001b[1;32m   1017\u001b[0m     \u001b[0;31m# >> model = tf.keras.Model(inputs, outputs)\u001b[0m\u001b[0;34m\u001b[0m\u001b[0;34m\u001b[0m\u001b[0;34m\u001b[0m\u001b[0m\n\u001b[1;32m   1018\u001b[0m     \u001b[0;32mif\u001b[0m \u001b[0m_in_functional_construction_mode\u001b[0m\u001b[0;34m(\u001b[0m\u001b[0mself\u001b[0m\u001b[0;34m,\u001b[0m \u001b[0minputs\u001b[0m\u001b[0;34m,\u001b[0m \u001b[0margs\u001b[0m\u001b[0;34m,\u001b[0m \u001b[0mkwargs\u001b[0m\u001b[0;34m,\u001b[0m \u001b[0minput_list\u001b[0m\u001b[0;34m)\u001b[0m\u001b[0;34m:\u001b[0m\u001b[0;34m\u001b[0m\u001b[0;34m\u001b[0m\u001b[0m\n\u001b[0;32m-> 1019\u001b[0;31m       return self._functional_construction_call(inputs, args, kwargs,\n\u001b[0m\u001b[1;32m   1020\u001b[0m                                                 input_list)\n\u001b[1;32m   1021\u001b[0m \u001b[0;34m\u001b[0m\u001b[0m\n",
      "\u001b[0;32m~/.local/lib/python3.8/site-packages/keras/engine/base_layer.py\u001b[0m in \u001b[0;36m_functional_construction_call\u001b[0;34m(self, inputs, args, kwargs, input_list)\u001b[0m\n\u001b[1;32m   1158\u001b[0m         layer=self, inputs=inputs, build_graph=True, training=training_value):\n\u001b[1;32m   1159\u001b[0m       \u001b[0;31m# Check input assumptions set after layer building, e.g. input shape.\u001b[0m\u001b[0;34m\u001b[0m\u001b[0;34m\u001b[0m\u001b[0;34m\u001b[0m\u001b[0m\n\u001b[0;32m-> 1160\u001b[0;31m       outputs = self._keras_tensor_symbolic_call(\n\u001b[0m\u001b[1;32m   1161\u001b[0m           inputs, input_masks, args, kwargs)\n\u001b[1;32m   1162\u001b[0m \u001b[0;34m\u001b[0m\u001b[0m\n",
      "\u001b[0;32m~/.local/lib/python3.8/site-packages/keras/engine/base_layer.py\u001b[0m in \u001b[0;36m_keras_tensor_symbolic_call\u001b[0;34m(self, inputs, input_masks, args, kwargs)\u001b[0m\n\u001b[1;32m    883\u001b[0m       \u001b[0;32mreturn\u001b[0m \u001b[0mtf\u001b[0m\u001b[0;34m.\u001b[0m\u001b[0mnest\u001b[0m\u001b[0;34m.\u001b[0m\u001b[0mmap_structure\u001b[0m\u001b[0;34m(\u001b[0m\u001b[0mkeras_tensor\u001b[0m\u001b[0;34m.\u001b[0m\u001b[0mKerasTensor\u001b[0m\u001b[0;34m,\u001b[0m \u001b[0moutput_signature\u001b[0m\u001b[0;34m)\u001b[0m\u001b[0;34m\u001b[0m\u001b[0;34m\u001b[0m\u001b[0m\n\u001b[1;32m    884\u001b[0m     \u001b[0;32melse\u001b[0m\u001b[0;34m:\u001b[0m\u001b[0;34m\u001b[0m\u001b[0;34m\u001b[0m\u001b[0m\n\u001b[0;32m--> 885\u001b[0;31m       \u001b[0;32mreturn\u001b[0m \u001b[0mself\u001b[0m\u001b[0;34m.\u001b[0m\u001b[0m_infer_output_signature\u001b[0m\u001b[0;34m(\u001b[0m\u001b[0minputs\u001b[0m\u001b[0;34m,\u001b[0m \u001b[0margs\u001b[0m\u001b[0;34m,\u001b[0m \u001b[0mkwargs\u001b[0m\u001b[0;34m,\u001b[0m \u001b[0minput_masks\u001b[0m\u001b[0;34m)\u001b[0m\u001b[0;34m\u001b[0m\u001b[0;34m\u001b[0m\u001b[0m\n\u001b[0m\u001b[1;32m    886\u001b[0m \u001b[0;34m\u001b[0m\u001b[0m\n\u001b[1;32m    887\u001b[0m   \u001b[0;32mdef\u001b[0m \u001b[0m_infer_output_signature\u001b[0m\u001b[0;34m(\u001b[0m\u001b[0mself\u001b[0m\u001b[0;34m,\u001b[0m \u001b[0minputs\u001b[0m\u001b[0;34m,\u001b[0m \u001b[0margs\u001b[0m\u001b[0;34m,\u001b[0m \u001b[0mkwargs\u001b[0m\u001b[0;34m,\u001b[0m \u001b[0minput_masks\u001b[0m\u001b[0;34m)\u001b[0m\u001b[0;34m:\u001b[0m\u001b[0;34m\u001b[0m\u001b[0;34m\u001b[0m\u001b[0m\n",
      "\u001b[0;32m~/.local/lib/python3.8/site-packages/keras/engine/base_layer.py\u001b[0m in \u001b[0;36m_infer_output_signature\u001b[0;34m(self, inputs, args, kwargs, input_masks)\u001b[0m\n\u001b[1;32m    926\u001b[0m           \u001b[0;31m# overridden).\u001b[0m\u001b[0;34m\u001b[0m\u001b[0;34m\u001b[0m\u001b[0;34m\u001b[0m\u001b[0m\n\u001b[1;32m    927\u001b[0m           \u001b[0;31m# TODO(kaftan): do we maybe_build here, or have we already done it?\u001b[0m\u001b[0;34m\u001b[0m\u001b[0;34m\u001b[0m\u001b[0;34m\u001b[0m\u001b[0m\n\u001b[0;32m--> 928\u001b[0;31m           \u001b[0mself\u001b[0m\u001b[0;34m.\u001b[0m\u001b[0m_maybe_build\u001b[0m\u001b[0;34m(\u001b[0m\u001b[0minputs\u001b[0m\u001b[0;34m)\u001b[0m\u001b[0;34m\u001b[0m\u001b[0;34m\u001b[0m\u001b[0m\n\u001b[0m\u001b[1;32m    929\u001b[0m           \u001b[0minputs\u001b[0m \u001b[0;34m=\u001b[0m \u001b[0mself\u001b[0m\u001b[0;34m.\u001b[0m\u001b[0m_maybe_cast_inputs\u001b[0m\u001b[0;34m(\u001b[0m\u001b[0minputs\u001b[0m\u001b[0;34m)\u001b[0m\u001b[0;34m\u001b[0m\u001b[0;34m\u001b[0m\u001b[0m\n\u001b[1;32m    930\u001b[0m           \u001b[0moutputs\u001b[0m \u001b[0;34m=\u001b[0m \u001b[0mcall_fn\u001b[0m\u001b[0;34m(\u001b[0m\u001b[0minputs\u001b[0m\u001b[0;34m,\u001b[0m \u001b[0;34m*\u001b[0m\u001b[0margs\u001b[0m\u001b[0;34m,\u001b[0m \u001b[0;34m**\u001b[0m\u001b[0mkwargs\u001b[0m\u001b[0;34m)\u001b[0m\u001b[0;34m\u001b[0m\u001b[0;34m\u001b[0m\u001b[0m\n",
      "\u001b[0;32m~/.local/lib/python3.8/site-packages/keras/engine/base_layer.py\u001b[0m in \u001b[0;36m_maybe_build\u001b[0;34m(self, inputs)\u001b[0m\n\u001b[1;32m   2722\u001b[0m         \u001b[0;31m# operations.\u001b[0m\u001b[0;34m\u001b[0m\u001b[0;34m\u001b[0m\u001b[0;34m\u001b[0m\u001b[0m\n\u001b[1;32m   2723\u001b[0m         \u001b[0;32mwith\u001b[0m \u001b[0mtf_utils\u001b[0m\u001b[0;34m.\u001b[0m\u001b[0mmaybe_init_scope\u001b[0m\u001b[0;34m(\u001b[0m\u001b[0mself\u001b[0m\u001b[0;34m)\u001b[0m\u001b[0;34m:\u001b[0m\u001b[0;34m\u001b[0m\u001b[0;34m\u001b[0m\u001b[0m\n\u001b[0;32m-> 2724\u001b[0;31m           \u001b[0mself\u001b[0m\u001b[0;34m.\u001b[0m\u001b[0mbuild\u001b[0m\u001b[0;34m(\u001b[0m\u001b[0minput_shapes\u001b[0m\u001b[0;34m)\u001b[0m  \u001b[0;31m# pylint:disable=not-callable\u001b[0m\u001b[0;34m\u001b[0m\u001b[0;34m\u001b[0m\u001b[0m\n\u001b[0m\u001b[1;32m   2725\u001b[0m       \u001b[0;31m# We must set also ensure that the layer is marked as built, and the build\u001b[0m\u001b[0;34m\u001b[0m\u001b[0;34m\u001b[0m\u001b[0;34m\u001b[0m\u001b[0m\n\u001b[1;32m   2726\u001b[0m       \u001b[0;31m# shape is stored since user defined build functions may not be calling\u001b[0m\u001b[0;34m\u001b[0m\u001b[0;34m\u001b[0m\u001b[0;34m\u001b[0m\u001b[0m\n",
      "\u001b[0;32m~/.local/lib/python3.8/site-packages/keras/layers/core/dense.py\u001b[0m in \u001b[0;36mbuild\u001b[0;34m(self, input_shape)\u001b[0m\n\u001b[1;32m    141\u001b[0m                        f'Full input shape received: {input_shape}')\n\u001b[1;32m    142\u001b[0m     \u001b[0mself\u001b[0m\u001b[0;34m.\u001b[0m\u001b[0minput_spec\u001b[0m \u001b[0;34m=\u001b[0m \u001b[0mInputSpec\u001b[0m\u001b[0;34m(\u001b[0m\u001b[0mmin_ndim\u001b[0m\u001b[0;34m=\u001b[0m\u001b[0;36m2\u001b[0m\u001b[0;34m,\u001b[0m \u001b[0maxes\u001b[0m\u001b[0;34m=\u001b[0m\u001b[0;34m{\u001b[0m\u001b[0;34m-\u001b[0m\u001b[0;36m1\u001b[0m\u001b[0;34m:\u001b[0m \u001b[0mlast_dim\u001b[0m\u001b[0;34m}\u001b[0m\u001b[0;34m)\u001b[0m\u001b[0;34m\u001b[0m\u001b[0;34m\u001b[0m\u001b[0m\n\u001b[0;32m--> 143\u001b[0;31m     self.kernel = self.add_weight(\n\u001b[0m\u001b[1;32m    144\u001b[0m         \u001b[0;34m'kernel'\u001b[0m\u001b[0;34m,\u001b[0m\u001b[0;34m\u001b[0m\u001b[0;34m\u001b[0m\u001b[0m\n\u001b[1;32m    145\u001b[0m         \u001b[0mshape\u001b[0m\u001b[0;34m=\u001b[0m\u001b[0;34m[\u001b[0m\u001b[0mlast_dim\u001b[0m\u001b[0;34m,\u001b[0m \u001b[0mself\u001b[0m\u001b[0;34m.\u001b[0m\u001b[0munits\u001b[0m\u001b[0;34m]\u001b[0m\u001b[0;34m,\u001b[0m\u001b[0;34m\u001b[0m\u001b[0;34m\u001b[0m\u001b[0m\n",
      "\u001b[0;32m~/.local/lib/python3.8/site-packages/keras/engine/base_layer.py\u001b[0m in \u001b[0;36madd_weight\u001b[0;34m(self, name, shape, dtype, initializer, regularizer, trainable, constraint, use_resource, synchronization, aggregation, **kwargs)\u001b[0m\n\u001b[1;32m    664\u001b[0m         \u001b[0mcaching_device\u001b[0m \u001b[0;34m=\u001b[0m \u001b[0;32mNone\u001b[0m\u001b[0;34m\u001b[0m\u001b[0;34m\u001b[0m\u001b[0m\n\u001b[1;32m    665\u001b[0m \u001b[0;34m\u001b[0m\u001b[0m\n\u001b[0;32m--> 666\u001b[0;31m     variable = self._add_variable_with_custom_getter(\n\u001b[0m\u001b[1;32m    667\u001b[0m         \u001b[0mname\u001b[0m\u001b[0;34m=\u001b[0m\u001b[0mname\u001b[0m\u001b[0;34m,\u001b[0m\u001b[0;34m\u001b[0m\u001b[0;34m\u001b[0m\u001b[0m\n\u001b[1;32m    668\u001b[0m         \u001b[0mshape\u001b[0m\u001b[0;34m=\u001b[0m\u001b[0mshape\u001b[0m\u001b[0;34m,\u001b[0m\u001b[0;34m\u001b[0m\u001b[0;34m\u001b[0m\u001b[0m\n",
      "\u001b[0;32m~/.local/lib/python3.8/site-packages/tensorflow/python/training/tracking/base.py\u001b[0m in \u001b[0;36m_add_variable_with_custom_getter\u001b[0;34m(self, name, shape, dtype, initializer, getter, overwrite, **kwargs_for_getter)\u001b[0m\n\u001b[1;32m    814\u001b[0m         \u001b[0;31m# \"best effort\" to set the initializer with the highest restore UID.\u001b[0m\u001b[0;34m\u001b[0m\u001b[0;34m\u001b[0m\u001b[0;34m\u001b[0m\u001b[0m\n\u001b[1;32m    815\u001b[0m         \u001b[0minitializer\u001b[0m \u001b[0;34m=\u001b[0m \u001b[0mcheckpoint_initializer\u001b[0m\u001b[0;34m\u001b[0m\u001b[0;34m\u001b[0m\u001b[0m\n\u001b[0;32m--> 816\u001b[0;31m     new_variable = getter(\n\u001b[0m\u001b[1;32m    817\u001b[0m         \u001b[0mname\u001b[0m\u001b[0;34m=\u001b[0m\u001b[0mname\u001b[0m\u001b[0;34m,\u001b[0m\u001b[0;34m\u001b[0m\u001b[0;34m\u001b[0m\u001b[0m\n\u001b[1;32m    818\u001b[0m         \u001b[0mshape\u001b[0m\u001b[0;34m=\u001b[0m\u001b[0mshape\u001b[0m\u001b[0;34m,\u001b[0m\u001b[0;34m\u001b[0m\u001b[0;34m\u001b[0m\u001b[0m\n",
      "\u001b[0;32m~/.local/lib/python3.8/site-packages/keras/engine/base_layer_utils.py\u001b[0m in \u001b[0;36mmake_variable\u001b[0;34m(name, shape, dtype, initializer, trainable, caching_device, validate_shape, constraint, use_resource, collections, synchronization, aggregation, partitioner)\u001b[0m\n\u001b[1;32m    115\u001b[0m   \u001b[0;31m# However, this breaks legacy (Estimator) checkpoints\u001b[0m\u001b[0;34m\u001b[0m\u001b[0;34m\u001b[0m\u001b[0;34m\u001b[0m\u001b[0m\n\u001b[1;32m    116\u001b[0m   \u001b[0;31m# because it changes variable names. Remove this when V1 is fully deprecated.\u001b[0m\u001b[0;34m\u001b[0m\u001b[0;34m\u001b[0m\u001b[0;34m\u001b[0m\u001b[0m\n\u001b[0;32m--> 117\u001b[0;31m   return tf.compat.v1.Variable(\n\u001b[0m\u001b[1;32m    118\u001b[0m       \u001b[0minitial_value\u001b[0m\u001b[0;34m=\u001b[0m\u001b[0minit_val\u001b[0m\u001b[0;34m,\u001b[0m\u001b[0;34m\u001b[0m\u001b[0;34m\u001b[0m\u001b[0m\n\u001b[1;32m    119\u001b[0m       \u001b[0mname\u001b[0m\u001b[0;34m=\u001b[0m\u001b[0mname\u001b[0m\u001b[0;34m,\u001b[0m\u001b[0;34m\u001b[0m\u001b[0;34m\u001b[0m\u001b[0m\n",
      "\u001b[0;32m~/.local/lib/python3.8/site-packages/tensorflow/python/util/traceback_utils.py\u001b[0m in \u001b[0;36merror_handler\u001b[0;34m(*args, **kwargs)\u001b[0m\n\u001b[1;32m    148\u001b[0m     \u001b[0mfiltered_tb\u001b[0m \u001b[0;34m=\u001b[0m \u001b[0;32mNone\u001b[0m\u001b[0;34m\u001b[0m\u001b[0;34m\u001b[0m\u001b[0m\n\u001b[1;32m    149\u001b[0m     \u001b[0;32mtry\u001b[0m\u001b[0;34m:\u001b[0m\u001b[0;34m\u001b[0m\u001b[0;34m\u001b[0m\u001b[0m\n\u001b[0;32m--> 150\u001b[0;31m       \u001b[0;32mreturn\u001b[0m \u001b[0mfn\u001b[0m\u001b[0;34m(\u001b[0m\u001b[0;34m*\u001b[0m\u001b[0margs\u001b[0m\u001b[0;34m,\u001b[0m \u001b[0;34m**\u001b[0m\u001b[0mkwargs\u001b[0m\u001b[0;34m)\u001b[0m\u001b[0;34m\u001b[0m\u001b[0;34m\u001b[0m\u001b[0m\n\u001b[0m\u001b[1;32m    151\u001b[0m     \u001b[0;32mexcept\u001b[0m \u001b[0mException\u001b[0m \u001b[0;32mas\u001b[0m \u001b[0me\u001b[0m\u001b[0;34m:\u001b[0m\u001b[0;34m\u001b[0m\u001b[0;34m\u001b[0m\u001b[0m\n\u001b[1;32m    152\u001b[0m       \u001b[0mfiltered_tb\u001b[0m \u001b[0;34m=\u001b[0m \u001b[0m_process_traceback_frames\u001b[0m\u001b[0;34m(\u001b[0m\u001b[0me\u001b[0m\u001b[0;34m.\u001b[0m\u001b[0m__traceback__\u001b[0m\u001b[0;34m)\u001b[0m\u001b[0;34m\u001b[0m\u001b[0;34m\u001b[0m\u001b[0m\n",
      "\u001b[0;32m~/.local/lib/python3.8/site-packages/tensorflow/python/ops/variables.py\u001b[0m in \u001b[0;36m__call__\u001b[0;34m(cls, *args, **kwargs)\u001b[0m\n\u001b[1;32m    266\u001b[0m   \u001b[0;32mdef\u001b[0m \u001b[0m__call__\u001b[0m\u001b[0;34m(\u001b[0m\u001b[0mcls\u001b[0m\u001b[0;34m,\u001b[0m \u001b[0;34m*\u001b[0m\u001b[0margs\u001b[0m\u001b[0;34m,\u001b[0m \u001b[0;34m**\u001b[0m\u001b[0mkwargs\u001b[0m\u001b[0;34m)\u001b[0m\u001b[0;34m:\u001b[0m\u001b[0;34m\u001b[0m\u001b[0;34m\u001b[0m\u001b[0m\n\u001b[1;32m    267\u001b[0m     \u001b[0;32mif\u001b[0m \u001b[0mcls\u001b[0m \u001b[0;32mis\u001b[0m \u001b[0mVariableV1\u001b[0m\u001b[0;34m:\u001b[0m\u001b[0;34m\u001b[0m\u001b[0;34m\u001b[0m\u001b[0m\n\u001b[0;32m--> 268\u001b[0;31m       \u001b[0;32mreturn\u001b[0m \u001b[0mcls\u001b[0m\u001b[0;34m.\u001b[0m\u001b[0m_variable_v1_call\u001b[0m\u001b[0;34m(\u001b[0m\u001b[0;34m*\u001b[0m\u001b[0margs\u001b[0m\u001b[0;34m,\u001b[0m \u001b[0;34m**\u001b[0m\u001b[0mkwargs\u001b[0m\u001b[0;34m)\u001b[0m\u001b[0;34m\u001b[0m\u001b[0;34m\u001b[0m\u001b[0m\n\u001b[0m\u001b[1;32m    269\u001b[0m     \u001b[0;32melif\u001b[0m \u001b[0mcls\u001b[0m \u001b[0;32mis\u001b[0m \u001b[0mVariable\u001b[0m\u001b[0;34m:\u001b[0m\u001b[0;34m\u001b[0m\u001b[0;34m\u001b[0m\u001b[0m\n\u001b[1;32m    270\u001b[0m       \u001b[0;32mreturn\u001b[0m \u001b[0mcls\u001b[0m\u001b[0;34m.\u001b[0m\u001b[0m_variable_v2_call\u001b[0m\u001b[0;34m(\u001b[0m\u001b[0;34m*\u001b[0m\u001b[0margs\u001b[0m\u001b[0;34m,\u001b[0m \u001b[0;34m**\u001b[0m\u001b[0mkwargs\u001b[0m\u001b[0;34m)\u001b[0m\u001b[0;34m\u001b[0m\u001b[0;34m\u001b[0m\u001b[0m\n",
      "\u001b[0;32m~/.local/lib/python3.8/site-packages/tensorflow/python/ops/variables.py\u001b[0m in \u001b[0;36m_variable_v1_call\u001b[0;34m(cls, initial_value, trainable, collections, validate_shape, caching_device, name, variable_def, dtype, expected_shape, import_scope, constraint, use_resource, synchronization, aggregation, shape)\u001b[0m\n\u001b[1;32m    211\u001b[0m     \u001b[0;32mif\u001b[0m \u001b[0maggregation\u001b[0m \u001b[0;32mis\u001b[0m \u001b[0;32mNone\u001b[0m\u001b[0;34m:\u001b[0m\u001b[0;34m\u001b[0m\u001b[0;34m\u001b[0m\u001b[0m\n\u001b[1;32m    212\u001b[0m       \u001b[0maggregation\u001b[0m \u001b[0;34m=\u001b[0m \u001b[0mVariableAggregation\u001b[0m\u001b[0;34m.\u001b[0m\u001b[0mNONE\u001b[0m\u001b[0;34m\u001b[0m\u001b[0;34m\u001b[0m\u001b[0m\n\u001b[0;32m--> 213\u001b[0;31m     return previous_getter(\n\u001b[0m\u001b[1;32m    214\u001b[0m         \u001b[0minitial_value\u001b[0m\u001b[0;34m=\u001b[0m\u001b[0minitial_value\u001b[0m\u001b[0;34m,\u001b[0m\u001b[0;34m\u001b[0m\u001b[0;34m\u001b[0m\u001b[0m\n\u001b[1;32m    215\u001b[0m         \u001b[0mtrainable\u001b[0m\u001b[0;34m=\u001b[0m\u001b[0mtrainable\u001b[0m\u001b[0;34m,\u001b[0m\u001b[0;34m\u001b[0m\u001b[0;34m\u001b[0m\u001b[0m\n",
      "\u001b[0;32m~/.local/lib/python3.8/site-packages/tensorflow/python/ops/variables.py\u001b[0m in \u001b[0;36m<lambda>\u001b[0;34m(**kwargs)\u001b[0m\n\u001b[1;32m    204\u001b[0m                         shape=None):\n\u001b[1;32m    205\u001b[0m     \u001b[0;34m\"\"\"Call on Variable class. Useful to force the signature.\"\"\"\u001b[0m\u001b[0;34m\u001b[0m\u001b[0;34m\u001b[0m\u001b[0m\n\u001b[0;32m--> 206\u001b[0;31m     \u001b[0mprevious_getter\u001b[0m \u001b[0;34m=\u001b[0m \u001b[0;32mlambda\u001b[0m \u001b[0;34m**\u001b[0m\u001b[0mkwargs\u001b[0m\u001b[0;34m:\u001b[0m \u001b[0mdefault_variable_creator\u001b[0m\u001b[0;34m(\u001b[0m\u001b[0;32mNone\u001b[0m\u001b[0;34m,\u001b[0m \u001b[0;34m**\u001b[0m\u001b[0mkwargs\u001b[0m\u001b[0;34m)\u001b[0m\u001b[0;34m\u001b[0m\u001b[0;34m\u001b[0m\u001b[0m\n\u001b[0m\u001b[1;32m    207\u001b[0m     \u001b[0;32mfor\u001b[0m \u001b[0m_\u001b[0m\u001b[0;34m,\u001b[0m \u001b[0mgetter\u001b[0m \u001b[0;32min\u001b[0m \u001b[0mops\u001b[0m\u001b[0;34m.\u001b[0m\u001b[0mget_default_graph\u001b[0m\u001b[0;34m(\u001b[0m\u001b[0;34m)\u001b[0m\u001b[0;34m.\u001b[0m\u001b[0m_variable_creator_stack\u001b[0m\u001b[0;34m:\u001b[0m  \u001b[0;31m# pylint: disable=protected-access\u001b[0m\u001b[0;34m\u001b[0m\u001b[0;34m\u001b[0m\u001b[0m\n\u001b[1;32m    208\u001b[0m       \u001b[0mprevious_getter\u001b[0m \u001b[0;34m=\u001b[0m \u001b[0m_make_getter\u001b[0m\u001b[0;34m(\u001b[0m\u001b[0mgetter\u001b[0m\u001b[0;34m,\u001b[0m \u001b[0mprevious_getter\u001b[0m\u001b[0;34m)\u001b[0m\u001b[0;34m\u001b[0m\u001b[0;34m\u001b[0m\u001b[0m\n",
      "\u001b[0;32m~/.local/lib/python3.8/site-packages/tensorflow/python/ops/variable_scope.py\u001b[0m in \u001b[0;36mdefault_variable_creator\u001b[0;34m(next_creator, **kwargs)\u001b[0m\n\u001b[1;32m   2610\u001b[0m   \u001b[0;32mif\u001b[0m \u001b[0muse_resource\u001b[0m\u001b[0;34m:\u001b[0m\u001b[0;34m\u001b[0m\u001b[0;34m\u001b[0m\u001b[0m\n\u001b[1;32m   2611\u001b[0m     \u001b[0mdistribute_strategy\u001b[0m \u001b[0;34m=\u001b[0m \u001b[0mkwargs\u001b[0m\u001b[0;34m.\u001b[0m\u001b[0mget\u001b[0m\u001b[0;34m(\u001b[0m\u001b[0;34m\"distribute_strategy\"\u001b[0m\u001b[0;34m,\u001b[0m \u001b[0;32mNone\u001b[0m\u001b[0;34m)\u001b[0m\u001b[0;34m\u001b[0m\u001b[0;34m\u001b[0m\u001b[0m\n\u001b[0;32m-> 2612\u001b[0;31m     return resource_variable_ops.ResourceVariable(\n\u001b[0m\u001b[1;32m   2613\u001b[0m         \u001b[0minitial_value\u001b[0m\u001b[0;34m=\u001b[0m\u001b[0minitial_value\u001b[0m\u001b[0;34m,\u001b[0m\u001b[0;34m\u001b[0m\u001b[0;34m\u001b[0m\u001b[0m\n\u001b[1;32m   2614\u001b[0m         \u001b[0mtrainable\u001b[0m\u001b[0;34m=\u001b[0m\u001b[0mtrainable\u001b[0m\u001b[0;34m,\u001b[0m\u001b[0;34m\u001b[0m\u001b[0;34m\u001b[0m\u001b[0m\n",
      "\u001b[0;32m~/.local/lib/python3.8/site-packages/tensorflow/python/util/traceback_utils.py\u001b[0m in \u001b[0;36merror_handler\u001b[0;34m(*args, **kwargs)\u001b[0m\n\u001b[1;32m    148\u001b[0m     \u001b[0mfiltered_tb\u001b[0m \u001b[0;34m=\u001b[0m \u001b[0;32mNone\u001b[0m\u001b[0;34m\u001b[0m\u001b[0;34m\u001b[0m\u001b[0m\n\u001b[1;32m    149\u001b[0m     \u001b[0;32mtry\u001b[0m\u001b[0;34m:\u001b[0m\u001b[0;34m\u001b[0m\u001b[0;34m\u001b[0m\u001b[0m\n\u001b[0;32m--> 150\u001b[0;31m       \u001b[0;32mreturn\u001b[0m \u001b[0mfn\u001b[0m\u001b[0;34m(\u001b[0m\u001b[0;34m*\u001b[0m\u001b[0margs\u001b[0m\u001b[0;34m,\u001b[0m \u001b[0;34m**\u001b[0m\u001b[0mkwargs\u001b[0m\u001b[0;34m)\u001b[0m\u001b[0;34m\u001b[0m\u001b[0;34m\u001b[0m\u001b[0m\n\u001b[0m\u001b[1;32m    151\u001b[0m     \u001b[0;32mexcept\u001b[0m \u001b[0mException\u001b[0m \u001b[0;32mas\u001b[0m \u001b[0me\u001b[0m\u001b[0;34m:\u001b[0m\u001b[0;34m\u001b[0m\u001b[0;34m\u001b[0m\u001b[0m\n\u001b[1;32m    152\u001b[0m       \u001b[0mfiltered_tb\u001b[0m \u001b[0;34m=\u001b[0m \u001b[0m_process_traceback_frames\u001b[0m\u001b[0;34m(\u001b[0m\u001b[0me\u001b[0m\u001b[0;34m.\u001b[0m\u001b[0m__traceback__\u001b[0m\u001b[0;34m)\u001b[0m\u001b[0;34m\u001b[0m\u001b[0;34m\u001b[0m\u001b[0m\n",
      "\u001b[0;32m~/.local/lib/python3.8/site-packages/tensorflow/python/ops/variables.py\u001b[0m in \u001b[0;36m__call__\u001b[0;34m(cls, *args, **kwargs)\u001b[0m\n\u001b[1;32m    270\u001b[0m       \u001b[0;32mreturn\u001b[0m \u001b[0mcls\u001b[0m\u001b[0;34m.\u001b[0m\u001b[0m_variable_v2_call\u001b[0m\u001b[0;34m(\u001b[0m\u001b[0;34m*\u001b[0m\u001b[0margs\u001b[0m\u001b[0;34m,\u001b[0m \u001b[0;34m**\u001b[0m\u001b[0mkwargs\u001b[0m\u001b[0;34m)\u001b[0m\u001b[0;34m\u001b[0m\u001b[0;34m\u001b[0m\u001b[0m\n\u001b[1;32m    271\u001b[0m     \u001b[0;32melse\u001b[0m\u001b[0;34m:\u001b[0m\u001b[0;34m\u001b[0m\u001b[0;34m\u001b[0m\u001b[0m\n\u001b[0;32m--> 272\u001b[0;31m       \u001b[0;32mreturn\u001b[0m \u001b[0msuper\u001b[0m\u001b[0;34m(\u001b[0m\u001b[0mVariableMetaclass\u001b[0m\u001b[0;34m,\u001b[0m \u001b[0mcls\u001b[0m\u001b[0;34m)\u001b[0m\u001b[0;34m.\u001b[0m\u001b[0m__call__\u001b[0m\u001b[0;34m(\u001b[0m\u001b[0;34m*\u001b[0m\u001b[0margs\u001b[0m\u001b[0;34m,\u001b[0m \u001b[0;34m**\u001b[0m\u001b[0mkwargs\u001b[0m\u001b[0;34m)\u001b[0m\u001b[0;34m\u001b[0m\u001b[0;34m\u001b[0m\u001b[0m\n\u001b[0m\u001b[1;32m    273\u001b[0m \u001b[0;34m\u001b[0m\u001b[0m\n\u001b[1;32m    274\u001b[0m \u001b[0;34m\u001b[0m\u001b[0m\n",
      "\u001b[0;32m~/.local/lib/python3.8/site-packages/tensorflow/python/ops/resource_variable_ops.py\u001b[0m in \u001b[0;36m__init__\u001b[0;34m(self, initial_value, trainable, collections, validate_shape, caching_device, name, dtype, variable_def, import_scope, constraint, distribute_strategy, synchronization, aggregation, shape)\u001b[0m\n\u001b[1;32m   1628\u001b[0m       \u001b[0mself\u001b[0m\u001b[0;34m.\u001b[0m\u001b[0m_init_from_proto\u001b[0m\u001b[0;34m(\u001b[0m\u001b[0mvariable_def\u001b[0m\u001b[0;34m,\u001b[0m \u001b[0mimport_scope\u001b[0m\u001b[0;34m=\u001b[0m\u001b[0mimport_scope\u001b[0m\u001b[0;34m)\u001b[0m\u001b[0;34m\u001b[0m\u001b[0;34m\u001b[0m\u001b[0m\n\u001b[1;32m   1629\u001b[0m     \u001b[0;32melse\u001b[0m\u001b[0;34m:\u001b[0m\u001b[0;34m\u001b[0m\u001b[0;34m\u001b[0m\u001b[0m\n\u001b[0;32m-> 1630\u001b[0;31m       self._init_from_args(\n\u001b[0m\u001b[1;32m   1631\u001b[0m           \u001b[0minitial_value\u001b[0m\u001b[0;34m=\u001b[0m\u001b[0minitial_value\u001b[0m\u001b[0;34m,\u001b[0m\u001b[0;34m\u001b[0m\u001b[0;34m\u001b[0m\u001b[0m\n\u001b[1;32m   1632\u001b[0m           \u001b[0mtrainable\u001b[0m\u001b[0;34m=\u001b[0m\u001b[0mtrainable\u001b[0m\u001b[0;34m,\u001b[0m\u001b[0;34m\u001b[0m\u001b[0;34m\u001b[0m\u001b[0m\n",
      "\u001b[0;32m~/.local/lib/python3.8/site-packages/tensorflow/python/ops/resource_variable_ops.py\u001b[0m in \u001b[0;36m_init_from_args\u001b[0;34m(self, initial_value, trainable, collections, caching_device, name, dtype, constraint, synchronization, aggregation, distribute_strategy, shape)\u001b[0m\n\u001b[1;32m   1774\u001b[0m           \u001b[0;32mwith\u001b[0m \u001b[0mops\u001b[0m\u001b[0;34m.\u001b[0m\u001b[0mname_scope\u001b[0m\u001b[0;34m(\u001b[0m\u001b[0;34m\"Initializer\"\u001b[0m\u001b[0;34m)\u001b[0m\u001b[0;34m,\u001b[0m \u001b[0mdevice_context_manager\u001b[0m\u001b[0;34m(\u001b[0m\u001b[0;32mNone\u001b[0m\u001b[0;34m)\u001b[0m\u001b[0;34m:\u001b[0m\u001b[0;34m\u001b[0m\u001b[0;34m\u001b[0m\u001b[0m\n\u001b[1;32m   1775\u001b[0m             \u001b[0;32mif\u001b[0m \u001b[0minit_from_fn\u001b[0m\u001b[0;34m:\u001b[0m\u001b[0;34m\u001b[0m\u001b[0;34m\u001b[0m\u001b[0m\n\u001b[0;32m-> 1776\u001b[0;31m               \u001b[0minitial_value\u001b[0m \u001b[0;34m=\u001b[0m \u001b[0minitial_value\u001b[0m\u001b[0;34m(\u001b[0m\u001b[0;34m)\u001b[0m\u001b[0;34m\u001b[0m\u001b[0;34m\u001b[0m\u001b[0m\n\u001b[0m\u001b[1;32m   1777\u001b[0m             \u001b[0;32mif\u001b[0m \u001b[0misinstance\u001b[0m\u001b[0;34m(\u001b[0m\u001b[0minitial_value\u001b[0m\u001b[0;34m,\u001b[0m \u001b[0mtrackable\u001b[0m\u001b[0;34m.\u001b[0m\u001b[0mCheckpointInitialValue\u001b[0m\u001b[0;34m)\u001b[0m\u001b[0;34m:\u001b[0m\u001b[0;34m\u001b[0m\u001b[0;34m\u001b[0m\u001b[0m\n\u001b[1;32m   1778\u001b[0m               \u001b[0mself\u001b[0m\u001b[0;34m.\u001b[0m\u001b[0m_maybe_initialize_trackable\u001b[0m\u001b[0;34m(\u001b[0m\u001b[0;34m)\u001b[0m\u001b[0;34m\u001b[0m\u001b[0;34m\u001b[0m\u001b[0m\n",
      "\u001b[0;32m~/.local/lib/python3.8/site-packages/keras/initializers/initializers_v2.py\u001b[0m in \u001b[0;36m__call__\u001b[0;34m(self, shape, dtype, **kwargs)\u001b[0m\n\u001b[1;32m    532\u001b[0m     \u001b[0;32melse\u001b[0m\u001b[0;34m:\u001b[0m\u001b[0;34m\u001b[0m\u001b[0;34m\u001b[0m\u001b[0m\n\u001b[1;32m    533\u001b[0m       \u001b[0mlimit\u001b[0m \u001b[0;34m=\u001b[0m \u001b[0mmath\u001b[0m\u001b[0;34m.\u001b[0m\u001b[0msqrt\u001b[0m\u001b[0;34m(\u001b[0m\u001b[0;36m3.0\u001b[0m \u001b[0;34m*\u001b[0m \u001b[0mscale\u001b[0m\u001b[0;34m)\u001b[0m\u001b[0;34m\u001b[0m\u001b[0;34m\u001b[0m\u001b[0m\n\u001b[0;32m--> 534\u001b[0;31m       \u001b[0;32mreturn\u001b[0m \u001b[0mself\u001b[0m\u001b[0;34m.\u001b[0m\u001b[0m_random_generator\u001b[0m\u001b[0;34m.\u001b[0m\u001b[0mrandom_uniform\u001b[0m\u001b[0;34m(\u001b[0m\u001b[0mshape\u001b[0m\u001b[0;34m,\u001b[0m \u001b[0;34m-\u001b[0m\u001b[0mlimit\u001b[0m\u001b[0;34m,\u001b[0m \u001b[0mlimit\u001b[0m\u001b[0;34m,\u001b[0m \u001b[0mdtype\u001b[0m\u001b[0;34m)\u001b[0m\u001b[0;34m\u001b[0m\u001b[0;34m\u001b[0m\u001b[0m\n\u001b[0m\u001b[1;32m    535\u001b[0m \u001b[0;34m\u001b[0m\u001b[0m\n\u001b[1;32m    536\u001b[0m   \u001b[0;32mdef\u001b[0m \u001b[0mget_config\u001b[0m\u001b[0;34m(\u001b[0m\u001b[0mself\u001b[0m\u001b[0;34m)\u001b[0m\u001b[0;34m:\u001b[0m\u001b[0;34m\u001b[0m\u001b[0;34m\u001b[0m\u001b[0m\n",
      "\u001b[0;32m~/.local/lib/python3.8/site-packages/keras/backend.py\u001b[0m in \u001b[0;36mrandom_uniform\u001b[0;34m(self, shape, minval, maxval, dtype)\u001b[0m\n\u001b[1;32m   1829\u001b[0m       return self._generator.uniform(\n\u001b[1;32m   1830\u001b[0m           shape=shape, minval=minval, maxval=maxval, dtype=dtype)\n\u001b[0;32m-> 1831\u001b[0;31m     return tf.random.uniform(\n\u001b[0m\u001b[1;32m   1832\u001b[0m         \u001b[0mshape\u001b[0m\u001b[0;34m=\u001b[0m\u001b[0mshape\u001b[0m\u001b[0;34m,\u001b[0m \u001b[0mminval\u001b[0m\u001b[0;34m=\u001b[0m\u001b[0mminval\u001b[0m\u001b[0;34m,\u001b[0m \u001b[0mmaxval\u001b[0m\u001b[0;34m=\u001b[0m\u001b[0mmaxval\u001b[0m\u001b[0;34m,\u001b[0m \u001b[0mdtype\u001b[0m\u001b[0;34m=\u001b[0m\u001b[0mdtype\u001b[0m\u001b[0;34m,\u001b[0m\u001b[0;34m\u001b[0m\u001b[0;34m\u001b[0m\u001b[0m\n\u001b[1;32m   1833\u001b[0m         seed=self.make_legacy_seed())\n",
      "\u001b[0;32m~/.local/lib/python3.8/site-packages/tensorflow/python/util/traceback_utils.py\u001b[0m in \u001b[0;36merror_handler\u001b[0;34m(*args, **kwargs)\u001b[0m\n\u001b[1;32m    148\u001b[0m     \u001b[0mfiltered_tb\u001b[0m \u001b[0;34m=\u001b[0m \u001b[0;32mNone\u001b[0m\u001b[0;34m\u001b[0m\u001b[0;34m\u001b[0m\u001b[0m\n\u001b[1;32m    149\u001b[0m     \u001b[0;32mtry\u001b[0m\u001b[0;34m:\u001b[0m\u001b[0;34m\u001b[0m\u001b[0;34m\u001b[0m\u001b[0m\n\u001b[0;32m--> 150\u001b[0;31m       \u001b[0;32mreturn\u001b[0m \u001b[0mfn\u001b[0m\u001b[0;34m(\u001b[0m\u001b[0;34m*\u001b[0m\u001b[0margs\u001b[0m\u001b[0;34m,\u001b[0m \u001b[0;34m**\u001b[0m\u001b[0mkwargs\u001b[0m\u001b[0;34m)\u001b[0m\u001b[0;34m\u001b[0m\u001b[0;34m\u001b[0m\u001b[0m\n\u001b[0m\u001b[1;32m    151\u001b[0m     \u001b[0;32mexcept\u001b[0m \u001b[0mException\u001b[0m \u001b[0;32mas\u001b[0m \u001b[0me\u001b[0m\u001b[0;34m:\u001b[0m\u001b[0;34m\u001b[0m\u001b[0;34m\u001b[0m\u001b[0m\n\u001b[1;32m    152\u001b[0m       \u001b[0mfiltered_tb\u001b[0m \u001b[0;34m=\u001b[0m \u001b[0m_process_traceback_frames\u001b[0m\u001b[0;34m(\u001b[0m\u001b[0me\u001b[0m\u001b[0;34m.\u001b[0m\u001b[0m__traceback__\u001b[0m\u001b[0;34m)\u001b[0m\u001b[0;34m\u001b[0m\u001b[0;34m\u001b[0m\u001b[0m\n",
      "\u001b[0;32m~/.local/lib/python3.8/site-packages/tensorflow/python/util/dispatch.py\u001b[0m in \u001b[0;36mop_dispatch_handler\u001b[0;34m(*args, **kwargs)\u001b[0m\n\u001b[1;32m   1094\u001b[0m       \u001b[0;31m# Fallback dispatch system (dispatch v1):\u001b[0m\u001b[0;34m\u001b[0m\u001b[0;34m\u001b[0m\u001b[0;34m\u001b[0m\u001b[0m\n\u001b[1;32m   1095\u001b[0m       \u001b[0;32mtry\u001b[0m\u001b[0;34m:\u001b[0m\u001b[0;34m\u001b[0m\u001b[0;34m\u001b[0m\u001b[0m\n\u001b[0;32m-> 1096\u001b[0;31m         \u001b[0;32mreturn\u001b[0m \u001b[0mdispatch_target\u001b[0m\u001b[0;34m(\u001b[0m\u001b[0;34m*\u001b[0m\u001b[0margs\u001b[0m\u001b[0;34m,\u001b[0m \u001b[0;34m**\u001b[0m\u001b[0mkwargs\u001b[0m\u001b[0;34m)\u001b[0m\u001b[0;34m\u001b[0m\u001b[0;34m\u001b[0m\u001b[0m\n\u001b[0m\u001b[1;32m   1097\u001b[0m       \u001b[0;32mexcept\u001b[0m \u001b[0;34m(\u001b[0m\u001b[0mTypeError\u001b[0m\u001b[0;34m,\u001b[0m \u001b[0mValueError\u001b[0m\u001b[0;34m)\u001b[0m\u001b[0;34m:\u001b[0m\u001b[0;34m\u001b[0m\u001b[0;34m\u001b[0m\u001b[0m\n\u001b[1;32m   1098\u001b[0m         \u001b[0;31m# Note: convert_to_eager_tensor currently raises a ValueError, not a\u001b[0m\u001b[0;34m\u001b[0m\u001b[0;34m\u001b[0m\u001b[0;34m\u001b[0m\u001b[0m\n",
      "\u001b[0;32m~/.local/lib/python3.8/site-packages/tensorflow/python/ops/random_ops.py\u001b[0m in \u001b[0;36mrandom_uniform\u001b[0;34m(shape, minval, maxval, dtype, seed, name)\u001b[0m\n\u001b[1;32m    296\u001b[0m     \u001b[0mmaxval\u001b[0m \u001b[0;34m=\u001b[0m \u001b[0;36m1\u001b[0m\u001b[0;34m\u001b[0m\u001b[0;34m\u001b[0m\u001b[0m\n\u001b[1;32m    297\u001b[0m   \u001b[0;32mwith\u001b[0m \u001b[0mops\u001b[0m\u001b[0;34m.\u001b[0m\u001b[0mname_scope\u001b[0m\u001b[0;34m(\u001b[0m\u001b[0mname\u001b[0m\u001b[0;34m,\u001b[0m \u001b[0;34m\"random_uniform\"\u001b[0m\u001b[0;34m,\u001b[0m \u001b[0;34m[\u001b[0m\u001b[0mshape\u001b[0m\u001b[0;34m,\u001b[0m \u001b[0mminval\u001b[0m\u001b[0;34m,\u001b[0m \u001b[0mmaxval\u001b[0m\u001b[0;34m]\u001b[0m\u001b[0;34m)\u001b[0m \u001b[0;32mas\u001b[0m \u001b[0mname\u001b[0m\u001b[0;34m:\u001b[0m\u001b[0;34m\u001b[0m\u001b[0;34m\u001b[0m\u001b[0m\n\u001b[0;32m--> 298\u001b[0;31m     \u001b[0mshape\u001b[0m \u001b[0;34m=\u001b[0m \u001b[0mtensor_util\u001b[0m\u001b[0;34m.\u001b[0m\u001b[0mshape_tensor\u001b[0m\u001b[0;34m(\u001b[0m\u001b[0mshape\u001b[0m\u001b[0;34m)\u001b[0m\u001b[0;34m\u001b[0m\u001b[0;34m\u001b[0m\u001b[0m\n\u001b[0m\u001b[1;32m    299\u001b[0m     \u001b[0;31m# In case of [0,1) floating results, minval and maxval is unused. We do an\u001b[0m\u001b[0;34m\u001b[0m\u001b[0;34m\u001b[0m\u001b[0;34m\u001b[0m\u001b[0m\n\u001b[1;32m    300\u001b[0m     \u001b[0;31m# `is` comparison here since this is cheaper than isinstance or  __eq__.\u001b[0m\u001b[0;34m\u001b[0m\u001b[0;34m\u001b[0m\u001b[0;34m\u001b[0m\u001b[0m\n",
      "\u001b[0;32m~/.local/lib/python3.8/site-packages/tensorflow/python/framework/tensor_util.py\u001b[0m in \u001b[0;36mshape_tensor\u001b[0;34m(shape)\u001b[0m\n\u001b[1;32m   1081\u001b[0m       \u001b[0;31m# not convertible to Tensors because of mixed content.\u001b[0m\u001b[0;34m\u001b[0m\u001b[0;34m\u001b[0m\u001b[0;34m\u001b[0m\u001b[0m\n\u001b[1;32m   1082\u001b[0m       \u001b[0mshape\u001b[0m \u001b[0;34m=\u001b[0m \u001b[0mtuple\u001b[0m\u001b[0;34m(\u001b[0m\u001b[0mmap\u001b[0m\u001b[0;34m(\u001b[0m\u001b[0mtensor_shape\u001b[0m\u001b[0;34m.\u001b[0m\u001b[0mdimension_value\u001b[0m\u001b[0;34m,\u001b[0m \u001b[0mshape\u001b[0m\u001b[0;34m)\u001b[0m\u001b[0;34m)\u001b[0m\u001b[0;34m\u001b[0m\u001b[0;34m\u001b[0m\u001b[0m\n\u001b[0;32m-> 1083\u001b[0;31m   \u001b[0;32mreturn\u001b[0m \u001b[0mops\u001b[0m\u001b[0;34m.\u001b[0m\u001b[0mconvert_to_tensor\u001b[0m\u001b[0;34m(\u001b[0m\u001b[0mshape\u001b[0m\u001b[0;34m,\u001b[0m \u001b[0mdtype\u001b[0m\u001b[0;34m=\u001b[0m\u001b[0mdtype\u001b[0m\u001b[0;34m,\u001b[0m \u001b[0mname\u001b[0m\u001b[0;34m=\u001b[0m\u001b[0;34m\"shape\"\u001b[0m\u001b[0;34m)\u001b[0m\u001b[0;34m\u001b[0m\u001b[0;34m\u001b[0m\u001b[0m\n\u001b[0m\u001b[1;32m   1084\u001b[0m \u001b[0;34m\u001b[0m\u001b[0m\n\u001b[1;32m   1085\u001b[0m \u001b[0;34m\u001b[0m\u001b[0m\n",
      "\u001b[0;32m~/.local/lib/python3.8/site-packages/tensorflow/python/profiler/trace.py\u001b[0m in \u001b[0;36mwrapped\u001b[0;34m(*args, **kwargs)\u001b[0m\n\u001b[1;32m    161\u001b[0m         \u001b[0;32mwith\u001b[0m \u001b[0mTrace\u001b[0m\u001b[0;34m(\u001b[0m\u001b[0mtrace_name\u001b[0m\u001b[0;34m,\u001b[0m \u001b[0;34m**\u001b[0m\u001b[0mtrace_kwargs\u001b[0m\u001b[0;34m)\u001b[0m\u001b[0;34m:\u001b[0m\u001b[0;34m\u001b[0m\u001b[0;34m\u001b[0m\u001b[0m\n\u001b[1;32m    162\u001b[0m           \u001b[0;32mreturn\u001b[0m \u001b[0mfunc\u001b[0m\u001b[0;34m(\u001b[0m\u001b[0;34m*\u001b[0m\u001b[0margs\u001b[0m\u001b[0;34m,\u001b[0m \u001b[0;34m**\u001b[0m\u001b[0mkwargs\u001b[0m\u001b[0;34m)\u001b[0m\u001b[0;34m\u001b[0m\u001b[0;34m\u001b[0m\u001b[0m\n\u001b[0;32m--> 163\u001b[0;31m       \u001b[0;32mreturn\u001b[0m \u001b[0mfunc\u001b[0m\u001b[0;34m(\u001b[0m\u001b[0;34m*\u001b[0m\u001b[0margs\u001b[0m\u001b[0;34m,\u001b[0m \u001b[0;34m**\u001b[0m\u001b[0mkwargs\u001b[0m\u001b[0;34m)\u001b[0m\u001b[0;34m\u001b[0m\u001b[0;34m\u001b[0m\u001b[0m\n\u001b[0m\u001b[1;32m    164\u001b[0m \u001b[0;34m\u001b[0m\u001b[0m\n\u001b[1;32m    165\u001b[0m     \u001b[0;32mreturn\u001b[0m \u001b[0mwrapped\u001b[0m\u001b[0;34m\u001b[0m\u001b[0;34m\u001b[0m\u001b[0m\n",
      "\u001b[0;32m~/.local/lib/python3.8/site-packages/tensorflow/python/framework/ops.py\u001b[0m in \u001b[0;36mconvert_to_tensor\u001b[0;34m(value, dtype, name, as_ref, preferred_dtype, dtype_hint, ctx, accepted_result_types)\u001b[0m\n\u001b[1;32m   1619\u001b[0m \u001b[0;34m\u001b[0m\u001b[0m\n\u001b[1;32m   1620\u001b[0m     \u001b[0;32mif\u001b[0m \u001b[0mret\u001b[0m \u001b[0;32mis\u001b[0m \u001b[0;32mNone\u001b[0m\u001b[0;34m:\u001b[0m\u001b[0;34m\u001b[0m\u001b[0;34m\u001b[0m\u001b[0m\n\u001b[0;32m-> 1621\u001b[0;31m       \u001b[0mret\u001b[0m \u001b[0;34m=\u001b[0m \u001b[0mconversion_func\u001b[0m\u001b[0;34m(\u001b[0m\u001b[0mvalue\u001b[0m\u001b[0;34m,\u001b[0m \u001b[0mdtype\u001b[0m\u001b[0;34m=\u001b[0m\u001b[0mdtype\u001b[0m\u001b[0;34m,\u001b[0m \u001b[0mname\u001b[0m\u001b[0;34m=\u001b[0m\u001b[0mname\u001b[0m\u001b[0;34m,\u001b[0m \u001b[0mas_ref\u001b[0m\u001b[0;34m=\u001b[0m\u001b[0mas_ref\u001b[0m\u001b[0;34m)\u001b[0m\u001b[0;34m\u001b[0m\u001b[0;34m\u001b[0m\u001b[0m\n\u001b[0m\u001b[1;32m   1622\u001b[0m \u001b[0;34m\u001b[0m\u001b[0m\n\u001b[1;32m   1623\u001b[0m     \u001b[0;32mif\u001b[0m \u001b[0mret\u001b[0m \u001b[0;32mis\u001b[0m \u001b[0mNotImplemented\u001b[0m\u001b[0;34m:\u001b[0m\u001b[0;34m\u001b[0m\u001b[0;34m\u001b[0m\u001b[0m\n",
      "\u001b[0;32m~/.local/lib/python3.8/site-packages/tensorflow/python/framework/constant_op.py\u001b[0m in \u001b[0;36m_constant_tensor_conversion_function\u001b[0;34m(v, dtype, name, as_ref)\u001b[0m\n\u001b[1;32m    345\u001b[0m                                          as_ref=False):\n\u001b[1;32m    346\u001b[0m   \u001b[0m_\u001b[0m \u001b[0;34m=\u001b[0m \u001b[0mas_ref\u001b[0m\u001b[0;34m\u001b[0m\u001b[0;34m\u001b[0m\u001b[0m\n\u001b[0;32m--> 347\u001b[0;31m   \u001b[0;32mreturn\u001b[0m \u001b[0mconstant\u001b[0m\u001b[0;34m(\u001b[0m\u001b[0mv\u001b[0m\u001b[0;34m,\u001b[0m \u001b[0mdtype\u001b[0m\u001b[0;34m=\u001b[0m\u001b[0mdtype\u001b[0m\u001b[0;34m,\u001b[0m \u001b[0mname\u001b[0m\u001b[0;34m=\u001b[0m\u001b[0mname\u001b[0m\u001b[0;34m)\u001b[0m\u001b[0;34m\u001b[0m\u001b[0;34m\u001b[0m\u001b[0m\n\u001b[0m\u001b[1;32m    348\u001b[0m \u001b[0;34m\u001b[0m\u001b[0m\n\u001b[1;32m    349\u001b[0m \u001b[0;34m\u001b[0m\u001b[0m\n",
      "\u001b[0;32m~/.local/lib/python3.8/site-packages/tensorflow/python/framework/constant_op.py\u001b[0m in \u001b[0;36mconstant\u001b[0;34m(value, dtype, shape, name)\u001b[0m\n\u001b[1;32m    269\u001b[0m     \u001b[0mValueError\u001b[0m\u001b[0;34m:\u001b[0m \u001b[0;32mif\u001b[0m \u001b[0mcalled\u001b[0m \u001b[0mon\u001b[0m \u001b[0ma\u001b[0m \u001b[0msymbolic\u001b[0m \u001b[0mtensor\u001b[0m\u001b[0;34m.\u001b[0m\u001b[0;34m\u001b[0m\u001b[0;34m\u001b[0m\u001b[0m\n\u001b[1;32m    270\u001b[0m   \"\"\"\n\u001b[0;32m--> 271\u001b[0;31m   return _constant_impl(value, dtype, shape, name, verify_shape=False,\n\u001b[0m\u001b[1;32m    272\u001b[0m                         allow_broadcast=True)\n\u001b[1;32m    273\u001b[0m \u001b[0;34m\u001b[0m\u001b[0m\n",
      "\u001b[0;32m~/.local/lib/python3.8/site-packages/tensorflow/python/framework/constant_op.py\u001b[0m in \u001b[0;36m_constant_impl\u001b[0;34m(value, dtype, shape, name, verify_shape, allow_broadcast)\u001b[0m\n\u001b[1;32m    281\u001b[0m       \u001b[0;32mwith\u001b[0m \u001b[0mtrace\u001b[0m\u001b[0;34m.\u001b[0m\u001b[0mTrace\u001b[0m\u001b[0;34m(\u001b[0m\u001b[0;34m\"tf.constant\"\u001b[0m\u001b[0;34m)\u001b[0m\u001b[0;34m:\u001b[0m\u001b[0;34m\u001b[0m\u001b[0;34m\u001b[0m\u001b[0m\n\u001b[1;32m    282\u001b[0m         \u001b[0;32mreturn\u001b[0m \u001b[0m_constant_eager_impl\u001b[0m\u001b[0;34m(\u001b[0m\u001b[0mctx\u001b[0m\u001b[0;34m,\u001b[0m \u001b[0mvalue\u001b[0m\u001b[0;34m,\u001b[0m \u001b[0mdtype\u001b[0m\u001b[0;34m,\u001b[0m \u001b[0mshape\u001b[0m\u001b[0;34m,\u001b[0m \u001b[0mverify_shape\u001b[0m\u001b[0;34m)\u001b[0m\u001b[0;34m\u001b[0m\u001b[0;34m\u001b[0m\u001b[0m\n\u001b[0;32m--> 283\u001b[0;31m     \u001b[0;32mreturn\u001b[0m \u001b[0m_constant_eager_impl\u001b[0m\u001b[0;34m(\u001b[0m\u001b[0mctx\u001b[0m\u001b[0;34m,\u001b[0m \u001b[0mvalue\u001b[0m\u001b[0;34m,\u001b[0m \u001b[0mdtype\u001b[0m\u001b[0;34m,\u001b[0m \u001b[0mshape\u001b[0m\u001b[0;34m,\u001b[0m \u001b[0mverify_shape\u001b[0m\u001b[0;34m)\u001b[0m\u001b[0;34m\u001b[0m\u001b[0;34m\u001b[0m\u001b[0m\n\u001b[0m\u001b[1;32m    284\u001b[0m \u001b[0;34m\u001b[0m\u001b[0m\n\u001b[1;32m    285\u001b[0m   \u001b[0mg\u001b[0m \u001b[0;34m=\u001b[0m \u001b[0mops\u001b[0m\u001b[0;34m.\u001b[0m\u001b[0mget_default_graph\u001b[0m\u001b[0;34m(\u001b[0m\u001b[0;34m)\u001b[0m\u001b[0;34m\u001b[0m\u001b[0;34m\u001b[0m\u001b[0m\n",
      "\u001b[0;32m~/.local/lib/python3.8/site-packages/tensorflow/python/framework/constant_op.py\u001b[0m in \u001b[0;36m_constant_eager_impl\u001b[0;34m(ctx, value, dtype, shape, verify_shape)\u001b[0m\n\u001b[1;32m    306\u001b[0m \u001b[0;32mdef\u001b[0m \u001b[0m_constant_eager_impl\u001b[0m\u001b[0;34m(\u001b[0m\u001b[0mctx\u001b[0m\u001b[0;34m,\u001b[0m \u001b[0mvalue\u001b[0m\u001b[0;34m,\u001b[0m \u001b[0mdtype\u001b[0m\u001b[0;34m,\u001b[0m \u001b[0mshape\u001b[0m\u001b[0;34m,\u001b[0m \u001b[0mverify_shape\u001b[0m\u001b[0;34m)\u001b[0m\u001b[0;34m:\u001b[0m\u001b[0;34m\u001b[0m\u001b[0;34m\u001b[0m\u001b[0m\n\u001b[1;32m    307\u001b[0m   \u001b[0;34m\"\"\"Creates a constant on the current device.\"\"\"\u001b[0m\u001b[0;34m\u001b[0m\u001b[0;34m\u001b[0m\u001b[0m\n\u001b[0;32m--> 308\u001b[0;31m   \u001b[0mt\u001b[0m \u001b[0;34m=\u001b[0m \u001b[0mconvert_to_eager_tensor\u001b[0m\u001b[0;34m(\u001b[0m\u001b[0mvalue\u001b[0m\u001b[0;34m,\u001b[0m \u001b[0mctx\u001b[0m\u001b[0;34m,\u001b[0m \u001b[0mdtype\u001b[0m\u001b[0;34m)\u001b[0m\u001b[0;34m\u001b[0m\u001b[0;34m\u001b[0m\u001b[0m\n\u001b[0m\u001b[1;32m    309\u001b[0m   \u001b[0;32mif\u001b[0m \u001b[0mshape\u001b[0m \u001b[0;32mis\u001b[0m \u001b[0;32mNone\u001b[0m\u001b[0;34m:\u001b[0m\u001b[0;34m\u001b[0m\u001b[0;34m\u001b[0m\u001b[0m\n\u001b[1;32m    310\u001b[0m     \u001b[0;32mreturn\u001b[0m \u001b[0mt\u001b[0m\u001b[0;34m\u001b[0m\u001b[0;34m\u001b[0m\u001b[0m\n",
      "\u001b[0;32m~/.local/lib/python3.8/site-packages/tensorflow/python/framework/constant_op.py\u001b[0m in \u001b[0;36mconvert_to_eager_tensor\u001b[0;34m(value, ctx, dtype)\u001b[0m\n\u001b[1;32m    103\u001b[0m     \u001b[0;32mexcept\u001b[0m \u001b[0mAttributeError\u001b[0m\u001b[0;34m:\u001b[0m\u001b[0;34m\u001b[0m\u001b[0;34m\u001b[0m\u001b[0m\n\u001b[1;32m    104\u001b[0m       \u001b[0mdtype\u001b[0m \u001b[0;34m=\u001b[0m \u001b[0mdtypes\u001b[0m\u001b[0;34m.\u001b[0m\u001b[0mas_dtype\u001b[0m\u001b[0;34m(\u001b[0m\u001b[0mdtype\u001b[0m\u001b[0;34m)\u001b[0m\u001b[0;34m.\u001b[0m\u001b[0mas_datatype_enum\u001b[0m\u001b[0;34m\u001b[0m\u001b[0;34m\u001b[0m\u001b[0m\n\u001b[0;32m--> 105\u001b[0;31m   \u001b[0mctx\u001b[0m\u001b[0;34m.\u001b[0m\u001b[0mensure_initialized\u001b[0m\u001b[0;34m(\u001b[0m\u001b[0;34m)\u001b[0m\u001b[0;34m\u001b[0m\u001b[0;34m\u001b[0m\u001b[0m\n\u001b[0m\u001b[1;32m    106\u001b[0m   \u001b[0;32mreturn\u001b[0m \u001b[0mops\u001b[0m\u001b[0;34m.\u001b[0m\u001b[0mEagerTensor\u001b[0m\u001b[0;34m(\u001b[0m\u001b[0mvalue\u001b[0m\u001b[0;34m,\u001b[0m \u001b[0mctx\u001b[0m\u001b[0;34m.\u001b[0m\u001b[0mdevice_name\u001b[0m\u001b[0;34m,\u001b[0m \u001b[0mdtype\u001b[0m\u001b[0;34m)\u001b[0m\u001b[0;34m\u001b[0m\u001b[0;34m\u001b[0m\u001b[0m\n\u001b[1;32m    107\u001b[0m \u001b[0;34m\u001b[0m\u001b[0m\n",
      "\u001b[0;32m~/.local/lib/python3.8/site-packages/tensorflow/python/eager/context.py\u001b[0m in \u001b[0;36mensure_initialized\u001b[0;34m(self)\u001b[0m\n\u001b[1;32m    569\u001b[0m         pywrap_tfe.TFE_ContextOptionsSetRunEagerOpAsFunction(\n\u001b[1;32m    570\u001b[0m             opts, self._run_eager_op_as_function)\n\u001b[0;32m--> 571\u001b[0;31m         \u001b[0mcontext_handle\u001b[0m \u001b[0;34m=\u001b[0m \u001b[0mpywrap_tfe\u001b[0m\u001b[0;34m.\u001b[0m\u001b[0mTFE_NewContext\u001b[0m\u001b[0;34m(\u001b[0m\u001b[0mopts\u001b[0m\u001b[0;34m)\u001b[0m\u001b[0;34m\u001b[0m\u001b[0;34m\u001b[0m\u001b[0m\n\u001b[0m\u001b[1;32m    572\u001b[0m       \u001b[0;32mfinally\u001b[0m\u001b[0;34m:\u001b[0m\u001b[0;34m\u001b[0m\u001b[0;34m\u001b[0m\u001b[0m\n\u001b[1;32m    573\u001b[0m         \u001b[0mpywrap_tfe\u001b[0m\u001b[0;34m.\u001b[0m\u001b[0mTFE_DeleteContextOptions\u001b[0m\u001b[0;34m(\u001b[0m\u001b[0mopts\u001b[0m\u001b[0;34m)\u001b[0m\u001b[0;34m\u001b[0m\u001b[0;34m\u001b[0m\u001b[0m\n",
      "\u001b[0;31mKeyboardInterrupt\u001b[0m: "
     ]
    }
   ],
   "source": [
    "'''\n",
    "Run the Model Experiments\n",
    "'''\n",
    "model = 'PCDNN_V2'\n",
    "assert model in ['PCDNN_V2', 'PCDNN_V1', 'SIMPLE_DNN', 'GP'] # valid possible models\n",
    "exprExec=run_model_experiments(dm, models=model, debug_mode=False)"
   ]
  },
  {
   "cell_type": "code",
   "execution_count": 3,
   "id": "14a22ddb",
   "metadata": {},
   "outputs": [
    {
     "name": "stdout",
     "output_type": "stream",
     "text": [
      "Parent DNNModelFactory Instantiated\n"
     ]
    }
   ],
   "source": [
    "\"\"\" prepare SimpleDNN for loading (from prior experiments) \"\"\"\n",
    "\n",
    "exprExec = DNNExperimentExecutor()\n",
    "exprExec.debug_mode = debug_mode\n",
    "\n",
    "exprExec.setModelFactory(SimpleDNNModelFactory())"
   ]
  },
  {
   "cell_type": "code",
   "execution_count": 4,
   "id": "e722fe4a",
   "metadata": {},
   "outputs": [
    {
     "name": "stdout",
     "output_type": "stream",
     "text": [
      "Parent DNNModelFactory Instantiated\n"
     ]
    }
   ],
   "source": [
    "\"\"\" prepare PCDNNV1 for loading (from prior experiments) \"\"\"\n",
    "\n",
    "exprExec = PCDNNV1ExperimentExecutor()\n",
    "exprExec.debug_mode = debug_mode\n",
    "\n",
    "exprExec.setModelFactory(PCDNNV1ModelFactory())"
   ]
  },
  {
   "cell_type": "code",
   "execution_count": 5,
   "id": "c52d1b5e",
   "metadata": {},
   "outputs": [
    {
     "name": "stdout",
     "output_type": "stream",
     "text": [
      "Parent DNNModelFactory Instantiated\n"
     ]
    },
    {
     "name": "stderr",
     "output_type": "stream",
     "text": [
      "/home/dwyerdei/rom_project2/src/experiment_executor/pcdnn_v2_experiment_executor.py:33: UserWarning: manually overriding n models to 1! change this!\n",
      "  warnings.warn('manually overriding n models to 1! change this!')\n"
     ]
    }
   ],
   "source": [
    "\"\"\" prepare PCDNNV2 for loading (from prior experiments) \"\"\"\n",
    "\n",
    "exprExec = PCDNNV2ExperimentExecutor()\n",
    "exprExec.debug_mode = debug_mode\n",
    "\n",
    "exprExec.setModelFactory(PCDNNV2ModelFactory())"
   ]
  },
  {
   "cell_type": "markdown",
   "id": "24223f4f",
   "metadata": {},
   "source": [
    "## Rapid Model Testing: \n",
    "### (requires setting up PCDNNV2 for loading)"
   ]
  },
  {
   "cell_type": "code",
   "execution_count": null,
   "id": "0f3161d1",
   "metadata": {
    "scrolled": true
   },
   "outputs": [
    {
     "name": "stdout",
     "output_type": "stream",
     "text": [
      "--------------------self.build_and_compile_pcdnn_v2_model----------------------\n",
      "53 4 Y Y Y\n",
      "Model: \"model_3\"\n",
      "__________________________________________________________________________________________________\n",
      " Layer (type)                   Output Shape         Param #     Connected to                     \n",
      "==================================================================================================\n",
      " species_input (InputLayer)     [(None, 53)]         0           []                               \n",
      "                                                                                                  \n",
      " zmix (InputLayer)              [(None, 1)]          0           []                               \n",
      "                                                                                                  \n",
      " linear_embedding (Functional)  (None, 4)            216         ['species_input[0][0]']          \n",
      "                                                                                                  \n",
      " concatenated_zmix_linear_embed  (None, 5)           0           ['zmix[0][0]',                   \n",
      " ding (Concatenate)                                               'linear_embedding[0][0]']       \n",
      "                                                                                                  \n",
      " prediction (Functional)        (None, 1)            349825      ['concatenated_zmix_linear_embedd\n",
      "                                                                 ing[0][0]']                      \n",
      "                                                                                                  \n",
      "==================================================================================================\n",
      "Total params: 350,041\n",
      "Trainable params: 350,041\n",
      "Non-trainable params: 0\n",
      "__________________________________________________________________________________________________\n",
      "Model: \"model_3\"\n",
      "__________________________________________________________________________________________________\n",
      " Layer (type)                   Output Shape         Param #     Connected to                     \n",
      "==================================================================================================\n",
      " species_input (InputLayer)     [(None, 53)]         0           []                               \n",
      "                                                                                                  \n",
      " zmix (InputLayer)              [(None, 1)]          0           []                               \n",
      "                                                                                                  \n",
      " linear_embedding (Functional)  (None, 4)            216         ['species_input[0][0]']          \n",
      "|¯¯¯¯¯¯¯¯¯¯¯¯¯¯¯¯¯¯¯¯¯¯¯¯¯¯¯¯¯¯¯¯¯¯¯¯¯¯¯¯¯¯¯¯¯¯¯¯¯¯¯¯¯¯¯¯¯¯¯¯¯¯¯¯¯¯¯¯¯¯¯¯¯¯¯¯¯¯¯¯¯¯¯¯¯¯¯¯¯¯¯¯¯¯¯¯|\n",
      "| species_input (InputLayer)   [(None, 53)]         0           []                               |\n",
      "|                                                                                                |\n",
      "| linear_embedding (Dense)     (None, 4)            216         []                               |\n",
      "¯¯¯¯¯¯¯¯¯¯¯¯¯¯¯¯¯¯¯¯¯¯¯¯¯¯¯¯¯¯¯¯¯¯¯¯¯¯¯¯¯¯¯¯¯¯¯¯¯¯¯¯¯¯¯¯¯¯¯¯¯¯¯¯¯¯¯¯¯¯¯¯¯¯¯¯¯¯¯¯¯¯¯¯¯¯¯¯¯¯¯¯¯¯¯¯¯¯\n",
      " concatenated_zmix_linear_embed  (None, 5)           0           ['zmix[0][0]',                   \n",
      " ding (Concatenate)                                               'linear_embedding[0][0]']       \n",
      "                                                                                                  \n",
      " prediction (Functional)        (None, 1)            349825      ['concatenated_zmix_linear_embedd\n",
      "                                                                 ing[0][0]']                      \n",
      "|¯¯¯¯¯¯¯¯¯¯¯¯¯¯¯¯¯¯¯¯¯¯¯¯¯¯¯¯¯¯¯¯¯¯¯¯¯¯¯¯¯¯¯¯¯¯¯¯¯¯¯¯¯¯¯¯¯¯¯¯¯¯¯¯¯¯¯¯¯¯¯¯¯¯¯¯¯¯¯¯¯¯¯¯¯¯¯¯¯¯¯¯¯¯¯¯|\n",
      "| input_1 (InputLayer)         [(None, 5)]          0           []                               |\n",
      "|                                                                                                |\n",
      "| dense_30 (Dense)             (None, 32)           192         []                               |\n",
      "|                                                                                                |\n",
      "| dense_31 (Dense)             (None, 64)           2112        []                               |\n",
      "|                                                                                                |\n",
      "| dense_32 (Dense)             (None, 128)          8320        []                               |\n",
      "|                                                                                                |\n",
      "| dense_33 (Dense)             (None, 256)          33024       []                               |\n",
      "|                                                                                                |\n",
      "| dense_34 (Dense)             (None, 512)          131584      []                               |\n",
      "|                                                                                                |\n",
      "| dense_35 (Dense)             (None, 256)          131328      []                               |\n",
      "|                                                                                                |\n",
      "| dense_36 (Dense)             (None, 128)          32896       []                               |\n",
      "|                                                                                                |\n",
      "| dense_37 (Dense)             (None, 64)           8256        []                               |\n",
      "|                                                                                                |\n",
      "| dense_38 (Dense)             (None, 32)           2080        []                               |\n",
      "|                                                                                                |\n",
      "| dense_39 (Dense)             (None, 1)            33          []                               |\n",
      "¯¯¯¯¯¯¯¯¯¯¯¯¯¯¯¯¯¯¯¯¯¯¯¯¯¯¯¯¯¯¯¯¯¯¯¯¯¯¯¯¯¯¯¯¯¯¯¯¯¯¯¯¯¯¯¯¯¯¯¯¯¯¯¯¯¯¯¯¯¯¯¯¯¯¯¯¯¯¯¯¯¯¯¯¯¯¯¯¯¯¯¯¯¯¯¯¯¯\n",
      "==================================================================================================\n",
      "Total params: 350,041\n",
      "Trainable params: 350,041\n",
      "Non-trainable params: 0\n",
      "__________________________________________________________________________________________________\n",
      "training model: 1\n",
      "Epoch 1/100\n",
      "257/257 [==============================] - 4s 14ms/step - loss: 0.0641 - mae: 0.0245 - mse: 0.0041 - exp_mse_mag: -2.4187 - exp_mae_mag: -1.5624 - exp_R2: 0.6823 - R2: 0.7239 - val_loss: 0.0180 - val_mae: 0.0128 - val_mse: 0.0010 - val_exp_mse_mag: -2.8990 - val_exp_mae_mag: -1.8170 - val_exp_R2: 0.9147 - val_R2: 0.9203\n",
      "Epoch 2/100\n",
      "257/257 [==============================] - 3s 14ms/step - loss: 0.0160 - mae: 0.0129 - mse: 8.7111e-04 - exp_mse_mag: -2.9695 - exp_mae_mag: -1.8208 - exp_R2: 0.9265 - R2: 0.9339 - val_loss: 0.0157 - val_mae: 0.0128 - val_mse: 0.0010 - val_exp_mse_mag: -2.8064 - val_exp_mae_mag: -1.7904 - val_exp_R2: 0.9005 - val_R2: 0.9267\n",
      "Epoch 3/100\n",
      "257/257 [==============================] - 3s 14ms/step - loss: 0.0127 - mae: 0.0101 - mse: 5.4063e-04 - exp_mse_mag: -3.1660 - exp_mae_mag: -1.9218 - exp_R2: 0.9475 - R2: 0.9562 - val_loss: 0.0159 - val_mae: 0.0135 - val_mse: 0.0013 - val_exp_mse_mag: -2.6876 - val_exp_mae_mag: -1.7579 - val_exp_R2: 0.8784 - val_R2: 0.9243\n",
      "Epoch 4/100\n",
      "257/257 [==============================] - 4s 14ms/step - loss: 0.0125 - mae: 0.0100 - mse: 5.7182e-04 - exp_mse_mag: -3.1576 - exp_mae_mag: -1.9219 - exp_R2: 0.9464 - R2: 0.9586 - val_loss: 0.0111 - val_mae: 0.0090 - val_mse: 6.3472e-04 - val_exp_mse_mag: -3.1149 - val_exp_mae_mag: -1.9621 - val_exp_R2: 0.9437 - val_R2: 0.9526\n",
      "Epoch 5/100\n",
      "257/257 [==============================] - 4s 14ms/step - loss: 0.0110 - mae: 0.0086 - mse: 4.3892e-04 - exp_mse_mag: -3.3123 - exp_mae_mag: -2.0013 - exp_R2: 0.9572 - R2: 0.9651 - val_loss: 0.0109 - val_mae: 0.0080 - val_mse: 3.9709e-04 - val_exp_mse_mag: -3.3805 - val_exp_mae_mag: -2.0282 - val_exp_R2: 0.9651 - val_R2: 0.9671\n",
      "Epoch 6/100\n",
      "257/257 [==============================] - 3s 14ms/step - loss: 0.0116 - mae: 0.0092 - mse: 4.6981e-04 - exp_mse_mag: -3.2557 - exp_mae_mag: -1.9651 - exp_R2: 0.9519 - R2: 0.9611 - val_loss: 0.0098 - val_mae: 0.0063 - val_mse: 3.5325e-04 - val_exp_mse_mag: -3.4638 - val_exp_mae_mag: -2.1204 - val_exp_R2: 0.9725 - val_R2: 0.9780\n"
     ]
    },
    {
     "name": "stdout",
     "output_type": "stream",
     "text": [
      "Epoch 7/100\n",
      "257/257 [==============================] - 3s 13ms/step - loss: 0.0103 - mae: 0.0082 - mse: 3.7735e-04 - exp_mse_mag: -3.3533 - exp_mae_mag: -2.0177 - exp_R2: 0.9627 - R2: 0.9693 - val_loss: 0.0085 - val_mae: 0.0067 - val_mse: 3.1996e-04 - val_exp_mse_mag: -3.5494 - val_exp_mae_mag: -2.1045 - val_exp_R2: 0.9751 - val_R2: 0.9772\n",
      "Epoch 8/100\n",
      "257/257 [==============================] - 3s 14ms/step - loss: 0.0091 - mae: 0.0065 - mse: 2.5519e-04 - exp_mse_mag: -3.5384 - exp_mae_mag: -2.1113 - exp_R2: 0.9781 - R2: 0.9816 - val_loss: 0.0088 - val_mae: 0.0052 - val_mse: 2.6649e-04 - val_exp_mse_mag: -3.6995 - val_exp_mae_mag: -2.2174 - val_exp_R2: 0.9811 - val_R2: 0.9834\n",
      "Epoch 9/100\n",
      "257/257 [==============================] - 3s 14ms/step - loss: 0.0091 - mae: 0.0067 - mse: 2.8033e-04 - exp_mse_mag: -3.5304 - exp_mae_mag: -2.1079 - exp_R2: 0.9744 - R2: 0.9785 - val_loss: 0.0110 - val_mae: 0.0086 - val_mse: 4.3644e-04 - val_exp_mse_mag: -3.2947 - val_exp_mae_mag: -1.9870 - val_exp_R2: 0.9584 - val_R2: 0.9661\n",
      "Epoch 10/100\n",
      "257/257 [==============================] - 3s 14ms/step - loss: 0.0082 - mae: 0.0062 - mse: 2.3896e-04 - exp_mse_mag: -3.5904 - exp_mae_mag: -2.1341 - exp_R2: 0.9788 - R2: 0.9826 - val_loss: 0.0081 - val_mae: 0.0063 - val_mse: 3.0805e-04 - val_exp_mse_mag: -3.5383 - val_exp_mae_mag: -2.1270 - val_exp_R2: 0.9761 - val_R2: 0.9790\n",
      "Epoch 11/100\n",
      "257/257 [==============================] - 4s 14ms/step - loss: 0.0076 - mae: 0.0056 - mse: 2.0692e-04 - exp_mse_mag: -3.6609 - exp_mae_mag: -2.1801 - exp_R2: 0.9817 - R2: 0.9847 - val_loss: 0.0075 - val_mae: 0.0061 - val_mse: 2.5323e-04 - val_exp_mse_mag: -3.7310 - val_exp_mae_mag: -2.1576 - val_exp_R2: 0.9814 - val_R2: 0.9827\n",
      "Epoch 12/100\n",
      "257/257 [==============================] - 3s 14ms/step - loss: 0.0083 - mae: 0.0063 - mse: 2.4870e-04 - exp_mse_mag: -3.5639 - exp_mae_mag: -2.1287 - exp_R2: 0.9750 - R2: 0.9798 - val_loss: 0.0084 - val_mae: 0.0070 - val_mse: 4.3964e-04 - val_exp_mse_mag: -3.2912 - val_exp_mae_mag: -2.0648 - val_exp_R2: 0.9698 - val_R2: 0.9770\n",
      "Epoch 13/100\n",
      "257/257 [==============================] - 3s 14ms/step - loss: 0.0087 - mae: 0.0059 - mse: 2.3103e-04 - exp_mse_mag: -3.6277 - exp_mae_mag: -2.1568 - exp_R2: 0.9795 - R2: 0.9832 - val_loss: 0.0080 - val_mae: 0.0051 - val_mse: 2.3429e-04 - val_exp_mse_mag: -3.8144 - val_exp_mae_mag: -2.2278 - val_exp_R2: 0.9836 - val_R2: 0.9846\n",
      "Epoch 14/100\n",
      "257/257 [==============================] - 3s 14ms/step - loss: 0.0076 - mae: 0.0055 - mse: 2.0607e-04 - exp_mse_mag: -3.6584 - exp_mae_mag: -2.1826 - exp_R2: 0.9822 - R2: 0.9852 - val_loss: 0.0073 - val_mae: 0.0051 - val_mse: 2.5573e-04 - val_exp_mse_mag: -3.6868 - val_exp_mae_mag: -2.2173 - val_exp_R2: 0.9823 - val_R2: 0.9847\n",
      "Epoch 15/100\n",
      "257/257 [==============================] - 3s 13ms/step - loss: 0.0087 - mae: 0.0058 - mse: 2.2836e-04 - exp_mse_mag: -3.5978 - exp_mae_mag: -2.1613 - exp_R2: 0.9761 - R2: 0.9802 - val_loss: 0.0068 - val_mae: 0.0057 - val_mse: 2.4006e-04 - val_exp_mse_mag: -3.6508 - val_exp_mae_mag: -2.1676 - val_exp_R2: 0.9821 - val_R2: 0.9845\n",
      "Epoch 16/100\n",
      "257/257 [==============================] - 3s 14ms/step - loss: 0.0091 - mae: 0.0066 - mse: 2.8608e-04 - exp_mse_mag: -3.5358 - exp_mae_mag: -2.1149 - exp_R2: 0.9763 - R2: 0.9809 - val_loss: 0.0085 - val_mae: 0.0070 - val_mse: 3.6258e-04 - val_exp_mse_mag: -3.4453 - val_exp_mae_mag: -2.0789 - val_exp_R2: 0.9724 - val_R2: 0.9745\n",
      "Epoch 17/100\n",
      "257/257 [==============================] - 3s 14ms/step - loss: 0.0078 - mae: 0.0052 - mse: 1.9801e-04 - exp_mse_mag: -3.7207 - exp_mae_mag: -2.2146 - exp_R2: 0.9812 - R2: 0.9846 - val_loss: 0.0072 - val_mae: 0.0050 - val_mse: 2.3635e-04 - val_exp_mse_mag: -3.8080 - val_exp_mae_mag: -2.2450 - val_exp_R2: 0.9823 - val_R2: 0.9833\n",
      "Epoch 18/100\n",
      "257/257 [==============================] - 3s 14ms/step - loss: 0.0081 - mae: 0.0058 - mse: 2.3200e-04 - exp_mse_mag: -3.6122 - exp_mae_mag: -2.1654 - exp_R2: 0.9768 - R2: 0.9817 - val_loss: 0.0124 - val_mae: 0.0103 - val_mse: 8.5540e-04 - val_exp_mse_mag: -2.9306 - val_exp_mae_mag: -1.8916 - val_exp_R2: 0.9423 - val_R2: 0.9586\n",
      "Epoch 19/100\n",
      "257/257 [==============================] - 3s 14ms/step - loss: 0.0075 - mae: 0.0056 - mse: 2.1032e-04 - exp_mse_mag: -3.6843 - exp_mae_mag: -2.1845 - exp_R2: 0.9794 - R2: 0.9826 - val_loss: 0.0095 - val_mae: 0.0081 - val_mse: 3.6168e-04 - val_exp_mse_mag: -3.3274 - val_exp_mae_mag: -1.9992 - val_exp_R2: 0.9690 - val_R2: 0.9752\n",
      "Epoch 20/100\n",
      "257/257 [==============================] - 3s 14ms/step - loss: 0.0066 - mae: 0.0047 - mse: 1.7520e-04 - exp_mse_mag: -3.7886 - exp_mae_mag: -2.2537 - exp_R2: 0.9818 - R2: 0.9848 - val_loss: 0.0057 - val_mae: 0.0042 - val_mse: 1.9725e-04 - val_exp_mse_mag: -3.9702 - val_exp_mae_mag: -2.3185 - val_exp_R2: 0.9869 - val_R2: 0.9878\n",
      "Epoch 21/100\n",
      "257/257 [==============================] - 3s 14ms/step - loss: 0.0074 - mae: 0.0049 - mse: 1.7538e-04 - exp_mse_mag: -3.8271 - exp_mae_mag: -2.2487 - exp_R2: 0.9826 - R2: 0.9851 - val_loss: 0.0116 - val_mae: 0.0080 - val_mse: 4.6429e-04 - val_exp_mse_mag: -3.2090 - val_exp_mae_mag: -2.0011 - val_exp_R2: 0.9656 - val_R2: 0.9720\n",
      "Epoch 22/100\n",
      "257/257 [==============================] - 3s 14ms/step - loss: 0.0070 - mae: 0.0050 - mse: 1.7537e-04 - exp_mse_mag: -3.7871 - exp_mae_mag: -2.2389 - exp_R2: 0.9826 - R2: 0.9850 - val_loss: 0.0092 - val_mae: 0.0076 - val_mse: 3.9042e-04 - val_exp_mse_mag: -3.2394 - val_exp_mae_mag: -2.0116 - val_exp_R2: 0.9692 - val_R2: 0.9775\n",
      "Epoch 23/100\n",
      "257/257 [==============================] - 3s 14ms/step - loss: 0.0080 - mae: 0.0052 - mse: 1.9446e-04 - exp_mse_mag: -3.7458 - exp_mae_mag: -2.2187 - exp_R2: 0.9791 - R2: 0.9827 - val_loss: 0.0099 - val_mae: 0.0069 - val_mse: 4.2637e-04 - val_exp_mse_mag: -3.3087 - val_exp_mae_mag: -2.0706 - val_exp_R2: 0.9712 - val_R2: 0.9779\n",
      "Epoch 24/100\n",
      "257/257 [==============================] - 3s 13ms/step - loss: 0.0067 - mae: 0.0049 - mse: 1.7265e-04 - exp_mse_mag: -3.7772 - exp_mae_mag: -2.2435 - exp_R2: 0.9854 - R2: 0.9880 - val_loss: 0.0064 - val_mae: 0.0049 - val_mse: 2.3351e-04 - val_exp_mse_mag: -3.7973 - val_exp_mae_mag: -2.2536 - val_exp_R2: 0.9799 - val_R2: 0.9822\n",
      "Epoch 25/100\n",
      "257/257 [==============================] - 3s 14ms/step - loss: 0.0073 - mae: 0.0052 - mse: 1.9223e-04 - exp_mse_mag: -3.7770 - exp_mae_mag: -2.2294 - exp_R2: 0.9844 - R2: 0.9869 - val_loss: 0.0085 - val_mae: 0.0052 - val_mse: 2.3622e-04 - val_exp_mse_mag: -3.6932 - val_exp_mae_mag: -2.2069 - val_exp_R2: 0.9837 - val_R2: 0.9861\n",
      "Epoch 26/100\n",
      "257/257 [==============================] - 3s 14ms/step - loss: 0.0066 - mae: 0.0043 - mse: 1.3929e-04 - exp_mse_mag: -3.8840 - exp_mae_mag: -2.2909 - exp_R2: 0.9873 - R2: 0.9893 - val_loss: 0.0061 - val_mae: 0.0034 - val_mse: 1.9102e-04 - val_exp_mse_mag: -4.1767 - val_exp_mae_mag: -2.4312 - val_exp_R2: 0.9877 - val_R2: 0.9883\n",
      "Epoch 27/100\n",
      "257/257 [==============================] - 3s 14ms/step - loss: 0.0072 - mae: 0.0051 - mse: 1.8750e-04 - exp_mse_mag: -3.7298 - exp_mae_mag: -2.2244 - exp_R2: 0.9835 - R2: 0.9863 - val_loss: 0.0062 - val_mae: 0.0042 - val_mse: 2.3809e-04 - val_exp_mse_mag: -3.8711 - val_exp_mae_mag: -2.3187 - val_exp_R2: 0.9835 - val_R2: 0.9849\n",
      "Epoch 28/100\n",
      "257/257 [==============================] - 3s 14ms/step - loss: 0.0064 - mae: 0.0046 - mse: 1.6435e-04 - exp_mse_mag: -3.8301 - exp_mae_mag: -2.2713 - exp_R2: 0.9859 - R2: 0.9887 - val_loss: 0.0059 - val_mae: 0.0043 - val_mse: 1.9260e-04 - val_exp_mse_mag: -3.9946 - val_exp_mae_mag: -2.3136 - val_exp_R2: 0.9873 - val_R2: 0.9880\n",
      "Epoch 29/100\n",
      "257/257 [==============================] - 3s 14ms/step - loss: 0.0060 - mae: 0.0041 - mse: 1.4391e-04 - exp_mse_mag: -3.9298 - exp_mae_mag: -2.3245 - exp_R2: 0.9894 - R2: 0.9912 - val_loss: 0.0101 - val_mae: 0.0071 - val_mse: 3.5438e-04 - val_exp_mse_mag: -3.3512 - val_exp_mae_mag: -2.0535 - val_exp_R2: 0.9749 - val_R2: 0.9802\n",
      "Epoch 30/100\n",
      "257/257 [==============================] - 3s 14ms/step - loss: 0.0074 - mae: 0.0043 - mse: 1.5281e-04 - exp_mse_mag: -3.9352 - exp_mae_mag: -2.3151 - exp_R2: 0.9891 - R2: 0.9907 - val_loss: 0.0092 - val_mae: 0.0056 - val_mse: 2.5090e-04 - val_exp_mse_mag: -3.6358 - val_exp_mae_mag: -2.1756 - val_exp_R2: 0.9813 - val_R2: 0.9840\n"
     ]
    },
    {
     "name": "stdout",
     "output_type": "stream",
     "text": [
      "Epoch 31/100\n",
      "257/257 [==============================] - 3s 14ms/step - loss: 0.0078 - mae: 0.0042 - mse: 1.3356e-04 - exp_mse_mag: -3.9374 - exp_mae_mag: -2.3131 - exp_R2: 0.9886 - R2: 0.9904 - val_loss: 0.0136 - val_mae: 0.0087 - val_mse: 3.8007e-04 - val_exp_mse_mag: -3.3686 - val_exp_mae_mag: -1.9955 - val_exp_R2: 0.9592 - val_R2: 0.9609\n",
      "Epoch 32/100\n",
      "257/257 [==============================] - 3s 14ms/step - loss: 0.0079 - mae: 0.0046 - mse: 1.6122e-04 - exp_mse_mag: -3.8399 - exp_mae_mag: -2.2668 - exp_R2: 0.9865 - R2: 0.9886 - val_loss: 0.0072 - val_mae: 0.0051 - val_mse: 2.1979e-04 - val_exp_mse_mag: -3.7303 - val_exp_mae_mag: -2.2172 - val_exp_R2: 0.9836 - val_R2: 0.9853\n",
      "Epoch 33/100\n",
      "257/257 [==============================] - 3s 14ms/step - loss: 0.0064 - mae: 0.0042 - mse: 1.3560e-04 - exp_mse_mag: -3.9453 - exp_mae_mag: -2.3195 - exp_R2: 0.9875 - R2: 0.9892 - val_loss: 0.0053 - val_mae: 0.0033 - val_mse: 1.5904e-04 - val_exp_mse_mag: -4.1999 - val_exp_mae_mag: -2.4303 - val_exp_R2: 0.9900 - val_R2: 0.9906\n",
      "Epoch 34/100\n",
      "257/257 [==============================] - 3s 14ms/step - loss: 0.0059 - mae: 0.0040 - mse: 1.2309e-04 - exp_mse_mag: -3.9755 - exp_mae_mag: -2.3283 - exp_R2: 0.9901 - R2: 0.9915 - val_loss: 0.0061 - val_mae: 0.0050 - val_mse: 2.4326e-04 - val_exp_mse_mag: -3.6313 - val_exp_mae_mag: -2.2150 - val_exp_R2: 0.9833 - val_R2: 0.9859\n",
      "Epoch 35/100\n",
      "257/257 [==============================] - 4s 14ms/step - loss: 0.0063 - mae: 0.0043 - mse: 1.4414e-04 - exp_mse_mag: -3.8926 - exp_mae_mag: -2.3020 - exp_R2: 0.9895 - R2: 0.9914 - val_loss: 0.0076 - val_mae: 0.0058 - val_mse: 2.2218e-04 - val_exp_mse_mag: -3.6495 - val_exp_mae_mag: -2.1523 - val_exp_R2: 0.9832 - val_R2: 0.9855\n",
      "Epoch 36/100\n",
      "257/257 [==============================] - 3s 14ms/step - loss: 0.0068 - mae: 0.0045 - mse: 1.6393e-04 - exp_mse_mag: -3.8549 - exp_mae_mag: -2.2795 - exp_R2: 0.9863 - R2: 0.9888 - val_loss: 0.0065 - val_mae: 0.0048 - val_mse: 2.4057e-04 - val_exp_mse_mag: -3.6900 - val_exp_mae_mag: -2.2358 - val_exp_R2: 0.9837 - val_R2: 0.9861\n",
      "Epoch 37/100\n",
      "257/257 [==============================] - 4s 14ms/step - loss: 0.0066 - mae: 0.0044 - mse: 1.4097e-04 - exp_mse_mag: -3.9018 - exp_mae_mag: -2.2938 - exp_R2: 0.9865 - R2: 0.9887 - val_loss: 0.0085 - val_mae: 0.0031 - val_mse: 1.6937e-04 - val_exp_mse_mag: -4.1860 - val_exp_mae_mag: -2.4636 - val_exp_R2: 0.9895 - val_R2: 0.9905\n",
      "Epoch 38/100\n",
      "257/257 [==============================] - 3s 14ms/step - loss: 0.0081 - mae: 0.0045 - mse: 1.7701e-04 - exp_mse_mag: -3.8948 - exp_mae_mag: -2.3027 - exp_R2: 0.9844 - R2: 0.9877 - val_loss: 0.0088 - val_mae: 0.0056 - val_mse: 3.3225e-04 - val_exp_mse_mag: -3.5947 - val_exp_mae_mag: -2.1894 - val_exp_R2: 0.9749 - val_R2: 0.9774\n",
      "Epoch 39/100\n",
      "257/257 [==============================] - 3s 14ms/step - loss: 0.0058 - mae: 0.0039 - mse: 1.2491e-04 - exp_mse_mag: -3.9796 - exp_mae_mag: -2.3399 - exp_R2: 0.9896 - R2: 0.9912 - val_loss: 0.0096 - val_mae: 0.0069 - val_mse: 2.7197e-04 - val_exp_mse_mag: -3.5568 - val_exp_mae_mag: -2.0818 - val_exp_R2: 0.9793 - val_R2: 0.9806\n",
      "Epoch 40/100\n",
      "257/257 [==============================] - 3s 14ms/step - loss: 0.0057 - mae: 0.0038 - mse: 1.2160e-04 - exp_mse_mag: -3.9936 - exp_mae_mag: -2.3523 - exp_R2: 0.9890 - R2: 0.9909 - val_loss: 0.0074 - val_mae: 0.0054 - val_mse: 2.0580e-04 - val_exp_mse_mag: -3.6961 - val_exp_mae_mag: -2.1871 - val_exp_R2: 0.9840 - val_R2: 0.9858\n",
      "Epoch 41/100\n",
      "257/257 [==============================] - 3s 13ms/step - loss: 0.0054 - mae: 0.0036 - mse: 1.1085e-04 - exp_mse_mag: -4.0731 - exp_mae_mag: -2.3829 - exp_R2: 0.9891 - R2: 0.9906 - val_loss: 0.0065 - val_mae: 0.0036 - val_mse: 1.5073e-04 - val_exp_mse_mag: -4.1919 - val_exp_mae_mag: -2.3896 - val_exp_R2: 0.9906 - val_R2: 0.9913\n",
      "Epoch 42/100\n",
      "257/257 [==============================] - 3s 14ms/step - loss: 0.0056 - mae: 0.0038 - mse: 1.2385e-04 - exp_mse_mag: -4.0352 - exp_mae_mag: -2.3654 - exp_R2: 0.9903 - R2: 0.9918 - val_loss: 0.0064 - val_mae: 0.0034 - val_mse: 1.5659e-04 - val_exp_mse_mag: -4.1310 - val_exp_mae_mag: -2.4085 - val_exp_R2: 0.9901 - val_R2: 0.9909\n",
      "Epoch 43/100\n",
      "257/257 [==============================] - 3s 14ms/step - loss: 0.0063 - mae: 0.0038 - mse: 1.1768e-04 - exp_mse_mag: -4.0202 - exp_mae_mag: -2.3609 - exp_R2: 0.9886 - R2: 0.9904 - val_loss: 0.0069 - val_mae: 0.0042 - val_mse: 1.7911e-04 - val_exp_mse_mag: -4.0418 - val_exp_mae_mag: -2.3231 - val_exp_R2: 0.9880 - val_R2: 0.9883\n",
      "Epoch 44/100\n",
      "257/257 [==============================] - 3s 14ms/step - loss: 0.0077 - mae: 0.0041 - mse: 1.2465e-04 - exp_mse_mag: -3.9666 - exp_mae_mag: -2.3238 - exp_R2: 0.9901 - R2: 0.9913 - val_loss: 0.0085 - val_mae: 0.0036 - val_mse: 1.4665e-04 - val_exp_mse_mag: -4.1141 - val_exp_mae_mag: -2.3835 - val_exp_R2: 0.9904 - val_R2: 0.9912\n",
      "Epoch 45/100\n",
      "257/257 [==============================] - 3s 14ms/step - loss: 0.0070 - mae: 0.0036 - mse: 1.1864e-04 - exp_mse_mag: -4.0492 - exp_mae_mag: -2.3795 - exp_R2: 0.9894 - R2: 0.9912 - val_loss: 0.0072 - val_mae: 0.0028 - val_mse: 1.5015e-04 - val_exp_mse_mag: -4.4344 - val_exp_mae_mag: -2.5313 - val_exp_R2: 0.9910 - val_R2: 0.9913\n",
      "Epoch 46/100\n",
      "257/257 [==============================] - 3s 14ms/step - loss: 0.0059 - mae: 0.0035 - mse: 1.0004e-04 - exp_mse_mag: -4.0777 - exp_mae_mag: -2.3881 - exp_R2: 0.9898 - R2: 0.9916 - val_loss: 0.0075 - val_mae: 0.0057 - val_mse: 1.9840e-04 - val_exp_mse_mag: -3.7933 - val_exp_mae_mag: -2.1789 - val_exp_R2: 0.9858 - val_R2: 0.9869\n",
      "Epoch 47/100\n",
      "257/257 [==============================] - 3s 14ms/step - loss: 0.0058 - mae: 0.0036 - mse: 1.1333e-04 - exp_mse_mag: -4.0919 - exp_mae_mag: -2.3860 - exp_R2: 0.9894 - R2: 0.9911 - val_loss: 0.0068 - val_mae: 0.0050 - val_mse: 2.1793e-04 - val_exp_mse_mag: -3.6506 - val_exp_mae_mag: -2.2096 - val_exp_R2: 0.9851 - val_R2: 0.9883\n",
      "Epoch 48/100\n",
      "257/257 [==============================] - 3s 14ms/step - loss: 0.0062 - mae: 0.0039 - mse: 1.2768e-04 - exp_mse_mag: -3.9980 - exp_mae_mag: -2.3463 - exp_R2: 0.9886 - R2: 0.9906 - val_loss: 0.0087 - val_mae: 0.0033 - val_mse: 1.6732e-04 - val_exp_mse_mag: -4.1557 - val_exp_mae_mag: -2.4282 - val_exp_R2: 0.9896 - val_R2: 0.9905\n",
      "Epoch 49/100\n",
      "257/257 [==============================] - 3s 14ms/step - loss: 0.0055 - mae: 0.0035 - mse: 1.1092e-04 - exp_mse_mag: -4.1151 - exp_mae_mag: -2.4010 - exp_R2: 0.9904 - R2: 0.9919 - val_loss: 0.0117 - val_mae: 0.0086 - val_mse: 6.0551e-04 - val_exp_mse_mag: -2.9772 - val_exp_mae_mag: -1.9432 - val_exp_R2: 0.9480 - val_R2: 0.9680\n",
      "Epoch 50/100\n",
      "257/257 [==============================] - 4s 14ms/step - loss: 0.0061 - mae: 0.0037 - mse: 1.2097e-04 - exp_mse_mag: -4.0349 - exp_mae_mag: -2.3697 - exp_R2: 0.9877 - R2: 0.9896 - val_loss: 0.0075 - val_mae: 0.0037 - val_mse: 1.4554e-04 - val_exp_mse_mag: -4.2518 - val_exp_mae_mag: -2.3930 - val_exp_R2: 0.9906 - val_R2: 0.9909\n",
      "Epoch 51/100\n",
      "257/257 [==============================] - 4s 14ms/step - loss: 0.0058 - mae: 0.0035 - mse: 1.0487e-04 - exp_mse_mag: -4.1102 - exp_mae_mag: -2.3887 - exp_R2: 0.9920 - R2: 0.9929 - val_loss: 0.0052 - val_mae: 0.0036 - val_mse: 1.5180e-04 - val_exp_mse_mag: -4.1037 - val_exp_mae_mag: -2.3823 - val_exp_R2: 0.9903 - val_R2: 0.9913\n",
      "Epoch 52/100\n",
      "257/257 [==============================] - 3s 14ms/step - loss: 0.0058 - mae: 0.0037 - mse: 1.1367e-04 - exp_mse_mag: -4.0423 - exp_mae_mag: -2.3642 - exp_R2: 0.9908 - R2: 0.9921 - val_loss: 0.0069 - val_mae: 0.0033 - val_mse: 1.2956e-04 - val_exp_mse_mag: -4.2757 - val_exp_mae_mag: -2.4411 - val_exp_R2: 0.9917 - val_R2: 0.9921\n",
      "Epoch 53/100\n",
      "257/257 [==============================] - 4s 14ms/step - loss: 0.0052 - mae: 0.0033 - mse: 9.5758e-05 - exp_mse_mag: -4.1565 - exp_mae_mag: -2.4214 - exp_R2: 0.9922 - R2: 0.9932 - val_loss: 0.0040 - val_mae: 0.0027 - val_mse: 1.4249e-04 - val_exp_mse_mag: -4.3795 - val_exp_mae_mag: -2.5344 - val_exp_R2: 0.9916 - val_R2: 0.9921\n",
      "Epoch 54/100\n",
      "257/257 [==============================] - 4s 14ms/step - loss: 0.0059 - mae: 0.0040 - mse: 1.2129e-04 - exp_mse_mag: -3.9580 - exp_mae_mag: -2.3345 - exp_R2: 0.9881 - R2: 0.9903 - val_loss: 0.0047 - val_mae: 0.0026 - val_mse: 1.3546e-04 - val_exp_mse_mag: -4.4339 - val_exp_mae_mag: -2.5536 - val_exp_R2: 0.9920 - val_R2: 0.9925\n"
     ]
    },
    {
     "name": "stdout",
     "output_type": "stream",
     "text": [
      "Epoch 55/100\n",
      "257/257 [==============================] - 3s 14ms/step - loss: 0.0057 - mae: 0.0034 - mse: 1.0340e-04 - exp_mse_mag: -4.1439 - exp_mae_mag: -2.4135 - exp_R2: 0.9889 - R2: 0.9904 - val_loss: 0.0054 - val_mae: 0.0038 - val_mse: 1.4574e-04 - val_exp_mse_mag: -4.0914 - val_exp_mae_mag: -2.3711 - val_exp_R2: 0.9895 - val_R2: 0.9902\n",
      "Epoch 56/100\n",
      "257/257 [==============================] - 3s 14ms/step - loss: 0.0056 - mae: 0.0036 - mse: 1.1160e-04 - exp_mse_mag: -4.1162 - exp_mae_mag: -2.4016 - exp_R2: 0.9915 - R2: 0.9930 - val_loss: 0.0094 - val_mae: 0.0067 - val_mse: 3.1626e-04 - val_exp_mse_mag: -3.3696 - val_exp_mae_mag: -2.0748 - val_exp_R2: 0.9767 - val_R2: 0.9815\n",
      "Epoch 57/100\n",
      "257/257 [==============================] - 3s 14ms/step - loss: 0.0051 - mae: 0.0031 - mse: 9.3527e-05 - exp_mse_mag: -4.1601 - exp_mae_mag: -2.4363 - exp_R2: 0.9916 - R2: 0.9930 - val_loss: 0.0053 - val_mae: 0.0029 - val_mse: 1.3460e-04 - val_exp_mse_mag: -4.4251 - val_exp_mae_mag: -2.4997 - val_exp_R2: 0.9920 - val_R2: 0.9925\n",
      "Epoch 58/100\n",
      "257/257 [==============================] - 3s 13ms/step - loss: 0.0054 - mae: 0.0035 - mse: 1.0795e-04 - exp_mse_mag: -4.0822 - exp_mae_mag: -2.3865 - exp_R2: 0.9894 - R2: 0.9911 - val_loss: 0.0063 - val_mae: 0.0040 - val_mse: 1.4937e-04 - val_exp_mse_mag: -4.0776 - val_exp_mae_mag: -2.3336 - val_exp_R2: 0.9907 - val_R2: 0.9916\n",
      "Epoch 59/100\n",
      "257/257 [==============================] - 3s 14ms/step - loss: 0.0054 - mae: 0.0034 - mse: 9.9688e-05 - exp_mse_mag: -4.0872 - exp_mae_mag: -2.3959 - exp_R2: 0.9914 - R2: 0.9928 - val_loss: 0.0057 - val_mae: 0.0024 - val_mse: 1.3594e-04 - val_exp_mse_mag: -4.4218 - val_exp_mae_mag: -2.5786 - val_exp_R2: 0.9921 - val_R2: 0.9927\n",
      "Epoch 60/100\n",
      "257/257 [==============================] - 3s 14ms/step - loss: 0.0050 - mae: 0.0032 - mse: 9.5062e-05 - exp_mse_mag: -4.1682 - exp_mae_mag: -2.4361 - exp_R2: 0.9912 - R2: 0.9927 - val_loss: 0.0048 - val_mae: 0.0033 - val_mse: 1.7512e-04 - val_exp_mse_mag: -4.1813 - val_exp_mae_mag: -2.4281 - val_exp_R2: 0.9885 - val_R2: 0.9893\n",
      "Epoch 61/100\n",
      "257/257 [==============================] - 3s 14ms/step - loss: 0.0056 - mae: 0.0037 - mse: 1.1319e-04 - exp_mse_mag: -4.0530 - exp_mae_mag: -2.3718 - exp_R2: 0.9903 - R2: 0.9921 - val_loss: 0.0050 - val_mae: 0.0036 - val_mse: 1.7963e-04 - val_exp_mse_mag: -3.9062 - val_exp_mae_mag: -2.3597 - val_exp_R2: 0.9884 - val_R2: 0.9901\n",
      "Epoch 62/100\n",
      "257/257 [==============================] - 3s 14ms/step - loss: 0.0055 - mae: 0.0034 - mse: 9.9470e-05 - exp_mse_mag: -4.1421 - exp_mae_mag: -2.4118 - exp_R2: 0.9916 - R2: 0.9929 - val_loss: 0.0049 - val_mae: 0.0026 - val_mse: 1.1468e-04 - val_exp_mse_mag: -4.3683 - val_exp_mae_mag: -2.5436 - val_exp_R2: 0.9927 - val_R2: 0.9933\n",
      "Epoch 63/100\n",
      "257/257 [==============================] - 4s 14ms/step - loss: 0.0054 - mae: 0.0032 - mse: 8.9524e-05 - exp_mse_mag: -4.1851 - exp_mae_mag: -2.4380 - exp_R2: 0.9930 - R2: 0.9941 - val_loss: 0.0048 - val_mae: 0.0028 - val_mse: 1.2328e-04 - val_exp_mse_mag: -4.3758 - val_exp_mae_mag: -2.5071 - val_exp_R2: 0.9925 - val_R2: 0.9930\n",
      "Epoch 64/100\n",
      "257/257 [==============================] - 4s 14ms/step - loss: 0.0057 - mae: 0.0040 - mse: 1.1865e-04 - exp_mse_mag: -3.9565 - exp_mae_mag: -2.3274 - exp_R2: 0.9905 - R2: 0.9922 - val_loss: 0.0050 - val_mae: 0.0027 - val_mse: 1.2658e-04 - val_exp_mse_mag: -4.4726 - val_exp_mae_mag: -2.5404 - val_exp_R2: 0.9924 - val_R2: 0.9927\n",
      "Epoch 65/100\n",
      "257/257 [==============================] - 3s 14ms/step - loss: 0.0049 - mae: 0.0032 - mse: 9.2005e-05 - exp_mse_mag: -4.1548 - exp_mae_mag: -2.4274 - exp_R2: 0.9911 - R2: 0.9924 - val_loss: 0.0041 - val_mae: 0.0024 - val_mse: 1.2276e-04 - val_exp_mse_mag: -4.5045 - val_exp_mae_mag: -2.5908 - val_exp_R2: 0.9927 - val_R2: 0.9931\n",
      "Epoch 66/100\n",
      "257/257 [==============================] - 3s 14ms/step - loss: 0.0051 - mae: 0.0034 - mse: 9.5314e-05 - exp_mse_mag: -4.0948 - exp_mae_mag: -2.3957 - exp_R2: 0.9895 - R2: 0.9911 - val_loss: 0.0055 - val_mae: 0.0035 - val_mse: 1.4341e-04 - val_exp_mse_mag: -4.0910 - val_exp_mae_mag: -2.3859 - val_exp_R2: 0.9905 - val_R2: 0.9916\n",
      "Epoch 67/100\n",
      "257/257 [==============================] - 3s 14ms/step - loss: 0.0047 - mae: 0.0031 - mse: 8.0822e-05 - exp_mse_mag: -4.2163 - exp_mae_mag: -2.4459 - exp_R2: 0.9916 - R2: 0.9930 - val_loss: 0.0076 - val_mae: 0.0046 - val_mse: 1.8359e-04 - val_exp_mse_mag: -3.7374 - val_exp_mae_mag: -2.2499 - val_exp_R2: 0.9874 - val_R2: 0.9895\n",
      "Epoch 68/100\n",
      "257/257 [==============================] - 3s 14ms/step - loss: 0.0070 - mae: 0.0032 - mse: 9.1445e-05 - exp_mse_mag: -4.1673 - exp_mae_mag: -2.4372 - exp_R2: 0.9937 - R2: 0.9946 - val_loss: 0.0049 - val_mae: 0.0025 - val_mse: 1.2190e-04 - val_exp_mse_mag: -4.3477 - val_exp_mae_mag: -2.5626 - val_exp_R2: 0.9927 - val_R2: 0.9935\n",
      "Epoch 69/100\n",
      "257/257 [==============================] - 3s 14ms/step - loss: 0.0069 - mae: 0.0033 - mse: 1.0014e-04 - exp_mse_mag: -4.1734 - exp_mae_mag: -2.4370 - exp_R2: 0.9922 - R2: 0.9934 - val_loss: 0.0063 - val_mae: 0.0036 - val_mse: 1.3697e-04 - val_exp_mse_mag: -3.9953 - val_exp_mae_mag: -2.3753 - val_exp_R2: 0.9908 - val_R2: 0.9922\n",
      "Epoch 70/100\n",
      "257/257 [==============================] - 3s 14ms/step - loss: 0.0065 - mae: 0.0030 - mse: 8.8276e-05 - exp_mse_mag: -4.2510 - exp_mae_mag: -2.4611 - exp_R2: 0.9934 - R2: 0.9940 - val_loss: 0.0079 - val_mae: 0.0033 - val_mse: 1.3226e-04 - val_exp_mse_mag: -4.1411 - val_exp_mae_mag: -2.4213 - val_exp_R2: 0.9904 - val_R2: 0.9915\n",
      "Epoch 71/100\n",
      "257/257 [==============================] - 3s 14ms/step - loss: 0.0066 - mae: 0.0031 - mse: 8.8693e-05 - exp_mse_mag: -4.1177 - exp_mae_mag: -2.4299 - exp_R2: 0.9941 - R2: 0.9950 - val_loss: 0.0070 - val_mae: 0.0023 - val_mse: 1.1968e-04 - val_exp_mse_mag: -4.5166 - val_exp_mae_mag: -2.6098 - val_exp_R2: 0.9927 - val_R2: 0.9933\n",
      "Epoch 72/100\n",
      "257/257 [==============================] - 3s 14ms/step - loss: 0.0056 - mae: 0.0029 - mse: 8.3545e-05 - exp_mse_mag: -4.2626 - exp_mae_mag: -2.4823 - exp_R2: 0.9937 - R2: 0.9946 - val_loss: 0.0053 - val_mae: 0.0035 - val_mse: 2.0008e-04 - val_exp_mse_mag: -3.9144 - val_exp_mae_mag: -2.3863 - val_exp_R2: 0.9866 - val_R2: 0.9883\n",
      "Epoch 73/100\n",
      "257/257 [==============================] - 4s 14ms/step - loss: 0.0051 - mae: 0.0032 - mse: 8.3727e-05 - exp_mse_mag: -4.1956 - exp_mae_mag: -2.4411 - exp_R2: 0.9933 - R2: 0.9943 - val_loss: 0.0046 - val_mae: 0.0031 - val_mse: 1.3591e-04 - val_exp_mse_mag: -4.1059 - val_exp_mae_mag: -2.4419 - val_exp_R2: 0.9910 - val_R2: 0.9920\n",
      "Epoch 74/100\n",
      "257/257 [==============================] - 4s 14ms/step - loss: 0.0049 - mae: 0.0030 - mse: 8.4325e-05 - exp_mse_mag: -4.2329 - exp_mae_mag: -2.4647 - exp_R2: 0.9944 - R2: 0.9950 - val_loss: 0.0055 - val_mae: 0.0035 - val_mse: 1.1873e-04 - val_exp_mse_mag: -4.2071 - val_exp_mae_mag: -2.4027 - val_exp_R2: 0.9917 - val_R2: 0.9925\n",
      "Epoch 75/100\n",
      "257/257 [==============================] - 3s 13ms/step - loss: 0.0055 - mae: 0.0036 - mse: 1.1138e-04 - exp_mse_mag: -4.0756 - exp_mae_mag: -2.3958 - exp_R2: 0.9897 - R2: 0.9916 - val_loss: 0.0080 - val_mae: 0.0063 - val_mse: 2.2900e-04 - val_exp_mse_mag: -3.5898 - val_exp_mae_mag: -2.1199 - val_exp_R2: 0.9815 - val_R2: 0.9838\n",
      "Epoch 76/100\n",
      "257/257 [==============================] - 3s 14ms/step - loss: 0.0054 - mae: 0.0035 - mse: 1.0547e-04 - exp_mse_mag: -4.0926 - exp_mae_mag: -2.4027 - exp_R2: 0.9922 - R2: 0.9936 - val_loss: 0.0053 - val_mae: 0.0029 - val_mse: 1.1830e-04 - val_exp_mse_mag: -4.2065 - val_exp_mae_mag: -2.4737 - val_exp_R2: 0.9925 - val_R2: 0.9934\n",
      "Epoch 77/100\n",
      "257/257 [==============================] - 4s 14ms/step - loss: 0.0050 - mae: 0.0031 - mse: 9.1392e-05 - exp_mse_mag: -4.1588 - exp_mae_mag: -2.4454 - exp_R2: 0.9888 - R2: 0.9905 - val_loss: 0.0066 - val_mae: 0.0043 - val_mse: 1.6695e-04 - val_exp_mse_mag: -3.7713 - val_exp_mae_mag: -2.2765 - val_exp_R2: 0.9882 - val_R2: 0.9906\n",
      "Epoch 78/100\n",
      "257/257 [==============================] - 3s 14ms/step - loss: 0.0054 - mae: 0.0033 - mse: 8.4651e-05 - exp_mse_mag: -4.1874 - exp_mae_mag: -2.4244 - exp_R2: 0.9919 - R2: 0.9932 - val_loss: 0.0045 - val_mae: 0.0030 - val_mse: 1.3843e-04 - val_exp_mse_mag: -4.2092 - val_exp_mae_mag: -2.4801 - val_exp_R2: 0.9910 - val_R2: 0.9920\n"
     ]
    },
    {
     "name": "stdout",
     "output_type": "stream",
     "text": [
      "Epoch 79/100\n",
      "257/257 [==============================] - 3s 14ms/step - loss: 0.0044 - mae: 0.0029 - mse: 7.3783e-05 - exp_mse_mag: -4.2591 - exp_mae_mag: -2.4736 - exp_R2: 0.9922 - R2: 0.9935 - val_loss: 0.0037 - val_mae: 0.0025 - val_mse: 1.0752e-04 - val_exp_mse_mag: -4.4282 - val_exp_mae_mag: -2.5588 - val_exp_R2: 0.9935 - val_R2: 0.9942\n",
      "Epoch 80/100\n",
      "257/257 [==============================] - 3s 14ms/step - loss: 0.0049 - mae: 0.0030 - mse: 8.2739e-05 - exp_mse_mag: -4.2215 - exp_mae_mag: -2.4571 - exp_R2: 0.9937 - R2: 0.9947 - val_loss: 0.0055 - val_mae: 0.0039 - val_mse: 1.8674e-04 - val_exp_mse_mag: -3.7936 - val_exp_mae_mag: -2.3220 - val_exp_R2: 0.9879 - val_R2: 0.9902\n",
      "Epoch 81/100\n",
      "257/257 [==============================] - 3s 14ms/step - loss: 0.0050 - mae: 0.0029 - mse: 8.0106e-05 - exp_mse_mag: -4.2543 - exp_mae_mag: -2.4798 - exp_R2: 0.9945 - R2: 0.9953 - val_loss: 0.0075 - val_mae: 0.0032 - val_mse: 1.3039e-04 - val_exp_mse_mag: -3.9742 - val_exp_mae_mag: -2.4087 - val_exp_R2: 0.9908 - val_R2: 0.9927\n",
      "Epoch 82/100\n",
      "257/257 [==============================] - 3s 14ms/step - loss: 0.0053 - mae: 0.0031 - mse: 8.1344e-05 - exp_mse_mag: -4.2004 - exp_mae_mag: -2.4544 - exp_R2: 0.9945 - R2: 0.9954 - val_loss: 0.0045 - val_mae: 0.0028 - val_mse: 1.0891e-04 - val_exp_mse_mag: -4.3387 - val_exp_mae_mag: -2.4972 - val_exp_R2: 0.9928 - val_R2: 0.9935\n",
      "Epoch 83/100\n",
      "257/257 [==============================] - 3s 14ms/step - loss: 0.0049 - mae: 0.0028 - mse: 7.5688e-05 - exp_mse_mag: -4.2634 - exp_mae_mag: -2.4866 - exp_R2: 0.9935 - R2: 0.9944 - val_loss: 0.0051 - val_mae: 0.0028 - val_mse: 1.0966e-04 - val_exp_mse_mag: -4.3100 - val_exp_mae_mag: -2.5044 - val_exp_R2: 0.9928 - val_R2: 0.9935\n",
      "Epoch 84/100\n",
      "257/257 [==============================] - 3s 14ms/step - loss: 0.0055 - mae: 0.0032 - mse: 9.0173e-05 - exp_mse_mag: -4.1999 - exp_mae_mag: -2.4419 - exp_R2: 0.9916 - R2: 0.9929 - val_loss: 0.0080 - val_mae: 0.0053 - val_mse: 1.4982e-04 - val_exp_mse_mag: -3.8819 - val_exp_mae_mag: -2.2131 - val_exp_R2: 0.9882 - val_R2: 0.9894\n",
      "Epoch 85/100\n",
      "257/257 [==============================] - 3s 14ms/step - loss: 0.0050 - mae: 0.0032 - mse: 8.7635e-05 - exp_mse_mag: -4.1375 - exp_mae_mag: -2.4188 - exp_R2: 0.9922 - R2: 0.9937 - val_loss: 0.0034 - val_mae: 0.0021 - val_mse: 9.9460e-05 - val_exp_mse_mag: -4.6261 - val_exp_mae_mag: -2.6513 - val_exp_R2: 0.9941 - val_R2: 0.9946\n",
      "Epoch 86/100\n",
      "257/257 [==============================] - 3s 14ms/step - loss: 0.0049 - mae: 0.0032 - mse: 9.3221e-05 - exp_mse_mag: -4.1654 - exp_mae_mag: -2.4368 - exp_R2: 0.9911 - R2: 0.9927 - val_loss: 0.0046 - val_mae: 0.0026 - val_mse: 9.6165e-05 - val_exp_mse_mag: -4.5041 - val_exp_mae_mag: -2.5504 - val_exp_R2: 0.9938 - val_R2: 0.9943\n",
      "Epoch 87/100\n",
      "257/257 [==============================] - 3s 14ms/step - loss: 0.0055 - mae: 0.0035 - mse: 9.7959e-05 - exp_mse_mag: -4.0592 - exp_mae_mag: -2.3875 - exp_R2: 0.9929 - R2: 0.9942 - val_loss: 0.0056 - val_mae: 0.0034 - val_mse: 1.1273e-04 - val_exp_mse_mag: -4.2257 - val_exp_mae_mag: -2.4187 - val_exp_R2: 0.9914 - val_R2: 0.9922\n",
      "Epoch 88/100\n",
      "257/257 [==============================] - 3s 14ms/step - loss: 0.0046 - mae: 0.0026 - mse: 7.0457e-05 - exp_mse_mag: -4.3109 - exp_mae_mag: -2.5133 - exp_R2: 0.9938 - R2: 0.9947 - val_loss: 0.0045 - val_mae: 0.0034 - val_mse: 1.2457e-04 - val_exp_mse_mag: -4.3374 - val_exp_mae_mag: -2.4370 - val_exp_R2: 0.9908 - val_R2: 0.9915\n",
      "Epoch 89/100\n",
      "257/257 [==============================] - 3s 14ms/step - loss: 0.0046 - mae: 0.0029 - mse: 7.8333e-05 - exp_mse_mag: -4.2624 - exp_mae_mag: -2.4765 - exp_R2: 0.9941 - R2: 0.9951 - val_loss: 0.0057 - val_mae: 0.0041 - val_mse: 1.7648e-04 - val_exp_mse_mag: -3.7591 - val_exp_mae_mag: -2.2969 - val_exp_R2: 0.9883 - val_R2: 0.9909\n",
      "Epoch 90/100\n",
      "257/257 [==============================] - 4s 14ms/step - loss: 0.0051 - mae: 0.0031 - mse: 9.1570e-05 - exp_mse_mag: -4.1709 - exp_mae_mag: -2.4475 - exp_R2: 0.9924 - R2: 0.9938 - val_loss: 0.0075 - val_mae: 0.0062 - val_mse: 2.6700e-04 - val_exp_mse_mag: -3.4051 - val_exp_mae_mag: -2.0982 - val_exp_R2: 0.9789 - val_R2: 0.9844\n",
      "Epoch 91/100\n",
      "257/257 [==============================] - 3s 14ms/step - loss: 0.0049 - mae: 0.0030 - mse: 7.9027e-05 - exp_mse_mag: -4.2746 - exp_mae_mag: -2.4764 - exp_R2: 0.9946 - R2: 0.9954 - val_loss: 0.0047 - val_mae: 0.0033 - val_mse: 1.4119e-04 - val_exp_mse_mag: -4.2497 - val_exp_mae_mag: -2.4290 - val_exp_R2: 0.9907 - val_R2: 0.9914\n",
      "Epoch 92/100\n",
      "257/257 [==============================] - 3s 14ms/step - loss: 0.0043 - mae: 0.0028 - mse: 7.4610e-05 - exp_mse_mag: -4.3026 - exp_mae_mag: -2.4968 - exp_R2: 0.9940 - R2: 0.9949 - val_loss: 0.0049 - val_mae: 0.0034 - val_mse: 1.3237e-04 - val_exp_mse_mag: -3.9850 - val_exp_mae_mag: -2.3848 - val_exp_R2: 0.9897 - val_R2: 0.9920\n",
      "Epoch 93/100\n",
      "257/257 [==============================] - 3s 13ms/step - loss: 0.0050 - mae: 0.0026 - mse: 6.8558e-05 - exp_mse_mag: -4.3674 - exp_mae_mag: -2.5280 - exp_R2: 0.9935 - R2: 0.9944 - val_loss: 0.0051 - val_mae: 0.0027 - val_mse: 1.2232e-04 - val_exp_mse_mag: -4.2069 - val_exp_mae_mag: -2.4982 - val_exp_R2: 0.9919 - val_R2: 0.9932\n",
      "Epoch 94/100\n",
      "257/257 [==============================] - 3s 14ms/step - loss: 0.0054 - mae: 0.0034 - mse: 9.1861e-05 - exp_mse_mag: -4.1487 - exp_mae_mag: -2.4202 - exp_R2: 0.9927 - R2: 0.9940 - val_loss: 0.0040 - val_mae: 0.0025 - val_mse: 9.9593e-05 - val_exp_mse_mag: -4.4661 - val_exp_mae_mag: -2.5665 - val_exp_R2: 0.9938 - val_R2: 0.9943\n",
      "Epoch 95/100\n",
      "257/257 [==============================] - 3s 14ms/step - loss: 0.0044 - mae: 0.0029 - mse: 8.0157e-05 - exp_mse_mag: -4.2304 - exp_mae_mag: -2.4692 - exp_R2: 0.9938 - R2: 0.9949 - val_loss: 0.0046 - val_mae: 0.0032 - val_mse: 1.1537e-04 - val_exp_mse_mag: -4.1075 - val_exp_mae_mag: -2.4200 - val_exp_R2: 0.9925 - val_R2: 0.9937\n",
      "Epoch 96/100\n",
      " 55/257 [=====>........................] - ETA: 1s - loss: 0.0043 - mae: 0.0028 - mse: 4.3453e-05 - exp_mse_mag: -4.2154 - exp_mae_mag: -2.4563 - exp_R2: 0.9967 - R2: 0.9974"
     ]
    }
   ],
   "source": [
    "# fix seeds\n",
    "import random\n",
    "import numpy as np\n",
    "random.seed(0)\n",
    "np.random.seed(0)\n",
    "tf.random.set_seed(0)\n",
    "\n",
    "dataType = 'randomequaltraintestsplit' #'frameworkincludedtrainexcludedtest'\n",
    "inputType = 'AllSpeciesAndZmix'\n",
    "dataSetMethod = f'{inputType}_{dataType}'\n",
    "opscaler = \"MinMaxScaler\"# 'PositiveLogNormal'\n",
    "ZmixPresent = 'Y'\n",
    "concatenateZmix = 'Y'\n",
    "kernel_constraint = 'Y'\n",
    "kernel_regularizer = 'Y'\n",
    "activity_regularizer = 'Y'\n",
    "noOfCpv = 4\n",
    "noOfNeurons = 53\n",
    "\n",
    "exprExec.modelFactory.loss='mae'\n",
    "exprExec.modelFactory.activation_func='relu'\n",
    "exprExec.modelFactory.dropout_rate=0.5\n",
    "exprExec.debug_mode = False\n",
    "exprExec.epochs_override = 100\n",
    "exprExec.batch_size = 32\n",
    "exprExec.n_models_override = 1\n",
    "\n",
    "# initialize experiment executor...\n",
    "exprExec.dm = dm\n",
    "exprExec.df_experimentTracker = pd.DataFrame()\n",
    "exprExec.modelType = 'PCDNNV2'\n",
    "\n",
    "history = exprExec.executeSingleExperiment(noOfNeurons,dataSetMethod,dataType,inputType,ZmixPresent=ZmixPresent,\n",
    "                                           noOfCpv=noOfCpv,concatenateZmix=concatenateZmix,kernel_constraint=kernel_constraint,\n",
    "                                           kernel_regularizer=kernel_regularizer,activity_regularizer=activity_regularizer,\n",
    "                                           opscaler=opscaler)"
   ]
  },
  {
   "cell_type": "markdown",
   "id": "19601332",
   "metadata": {},
   "source": [
    "## Results Plotting & Analysis"
   ]
  },
  {
   "cell_type": "code",
   "execution_count": null,
   "id": "80255f98",
   "metadata": {},
   "outputs": [],
   "source": [
    "loss = 727684307.3417714 # Update Me!\n",
    "\n",
    "def print_scientific_notation(number):\n",
    "    power = int(np.log(number)/np.log(10))\n",
    "    print(f\"Scientific Notation: {(loss/10**power)}*10^{power}\")\n",
    "print_scientific_notation(loss)"
   ]
  },
  {
   "cell_type": "code",
   "execution_count": null,
   "id": "5c22577a",
   "metadata": {},
   "outputs": [],
   "source": [
    "import matplotlib.pyplot as plt\n",
    "import numpy as np\n",
    "%matplotlib inline\n",
    "plt.plot(np.maximum(history.history['val_R2'][30:], 0))\n",
    "plt.title('val_R^2 vs epochs')\n",
    "plt.ylabel('percent')\n",
    "plt.xlabel('epochs')\n",
    "plt.show()"
   ]
  },
  {
   "cell_type": "code",
   "execution_count": null,
   "id": "2ec3b634",
   "metadata": {},
   "outputs": [],
   "source": [
    "import model_analyzer.model_analysis as model_analysis\n",
    "import importlib; importlib.reload(model_analysis)\n",
    "\n",
    "bestModel, experimentSettings = exprExec.modelFactory.openBestModel()\n",
    "dm.createTrainTestData(experimentSettings['dataSetMethod'],experimentSettings['noOfCpv'], experimentSettings['ipscaler'], experimentSettings['opscaler'])\n",
    "\n",
    "print(f'\\nexperimentSettings: {experimentSettings}')\n",
    "print(f'\\nbestModel.input_shape: {bestModel.input_shape}')\n",
    "inspector = model_analysis.ModelInspector(exprExec.modelFactory, dm)"
   ]
  },
  {
   "cell_type": "code",
   "execution_count": null,
   "id": "410474b7",
   "metadata": {},
   "outputs": [],
   "source": [
    "n_repeats = 5 if debug_mode else 20\n",
    "inspector.plot_permutation_feature_importance(n_repeats=n_repeats)"
   ]
  },
  {
   "cell_type": "code",
   "execution_count": null,
   "id": "383136c5",
   "metadata": {},
   "outputs": [],
   "source": [
    "inspector.plot_partial_dependence()"
   ]
  },
  {
   "cell_type": "markdown",
   "id": "2bea5e02",
   "metadata": {},
   "source": [
    "### Print & Record Linear Embeddings Output (NOTE: Deprecated)"
   ]
  },
  {
   "cell_type": "code",
   "execution_count": null,
   "id": "12784d54",
   "metadata": {},
   "outputs": [],
   "source": [
    "import numpy as np\n",
    "\n",
    "def inspect_PCA(X):\n",
    "    PCA_dict = {}\n",
    "    PCA_dict['X'] = X\n",
    "    PCA_dict['Var'] = PCA_dict['X'].var(axis=0)\n",
    "    \n",
    "    # sort by explained variance\n",
    "    sort_idx = np.argsort(PCA_dict['Var'])[::-1]\n",
    "    PCA_dict['X'] = PCA_dict['X'][:, sort_idx]\n",
    "    PCA_dict['Var'] = PCA_dict['Var'][sort_idx]\n",
    "    PCA_dict['CumVar'] = np.add.accumulate(PCA_dict['Var'])\n",
    "    return PCA_dict\n",
    "\n",
    "\n",
    "X, Y, rom, zmix = dm.getAllData()\n",
    "FullDataset = inspect_PCA(X)\n",
    "try:    \n",
    "    linearAutoEncoder = exprExec.modelFactory.getLinearEncoder()\n",
    "    X = linearAutoEncoder.predict(FullDataset['X'])\n",
    "    DNN_PCA = inspect_PCA(X)\n",
    "except KeyError:\n",
    "    print('No Linear Auto Encoder!')"
   ]
  },
  {
   "cell_type": "code",
   "execution_count": null,
   "id": "f6b0fdcc",
   "metadata": {},
   "outputs": [],
   "source": [
    "#dm.createDataset\n",
    "import matplotlib.pyplot as plt\n",
    "import copy\n",
    "dm_PurePCA = copy.deepcopy(dm)\n",
    "dm_PurePCA.createTrainTestData(dataSetMethod='PurePCA_randomequalflamesplit',\n",
    "                               numCpvComponents=2, ipscaler=None, opscaler=None)\n",
    "\n",
    "X,Y,rom,zmix = dm_PurePCA.getAllData()\n",
    "PurePCA = inspect_PCA(X)\n",
    "print(PurePCA['Var'])\n",
    "print(DNN_PCA['Var'])\n",
    "\n",
    "plt.plot(PurePCA['CumVar']/FullDataset['Var'].sum(), color='r')\n",
    "plt.plot(DNN_PCA['CumVar']/FullDataset['Var'].sum(), color='b')\n",
    "plt.title('PCA Total Variance Comparison')"
   ]
  }
 ],
 "metadata": {
  "kernelspec": {
   "display_name": "Python 3",
   "language": "python",
   "name": "python3"
  },
  "language_info": {
   "codemirror_mode": {
    "name": "ipython",
    "version": 3
   },
   "file_extension": ".py",
   "mimetype": "text/x-python",
   "name": "python",
   "nbconvert_exporter": "python",
   "pygments_lexer": "ipython3",
   "version": "3.8.8"
  }
 },
 "nbformat": 4,
 "nbformat_minor": 5
}
