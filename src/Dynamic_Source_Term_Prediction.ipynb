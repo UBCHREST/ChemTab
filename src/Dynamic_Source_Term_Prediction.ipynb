{
 "cells": [
  {
   "cell_type": "markdown",
   "id": "81e7c8dd",
   "metadata": {},
   "source": [
    "# ChemTab (PCDNN_V2) Benchmark Notebook\n",
    "### This notebook contains experiments around the different parameters for the model\n",
    "#### Amol Salunkhe\n",
    "\n",
    "Develop a deep neural architecture ChemTab that jointly optimizes two neural networks for the tasks of reduced basis learning (encoder) and reverse lookup function learning (regressor). The first network (Shallow AutoEncoder) will focus on linear dimensionality reduction and create a linear embedding for the source species. The second network (Deep Regressor) will focus on learning a lookup function from the linear embedding to the Thermo-chemical state variables.\n",
    "\n",
    "### Overall Problem Formulation\n",
    "\n",
    "\\begin{equation}\\label{eqn:lossfunc}\n",
    "    \\begin{aligned}\n",
    "    \\textrm{min} \\quad \\mathcal{L}_{joint} = \\lambda_{encoder} * \\mathcal{L}_{encoder} + \\lambda_{regressor}* \\mathcal{L}_{regressor} \n",
    "    \\end{aligned}\n",
    "\\end{equation}\n",
    "\n",
    "### Reduced Basis Problem Formulation (Encoder)\n",
    "\n",
    "\\begin{equation}\\label{eqn:Reduced-Basis-Learning}\n",
    "    \\begin{aligned}\n",
    "    \\def\\sss{\\scriptscriptstyle}\n",
    "    {}\n",
    "    \\def\\stacktype{L}\n",
    "        {\\mathrm{Y^{'}}}{\\sss n\\times k} =  {Y}{\\sss n\\times s} \\times {W}{\\sss s\\times k} \\\\\n",
    "        \\textrm{s.t.,} \\quad k \\ll s\\\\\n",
    "        \\mathrm{\\phi}(Y) \\approx \\mathrm{\\phi}(Y^{'})\\\\\n",
    "        \\textrm{where, W is the Reduced Basis / encoder} \\\\\n",
    "        \\mathrm{\\phi} \\quad \\textrm{is the Reverse Lookup function / regressor}\n",
    "    \\end{aligned}\n",
    "\\end{equation}\n",
    "\n",
    "\n",
    "### Lookup Learning Problem Formulation (Regressor)\n",
    "\n",
    "\\begin{equation}\\label{eqn:Reverse-Lookup-Learning}\n",
    "    \\begin{aligned}\n",
    "        \\textrm{min} \\quad ||{S_i} - \\mathrm{\\phi}(Y^{'}_i)||_{p}\\\\\n",
    "        \\textrm{s.t.,} \\quad p \\in r \\\\\n",
    "        \\quad k \\ll s\\\\\n",
    "        \\mathrm{\\phi}(Y) \\approx \\mathrm{\\phi}(Y^{'})\\\\\n",
    "    \\end{aligned}\n",
    "\\end{equation}\n",
    "\n",
    "\n"
   ]
  },
  {
   "cell_type": "code",
   "execution_count": 3,
   "id": "656a2d2b",
   "metadata": {},
   "outputs": [],
   "source": [
    "import pandas as pd\n",
    "import matplotlib.pyplot as plt\n",
    "import numpy as np\n",
    "from sklearn.linear_model import Ridge, LinearRegression\n",
    "from sklearn import gaussian_process\n",
    "from sklearn.gaussian_process import GaussianProcessRegressor\n",
    "import scipy.optimize\n",
    "from sklearn.utils.optimize import _check_optimize_result\n",
    "from sklearn.gaussian_process.kernels import Matern, RBF, WhiteKernel, RationalQuadratic, ExpSineSquared\n",
    "import time\n",
    "from sklearn.decomposition import PCA, SparsePCA\n",
    "%matplotlib inline\n",
    "import seaborn as sns\n",
    "import tensorflow as tf\n",
    "physical_devices = tf.config.list_physical_devices('GPU')\n",
    "tf.config.experimental.set_memory_growth(physical_devices[0], True)\n",
    "\n",
    "from tensorflow import keras\n",
    "from tensorflow.keras import layers\n",
    "from tensorflow.keras.layers.experimental import preprocessing\n",
    "import tensorflow_probability as tfp\n",
    "from tensorflow.keras.callbacks import EarlyStopping\n",
    "from tensorflow.keras import regularizers, activations, initializers, constraints, Sequential\n",
    "from tensorflow.keras.constraints import UnitNorm, Constraint\n",
    "import sys"
   ]
  },
  {
   "cell_type": "markdown",
   "id": "b00bf3e8",
   "metadata": {},
   "source": [
    "## Helpers"
   ]
  },
  {
   "cell_type": "code",
   "execution_count": 4,
   "id": "be2a030a",
   "metadata": {},
   "outputs": [
    {
     "name": "stdout",
     "output_type": "stream",
     "text": [
      "Yi_col: ['YiCH4', 'YiH', 'YiO', 'YiO2', 'YiOH', 'YiH2O', 'YiHO2', 'YiH2O2', 'YiC', 'YiCH', 'YiCH2', 'YiCH2(S)', 'YiCH3', 'YiH2', 'YiCO', 'YiCO2', 'YiHCO', 'YiCH2O', 'YiCH2OH', 'YiCH3O', 'YiCH3OH', 'YiC2H', 'YiC2H2', 'YiC2H3', 'YiC2H4', 'YiC2H5', 'YiC2H6', 'YiHCCO', 'YiCH2CO', 'YiHCCOH', 'YiN', 'YiNH', 'YiNH2', 'YiNH3', 'YiNNH', 'YiNO', 'YiNO2', 'YiN2O', 'YiHNO', 'YiCN', 'YiHCN', 'YiH2CN', 'YiHCNN', 'YiHCNO', 'YiHOCN', 'YiHNCO', 'YiNCO', 'YiC3H7', 'YiC3H8', 'YiCH2CHO', 'YiCH3CHO', 'YiN2', 'YiAR']\n",
      "53\n",
      "source term cols: ['souspecCH4', 'souspecH', 'souspecO', 'souspecO2', 'souspecOH', 'souspecH2O', 'souspecHO2', 'souspecH2O2', 'souspecC', 'souspecCH', 'souspecCH2', 'souspecCH2(S)', 'souspecCH3', 'souspecH2', 'souspecCO', 'souspecCO2', 'souspecHCO', 'souspecCH2O', 'souspecCH2OH', 'souspecCH3O', 'souspecCH3OH', 'souspecC2H', 'souspecC2H2', 'souspecC2H3', 'souspecC2H4', 'souspecC2H5', 'souspecC2H6', 'souspecHCCO', 'souspecCH2CO', 'souspecHCCOH', 'souspecN', 'souspecNH', 'souspecNH2', 'souspecNH3', 'souspecNNH', 'souspecNO', 'souspecNO2', 'souspecN2O', 'souspecHNO', 'souspecCN', 'souspecHCN', 'souspecH2CN', 'souspecHCNN', 'souspecHCNO', 'souspecHOCN', 'souspecHNCO', 'souspecNCO', 'souspecC3H7', 'souspecC3H8', 'souspecCH2CHO', 'souspecCH3CHO', 'souspecN2', 'souspecAR']\n"
     ]
    },
    {
     "name": "stderr",
     "output_type": "stream",
     "text": [
      "/home/dwyerdei/rom_project2/src/benchmark_data_code.py:284: UserWarning: transparently scaling Zmix!\n",
      "  warnings.warn('transparently scaling Zmix!')\n"
     ]
    }
   ],
   "source": [
    "from benchmark_model_code import * # Network Helpers\n",
    "from benchmark_data_code import * # Data Helpers\n",
    "halfData = getHalfData()"
   ]
  },
  {
   "cell_type": "code",
   "execution_count": 5,
   "id": "ce03bef7",
   "metadata": {},
   "outputs": [],
   "source": [
    "#df = pd.read_csv('../NewData_flames_data_with_L1_L2_errors_CH4-AIR_without_trimming(SouSpec_Included).txt')\n",
    "#df=df.drop(columns='YiAR') # drop this because it is inert and has no corresponding source term"
   ]
  },
  {
   "cell_type": "code",
   "execution_count": 7,
   "id": "667d9dcc",
   "metadata": {},
   "outputs": [
    {
     "name": "stdout",
     "output_type": "stream",
     "text": [
      "Yi_col: ['YiCH4', 'YiH', 'YiO', 'YiO2', 'YiOH', 'YiH2O', 'YiHO2', 'YiH2O2', 'YiC', 'YiCH', 'YiCH2', 'YiCH2(S)', 'YiCH3', 'YiH2', 'YiCO', 'YiCO2', 'YiHCO', 'YiCH2O', 'YiCH2OH', 'YiCH3O', 'YiCH3OH', 'YiC2H', 'YiC2H2', 'YiC2H3', 'YiC2H4', 'YiC2H5', 'YiC2H6', 'YiHCCO', 'YiCH2CO', 'YiHCCOH', 'YiN', 'YiNH', 'YiNH2', 'YiNH3', 'YiNNH', 'YiNO', 'YiNO2', 'YiN2O', 'YiHNO', 'YiCN', 'YiHCN', 'YiH2CN', 'YiHCNN', 'YiHCNO', 'YiHOCN', 'YiHNCO', 'YiNCO', 'YiC3H7', 'YiC3H8', 'YiCH2CHO', 'YiCH3CHO', 'YiN2', 'YiAR']\n",
      "53\n",
      "source term cols: ['souspecCH4', 'souspecH', 'souspecO', 'souspecO2', 'souspecOH', 'souspecH2O', 'souspecHO2', 'souspecH2O2', 'souspecC', 'souspecCH', 'souspecCH2', 'souspecCH2(S)', 'souspecCH3', 'souspecH2', 'souspecCO', 'souspecCO2', 'souspecHCO', 'souspecCH2O', 'souspecCH2OH', 'souspecCH3O', 'souspecCH3OH', 'souspecC2H', 'souspecC2H2', 'souspecC2H3', 'souspecC2H4', 'souspecC2H5', 'souspecC2H6', 'souspecHCCO', 'souspecCH2CO', 'souspecHCCOH', 'souspecN', 'souspecNH', 'souspecNH2', 'souspecNH3', 'souspecNNH', 'souspecNO', 'souspecNO2', 'souspecN2O', 'souspecHNO', 'souspecCN', 'souspecHCN', 'souspecH2CN', 'souspecHCNN', 'souspecHCNO', 'souspecHOCN', 'souspecHNCO', 'souspecNCO', 'souspecC3H7', 'souspecC3H8', 'souspecCH2CHO', 'souspecCH3CHO', 'souspecN2', 'souspecAR']\n"
     ]
    },
    {
     "data": {
      "text/plain": [
       "\"\\nX_allSpecies = df[Yi_cols].values\\nX_allSources = df[source_term_cols].values\\nY_souener = df['souener']\\nspeciesInputScaler = MinMaxScaler\\nsourcesInputScaler = MinMaxScaler\\nsouenerOutputScaler = MinMaxScaler\\n\""
      ]
     },
     "execution_count": 7,
     "metadata": {},
     "output_type": "execute_result"
    }
   ],
   "source": [
    "Yi_cols = [col for col in df.columns if col[:2]=='Yi']\n",
    "print(f'Yi_col: {Yi_cols}')\n",
    "print(len(Yi_cols))\n",
    "source_term_cols = ['souspec' + col[2:] for col in Yi_cols]\n",
    "#source_term_cols2 = [col for col in df.columns if col.lower().startswith('souspec')]\n",
    "print(f'source term cols: {source_term_cols}')\n",
    "#print(f'source term cols2: {source_term_cols2}')\n",
    "\n",
    "'''\n",
    "X_allSpecies = df[Yi_cols].values\n",
    "X_allSources = df[source_term_cols].values\n",
    "Y_souener = df['souener']\n",
    "speciesInputScaler = MinMaxScaler\n",
    "sourcesInputScaler = MinMaxScaler\n",
    "souenerOutputScaler = MinMaxScaler\n",
    "'''"
   ]
  },
  {
   "cell_type": "markdown",
   "id": "db0517f7",
   "metadata": {},
   "source": [
    "### Constrained DNN -- Baseline (Zmix + 4 Dim Linear Embedding; All Constraints)"
   ]
  },
  {
   "cell_type": "code",
   "execution_count": 8,
   "id": "3b6e63f7",
   "metadata": {},
   "outputs": [
    {
     "name": "stdout",
     "output_type": "stream",
     "text": [
      "Model: \"model\"\n",
      "__________________________________________________________________________________________________\n",
      " Layer (type)                   Output Shape         Param #     Connected to                     \n",
      "==================================================================================================\n",
      " species_input (InputLayer)     [(None, 53)]         0           []                               \n",
      "                                                                                                  \n",
      " Zmix (InputLayer)              [(None, 1)]          0           []                               \n",
      "                                                                                                  \n",
      " dense (Dense)                  (None, 4)            216         ['species_input[0][0]']          \n",
      "                                                                                                  \n",
      " concatenate (Concatenate)      (None, 5)            0           ['Zmix[0][0]',                   \n",
      "                                                                  'dense[0][0]']                  \n",
      "                                                                                                  \n",
      " dense_1 (Dense)                (None, 32)           192         ['concatenate[0][0]']            \n",
      "                                                                                                  \n",
      " dense_2 (Dense)                (None, 64)           2112        ['dense_1[0][0]']                \n",
      "                                                                                                  \n",
      " dense_3 (Dense)                (None, 128)          8320        ['dense_2[0][0]']                \n",
      "                                                                                                  \n",
      " dense_4 (Dense)                (None, 256)          33024       ['dense_3[0][0]']                \n",
      "                                                                                                  \n",
      " dense_5 (Dense)                (None, 512)          131584      ['dense_4[0][0]']                \n",
      "                                                                                                  \n",
      " dense_6 (Dense)                (None, 256)          131328      ['dense_5[0][0]']                \n",
      "                                                                                                  \n",
      " dense_7 (Dense)                (None, 128)          32896       ['dense_6[0][0]']                \n",
      "                                                                                                  \n",
      " dense_8 (Dense)                (None, 64)           8256        ['dense_7[0][0]']                \n",
      "                                                                                                  \n",
      " dense_9 (Dense)                (None, 32)           2080        ['dense_8[0][0]']                \n",
      "                                                                                                  \n",
      " source_term_input (InputLayer)  [(None, 53)]        0           []                               \n",
      "                                                                                                  \n",
      " source_term_pred (Dense)       (None, 4)            132         ['dense_9[0][0]']                \n",
      "                                                                                                  \n",
      " source_term_truth (Functional)  (None, 4)           216         ['source_term_input[0][0]']      \n",
      "                                                                                                  \n",
      " souener_prediction (Dense)     (None, 1)            33          ['dense_9[0][0]']                \n",
      "                                                                                                  \n",
      " source_term_all (Concatenate)  (None, 8)            0           ['source_term_pred[0][0]',       \n",
      "                                                                  'source_term_truth[0][0]']      \n",
      "                                                                                                  \n",
      "==================================================================================================\n",
      "Total params: 350,173\n",
      "Trainable params: 350,173\n",
      "Non-trainable params: 0\n",
      "__________________________________________________________________________________________________\n"
     ]
    }
   ],
   "source": [
    "encoding_dim = 4\n",
    "n_species = len(Yi_cols) # only 52\n",
    "\n",
    "def get_source_term_truth_model(W_emb_layer):\n",
    "    source_term_inputs = keras.Input(shape=(n_species,), name='source_term_input')\n",
    "    source_term_truth = W_emb_layer(source_term_inputs)\n",
    "    source_term_truth_model = keras.Model(inputs=source_term_inputs, outputs=source_term_truth, name='source_term_truth')\n",
    "    return source_term_truth_model\n",
    "\n",
    "species_inputs = keras.Input(shape=(n_species,), name=\"species_input\")\n",
    "source_term_inputs = keras.Input(shape=(n_species,), name='source_term_input')\n",
    "Zmix = keras.Input(shape=(1,), name=\"Zmix\")\n",
    "\n",
    "W_emb_layer = layers.Dense(encoding_dim, activation=\"linear\",kernel_constraint=UnitNorm(axis=0),\n",
    "                 kernel_regularizer=WeightsOrthogonalityConstraint(encoding_dim, weightage=1., axis=0),\n",
    "                 activity_regularizer=UncorrelatedFeaturesConstraint(encoding_dim, weightage=1.))\n",
    "\n",
    "# use same layer to compute real source_terms as \n",
    "x = W_emb_layer(species_inputs)\n",
    "source_term_truth_model = get_source_term_truth_model(W_emb_layer)\n",
    "source_term_truth = source_term_truth_model(source_term_inputs)\n",
    "\n",
    "#Concatenate the Linear Embedding and Zmix together\n",
    "x = layers.Concatenate()([Zmix, x])\n",
    "\n",
    "x = layers.Dense(32, activation=\"relu\")(x)\n",
    "x = layers.Dense(64, activation=\"relu\")(x)\n",
    "x = layers.Dense(128, activation=\"relu\")(x)\n",
    "x = layers.Dense(256, activation=\"relu\")(x)\n",
    "x = layers.Dense(512, activation=\"relu\")(x)\n",
    "x = layers.Dense(256, activation=\"relu\")(x)\n",
    "x = layers.Dense(128, activation=\"relu\")(x)\n",
    "x = layers.Dense(64, activation=\"relu\")(x)\n",
    "x = layers.Dense(32, activation=\"relu\")(x)\n",
    "\n",
    "#Predict the source energy\n",
    "souener_pred = layers.Dense(1, name=\"souener_prediction\")(x)\n",
    "source_term_pred = layers.Dense(encoding_dim, name='source_term_pred')(x)\n",
    "\n",
    "# TODO: use me\n",
    "#base_regression_model = keras.Model(inputs=[species_inputs], outputs=[souener_pred, source_term_pred])\n",
    "\n",
    "# QUESTION: how to use loss that doesn't compare with actual training data?\n",
    "source_term_all = layers.Concatenate(name='source_term_all')([source_term_pred, source_term_truth])\n",
    "\n",
    "model = keras.Model(\n",
    "    inputs=[species_inputs,Zmix,source_term_inputs],\n",
    "    outputs=[souener_pred,source_term_all],\n",
    ")\n",
    "\n",
    "def source_term_loss(y_true, y_pred):\n",
    "    encoding_dim = y_true.shape[1]//2\n",
    "    abs_diff = tf.math.abs(y_pred[:,:encoding_dim]-y_pred[:,encoding_dim:])\n",
    "    #squared_difference = tf.square(y_true - y_pred)\n",
    "    return tf.reduce_mean(abs_diff, axis=-1)  # Note the `axis=-1`\n",
    "\n",
    "#losses='mae' # TODO: use me again for simple model\n",
    "losses={'souener_prediction': 'mae', 'source_term_all': source_term_loss}\n",
    "\n",
    "#,kernel_regularizer=WeightsOrthogonalityConstraint(encoding_dim, weightage=1., axis=0)\n",
    "#,kernel_constraint=UnitNorm(axis=0)\n",
    "#,activity_regularizer=UncorrelatedFeaturesConstraint(encoding_dim, weightage=1.)\n",
    "model.summary()"
   ]
  },
  {
   "cell_type": "code",
   "execution_count": 2,
   "id": "d18d5735",
   "metadata": {},
   "outputs": [
    {
     "ename": "NameError",
     "evalue": "name 'tf' is not defined",
     "output_type": "error",
     "traceback": [
      "\u001b[0;31m---------------------------------------------------------------------------\u001b[0m",
      "\u001b[0;31mNameError\u001b[0m                                 Traceback (most recent call last)",
      "\u001b[0;32m<ipython-input-2-a44b33329c57>\u001b[0m in \u001b[0;36m<module>\u001b[0;34m\u001b[0m\n\u001b[0;32m----> 1\u001b[0;31m tf.keras.utils.plot_model(model, to_file=\"model.png\",\n\u001b[0m\u001b[1;32m      2\u001b[0m     \u001b[0mshow_shapes\u001b[0m\u001b[0;34m=\u001b[0m\u001b[0;32mTrue\u001b[0m\u001b[0;34m,\u001b[0m\u001b[0;34m\u001b[0m\u001b[0;34m\u001b[0m\u001b[0m\n\u001b[1;32m      3\u001b[0m     \u001b[0mshow_layer_names\u001b[0m\u001b[0;34m=\u001b[0m\u001b[0;32mTrue\u001b[0m\u001b[0;34m,\u001b[0m\u001b[0;34m\u001b[0m\u001b[0;34m\u001b[0m\u001b[0m\n\u001b[1;32m      4\u001b[0m     \u001b[0mrankdir\u001b[0m\u001b[0;34m=\u001b[0m\u001b[0;34m\"TB\"\u001b[0m\u001b[0;34m,\u001b[0m\u001b[0;34m\u001b[0m\u001b[0;34m\u001b[0m\u001b[0m\n\u001b[1;32m      5\u001b[0m     \u001b[0mexpand_nested\u001b[0m\u001b[0;34m=\u001b[0m\u001b[0;32mFalse\u001b[0m\u001b[0;34m,\u001b[0m\u001b[0;34m\u001b[0m\u001b[0;34m\u001b[0m\u001b[0m\n",
      "\u001b[0;31mNameError\u001b[0m: name 'tf' is not defined"
     ]
    }
   ],
   "source": [
    "tf.keras.utils.plot_model(model, to_file=\"model.png\",\n",
    "    show_shapes=True,\n",
    "    show_layer_names=True,\n",
    "    rankdir=\"TB\",\n",
    "    expand_nested=False,\n",
    "    dpi=96)"
   ]
  },
  {
   "cell_type": "code",
   "execution_count": 43,
   "id": "7b845d6f",
   "metadata": {},
   "outputs": [],
   "source": [
    "def R2(yt,yp): return 1-tf.math.reduce_mean((yp-yt)**2)/(tf.math.reduce_std(yt)**2)\n",
    "def R2_split(yt,yp):\n",
    "    encoding_dim = yt.shape[1]//2\n",
    "    yt=yp[:,encoding_dim:]\n",
    "    yp=yp[:,:encoding_dim]\n",
    "    return 1-tf.math.reduce_mean((yp-yt)**2)/(tf.math.reduce_std(yt)**2)\n",
    "metrics = [R2,R2_split]\n",
    "model.compile(loss=losses,optimizer=tf.keras.optimizers.Adam(0.001), metrics=metrics)"
   ]
  },
  {
   "cell_type": "code",
   "execution_count": 44,
   "id": "8105ffe3",
   "metadata": {},
   "outputs": [
    {
     "name": "stdout",
     "output_type": "stream",
     "text": [
      "Epoch 1/100\n",
      "103/103 [==============================] - 3s 15ms/step - loss: 0.0187 - souener_prediction_loss: 0.0068 - source_term_all_loss: 0.0074 - souener_prediction_R2: 0.9825 - souener_prediction_R2_split: nan - source_term_all_R2: -inf - source_term_all_R2_split: 0.9553 - val_loss: 0.0168 - val_souener_prediction_loss: 0.0080 - val_source_term_all_loss: 0.0067 - val_souener_prediction_R2: 0.9845 - val_souener_prediction_R2_split: nan - val_source_term_all_R2: -inf - val_source_term_all_R2_split: 0.9649\n",
      "Epoch 2/100\n",
      "103/103 [==============================] - 1s 13ms/step - loss: 0.0147 - souener_prediction_loss: 0.0057 - source_term_all_loss: 0.0062 - souener_prediction_R2: 0.9881 - souener_prediction_R2_split: nan - source_term_all_R2: -inf - source_term_all_R2_split: 0.9615 - val_loss: 0.0130 - val_souener_prediction_loss: 0.0054 - val_source_term_all_loss: 0.0060 - val_souener_prediction_R2: 0.9892 - val_souener_prediction_R2_split: nan - val_source_term_all_R2: -inf - val_source_term_all_R2_split: 0.9649\n",
      "Epoch 3/100\n",
      "103/103 [==============================] - 1s 13ms/step - loss: 0.0150 - souener_prediction_loss: 0.0055 - source_term_all_loss: 0.0061 - souener_prediction_R2: 0.9901 - souener_prediction_R2_split: nan - source_term_all_R2: -inf - source_term_all_R2_split: 0.9653 - val_loss: 0.0163 - val_souener_prediction_loss: 0.0069 - val_source_term_all_loss: 0.0055 - val_souener_prediction_R2: 0.9849 - val_souener_prediction_R2_split: nan - val_source_term_all_R2: -inf - val_source_term_all_R2_split: 0.9700\n",
      "Epoch 4/100\n",
      "103/103 [==============================] - 1s 13ms/step - loss: 0.0151 - souener_prediction_loss: 0.0059 - source_term_all_loss: 0.0059 - souener_prediction_R2: 0.9873 - souener_prediction_R2_split: nan - source_term_all_R2: -inf - source_term_all_R2_split: 0.9669 - val_loss: 0.0148 - val_souener_prediction_loss: 0.0049 - val_source_term_all_loss: 0.0055 - val_souener_prediction_R2: 0.9893 - val_souener_prediction_R2_split: nan - val_source_term_all_R2: -inf - val_source_term_all_R2_split: 0.9648\n",
      "Epoch 5/100\n",
      "103/103 [==============================] - 1s 13ms/step - loss: 0.0136 - souener_prediction_loss: 0.0051 - source_term_all_loss: 0.0057 - souener_prediction_R2: 0.9888 - souener_prediction_R2_split: nan - source_term_all_R2: -inf - source_term_all_R2_split: 0.9671 - val_loss: 0.0127 - val_souener_prediction_loss: 0.0051 - val_source_term_all_loss: 0.0059 - val_souener_prediction_R2: 0.9895 - val_souener_prediction_R2_split: nan - val_source_term_all_R2: -inf - val_source_term_all_R2_split: 0.9677\n",
      "Epoch 6/100\n",
      "103/103 [==============================] - 1s 13ms/step - loss: 0.0129 - souener_prediction_loss: 0.0052 - source_term_all_loss: 0.0057 - souener_prediction_R2: 0.9894 - souener_prediction_R2_split: nan - source_term_all_R2: -inf - source_term_all_R2_split: 0.9678 - val_loss: 0.0113 - val_souener_prediction_loss: 0.0044 - val_source_term_all_loss: 0.0052 - val_souener_prediction_R2: 0.9923 - val_souener_prediction_R2_split: nan - val_source_term_all_R2: -inf - val_source_term_all_R2_split: 0.9679\n",
      "Epoch 7/100\n",
      "103/103 [==============================] - 1s 13ms/step - loss: 0.0119 - souener_prediction_loss: 0.0047 - source_term_all_loss: 0.0053 - souener_prediction_R2: 0.9915 - souener_prediction_R2_split: nan - source_term_all_R2: -inf - source_term_all_R2_split: 0.9680 - val_loss: 0.0121 - val_souener_prediction_loss: 0.0049 - val_source_term_all_loss: 0.0055 - val_souener_prediction_R2: 0.9912 - val_souener_prediction_R2_split: nan - val_source_term_all_R2: -inf - val_source_term_all_R2_split: 0.9700\n",
      "Epoch 8/100\n",
      "103/103 [==============================] - 1s 13ms/step - loss: 0.0120 - souener_prediction_loss: 0.0044 - source_term_all_loss: 0.0055 - souener_prediction_R2: 0.9929 - souener_prediction_R2_split: nan - source_term_all_R2: -inf - source_term_all_R2_split: 0.9686 - val_loss: 0.0117 - val_souener_prediction_loss: 0.0045 - val_source_term_all_loss: 0.0051 - val_souener_prediction_R2: 0.9925 - val_souener_prediction_R2_split: nan - val_source_term_all_R2: -inf - val_source_term_all_R2_split: 0.9721\n",
      "Epoch 9/100\n",
      "103/103 [==============================] - 1s 13ms/step - loss: 0.0125 - souener_prediction_loss: 0.0049 - source_term_all_loss: 0.0053 - souener_prediction_R2: 0.9922 - souener_prediction_R2_split: nan - source_term_all_R2: -inf - source_term_all_R2_split: 0.9696 - val_loss: 0.0131 - val_souener_prediction_loss: 0.0064 - val_source_term_all_loss: 0.0055 - val_souener_prediction_R2: 0.9864 - val_souener_prediction_R2_split: nan - val_source_term_all_R2: -inf - val_source_term_all_R2_split: 0.9684\n",
      "Epoch 10/100\n",
      "103/103 [==============================] - 1s 13ms/step - loss: 0.0126 - souener_prediction_loss: 0.0053 - source_term_all_loss: 0.0054 - souener_prediction_R2: 0.9901 - souener_prediction_R2_split: nan - source_term_all_R2: -inf - source_term_all_R2_split: 0.9700 - val_loss: 0.0122 - val_souener_prediction_loss: 0.0050 - val_source_term_all_loss: 0.0047 - val_souener_prediction_R2: 0.9906 - val_souener_prediction_R2_split: nan - val_source_term_all_R2: -inf - val_source_term_all_R2_split: 0.9731\n",
      "Epoch 11/100\n",
      "103/103 [==============================] - 1s 13ms/step - loss: 0.0122 - souener_prediction_loss: 0.0045 - source_term_all_loss: 0.0053 - souener_prediction_R2: 0.9926 - souener_prediction_R2_split: nan - source_term_all_R2: -inf - source_term_all_R2_split: 0.9703 - val_loss: 0.0143 - val_souener_prediction_loss: 0.0051 - val_source_term_all_loss: 0.0062 - val_souener_prediction_R2: 0.9893 - val_souener_prediction_R2_split: nan - val_source_term_all_R2: -inf - val_source_term_all_R2_split: 0.9660\n",
      "Epoch 12/100\n",
      "103/103 [==============================] - 1s 13ms/step - loss: 0.0116 - souener_prediction_loss: 0.0041 - source_term_all_loss: 0.0053 - souener_prediction_R2: 0.9938 - souener_prediction_R2_split: nan - source_term_all_R2: -inf - source_term_all_R2_split: 0.9676 - val_loss: 0.0107 - val_souener_prediction_loss: 0.0035 - val_source_term_all_loss: 0.0051 - val_souener_prediction_R2: 0.9938 - val_souener_prediction_R2_split: nan - val_source_term_all_R2: -inf - val_source_term_all_R2_split: 0.9739\n",
      "Epoch 13/100\n",
      "103/103 [==============================] - 1s 13ms/step - loss: 0.0125 - souener_prediction_loss: 0.0048 - source_term_all_loss: 0.0052 - souener_prediction_R2: 0.9897 - souener_prediction_R2_split: nan - source_term_all_R2: -inf - source_term_all_R2_split: 0.9700 - val_loss: 0.0105 - val_souener_prediction_loss: 0.0039 - val_source_term_all_loss: 0.0053 - val_souener_prediction_R2: 0.9931 - val_souener_prediction_R2_split: nan - val_source_term_all_R2: -inf - val_source_term_all_R2_split: 0.9740\n",
      "Epoch 14/100\n",
      "103/103 [==============================] - 1s 13ms/step - loss: 0.0118 - souener_prediction_loss: 0.0042 - source_term_all_loss: 0.0049 - souener_prediction_R2: 0.9928 - souener_prediction_R2_split: nan - source_term_all_R2: -inf - source_term_all_R2_split: 0.9717 - val_loss: 0.0112 - val_souener_prediction_loss: 0.0042 - val_source_term_all_loss: 0.0053 - val_souener_prediction_R2: 0.9898 - val_souener_prediction_R2_split: nan - val_source_term_all_R2: -inf - val_source_term_all_R2_split: 0.9708\n",
      "Epoch 15/100\n",
      "103/103 [==============================] - 1s 13ms/step - loss: 0.0114 - souener_prediction_loss: 0.0047 - source_term_all_loss: 0.0050 - souener_prediction_R2: 0.9930 - souener_prediction_R2_split: nan - source_term_all_R2: -inf - source_term_all_R2_split: 0.9705 - val_loss: 0.0102 - val_souener_prediction_loss: 0.0037 - val_source_term_all_loss: 0.0049 - val_souener_prediction_R2: 0.9938 - val_souener_prediction_R2_split: nan - val_source_term_all_R2: -inf - val_source_term_all_R2_split: 0.9705\n",
      "Epoch 16/100\n",
      "103/103 [==============================] - 1s 13ms/step - loss: 0.0103 - souener_prediction_loss: 0.0040 - source_term_all_loss: 0.0047 - souener_prediction_R2: 0.9938 - souener_prediction_R2_split: nan - source_term_all_R2: -inf - source_term_all_R2_split: 0.9727 - val_loss: 0.0117 - val_souener_prediction_loss: 0.0054 - val_source_term_all_loss: 0.0048 - val_souener_prediction_R2: 0.9915 - val_souener_prediction_R2_split: nan - val_source_term_all_R2: -inf - val_source_term_all_R2_split: 0.9738\n"
     ]
    },
    {
     "name": "stdout",
     "output_type": "stream",
     "text": [
      "Epoch 17/100\n",
      "103/103 [==============================] - 1s 13ms/step - loss: 0.0109 - souener_prediction_loss: 0.0042 - source_term_all_loss: 0.0048 - souener_prediction_R2: 0.9943 - souener_prediction_R2_split: nan - source_term_all_R2: -inf - source_term_all_R2_split: 0.9738 - val_loss: 0.0117 - val_souener_prediction_loss: 0.0050 - val_source_term_all_loss: 0.0051 - val_souener_prediction_R2: 0.9920 - val_souener_prediction_R2_split: nan - val_source_term_all_R2: -inf - val_source_term_all_R2_split: 0.9755\n",
      "Epoch 18/100\n",
      "103/103 [==============================] - 1s 13ms/step - loss: 0.0114 - souener_prediction_loss: 0.0043 - source_term_all_loss: 0.0047 - souener_prediction_R2: 0.9920 - souener_prediction_R2_split: nan - source_term_all_R2: -inf - source_term_all_R2_split: 0.9738 - val_loss: 0.0151 - val_souener_prediction_loss: 0.0064 - val_source_term_all_loss: 0.0056 - val_souener_prediction_R2: 0.9880 - val_souener_prediction_R2_split: nan - val_source_term_all_R2: -inf - val_source_term_all_R2_split: 0.9713\n",
      "Epoch 19/100\n",
      "103/103 [==============================] - 1s 13ms/step - loss: 0.0116 - souener_prediction_loss: 0.0044 - source_term_all_loss: 0.0048 - souener_prediction_R2: 0.9932 - souener_prediction_R2_split: nan - source_term_all_R2: -inf - source_term_all_R2_split: 0.9715 - val_loss: 0.0121 - val_souener_prediction_loss: 0.0055 - val_source_term_all_loss: 0.0049 - val_souener_prediction_R2: 0.9908 - val_souener_prediction_R2_split: nan - val_source_term_all_R2: -inf - val_source_term_all_R2_split: 0.9709\n",
      "Epoch 20/100\n",
      "103/103 [==============================] - 1s 13ms/step - loss: 0.0119 - souener_prediction_loss: 0.0048 - source_term_all_loss: 0.0051 - souener_prediction_R2: 0.9932 - souener_prediction_R2_split: nan - source_term_all_R2: -inf - source_term_all_R2_split: 0.9715 - val_loss: 0.0123 - val_souener_prediction_loss: 0.0058 - val_source_term_all_loss: 0.0053 - val_souener_prediction_R2: 0.9823 - val_souener_prediction_R2_split: nan - val_source_term_all_R2: -inf - val_source_term_all_R2_split: 0.9693\n",
      "Epoch 21/100\n",
      "103/103 [==============================] - 1s 13ms/step - loss: 0.0116 - souener_prediction_loss: 0.0042 - source_term_all_loss: 0.0047 - souener_prediction_R2: 0.9933 - souener_prediction_R2_split: nan - source_term_all_R2: -inf - source_term_all_R2_split: 0.9735 - val_loss: 0.0104 - val_souener_prediction_loss: 0.0039 - val_source_term_all_loss: 0.0049 - val_souener_prediction_R2: 0.9938 - val_souener_prediction_R2_split: nan - val_source_term_all_R2: -inf - val_source_term_all_R2_split: 0.9742\n",
      "Epoch 22/100\n",
      "103/103 [==============================] - 1s 13ms/step - loss: 0.0102 - souener_prediction_loss: 0.0036 - source_term_all_loss: 0.0047 - souener_prediction_R2: 0.9944 - souener_prediction_R2_split: nan - source_term_all_R2: -inf - source_term_all_R2_split: 0.9745 - val_loss: 0.0101 - val_souener_prediction_loss: 0.0031 - val_source_term_all_loss: 0.0050 - val_souener_prediction_R2: 0.9950 - val_souener_prediction_R2_split: nan - val_source_term_all_R2: -inf - val_source_term_all_R2_split: 0.9711\n",
      "Epoch 23/100\n",
      "103/103 [==============================] - 1s 13ms/step - loss: 0.0105 - souener_prediction_loss: 0.0041 - source_term_all_loss: 0.0044 - souener_prediction_R2: 0.9937 - souener_prediction_R2_split: nan - source_term_all_R2: -inf - source_term_all_R2_split: 0.9753 - val_loss: 0.0095 - val_souener_prediction_loss: 0.0029 - val_source_term_all_loss: 0.0045 - val_souener_prediction_R2: 0.9962 - val_souener_prediction_R2_split: nan - val_source_term_all_R2: -inf - val_source_term_all_R2_split: 0.9742\n",
      "Epoch 24/100\n",
      "103/103 [==============================] - 1s 13ms/step - loss: 0.0107 - souener_prediction_loss: 0.0039 - source_term_all_loss: 0.0045 - souener_prediction_R2: 0.9935 - souener_prediction_R2_split: nan - source_term_all_R2: -inf - source_term_all_R2_split: 0.9753 - val_loss: 0.0117 - val_souener_prediction_loss: 0.0046 - val_source_term_all_loss: 0.0045 - val_souener_prediction_R2: 0.9915 - val_souener_prediction_R2_split: nan - val_source_term_all_R2: -inf - val_source_term_all_R2_split: 0.9738\n",
      "Epoch 25/100\n",
      "103/103 [==============================] - 1s 13ms/step - loss: 0.0106 - souener_prediction_loss: 0.0041 - source_term_all_loss: 0.0043 - souener_prediction_R2: 0.9943 - souener_prediction_R2_split: nan - source_term_all_R2: -inf - source_term_all_R2_split: 0.9778 - val_loss: 0.0106 - val_souener_prediction_loss: 0.0044 - val_source_term_all_loss: 0.0042 - val_souener_prediction_R2: 0.9930 - val_souener_prediction_R2_split: nan - val_source_term_all_R2: -inf - val_source_term_all_R2_split: 0.9763\n",
      "Epoch 26/100\n",
      "103/103 [==============================] - 1s 13ms/step - loss: 0.0104 - souener_prediction_loss: 0.0041 - source_term_all_loss: 0.0044 - souener_prediction_R2: 0.9936 - souener_prediction_R2_split: nan - source_term_all_R2: -inf - source_term_all_R2_split: 0.9741 - val_loss: 0.0141 - val_souener_prediction_loss: 0.0061 - val_source_term_all_loss: 0.0060 - val_souener_prediction_R2: 0.9883 - val_souener_prediction_R2_split: nan - val_source_term_all_R2: -inf - val_source_term_all_R2_split: 0.9647\n",
      "Epoch 27/100\n",
      "103/103 [==============================] - 1s 13ms/step - loss: 0.0108 - souener_prediction_loss: 0.0040 - source_term_all_loss: 0.0046 - souener_prediction_R2: 0.9932 - souener_prediction_R2_split: nan - source_term_all_R2: -inf - source_term_all_R2_split: 0.9726 - val_loss: 0.0128 - val_souener_prediction_loss: 0.0052 - val_source_term_all_loss: 0.0055 - val_souener_prediction_R2: 0.9932 - val_souener_prediction_R2_split: nan - val_source_term_all_R2: -inf - val_source_term_all_R2_split: 0.9631\n",
      "Epoch 28/100\n",
      "103/103 [==============================] - 1s 13ms/step - loss: 0.0101 - souener_prediction_loss: 0.0036 - source_term_all_loss: 0.0043 - souener_prediction_R2: 0.9943 - souener_prediction_R2_split: nan - source_term_all_R2: -inf - source_term_all_R2_split: 0.9754 - val_loss: 0.0109 - val_souener_prediction_loss: 0.0040 - val_source_term_all_loss: 0.0044 - val_souener_prediction_R2: 0.9936 - val_souener_prediction_R2_split: nan - val_source_term_all_R2: -inf - val_source_term_all_R2_split: 0.9767\n",
      "Epoch 29/100\n",
      "103/103 [==============================] - 1s 13ms/step - loss: 0.0101 - souener_prediction_loss: 0.0036 - source_term_all_loss: 0.0043 - souener_prediction_R2: 0.9935 - souener_prediction_R2_split: nan - source_term_all_R2: -inf - source_term_all_R2_split: 0.9760 - val_loss: 0.0110 - val_souener_prediction_loss: 0.0037 - val_source_term_all_loss: 0.0055 - val_souener_prediction_R2: 0.9947 - val_souener_prediction_R2_split: nan - val_source_term_all_R2: -inf - val_source_term_all_R2_split: 0.9709\n",
      "Epoch 30/100\n",
      "103/103 [==============================] - 1s 13ms/step - loss: 0.0100 - souener_prediction_loss: 0.0039 - source_term_all_loss: 0.0045 - souener_prediction_R2: 0.9955 - souener_prediction_R2_split: nan - source_term_all_R2: -inf - source_term_all_R2_split: 0.9759 - val_loss: 0.0087 - val_souener_prediction_loss: 0.0033 - val_source_term_all_loss: 0.0041 - val_souener_prediction_R2: 0.9948 - val_souener_prediction_R2_split: nan - val_source_term_all_R2: -inf - val_source_term_all_R2_split: 0.9754\n",
      "Epoch 31/100\n",
      "103/103 [==============================] - 1s 13ms/step - loss: 0.0092 - souener_prediction_loss: 0.0036 - source_term_all_loss: 0.0041 - souener_prediction_R2: 0.9952 - souener_prediction_R2_split: nan - source_term_all_R2: -inf - source_term_all_R2_split: 0.9771 - val_loss: 0.0112 - val_souener_prediction_loss: 0.0043 - val_source_term_all_loss: 0.0042 - val_souener_prediction_R2: 0.9916 - val_souener_prediction_R2_split: nan - val_source_term_all_R2: -inf - val_source_term_all_R2_split: 0.9777\n",
      "Epoch 32/100\n",
      "103/103 [==============================] - 1s 13ms/step - loss: 0.0107 - souener_prediction_loss: 0.0041 - source_term_all_loss: 0.0045 - souener_prediction_R2: 0.9942 - souener_prediction_R2_split: nan - source_term_all_R2: -inf - source_term_all_R2_split: 0.9774 - val_loss: 0.0102 - val_souener_prediction_loss: 0.0045 - val_source_term_all_loss: 0.0046 - val_souener_prediction_R2: 0.9929 - val_souener_prediction_R2_split: nan - val_source_term_all_R2: -inf - val_source_term_all_R2_split: 0.9763\n"
     ]
    },
    {
     "name": "stdout",
     "output_type": "stream",
     "text": [
      "Epoch 33/100\n",
      "103/103 [==============================] - 1s 13ms/step - loss: 0.0099 - souener_prediction_loss: 0.0036 - source_term_all_loss: 0.0042 - souener_prediction_R2: 0.9950 - souener_prediction_R2_split: nan - source_term_all_R2: -inf - source_term_all_R2_split: 0.9777 - val_loss: 0.0093 - val_souener_prediction_loss: 0.0034 - val_source_term_all_loss: 0.0044 - val_souener_prediction_R2: 0.9956 - val_souener_prediction_R2_split: nan - val_source_term_all_R2: -inf - val_source_term_all_R2_split: 0.9762\n",
      "Epoch 34/100\n",
      "103/103 [==============================] - 1s 13ms/step - loss: 0.0103 - souener_prediction_loss: 0.0042 - source_term_all_loss: 0.0046 - souener_prediction_R2: 0.9929 - souener_prediction_R2_split: nan - source_term_all_R2: -inf - source_term_all_R2_split: 0.9759 - val_loss: 0.0102 - val_souener_prediction_loss: 0.0037 - val_source_term_all_loss: 0.0048 - val_souener_prediction_R2: 0.9942 - val_souener_prediction_R2_split: nan - val_source_term_all_R2: -inf - val_source_term_all_R2_split: 0.9703\n",
      "Epoch 35/100\n",
      "103/103 [==============================] - 1s 13ms/step - loss: 0.0102 - souener_prediction_loss: 0.0040 - source_term_all_loss: 0.0042 - souener_prediction_R2: 0.9937 - souener_prediction_R2_split: nan - source_term_all_R2: -inf - source_term_all_R2_split: 0.9783 - val_loss: 0.0097 - val_souener_prediction_loss: 0.0042 - val_source_term_all_loss: 0.0038 - val_souener_prediction_R2: 0.9932 - val_souener_prediction_R2_split: nan - val_source_term_all_R2: -inf - val_source_term_all_R2_split: 0.9786\n",
      "Epoch 36/100\n",
      "103/103 [==============================] - 1s 13ms/step - loss: 0.0093 - souener_prediction_loss: 0.0036 - source_term_all_loss: 0.0040 - souener_prediction_R2: 0.9948 - souener_prediction_R2_split: nan - source_term_all_R2: -inf - source_term_all_R2_split: 0.9784 - val_loss: 0.0113 - val_souener_prediction_loss: 0.0051 - val_source_term_all_loss: 0.0045 - val_souener_prediction_R2: 0.9916 - val_souener_prediction_R2_split: nan - val_source_term_all_R2: -inf - val_source_term_all_R2_split: 0.9766\n",
      "Epoch 37/100\n",
      "103/103 [==============================] - 1s 13ms/step - loss: 0.0093 - souener_prediction_loss: 0.0038 - source_term_all_loss: 0.0039 - souener_prediction_R2: 0.9941 - souener_prediction_R2_split: nan - source_term_all_R2: -inf - source_term_all_R2_split: 0.9794 - val_loss: 0.0142 - val_souener_prediction_loss: 0.0080 - val_source_term_all_loss: 0.0046 - val_souener_prediction_R2: 0.9826 - val_souener_prediction_R2_split: nan - val_source_term_all_R2: -inf - val_source_term_all_R2_split: 0.9738\n",
      "Epoch 38/100\n",
      "103/103 [==============================] - 1s 13ms/step - loss: 0.0101 - souener_prediction_loss: 0.0044 - source_term_all_loss: 0.0041 - souener_prediction_R2: 0.9920 - souener_prediction_R2_split: nan - source_term_all_R2: -inf - source_term_all_R2_split: 0.9774 - val_loss: 0.0103 - val_souener_prediction_loss: 0.0041 - val_source_term_all_loss: 0.0048 - val_souener_prediction_R2: 0.9931 - val_souener_prediction_R2_split: nan - val_source_term_all_R2: -inf - val_source_term_all_R2_split: 0.9750\n",
      "Epoch 39/100\n",
      "103/103 [==============================] - 1s 13ms/step - loss: 0.0097 - souener_prediction_loss: 0.0037 - source_term_all_loss: 0.0042 - souener_prediction_R2: 0.9946 - souener_prediction_R2_split: nan - source_term_all_R2: -inf - source_term_all_R2_split: 0.9790 - val_loss: 0.0117 - val_souener_prediction_loss: 0.0039 - val_source_term_all_loss: 0.0045 - val_souener_prediction_R2: 0.9926 - val_souener_prediction_R2_split: nan - val_source_term_all_R2: -inf - val_source_term_all_R2_split: 0.9745\n",
      "Epoch 40/100\n",
      "103/103 [==============================] - 1s 13ms/step - loss: 0.0104 - souener_prediction_loss: 0.0042 - source_term_all_loss: 0.0039 - souener_prediction_R2: 0.9921 - souener_prediction_R2_split: nan - source_term_all_R2: -inf - source_term_all_R2_split: 0.9797 - val_loss: 0.0104 - val_souener_prediction_loss: 0.0045 - val_source_term_all_loss: 0.0045 - val_souener_prediction_R2: 0.9926 - val_souener_prediction_R2_split: nan - val_source_term_all_R2: -inf - val_source_term_all_R2_split: 0.9759\n",
      "Epoch 41/100\n",
      "103/103 [==============================] - 1s 13ms/step - loss: 0.0093 - souener_prediction_loss: 0.0036 - source_term_all_loss: 0.0038 - souener_prediction_R2: 0.9950 - souener_prediction_R2_split: nan - source_term_all_R2: -inf - source_term_all_R2_split: 0.9808 - val_loss: 0.0093 - val_souener_prediction_loss: 0.0040 - val_source_term_all_loss: 0.0044 - val_souener_prediction_R2: 0.9880 - val_souener_prediction_R2_split: nan - val_source_term_all_R2: -inf - val_source_term_all_R2_split: 0.9700\n",
      "Epoch 42/100\n",
      "103/103 [==============================] - 1s 13ms/step - loss: 0.0099 - souener_prediction_loss: 0.0039 - source_term_all_loss: 0.0039 - souener_prediction_R2: 0.9947 - souener_prediction_R2_split: nan - source_term_all_R2: -inf - source_term_all_R2_split: 0.9808 - val_loss: 0.0094 - val_souener_prediction_loss: 0.0040 - val_source_term_all_loss: 0.0042 - val_souener_prediction_R2: 0.9949 - val_souener_prediction_R2_split: nan - val_source_term_all_R2: -inf - val_source_term_all_R2_split: 0.9770\n",
      "Epoch 43/100\n",
      "103/103 [==============================] - 1s 13ms/step - loss: 0.0083 - souener_prediction_loss: 0.0033 - source_term_all_loss: 0.0037 - souener_prediction_R2: 0.9962 - souener_prediction_R2_split: nan - source_term_all_R2: -inf - source_term_all_R2_split: 0.9813 - val_loss: 0.0083 - val_souener_prediction_loss: 0.0029 - val_source_term_all_loss: 0.0040 - val_souener_prediction_R2: 0.9950 - val_souener_prediction_R2_split: nan - val_source_term_all_R2: -inf - val_source_term_all_R2_split: 0.9797\n",
      "Epoch 44/100\n",
      "103/103 [==============================] - 1s 13ms/step - loss: 0.0087 - souener_prediction_loss: 0.0034 - source_term_all_loss: 0.0039 - souener_prediction_R2: 0.9964 - souener_prediction_R2_split: nan - source_term_all_R2: -inf - source_term_all_R2_split: 0.9823 - val_loss: 0.0103 - val_souener_prediction_loss: 0.0045 - val_source_term_all_loss: 0.0043 - val_souener_prediction_R2: 0.9947 - val_souener_prediction_R2_split: nan - val_source_term_all_R2: -inf - val_source_term_all_R2_split: 0.9784\n",
      "Epoch 45/100\n",
      "103/103 [==============================] - 1s 13ms/step - loss: 0.0095 - souener_prediction_loss: 0.0039 - source_term_all_loss: 0.0039 - souener_prediction_R2: 0.9937 - souener_prediction_R2_split: nan - source_term_all_R2: -inf - source_term_all_R2_split: 0.9799 - val_loss: 0.0105 - val_souener_prediction_loss: 0.0033 - val_source_term_all_loss: 0.0041 - val_souener_prediction_R2: 0.9960 - val_souener_prediction_R2_split: nan - val_source_term_all_R2: -inf - val_source_term_all_R2_split: 0.9733\n",
      "Epoch 46/100\n",
      "103/103 [==============================] - 1s 13ms/step - loss: 0.0093 - souener_prediction_loss: 0.0032 - source_term_all_loss: 0.0039 - souener_prediction_R2: 0.9950 - souener_prediction_R2_split: nan - source_term_all_R2: -inf - source_term_all_R2_split: 0.9809 - val_loss: 0.0105 - val_souener_prediction_loss: 0.0040 - val_source_term_all_loss: 0.0042 - val_souener_prediction_R2: 0.9921 - val_souener_prediction_R2_split: nan - val_source_term_all_R2: -inf - val_source_term_all_R2_split: 0.9780\n",
      "Epoch 47/100\n",
      "103/103 [==============================] - 1s 13ms/step - loss: 0.0095 - souener_prediction_loss: 0.0036 - source_term_all_loss: 0.0038 - souener_prediction_R2: 0.9956 - souener_prediction_R2_split: nan - source_term_all_R2: -inf - source_term_all_R2_split: 0.9819 - val_loss: 0.0102 - val_souener_prediction_loss: 0.0032 - val_source_term_all_loss: 0.0042 - val_souener_prediction_R2: 0.9946 - val_souener_prediction_R2_split: nan - val_source_term_all_R2: -inf - val_source_term_all_R2_split: 0.9733\n",
      "Epoch 48/100\n",
      "103/103 [==============================] - 1s 13ms/step - loss: 0.0096 - souener_prediction_loss: 0.0036 - source_term_all_loss: 0.0040 - souener_prediction_R2: 0.9954 - souener_prediction_R2_split: nan - source_term_all_R2: -inf - source_term_all_R2_split: 0.9806 - val_loss: 0.0093 - val_souener_prediction_loss: 0.0043 - val_source_term_all_loss: 0.0036 - val_souener_prediction_R2: 0.9931 - val_souener_prediction_R2_split: nan - val_source_term_all_R2: -inf - val_source_term_all_R2_split: 0.9796\n"
     ]
    },
    {
     "name": "stdout",
     "output_type": "stream",
     "text": [
      "Epoch 49/100\n",
      "103/103 [==============================] - 1s 13ms/step - loss: 0.0102 - souener_prediction_loss: 0.0045 - source_term_all_loss: 0.0041 - souener_prediction_R2: 0.9925 - souener_prediction_R2_split: nan - source_term_all_R2: -inf - source_term_all_R2_split: 0.9794 - val_loss: 0.0102 - val_souener_prediction_loss: 0.0039 - val_source_term_all_loss: 0.0046 - val_souener_prediction_R2: 0.9920 - val_souener_prediction_R2_split: nan - val_source_term_all_R2: -inf - val_source_term_all_R2_split: 0.9753\n",
      "Epoch 50/100\n",
      "103/103 [==============================] - 1s 13ms/step - loss: 0.0085 - souener_prediction_loss: 0.0035 - source_term_all_loss: 0.0036 - souener_prediction_R2: 0.9939 - souener_prediction_R2_split: nan - source_term_all_R2: -inf - source_term_all_R2_split: 0.9828 - val_loss: 0.0082 - val_souener_prediction_loss: 0.0029 - val_source_term_all_loss: 0.0037 - val_souener_prediction_R2: 0.9970 - val_souener_prediction_R2_split: nan - val_source_term_all_R2: -inf - val_source_term_all_R2_split: 0.9799\n",
      "Epoch 51/100\n",
      "103/103 [==============================] - 1s 13ms/step - loss: 0.0084 - souener_prediction_loss: 0.0035 - source_term_all_loss: 0.0036 - souener_prediction_R2: 0.9959 - souener_prediction_R2_split: nan - source_term_all_R2: -inf - source_term_all_R2_split: 0.9826 - val_loss: 0.0087 - val_souener_prediction_loss: 0.0030 - val_source_term_all_loss: 0.0042 - val_souener_prediction_R2: 0.9962 - val_souener_prediction_R2_split: nan - val_source_term_all_R2: -inf - val_source_term_all_R2_split: 0.9804\n",
      "Epoch 52/100\n",
      "103/103 [==============================] - 1s 13ms/step - loss: 0.0088 - souener_prediction_loss: 0.0035 - source_term_all_loss: 0.0038 - souener_prediction_R2: 0.9947 - souener_prediction_R2_split: nan - source_term_all_R2: -inf - source_term_all_R2_split: 0.9804 - val_loss: 0.0089 - val_souener_prediction_loss: 0.0036 - val_source_term_all_loss: 0.0041 - val_souener_prediction_R2: 0.9959 - val_souener_prediction_R2_split: nan - val_source_term_all_R2: -inf - val_source_term_all_R2_split: 0.9792\n",
      "Epoch 53/100\n",
      "103/103 [==============================] - 1s 13ms/step - loss: 0.0090 - souener_prediction_loss: 0.0033 - source_term_all_loss: 0.0036 - souener_prediction_R2: 0.9964 - souener_prediction_R2_split: nan - source_term_all_R2: -inf - source_term_all_R2_split: 0.9830 - val_loss: 0.0093 - val_souener_prediction_loss: 0.0028 - val_source_term_all_loss: 0.0039 - val_souener_prediction_R2: 0.9945 - val_souener_prediction_R2_split: nan - val_source_term_all_R2: -inf - val_source_term_all_R2_split: 0.9816\n",
      "Epoch 54/100\n",
      "103/103 [==============================] - 1s 13ms/step - loss: 0.0102 - souener_prediction_loss: 0.0043 - source_term_all_loss: 0.0038 - souener_prediction_R2: 0.9913 - souener_prediction_R2_split: nan - source_term_all_R2: -inf - source_term_all_R2_split: 0.9811 - val_loss: 0.0102 - val_souener_prediction_loss: 0.0034 - val_source_term_all_loss: 0.0041 - val_souener_prediction_R2: 0.9932 - val_souener_prediction_R2_split: nan - val_source_term_all_R2: -inf - val_source_term_all_R2_split: 0.9758\n",
      "Epoch 55/100\n",
      "103/103 [==============================] - 1s 13ms/step - loss: 0.0091 - souener_prediction_loss: 0.0036 - source_term_all_loss: 0.0038 - souener_prediction_R2: 0.9917 - souener_prediction_R2_split: nan - source_term_all_R2: -inf - source_term_all_R2_split: 0.9810 - val_loss: 0.0085 - val_souener_prediction_loss: 0.0033 - val_source_term_all_loss: 0.0040 - val_souener_prediction_R2: 0.9916 - val_souener_prediction_R2_split: nan - val_source_term_all_R2: -inf - val_source_term_all_R2_split: 0.9759\n",
      "Epoch 56/100\n",
      "103/103 [==============================] - 1s 13ms/step - loss: 0.0088 - souener_prediction_loss: 0.0036 - source_term_all_loss: 0.0038 - souener_prediction_R2: 0.9955 - souener_prediction_R2_split: nan - source_term_all_R2: -inf - source_term_all_R2_split: 0.9814 - val_loss: 0.0091 - val_souener_prediction_loss: 0.0036 - val_source_term_all_loss: 0.0040 - val_souener_prediction_R2: 0.9962 - val_souener_prediction_R2_split: nan - val_source_term_all_R2: -inf - val_source_term_all_R2_split: 0.9797\n",
      "Epoch 57/100\n",
      "103/103 [==============================] - 1s 13ms/step - loss: 0.0085 - souener_prediction_loss: 0.0031 - source_term_all_loss: 0.0035 - souener_prediction_R2: 0.9959 - souener_prediction_R2_split: nan - source_term_all_R2: -inf - source_term_all_R2_split: 0.9846 - val_loss: 0.0082 - val_souener_prediction_loss: 0.0029 - val_source_term_all_loss: 0.0038 - val_souener_prediction_R2: 0.9965 - val_souener_prediction_R2_split: nan - val_source_term_all_R2: -inf - val_source_term_all_R2_split: 0.9796\n",
      "Epoch 58/100\n",
      "103/103 [==============================] - 1s 13ms/step - loss: 0.0089 - souener_prediction_loss: 0.0038 - source_term_all_loss: 0.0036 - souener_prediction_R2: 0.9955 - souener_prediction_R2_split: nan - source_term_all_R2: -inf - source_term_all_R2_split: 0.9847 - val_loss: 0.0116 - val_souener_prediction_loss: 0.0053 - val_source_term_all_loss: 0.0045 - val_souener_prediction_R2: 0.9900 - val_souener_prediction_R2_split: nan - val_source_term_all_R2: -inf - val_source_term_all_R2_split: 0.9767\n",
      "Epoch 59/100\n",
      "103/103 [==============================] - 1s 13ms/step - loss: 0.0099 - souener_prediction_loss: 0.0037 - source_term_all_loss: 0.0038 - souener_prediction_R2: 0.9947 - souener_prediction_R2_split: nan - source_term_all_R2: -inf - source_term_all_R2_split: 0.9839 - val_loss: 0.0085 - val_souener_prediction_loss: 0.0029 - val_source_term_all_loss: 0.0037 - val_souener_prediction_R2: 0.9940 - val_souener_prediction_R2_split: nan - val_source_term_all_R2: -inf - val_source_term_all_R2_split: 0.9783\n",
      "Epoch 60/100\n",
      "103/103 [==============================] - 1s 13ms/step - loss: 0.0088 - souener_prediction_loss: 0.0030 - source_term_all_loss: 0.0037 - souener_prediction_R2: 0.9965 - souener_prediction_R2_split: nan - source_term_all_R2: -inf - source_term_all_R2_split: 0.9838 - val_loss: 0.0115 - val_souener_prediction_loss: 0.0050 - val_source_term_all_loss: 0.0041 - val_souener_prediction_R2: 0.9893 - val_souener_prediction_R2_split: nan - val_source_term_all_R2: -inf - val_source_term_all_R2_split: 0.9752\n",
      "Epoch 61/100\n",
      "103/103 [==============================] - 1s 13ms/step - loss: 0.0094 - souener_prediction_loss: 0.0032 - source_term_all_loss: 0.0037 - souener_prediction_R2: 0.9962 - souener_prediction_R2_split: nan - source_term_all_R2: -inf - source_term_all_R2_split: 0.9835 - val_loss: 0.0105 - val_souener_prediction_loss: 0.0052 - val_source_term_all_loss: 0.0043 - val_souener_prediction_R2: 0.9890 - val_souener_prediction_R2_split: nan - val_source_term_all_R2: -inf - val_source_term_all_R2_split: 0.9737\n",
      "Epoch 62/100\n",
      "103/103 [==============================] - 1s 13ms/step - loss: 0.0086 - souener_prediction_loss: 0.0031 - source_term_all_loss: 0.0036 - souener_prediction_R2: 0.9970 - souener_prediction_R2_split: nan - source_term_all_R2: -inf - source_term_all_R2_split: 0.9848 - val_loss: 0.0104 - val_souener_prediction_loss: 0.0040 - val_source_term_all_loss: 0.0039 - val_souener_prediction_R2: 0.9939 - val_souener_prediction_R2_split: nan - val_source_term_all_R2: -inf - val_source_term_all_R2_split: 0.9785\n",
      "Epoch 63/100\n",
      "103/103 [==============================] - 1s 13ms/step - loss: 0.0087 - souener_prediction_loss: 0.0031 - source_term_all_loss: 0.0036 - souener_prediction_R2: 0.9944 - souener_prediction_R2_split: nan - source_term_all_R2: -inf - source_term_all_R2_split: 0.9844 - val_loss: 0.0125 - val_souener_prediction_loss: 0.0060 - val_source_term_all_loss: 0.0049 - val_souener_prediction_R2: 0.9884 - val_souener_prediction_R2_split: nan - val_source_term_all_R2: -inf - val_source_term_all_R2_split: 0.9708\n",
      "Epoch 64/100\n",
      "103/103 [==============================] - 1s 13ms/step - loss: 0.0088 - souener_prediction_loss: 0.0037 - source_term_all_loss: 0.0035 - souener_prediction_R2: 0.9946 - souener_prediction_R2_split: nan - source_term_all_R2: -inf - source_term_all_R2_split: 0.9863 - val_loss: 0.0091 - val_souener_prediction_loss: 0.0041 - val_source_term_all_loss: 0.0036 - val_souener_prediction_R2: 0.9931 - val_souener_prediction_R2_split: nan - val_source_term_all_R2: -inf - val_source_term_all_R2_split: 0.9820\n"
     ]
    },
    {
     "name": "stdout",
     "output_type": "stream",
     "text": [
      "Epoch 65/100\n",
      "103/103 [==============================] - 1s 13ms/step - loss: 0.0078 - souener_prediction_loss: 0.0030 - source_term_all_loss: 0.0034 - souener_prediction_R2: 0.9970 - souener_prediction_R2_split: nan - source_term_all_R2: -inf - source_term_all_R2_split: 0.9867 - val_loss: 0.0081 - val_souener_prediction_loss: 0.0027 - val_source_term_all_loss: 0.0037 - val_souener_prediction_R2: 0.9964 - val_souener_prediction_R2_split: nan - val_source_term_all_R2: -inf - val_source_term_all_R2_split: 0.9828\n",
      "Epoch 66/100\n",
      "103/103 [==============================] - 1s 13ms/step - loss: 0.0084 - souener_prediction_loss: 0.0030 - source_term_all_loss: 0.0036 - souener_prediction_R2: 0.9950 - souener_prediction_R2_split: nan - source_term_all_R2: -inf - source_term_all_R2_split: 0.9850 - val_loss: 0.0089 - val_souener_prediction_loss: 0.0031 - val_source_term_all_loss: 0.0035 - val_souener_prediction_R2: 0.9953 - val_souener_prediction_R2_split: nan - val_source_term_all_R2: -inf - val_source_term_all_R2_split: 0.9780\n",
      "Epoch 67/100\n",
      "103/103 [==============================] - 1s 13ms/step - loss: 0.0088 - souener_prediction_loss: 0.0033 - source_term_all_loss: 0.0035 - souener_prediction_R2: 0.9952 - souener_prediction_R2_split: nan - source_term_all_R2: -inf - source_term_all_R2_split: 0.9861 - val_loss: 0.0096 - val_souener_prediction_loss: 0.0030 - val_source_term_all_loss: 0.0035 - val_souener_prediction_R2: 0.9956 - val_souener_prediction_R2_split: nan - val_source_term_all_R2: -inf - val_source_term_all_R2_split: 0.9824\n",
      "Epoch 68/100\n",
      "103/103 [==============================] - 1s 13ms/step - loss: 0.0086 - souener_prediction_loss: 0.0031 - source_term_all_loss: 0.0033 - souener_prediction_R2: 0.9965 - souener_prediction_R2_split: nan - source_term_all_R2: -inf - source_term_all_R2_split: 0.9869 - val_loss: 0.0079 - val_souener_prediction_loss: 0.0028 - val_source_term_all_loss: 0.0039 - val_souener_prediction_R2: 0.9970 - val_souener_prediction_R2_split: nan - val_source_term_all_R2: -inf - val_source_term_all_R2_split: 0.9844\n",
      "Epoch 69/100\n",
      "103/103 [==============================] - 1s 13ms/step - loss: 0.0082 - souener_prediction_loss: 0.0033 - source_term_all_loss: 0.0035 - souener_prediction_R2: 0.9965 - souener_prediction_R2_split: nan - source_term_all_R2: -inf - source_term_all_R2_split: 0.9872 - val_loss: 0.0089 - val_souener_prediction_loss: 0.0040 - val_source_term_all_loss: 0.0035 - val_souener_prediction_R2: 0.9955 - val_souener_prediction_R2_split: nan - val_source_term_all_R2: -inf - val_source_term_all_R2_split: 0.9843\n",
      "Epoch 70/100\n",
      "103/103 [==============================] - 1s 13ms/step - loss: 0.0083 - souener_prediction_loss: 0.0033 - source_term_all_loss: 0.0035 - souener_prediction_R2: 0.9960 - souener_prediction_R2_split: nan - source_term_all_R2: -inf - source_term_all_R2_split: 0.9868 - val_loss: 0.0089 - val_souener_prediction_loss: 0.0027 - val_source_term_all_loss: 0.0036 - val_souener_prediction_R2: 0.9943 - val_souener_prediction_R2_split: nan - val_source_term_all_R2: -inf - val_source_term_all_R2_split: 0.9826\n",
      "Epoch 71/100\n",
      "103/103 [==============================] - 1s 13ms/step - loss: 0.0092 - souener_prediction_loss: 0.0039 - source_term_all_loss: 0.0034 - souener_prediction_R2: 0.9938 - souener_prediction_R2_split: nan - source_term_all_R2: -inf - source_term_all_R2_split: 0.9868 - val_loss: 0.0075 - val_souener_prediction_loss: 0.0025 - val_source_term_all_loss: 0.0035 - val_souener_prediction_R2: 0.9967 - val_souener_prediction_R2_split: nan - val_source_term_all_R2: -inf - val_source_term_all_R2_split: 0.9827\n",
      "Epoch 72/100\n",
      "103/103 [==============================] - 1s 13ms/step - loss: 0.0073 - souener_prediction_loss: 0.0027 - source_term_all_loss: 0.0031 - souener_prediction_R2: 0.9961 - souener_prediction_R2_split: nan - source_term_all_R2: -inf - source_term_all_R2_split: 0.9880 - val_loss: 0.0068 - val_souener_prediction_loss: 0.0023 - val_source_term_all_loss: 0.0029 - val_souener_prediction_R2: 0.9974 - val_souener_prediction_R2_split: nan - val_source_term_all_R2: -inf - val_source_term_all_R2_split: 0.9831\n",
      "Epoch 73/100\n",
      "103/103 [==============================] - 1s 13ms/step - loss: 0.0072 - souener_prediction_loss: 0.0028 - source_term_all_loss: 0.0030 - souener_prediction_R2: 0.9963 - souener_prediction_R2_split: nan - source_term_all_R2: -inf - source_term_all_R2_split: 0.9897 - val_loss: 0.0077 - val_souener_prediction_loss: 0.0028 - val_source_term_all_loss: 0.0034 - val_souener_prediction_R2: 0.9949 - val_souener_prediction_R2_split: nan - val_source_term_all_R2: -inf - val_source_term_all_R2_split: 0.9830\n",
      "Epoch 74/100\n",
      "103/103 [==============================] - 1s 13ms/step - loss: 0.0081 - souener_prediction_loss: 0.0034 - source_term_all_loss: 0.0033 - souener_prediction_R2: 0.9956 - souener_prediction_R2_split: nan - source_term_all_R2: -inf - source_term_all_R2_split: 0.9875 - val_loss: 0.0084 - val_souener_prediction_loss: 0.0034 - val_source_term_all_loss: 0.0037 - val_souener_prediction_R2: 0.9949 - val_souener_prediction_R2_split: nan - val_source_term_all_R2: -inf - val_source_term_all_R2_split: 0.9821\n",
      "Epoch 75/100\n",
      "103/103 [==============================] - 1s 13ms/step - loss: 0.0081 - souener_prediction_loss: 0.0033 - source_term_all_loss: 0.0035 - souener_prediction_R2: 0.9958 - souener_prediction_R2_split: nan - source_term_all_R2: -inf - source_term_all_R2_split: 0.9869 - val_loss: 0.0076 - val_souener_prediction_loss: 0.0027 - val_source_term_all_loss: 0.0037 - val_souener_prediction_R2: 0.9966 - val_souener_prediction_R2_split: nan - val_source_term_all_R2: -inf - val_source_term_all_R2_split: 0.9800\n",
      "Epoch 76/100\n",
      "103/103 [==============================] - 1s 13ms/step - loss: 0.0078 - souener_prediction_loss: 0.0033 - source_term_all_loss: 0.0032 - souener_prediction_R2: 0.9936 - souener_prediction_R2_split: nan - source_term_all_R2: -inf - source_term_all_R2_split: 0.9869 - val_loss: 0.0077 - val_souener_prediction_loss: 0.0030 - val_source_term_all_loss: 0.0036 - val_souener_prediction_R2: 0.9950 - val_souener_prediction_R2_split: nan - val_source_term_all_R2: -inf - val_source_term_all_R2_split: 0.9801\n",
      "Epoch 77/100\n",
      "103/103 [==============================] - 1s 13ms/step - loss: 0.0079 - souener_prediction_loss: 0.0031 - source_term_all_loss: 0.0032 - souener_prediction_R2: 0.9962 - souener_prediction_R2_split: nan - source_term_all_R2: -inf - source_term_all_R2_split: 0.9872 - val_loss: 0.0072 - val_souener_prediction_loss: 0.0027 - val_source_term_all_loss: 0.0030 - val_souener_prediction_R2: 0.9961 - val_souener_prediction_R2_split: nan - val_source_term_all_R2: -inf - val_source_term_all_R2_split: 0.9846\n",
      "Epoch 78/100\n",
      "103/103 [==============================] - 1s 13ms/step - loss: 0.0073 - souener_prediction_loss: 0.0026 - source_term_all_loss: 0.0031 - souener_prediction_R2: 0.9970 - souener_prediction_R2_split: nan - source_term_all_R2: -inf - source_term_all_R2_split: 0.9892 - val_loss: 0.0072 - val_souener_prediction_loss: 0.0028 - val_source_term_all_loss: 0.0034 - val_souener_prediction_R2: 0.9960 - val_souener_prediction_R2_split: nan - val_source_term_all_R2: -inf - val_source_term_all_R2_split: 0.9822\n",
      "Epoch 79/100\n",
      "103/103 [==============================] - 1s 13ms/step - loss: 0.0078 - souener_prediction_loss: 0.0027 - source_term_all_loss: 0.0032 - souener_prediction_R2: 0.9972 - souener_prediction_R2_split: nan - source_term_all_R2: -inf - source_term_all_R2_split: 0.9889 - val_loss: 0.0070 - val_souener_prediction_loss: 0.0023 - val_source_term_all_loss: 0.0034 - val_souener_prediction_R2: 0.9970 - val_souener_prediction_R2_split: nan - val_source_term_all_R2: -inf - val_source_term_all_R2_split: 0.9819\n",
      "Epoch 80/100\n",
      "103/103 [==============================] - 1s 13ms/step - loss: 0.0079 - souener_prediction_loss: 0.0031 - source_term_all_loss: 0.0033 - souener_prediction_R2: 0.9969 - souener_prediction_R2_split: nan - source_term_all_R2: -inf - source_term_all_R2_split: 0.9885 - val_loss: 0.0111 - val_souener_prediction_loss: 0.0058 - val_source_term_all_loss: 0.0041 - val_souener_prediction_R2: 0.9923 - val_souener_prediction_R2_split: nan - val_source_term_all_R2: -inf - val_source_term_all_R2_split: 0.9782\n"
     ]
    },
    {
     "name": "stdout",
     "output_type": "stream",
     "text": [
      "Epoch 81/100\n",
      "103/103 [==============================] - 1s 13ms/step - loss: 0.0077 - souener_prediction_loss: 0.0032 - source_term_all_loss: 0.0032 - souener_prediction_R2: 0.9967 - souener_prediction_R2_split: nan - source_term_all_R2: -inf - source_term_all_R2_split: 0.9881 - val_loss: 0.0072 - val_souener_prediction_loss: 0.0028 - val_source_term_all_loss: 0.0030 - val_souener_prediction_R2: 0.9958 - val_souener_prediction_R2_split: nan - val_source_term_all_R2: -inf - val_source_term_all_R2_split: 0.9850\n",
      "Epoch 82/100\n",
      "103/103 [==============================] - 1s 13ms/step - loss: 0.0076 - souener_prediction_loss: 0.0031 - source_term_all_loss: 0.0032 - souener_prediction_R2: 0.9967 - souener_prediction_R2_split: nan - source_term_all_R2: -inf - source_term_all_R2_split: 0.9884 - val_loss: 0.0074 - val_souener_prediction_loss: 0.0026 - val_source_term_all_loss: 0.0035 - val_souener_prediction_R2: 0.9975 - val_souener_prediction_R2_split: nan - val_source_term_all_R2: -inf - val_source_term_all_R2_split: 0.9804\n",
      "Epoch 83/100\n",
      "103/103 [==============================] - 1s 13ms/step - loss: 0.0080 - souener_prediction_loss: 0.0032 - source_term_all_loss: 0.0030 - souener_prediction_R2: 0.9968 - souener_prediction_R2_split: nan - source_term_all_R2: -inf - source_term_all_R2_split: 0.9893 - val_loss: 0.0078 - val_souener_prediction_loss: 0.0036 - val_source_term_all_loss: 0.0029 - val_souener_prediction_R2: 0.9970 - val_souener_prediction_R2_split: nan - val_source_term_all_R2: -inf - val_source_term_all_R2_split: 0.9836\n",
      "Epoch 84/100\n",
      "103/103 [==============================] - 1s 13ms/step - loss: 0.0090 - souener_prediction_loss: 0.0036 - source_term_all_loss: 0.0033 - souener_prediction_R2: 0.9940 - souener_prediction_R2_split: nan - source_term_all_R2: -inf - source_term_all_R2_split: 0.9867 - val_loss: 0.0099 - val_souener_prediction_loss: 0.0037 - val_source_term_all_loss: 0.0034 - val_souener_prediction_R2: 0.9947 - val_souener_prediction_R2_split: nan - val_source_term_all_R2: -inf - val_source_term_all_R2_split: 0.9823\n",
      "Epoch 85/100\n",
      "103/103 [==============================] - 1s 13ms/step - loss: 0.0079 - souener_prediction_loss: 0.0028 - source_term_all_loss: 0.0031 - souener_prediction_R2: 0.9962 - souener_prediction_R2_split: nan - source_term_all_R2: -inf - source_term_all_R2_split: 0.9884 - val_loss: 0.0085 - val_souener_prediction_loss: 0.0029 - val_source_term_all_loss: 0.0038 - val_souener_prediction_R2: 0.9954 - val_souener_prediction_R2_split: nan - val_source_term_all_R2: -inf - val_source_term_all_R2_split: 0.9810\n",
      "Epoch 86/100\n",
      "103/103 [==============================] - 1s 13ms/step - loss: 0.0079 - souener_prediction_loss: 0.0033 - source_term_all_loss: 0.0032 - souener_prediction_R2: 0.9958 - souener_prediction_R2_split: nan - source_term_all_R2: -inf - source_term_all_R2_split: 0.9883 - val_loss: 0.0080 - val_souener_prediction_loss: 0.0030 - val_source_term_all_loss: 0.0037 - val_souener_prediction_R2: 0.9957 - val_souener_prediction_R2_split: nan - val_source_term_all_R2: -inf - val_source_term_all_R2_split: 0.9796\n",
      "Epoch 87/100\n",
      "103/103 [==============================] - 1s 13ms/step - loss: 0.0073 - souener_prediction_loss: 0.0030 - source_term_all_loss: 0.0031 - souener_prediction_R2: 0.9956 - souener_prediction_R2_split: nan - source_term_all_R2: -inf - source_term_all_R2_split: 0.9893 - val_loss: 0.0075 - val_souener_prediction_loss: 0.0033 - val_source_term_all_loss: 0.0031 - val_souener_prediction_R2: 0.9955 - val_souener_prediction_R2_split: nan - val_source_term_all_R2: -inf - val_source_term_all_R2_split: 0.9866\n",
      "Epoch 88/100\n",
      "103/103 [==============================] - 1s 13ms/step - loss: 0.0070 - souener_prediction_loss: 0.0029 - source_term_all_loss: 0.0029 - souener_prediction_R2: 0.9962 - souener_prediction_R2_split: nan - source_term_all_R2: -inf - source_term_all_R2_split: 0.9902 - val_loss: 0.0076 - val_souener_prediction_loss: 0.0034 - val_source_term_all_loss: 0.0031 - val_souener_prediction_R2: 0.9944 - val_souener_prediction_R2_split: nan - val_source_term_all_R2: -inf - val_source_term_all_R2_split: 0.9828\n",
      "Epoch 89/100\n",
      "103/103 [==============================] - 1s 13ms/step - loss: 0.0071 - souener_prediction_loss: 0.0026 - source_term_all_loss: 0.0031 - souener_prediction_R2: 0.9975 - souener_prediction_R2_split: nan - source_term_all_R2: -inf - source_term_all_R2_split: 0.9898 - val_loss: 0.0067 - val_souener_prediction_loss: 0.0025 - val_source_term_all_loss: 0.0031 - val_souener_prediction_R2: 0.9966 - val_souener_prediction_R2_split: nan - val_source_term_all_R2: -inf - val_source_term_all_R2_split: 0.9843\n",
      "Epoch 90/100\n",
      "103/103 [==============================] - 1s 13ms/step - loss: 0.0069 - souener_prediction_loss: 0.0026 - source_term_all_loss: 0.0029 - souener_prediction_R2: 0.9978 - souener_prediction_R2_split: nan - source_term_all_R2: -inf - source_term_all_R2_split: 0.9904 - val_loss: 0.0080 - val_souener_prediction_loss: 0.0025 - val_source_term_all_loss: 0.0036 - val_souener_prediction_R2: 0.9956 - val_souener_prediction_R2_split: nan - val_source_term_all_R2: -inf - val_source_term_all_R2_split: 0.9817\n",
      "Epoch 91/100\n",
      "103/103 [==============================] - 1s 13ms/step - loss: 0.0073 - souener_prediction_loss: 0.0027 - source_term_all_loss: 0.0030 - souener_prediction_R2: 0.9965 - souener_prediction_R2_split: nan - source_term_all_R2: -inf - source_term_all_R2_split: 0.9901 - val_loss: 0.0074 - val_souener_prediction_loss: 0.0027 - val_source_term_all_loss: 0.0033 - val_souener_prediction_R2: 0.9958 - val_souener_prediction_R2_split: nan - val_source_term_all_R2: -inf - val_source_term_all_R2_split: 0.9833\n",
      "Epoch 92/100\n",
      "103/103 [==============================] - 1s 13ms/step - loss: 0.0080 - souener_prediction_loss: 0.0030 - source_term_all_loss: 0.0031 - souener_prediction_R2: 0.9970 - souener_prediction_R2_split: nan - source_term_all_R2: -inf - source_term_all_R2_split: 0.9892 - val_loss: 0.0072 - val_souener_prediction_loss: 0.0026 - val_source_term_all_loss: 0.0033 - val_souener_prediction_R2: 0.9967 - val_souener_prediction_R2_split: nan - val_source_term_all_R2: -inf - val_source_term_all_R2_split: 0.9862\n",
      "Epoch 93/100\n",
      "103/103 [==============================] - 1s 13ms/step - loss: 0.0071 - souener_prediction_loss: 0.0028 - source_term_all_loss: 0.0029 - souener_prediction_R2: 0.9970 - souener_prediction_R2_split: nan - source_term_all_R2: -inf - source_term_all_R2_split: 0.9897 - val_loss: 0.0078 - val_souener_prediction_loss: 0.0032 - val_source_term_all_loss: 0.0033 - val_souener_prediction_R2: 0.9951 - val_souener_prediction_R2_split: nan - val_source_term_all_R2: -inf - val_source_term_all_R2_split: 0.9834\n",
      "Epoch 94/100\n",
      "103/103 [==============================] - 1s 13ms/step - loss: 0.0076 - souener_prediction_loss: 0.0031 - source_term_all_loss: 0.0031 - souener_prediction_R2: 0.9955 - souener_prediction_R2_split: nan - source_term_all_R2: -inf - source_term_all_R2_split: 0.9900 - val_loss: 0.0091 - val_souener_prediction_loss: 0.0023 - val_source_term_all_loss: 0.0039 - val_souener_prediction_R2: 0.9970 - val_souener_prediction_R2_split: nan - val_source_term_all_R2: -inf - val_source_term_all_R2_split: 0.9796\n",
      "Epoch 95/100\n",
      "103/103 [==============================] - 1s 13ms/step - loss: 0.0090 - souener_prediction_loss: 0.0035 - source_term_all_loss: 0.0036 - souener_prediction_R2: 0.9959 - souener_prediction_R2_split: nan - source_term_all_R2: -inf - source_term_all_R2_split: 0.9872 - val_loss: 0.0094 - val_souener_prediction_loss: 0.0035 - val_source_term_all_loss: 0.0034 - val_souener_prediction_R2: 0.9935 - val_souener_prediction_R2_split: nan - val_source_term_all_R2: -inf - val_source_term_all_R2_split: 0.9840\n",
      "Epoch 96/100\n",
      "103/103 [==============================] - 1s 13ms/step - loss: 0.0084 - souener_prediction_loss: 0.0028 - source_term_all_loss: 0.0034 - souener_prediction_R2: 0.9956 - souener_prediction_R2_split: nan - source_term_all_R2: -inf - source_term_all_R2_split: 0.9871 - val_loss: 0.0099 - val_souener_prediction_loss: 0.0020 - val_source_term_all_loss: 0.0036 - val_souener_prediction_R2: 0.9972 - val_souener_prediction_R2_split: nan - val_source_term_all_R2: -inf - val_source_term_all_R2_split: 0.9783\n"
     ]
    },
    {
     "name": "stdout",
     "output_type": "stream",
     "text": [
      "Epoch 97/100\n",
      "103/103 [==============================] - 1s 13ms/step - loss: 0.0080 - souener_prediction_loss: 0.0028 - source_term_all_loss: 0.0028 - souener_prediction_R2: 0.9970 - souener_prediction_R2_split: nan - source_term_all_R2: -inf - source_term_all_R2_split: 0.9903 - val_loss: 0.0095 - val_souener_prediction_loss: 0.0051 - val_source_term_all_loss: 0.0038 - val_souener_prediction_R2: 0.9864 - val_souener_prediction_R2_split: nan - val_source_term_all_R2: -inf - val_source_term_all_R2_split: 0.9753\n",
      "Epoch 98/100\n",
      "103/103 [==============================] - 1s 13ms/step - loss: 0.0077 - souener_prediction_loss: 0.0028 - source_term_all_loss: 0.0030 - souener_prediction_R2: 0.9967 - souener_prediction_R2_split: nan - source_term_all_R2: -inf - source_term_all_R2_split: 0.9885 - val_loss: 0.0076 - val_souener_prediction_loss: 0.0029 - val_source_term_all_loss: 0.0031 - val_souener_prediction_R2: 0.9970 - val_souener_prediction_R2_split: nan - val_source_term_all_R2: -inf - val_source_term_all_R2_split: 0.9846\n",
      "Epoch 99/100\n",
      "103/103 [==============================] - 1s 13ms/step - loss: 0.0078 - souener_prediction_loss: 0.0030 - source_term_all_loss: 0.0030 - souener_prediction_R2: 0.9953 - souener_prediction_R2_split: nan - source_term_all_R2: -inf - source_term_all_R2_split: 0.9890 - val_loss: 0.0067 - val_souener_prediction_loss: 0.0027 - val_source_term_all_loss: 0.0027 - val_souener_prediction_R2: 0.9946 - val_souener_prediction_R2_split: nan - val_source_term_all_R2: -inf - val_source_term_all_R2_split: 0.9870\n",
      "Epoch 100/100\n",
      "103/103 [==============================] - 1s 13ms/step - loss: 0.0070 - souener_prediction_loss: 0.0028 - source_term_all_loss: 0.0028 - souener_prediction_R2: 0.9975 - souener_prediction_R2_split: nan - source_term_all_R2: -inf - source_term_all_R2_split: 0.9908 - val_loss: 0.0088 - val_souener_prediction_loss: 0.0038 - val_source_term_all_loss: 0.0034 - val_souener_prediction_R2: 0.9956 - val_souener_prediction_R2_split: nan - val_source_term_all_R2: -inf - val_source_term_all_R2_split: 0.9833\n",
      "CPU times: user 3min 21s, sys: 21.2 s, total: 3min 42s\n",
      "Wall time: 2min 14s\n"
     ]
    }
   ],
   "source": [
    "%%time\n",
    "\n",
    "normalized_species_train = halfData[\"normalized_species_train\"]\n",
    "normalized_sources_train = halfData['normalized_sources_train']\n",
    "Zmix_train = halfData[\"Zmix_train\"]\n",
    "normalized_souener_train = halfData[\"normalized_souener_train\"]\n",
    "\n",
    "dummy_source_term_data = np.zeros(shape=(normalized_souener_train.shape[0],8))\n",
    "\n",
    "history = model.fit({'species_input': normalized_species_train,'Zmix': Zmix_train, 'source_term_input': normalized_sources_train}, \n",
    "                     {'souener_prediction': normalized_souener_train, 'source_term_all': dummy_source_term_data},\n",
    "                     validation_split=0.2,\n",
    "                     verbose=1, \n",
    "                     epochs=100,\n",
    "                     batch_size=64,\n",
    "                     callbacks=[es])"
   ]
  },
  {
   "cell_type": "code",
   "execution_count": 40,
   "id": "f9a29ce9",
   "metadata": {},
   "outputs": [
    {
     "ename": "NameError",
     "evalue": "name 'history' is not defined",
     "output_type": "error",
     "traceback": [
      "\u001b[0;31m---------------------------------------------------------------------------\u001b[0m",
      "\u001b[0;31mNameError\u001b[0m                                 Traceback (most recent call last)",
      "\u001b[0;32m<ipython-input-40-a5d8c9c0dab5>\u001b[0m in \u001b[0;36m<module>\u001b[0;34m\u001b[0m\n\u001b[0;32m----> 1\u001b[0;31m \u001b[0mplot_loss\u001b[0m\u001b[0;34m(\u001b[0m\u001b[0mhistory\u001b[0m\u001b[0;34m)\u001b[0m\u001b[0;34m\u001b[0m\u001b[0;34m\u001b[0m\u001b[0m\n\u001b[0m",
      "\u001b[0;31mNameError\u001b[0m: name 'history' is not defined"
     ]
    }
   ],
   "source": [
    "plot_loss(history)"
   ]
  },
  {
   "cell_type": "code",
   "execution_count": 29,
   "id": "d23d74cc",
   "metadata": {},
   "outputs": [],
   "source": [
    "normalized_species_test = halfData[\"normalized_species_test\"]\n",
    "normalized_sources_test = halfData['normalized_sources_test']\n",
    "\n",
    "Zmix_test =  halfData[\"Zmix_test\"]\n",
    "\n",
    "predictions = model.predict({'species_input': normalized_species_test,'Zmix': Zmix_test, 'source_term_input': normalized_sources_test})[0]\n",
    "\n",
    "normalized_souener_pred = predictions"
   ]
  },
  {
   "cell_type": "code",
   "execution_count": 30,
   "id": "b1130d2a",
   "metadata": {},
   "outputs": [],
   "source": [
    "scaler_souener = halfData[\"scaler_souener\"]\n",
    "Y_pred = scaler_souener.inverse_transform(normalized_souener_pred)\n",
    "Y_pred = Y_pred.flatten()\n",
    "Y_test = halfData[\"Y_test\"]"
   ]
  },
  {
   "cell_type": "code",
   "execution_count": 33,
   "id": "77ee78b0",
   "metadata": {},
   "outputs": [
    {
     "name": "stdout",
     "output_type": "stream",
     "text": [
      "Total Absolute Error:  5058426166734.437\n",
      "Mean Absolute Error:  615230621.10611\n",
      "Mean Percentage Error:  62.08635555097395\n",
      "Total Squared Error:  3.6513484543220305e+22\n",
      "Mean Squared Error:  4.4409492268572493e+18\n",
      "Number of Points:  8222\n",
      "Scientific Notation: 6.1523062110610995*10^8\n"
     ]
    }
   ],
   "source": [
    "err = computeAndPrintError(Y_pred, Y_test)\n",
    "\n",
    "def print_scientific_notation(number):\n",
    "    power = int(np.log(number)/np.log(10))\n",
    "    print(f\"Scientific Notation: {(number/10**power)}*10^{power}\")\n",
    "print_scientific_notation(615230621.10611)"
   ]
  },
  {
   "cell_type": "code",
   "execution_count": 21,
   "id": "6cba76aa",
   "metadata": {},
   "outputs": [
    {
     "ename": "NameError",
     "evalue": "name 'sns' is not defined",
     "output_type": "error",
     "traceback": [
      "\u001b[0;31m---------------------------------------------------------------------------\u001b[0m",
      "\u001b[0;31mNameError\u001b[0m                                 Traceback (most recent call last)",
      "\u001b[0;32m<ipython-input-21-768af68e50e2>\u001b[0m in \u001b[0;36m<module>\u001b[0;34m\u001b[0m\n\u001b[0;32m----> 1\u001b[0;31m \u001b[0msns\u001b[0m\u001b[0;34m.\u001b[0m\u001b[0mresidplot\u001b[0m\u001b[0;34m(\u001b[0m\u001b[0mY_test\u001b[0m\u001b[0;34m.\u001b[0m\u001b[0mflatten\u001b[0m\u001b[0;34m(\u001b[0m\u001b[0;34m)\u001b[0m\u001b[0;34m,\u001b[0m \u001b[0mgetResiduals\u001b[0m\u001b[0;34m(\u001b[0m\u001b[0mY_test\u001b[0m\u001b[0;34m,\u001b[0m\u001b[0mY_pred\u001b[0m\u001b[0;34m)\u001b[0m\u001b[0;34m)\u001b[0m\u001b[0;34m\u001b[0m\u001b[0;34m\u001b[0m\u001b[0m\n\u001b[0m",
      "\u001b[0;31mNameError\u001b[0m: name 'sns' is not defined"
     ]
    }
   ],
   "source": [
    "sns.residplot(Y_test.flatten(), getResiduals(Y_test,Y_pred))"
   ]
  },
  {
   "cell_type": "markdown",
   "id": "4b7d87ab",
   "metadata": {},
   "source": [
    "## RESULTS SUMMARY"
   ]
  },
  {
   "cell_type": "markdown",
   "id": "0f8cc651",
   "metadata": {},
   "source": [
    "<table>\n",
    "<tr>\n",
    "<td>Method </td>\n",
    "<td>MAE</td>\n",
    "</tr>\n",
    "<tr>\n",
    "<td>Framework </td>\n",
    "<td>2.24 E+09</td>\n",
    "</tr>\n",
    "<tr>\n",
    "<td>DNN (Non-Linear Embedding) </td>\n",
    "<td>9.304 E+08</td>\n",
    "</tr>    \n",
    "<tr>\n",
    "<td>DNN (Linear Embedding [No Constraints]) </td>\n",
    "<td>2.042 E+09</td>\n",
    "</tr>       \n",
    "<tr>\n",
    "<td>ChemTab (Unit Norm Constraints) </td>\n",
    "<td>6.28 E+08</td>\n",
    "</tr>\n",
    "<tr>\n",
    "<td>ChemTab (Orthogonal Weights Constraints) </td>\n",
    "<td>6.05 E+08</td>\n",
    "</tr>\n",
    "<tr>\n",
    "<td>ChemTab (Uncorrelated Features Constraints) </td>\n",
    "<td>5.7 E+08</td>\n",
    "</tr>\n",
    "<tr>\n",
    "<td>ChemTab (All Constraints) </td>\n",
    "<td>8.008 E+08</td>\n",
    "</tr>\n",
    "    \n",
    "</table>"
   ]
  }
 ],
 "metadata": {
  "kernelspec": {
   "display_name": "Python 3",
   "language": "python",
   "name": "python3"
  },
  "language_info": {
   "codemirror_mode": {
    "name": "ipython",
    "version": 3
   },
   "file_extension": ".py",
   "mimetype": "text/x-python",
   "name": "python",
   "nbconvert_exporter": "python",
   "pygments_lexer": "ipython3",
   "version": "3.8.8"
  }
 },
 "nbformat": 4,
 "nbformat_minor": 5
}
