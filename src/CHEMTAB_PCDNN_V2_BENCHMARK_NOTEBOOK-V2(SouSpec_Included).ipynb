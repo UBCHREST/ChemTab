{
 "cells": [
  {
   "cell_type": "markdown",
   "metadata": {},
   "source": [
    "# ChemTab (PCDNN_V2) Benchmark Notebook\n",
    "### This notebook contains experiments around the different parameters for the model\n",
    "#### Amol Salunkhe"
   ]
  },
  {
   "cell_type": "markdown",
   "metadata": {},
   "source": [
    "Develop a deep neural architecture ChemTab that jointly optimizes two neural networks for the tasks of reduced basis learning (encoder) and reverse lookup function learning (regressor). The first network (Shallow AutoEncoder) will focus on linear dimensionality reduction and create a linear embedding for the source species. The second network (Deep Regressor) will focus on learning a lookup function from the linear embedding to the Thermo-chemical state variables.\n",
    "\n",
    "\n",
    "### Progress variable(s) \n",
    "The progress variable $C_i$ is commonly defined from a combination of reactive scalars such as chemical species or temperature. Although its definition is not unique, the choice of a suitable progress variable should be guided by the following\n",
    "principles:\n",
    "\n",
    "- The definition of $C_i$ should result in a transport equation that can be conveniently solved in a combustion simulation.\n",
    "- The reactive scalars from which $C_i$ is constructed should all evolve on comparable time scales.\n",
    "- All parameters that define the manifold should be independent of one another.\n",
    "- The set of parameters from which the manifold is formed should uniquely characterize each point in the thermochemical state-space.\n",
    "\n",
    "\n",
    "### Overall Problem Formulation\n",
    "\n",
    "\\begin{equation}\\label{eqn:lossfunc}\n",
    "    \\begin{aligned}\n",
    "    \\textrm{min} \\quad \\mathcal{L}_{joint} = \\lambda_{encoder} * \\mathcal{L}_{encoder} + \\lambda_{regressor}* \\mathcal{L}_{regressor} \n",
    "    \\end{aligned}\n",
    "\\end{equation}\n",
    "\n",
    "### Reduced Basis Problem Formulation (Encoder)\n",
    "\n",
    "\\begin{equation}\\label{eqn:Reduced-Basis-Learning}\n",
    "    \\begin{aligned}\n",
    "    \\def\\sss{\\scriptscriptstyle}\n",
    "    {}\n",
    "    \\def\\stacktype{L}\n",
    "        {\\mathrm{Y^{'}}}{\\sss n\\times k} =  {Y}{\\sss n\\times s} \\times {W}{\\sss s\\times k} \\\\\n",
    "        \\textrm{s.t.,} \\quad k \\ll s\\\\\n",
    "        \\quad Y^{'T}Y^{'} = I\\\\\n",
    "        \\mathrm{\\phi}(Y) \\approx \\mathrm{\\phi}(Y^{'})\\\\\n",
    "        \\textrm{where, W is the Reduced Basis / encoder} \\\\\n",
    "        \\mathrm{\\phi} \\quad \\textrm{is the Reverse Lookup function / regressor}\n",
    "    \\end{aligned}\n",
    "\\end{equation}\n",
    "\n",
    "\n",
    "### Lookup Learning Problem Formulation (Regressor)\n",
    "\n",
    "\\begin{equation}\\label{eqn:Reverse-Lookup-Learning}\n",
    "    \\begin{aligned}\n",
    "        \\textrm{min} \\quad ||{S_i} - \\mathrm{\\phi}(Y^{'}_i)||_{p}\\\\\n",
    "        \\textrm{s.t.,} \\quad p \\in R \\\\\n",
    "        \\quad k \\ll s\\\\\n",
    "        \\mathrm{\\phi}(Y) \\approx \\mathrm{\\phi}(Y^{'})\\\\\n",
    "    \\end{aligned}\n",
    "\\end{equation}\n",
    "\n"
   ]
  },
  {
   "cell_type": "code",
   "execution_count": 1,
   "metadata": {},
   "outputs": [],
   "source": [
    "import pandas as pd\n",
    "import matplotlib.pyplot as plt\n",
    "import numpy as np\n",
    "from sklearn.linear_model import Ridge, LinearRegression\n",
    "from sklearn import gaussian_process\n",
    "from sklearn.gaussian_process import GaussianProcessRegressor\n",
    "import scipy.optimize\n",
    "from sklearn.utils.optimize import _check_optimize_result\n",
    "from sklearn.gaussian_process.kernels import Matern, RBF, WhiteKernel, RationalQuadratic, ExpSineSquared\n",
    "import time\n",
    "from sklearn.decomposition import PCA, SparsePCA\n",
    "%matplotlib inline\n",
    "import seaborn as sns\n",
    "import tensorflow as tf\n",
    "from tensorflow import keras\n",
    "from tensorflow.keras.models import Model\n",
    "from tensorflow.keras import layers\n",
    "from tensorflow.keras.layers.experimental import preprocessing\n",
    "import tensorflow_probability as tfp\n",
    "from tensorflow.keras.callbacks import EarlyStopping\n",
    "from tensorflow.keras import regularizers, activations, initializers, constraints, Sequential\n",
    "from tensorflow.keras.constraints import UnitNorm, Constraint\n",
    "import sys"
   ]
  },
  {
   "cell_type": "markdown",
   "metadata": {},
   "source": [
    "# Load and prepare data"
   ]
  },
  {
   "cell_type": "code",
   "execution_count": 2,
   "metadata": {},
   "outputs": [],
   "source": [
    "class PositiveLogNormal:\n",
    "    def __init__(self):\n",
    "        self.max_value = 0\n",
    "        return\n",
    "    \n",
    "    def set_max_value(self,max_value):\n",
    "        self.max_value = max_value\n",
    "        return \n",
    "    \n",
    "    def get_max_value(self):\n",
    "        return self.max_value\n",
    "        \n",
    "    def fit_transform(self,data):\n",
    "        temp = pd.DataFrame(data=data, columns=[\"target\"])\n",
    "        max_value = temp[\"target\"].max()\n",
    "        self.set_max_value(max_value)\n",
    "        #2*self.set_max_value --> to account for max that may be out of this dataset\n",
    "        temp['transfomed'] = temp.apply(lambda row: np.log1p((row.target + 2*self.max_value)), axis=1)\n",
    "        transfomed_data = temp['transfomed'].values\n",
    "        transfomed_data = transfomed_data.reshape(transfomed_data.shape[0], 1)\n",
    "        return transfomed_data\n",
    "    \n",
    "    def inverse_transform(self,transformeddata):\n",
    "        #todo: complete this\n",
    "        temp = pd.DataFrame(data=transformeddata, columns=[\"target\"])\n",
    "        temp['inverse'] = temp.apply(lambda row:  np.expm1((row.target)) - 2*self.max_value, axis=1)\n",
    "        data = temp['inverse'].values\n",
    "        data = data.reshape(data.shape[0], 1)\n",
    "        return data"
   ]
  },
  {
   "cell_type": "code",
   "execution_count": 3,
   "metadata": {},
   "outputs": [],
   "source": [
    "class WeightsOrthogonalityConstraint (Constraint):\n",
    "    def __init__(self, encoding_dim, weightage = 1.0, axis = 0):\n",
    "        self.encoding_dim = encoding_dim\n",
    "        self.weightage = weightage\n",
    "        self.axis = axis\n",
    "        \n",
    "    def weights_orthogonality(self, w):\n",
    "        if(self.axis==1):\n",
    "            w = tf.transpose(w)\n",
    "        if(self.encoding_dim > 1):\n",
    "            m = tf.matmul(tf.transpose(w), w) - tf.eye(self.encoding_dim)\n",
    "            return self.weightage * tf.math.sqrt(tf.math.reduce_sum(tf.math.square(m)))\n",
    "        else:\n",
    "            m = tf.math.reduce_sum(w ** 2) - 1.\n",
    "            return m\n",
    "\n",
    "    def __call__(self, w):\n",
    "        return self.weights_orthogonality(w)\n",
    "    \n",
    "    def get_config(self):\n",
    "        return {'axis':self.axis,'weightage':self.weightage,'encoding_dim':self.encoding_dim}\n",
    "    \n",
    "\n",
    "class UncorrelatedFeaturesConstraint (Constraint):\n",
    "\n",
    "    def __init__(self, encoding_dim, weightage=1.0):\n",
    "        self.encoding_dim = encoding_dim\n",
    "        \n",
    "        self.weightage = weightage\n",
    "\n",
    "        self.covariance = None\n",
    "        \n",
    "    def get_covariance(self, x):\n",
    "        x_centered_list = []\n",
    "\n",
    "        for i in range(self.encoding_dim):\n",
    "            x_centered_list.append(x[:, i] - tf.math.reduce_mean(x[:, i]))\n",
    "\n",
    "        x_centered = tf.stack(x_centered_list)\n",
    "        \n",
    "        covariance = tf.matmul(x_centered, tf.transpose(x_centered)) / tf.cast(x_centered.get_shape()[0], tf.float32)\n",
    "        #covariance = tf.matmul(x_centered, tf.transpose(x_centered)) / tf.cast(tf.shape(x_centered)[0], tf.float32)\n",
    "\n",
    "        return covariance\n",
    "\n",
    "    # Constraint penalty\n",
    "    def uncorrelated_feature(self, x):\n",
    "        if(self.encoding_dim <= 1):\n",
    "            return 0.0\n",
    "        else:\n",
    "            output = tf.math.reduce_sum(tf.math.square(self.covariance - tf.math.multiply(self.covariance, tf.eye(self.encoding_dim))))\n",
    "            return output\n",
    "\n",
    "    def __call__(self, x):\n",
    "        self.covariance = self.get_covariance(x)\n",
    "        return self.weightage * self.uncorrelated_feature(x)\n",
    "    \n",
    "    def get_config(self):\n",
    "        return {'weightage': self.weightage, 'encoding_dim':self.encoding_dim}\n"
   ]
  },
  {
   "cell_type": "code",
   "execution_count": 4,
   "metadata": {},
   "outputs": [],
   "source": [
    "def getIntermediateLayers(x):\n",
    "    x = layers.Dense(4, activation=\"relu\")(x)\n",
    "    '''\n",
    "    x = layers.Dense(64, activation=\"relu\")(x)\n",
    "    x = layers.Dense(128, activation=\"relu\")(x)\n",
    "    x = layers.Dense(256, activation=\"relu\")(x)\n",
    "    x = layers.Dense(512, activation=\"relu\")(x)\n",
    "    x = layers.Dropout(0.5)(x)\n",
    "    x = layers.Dense(256, activation=\"relu\")(x)\n",
    "    x = layers.Dense(128, activation=\"relu\")(x)\n",
    "    x = layers.Dense(64, activation=\"relu\")(x)\n",
    "    x = layers.Dense(32, activation=\"relu\")(x)\n",
    "    '''\n",
    "    return x\n",
    "\n",
    "def getLinearLayer(noOfInputNeurons,noOfCpv,kernel_constraint='Y',kernel_regularizer='Y',activity_regularizer='Y'):\n",
    "    if kernel_constraint=='Y'and kernel_regularizer =='N' and activity_regularizer =='N':\n",
    "        layer = layers.Dense(noOfCpv,use_bias=False, name=\"linear_embedding\", activation=\"linear\",kernel_constraint=UnitNorm(axis=0))\n",
    "\n",
    "    elif kernel_constraint=='N'and kernel_regularizer =='Y' and activity_regularizer =='N':\n",
    "        layer = layers.Dense(noOfCpv,use_bias=False, name=\"linear_embedding\", activation=\"linear\",kernel_regularizer=WeightsOrthogonalityConstraint(noOfCpv, weightage=1., axis=0))\n",
    "\n",
    "    elif kernel_constraint=='N'and kernel_regularizer =='N' and activity_regularizer =='Y':\n",
    "        layer = layers.Dense(noOfCpv,use_bias=False, name=\"linear_embedding\", activation=\"linear\",activity_regularizer=UncorrelatedFeaturesConstraint(noOfCpv, weightage=1.))\n",
    "\n",
    "    elif kernel_constraint=='Y'and kernel_regularizer =='Y' and activity_regularizer =='N':\n",
    "        layer = layers.Dense(noOfCpv,use_bias=False, name=\"linear_embedding\", activation=\"linear\",kernel_constraint=UnitNorm(axis=0),kernel_regularizer=WeightsOrthogonalityConstraint(noOfCpv, weightage=1., axis=0))\n",
    "\n",
    "    elif kernel_constraint=='Y'and kernel_regularizer =='N' and activity_regularizer =='Y':\n",
    "        layer = layers.Dense(noOfCpv,use_bias=False, name=\"linear_embedding\", activation=\"linear\",kernel_constraint=UnitNorm(axis=0),activity_regularizer=UncorrelatedFeaturesConstraint(noOfCpv, weightage=1.))\n",
    "\n",
    "    elif kernel_constraint=='N'and kernel_regularizer =='Y' and activity_regularizer =='Y':\n",
    "        layer = layers.Dense(noOfCpv,use_bias=False, name=\"linear_embedding\", activation=\"linear\",kernel_regularizer=WeightsOrthogonalityConstraint(noOfCpv, weightage=1., axis=0),activity_regularizer=UncorrelatedFeaturesConstraint(noOfCpv, weightage=1.))\n",
    "\n",
    "    elif kernel_constraint=='N'and kernel_regularizer =='N' and activity_regularizer =='N':\n",
    "        layer = layers.Dense(noOfCpv,use_bias=False, name=\"linear_embedding\", activation=\"linear\")\n",
    "\n",
    "    else:\n",
    "        layer = layers.Dense(noOfCpv,use_bias=False, name=\"linear_embedding\", activation=\"linear\",kernel_constraint=UnitNorm(axis=0),kernel_regularizer=WeightsOrthogonalityConstraint(noOfCpv, weightage=1., axis=0),activity_regularizer=UncorrelatedFeaturesConstraint(noOfCpv, weightage=1.))\n",
    "    return layer"
   ]
  },
  {
   "cell_type": "code",
   "execution_count": 5,
   "metadata": {},
   "outputs": [
    {
     "name": "stdout",
     "output_type": "stream",
     "text": [
      "Model: \"model\"\n",
      "_________________________________________________________________\n",
      " Layer (type)                Output Shape              Param #   \n",
      "=================================================================\n",
      " species_input (InputLayer)  [(None, 3)]               0         \n",
      "                                                                 \n",
      " linear_embedding (Dense)    (None, 2)                 6         \n",
      "                                                                 \n",
      "=================================================================\n",
      "Total params: 6\n",
      "Trainable params: 6\n",
      "Non-trainable params: 0\n",
      "_________________________________________________________________\n",
      "Model: \"model_1\"\n",
      "__________________________________________________________________________________________________\n",
      " Layer (type)                   Output Shape         Param #     Connected to                     \n",
      "==================================================================================================\n",
      " species_input (InputLayer)     [(None, 3)]          0           []                               \n",
      "                                                                                                  \n",
      " zmix (InputLayer)              [(None, 1)]          0           []                               \n",
      "                                                                                                  \n",
      " linear_embedding (Dense)       (None, 2)            6           ['species_input[0][0]']          \n",
      "                                                                                                  \n",
      " concatenated_zmix_linear_embed  (None, 3)           0           ['zmix[0][0]',                   \n",
      " ding (Concatenate)                                               'linear_embedding[0][0]']       \n",
      "                                                                                                  \n",
      " dense (Dense)                  (None, 4)            16          ['concatenated_zmix_linear_embedd\n",
      "                                                                 ing[0][0]']                      \n",
      "                                                                                                  \n",
      " prediction (Dense)             (None, 8)            40          ['dense[0][0]']                  \n",
      "                                                                                                  \n",
      "==================================================================================================\n",
      "Total params: 62\n",
      "Trainable params: 62\n",
      "Non-trainable params: 0\n",
      "__________________________________________________________________________________________________\n"
     ]
    }
   ],
   "source": [
    "noOfInputNeurons = 3\n",
    "noOfCpv = 2\n",
    "kernel_constraint = 'Y'\n",
    "kernel_regularizer = 'Y'\n",
    "activity_regularizer = 'Y'\n",
    "\n",
    "species_inputs = keras.Input(shape=(noOfInputNeurons,), name=\"species_input\")\n",
    "        \n",
    "linearLayer = getLinearLayer(noOfInputNeurons,noOfCpv,kernel_constraint,kernel_regularizer,activity_regularizer)(species_inputs)\n",
    "\n",
    "autoencoder = keras.Model(inputs=[species_inputs],outputs=[linearLayer],) \n",
    "\n",
    "autoencoder.summary()\n",
    "\n",
    "zmix = keras.Input(shape=(1,), name=\"zmix\")\n",
    "\n",
    "combined_model_input = [zmix, species_inputs]\n",
    "\n",
    "x = layers.Concatenate(name=\"concatenated_zmix_linear_embedding\")([zmix,linearLayer])\n",
    "\n",
    "x = getIntermediateLayers(x)\n",
    "\n",
    "#\"souener\",\"souspecO2\", \"souspecCO\", \"souspecCO2\", \"souspecH2O\", \"souspecOH\", \"souspecH2\", \"souspecCH4\"\n",
    "souener_pred = layers.Dense(8, name=\"prediction\")(x)\n",
    "\n",
    "regressor = keras.Model(inputs=combined_model_input,outputs=[souener_pred],) \n",
    "\n",
    "regressor.summary()\n"
   ]
  },
  {
   "cell_type": "code",
   "execution_count": 6,
   "metadata": {},
   "outputs": [],
   "source": [
    "#read the data into a dataframe\n",
    "df = pd.read_csv('~/rom_project2/src/NewData_flames_data_with_L1_L2_errors_CH4-AIR_without_trimming(SouSpec_Included).txt')\n",
    "\n",
    "\n",
    "#create an integer representation of the flame-id and add to the data frame\n",
    "df['flame_key_int'] = df[' flame_key'].mul(10000000).astype(int)\n",
    "\n",
    "#create an integer representation of the flame-id and add to the data frame\n",
    "df['X_int'] = df['X'].mul(10000000).astype(int)\n",
    "\n",
    "#create an integer to determine if the flame is included by the framework in the manifold creation and reverselookup\n",
    "#framework_untrimmed_flameids = [0.00115982, 0.00122087, 0.00128512, 0.00135276, 0.00142396, 0.0014989, 0.00157779, 0.00166083, 0.00174825, 0.00184026, 0.00193711, 0.00203907, 0.00214639, 0.00225936, 0.00237827, 0.01]\n",
    "\n",
    "framework_untrimmed_flameids = ['2.0276547153583627E-4', '2.1343733845877503E-4', '2.2467088258818426E-4', '2.3649566588229923E-4', '2.4894280619189394E-4', '2.6204505914936203E-4', '2.7583690436774953E-4', '2.903546361765785E-4', '3.056364591332405E-4', '3.2172258856130585E-4', '3.3865535638032194E-4', '0.0032353354497370902']\n",
    "\n",
    "\n",
    "framework_untrimmed_flame_key_ints = [int(float(framework_untrimmed_flameids[i])*10000000) for i in range(len(framework_untrimmed_flameids))]\n",
    "\n",
    "def isFlame_included(flame_key_int):\n",
    "    if flame_key_int in framework_untrimmed_flame_key_ints:\n",
    "        ret_val = 1\n",
    "    else:\n",
    "        ret_val = 0\n",
    "    return ret_val\n",
    "\n",
    "df['is_flame_included_by_framework'] = df['flame_key_int'].map(lambda x: isFlame_included(x))\n",
    "\n",
    "df['souener_deciles'] = pd.qcut(df['souener'],10)\n",
    "\n",
    "\n",
    "cut_labels = ['0.0 - 0.11', '0.11 - 0.22', '0.22 - 0.33', '0.33 - 0.44', '0.44 - 0.55', '0.55 - 0.66','0.66 - 0.77', '0.77 - 0.88', '0.88 - 0.99', '0.99 - 1.1']\n",
    "cut_bins = np.linspace(0, 1.1, 11) \n",
    "#df['Xpos_bins'] = pd.cut(df['Xpos'], bins=cut_bins, labels=cut_labels)\n",
    "df['X_bins'] = pd.cut(df['X'], bins=cut_bins, labels=cut_labels)\n"
   ]
  },
  {
   "cell_type": "code",
   "execution_count": 7,
   "metadata": {},
   "outputs": [],
   "source": [
    "framework_included_flames_int = df[df['is_flame_included_by_framework'] == 1]['flame_key_int'].unique()\n",
    "\n",
    "framework_excluded_flames_int = df[df['is_flame_included_by_framework'] == 0]['flame_key_int'].unique()\n",
    "\n",
    "all_flames_int = df['flame_key_int'].unique()\n",
    "\n",
    "def getTrainTestFlames(method):\n",
    "    training_flames_int = []\n",
    "    testing_flames_int = []\n",
    "\n",
    "    if(method == \"frameworkincludedexcludedequalsplit\"):\n",
    "        for x in framework_included_flames_int:\n",
    "            training_flames_int.append(x)\n",
    "\n",
    "        for x in framework_excluded_flames_int[::2]:\n",
    "            training_flames_int.append(x)\n",
    "\n",
    "        for x in framework_included_flames_int:\n",
    "            testing_flames_int.append(x)\n",
    "\n",
    "        for x in framework_excluded_flames_int[1::2]:\n",
    "            testing_flames_int.append(x)\n",
    "    elif(method == \"frameworkincludedtrainexcludedtest\"):\n",
    "        for x in framework_included_flames_int:\n",
    "            training_flames_int.append(x)\n",
    "\n",
    "        for x in framework_excluded_flames_int:\n",
    "            testing_flames_int.append(x)\n",
    "    elif(method == \"frameworkincludedtrainexcludedandincludedtest\"):\n",
    "        for x in framework_included_flames_int:\n",
    "            training_flames_int.append(x)\n",
    "\n",
    "        for x in framework_included_flames_int:\n",
    "            testing_flames_int.append(x)\n",
    "\n",
    "        for x in framework_excluded_flames_int:\n",
    "            testing_flames_int.append(x)\n",
    "    else:\n",
    "        for x in all_flames_int:\n",
    "            training_flames_int.append(x)\n",
    "            testing_flames_int.append(x)\n",
    "    \n",
    "    df_training = df[df['flame_key_int'].isin(training_flames_int)]\n",
    "\n",
    "    df_testing = df[df['flame_key_int'].isin(testing_flames_int)]\n",
    "    \n",
    "    return df_training,df_testing\n",
    "\n",
    "\n",
    "def getTrainTestData(method):\n",
    "    \n",
    "    method_parts = method.split('_')\n",
    "\n",
    "    df_trainingFlames, df_testingFlames = getTrainTestFlames(method_parts[1])\n",
    "\n",
    "    if method_parts[0] == \"ZmixCpv\":\n",
    "        X_train = df_trainingFlames [[\"Zmix\",\"Cpv\"]].values\n",
    "        \n",
    "        Y_train = df_trainingFlames [[\"souener\"]].values\n",
    "        \n",
    "        X_test = df_testingFlames [[\"Zmix\",\"Cpv\"]].values\n",
    "        \n",
    "        Y_test = df_testingFlames [[\"souener\"]].values\n",
    "    \n",
    "    elif method_parts[0] == \"ZmixPCA\":\n",
    "        X_train = df_trainingFlames [zmix_pca_dim_cols].values\n",
    "        \n",
    "        Y_train = df_trainingFlames [[\"souener\"]].values\n",
    "        \n",
    "        X_test = df_testingFlames [zmix_pca_dim_cols].values\n",
    "        \n",
    "        Y_test = df_testingFlames [[\"souener\"]].values\n",
    "        \n",
    "    elif method_parts[0] == \"SparsePCA\":\n",
    "        X_train = df_trainingFlames [sparse_pca_dim_cols].values\n",
    "        \n",
    "        Y_train = df_trainingFlames [[\"souener\"]].values\n",
    "        \n",
    "        X_test = df_testingFlames [sparse_pca_dim_cols].values\n",
    "        \n",
    "        Y_test = df_testingFlames [[\"souener\"]].values\n",
    "    \n",
    "    elif method_parts[0] == \"PurePCA\":\n",
    "        X_train = df_trainingFlames [pure_pca_dim_cols].values\n",
    "        \n",
    "        Y_train = df_trainingFlames [[\"souener\"]].values\n",
    "        \n",
    "        X_test = df_testingFlames [pure_pca_dim_cols].values\n",
    "        \n",
    "        Y_test = df_testingFlames [[\"souener\"]].values\n",
    "        \n",
    "    else:\n",
    "        X_train = df_trainingFlames [icovariates].values\n",
    "        \n",
    "        Y_train = df_trainingFlames [[\"souener\"]].values\n",
    "        \n",
    "        X_test = df_testingFlames [icovariates].values\n",
    "        \n",
    "        Y_test = df_testingFlames [[\"souener\"]].values\n",
    "    \n",
    "    return X_train,Y_train,X_test,Y_test"
   ]
  },
  {
   "cell_type": "code",
   "execution_count": 8,
   "metadata": {},
   "outputs": [],
   "source": [
    "def computeError (Y_pred, Y_test):\n",
    "    evaluation_df_1 = pd.DataFrame()\n",
    "\n",
    "    evaluation_df_1['souener'] = Y_test.flatten()\n",
    "\n",
    "    evaluation_df_1['souener_pred'] = Y_pred.flatten()\n",
    "\n",
    "    evaluation_df_1['souener_pred_L1'] = evaluation_df_1['souener'] - evaluation_df_1['souener_pred'] \n",
    "\n",
    "    evaluation_df_1['souener_pred_L2'] = evaluation_df_1['souener_pred_L1'] * evaluation_df_1['souener_pred_L1']\n",
    "    \n",
    "    evaluation_df_1['souener_pred_L1Percent'] = ((evaluation_df_1['souener'] - evaluation_df_1['souener_pred'])/evaluation_df_1['souener']) \n",
    "    \n",
    "    TotalAbsoluteError = evaluation_df_1['souener_pred_L1'].abs().sum()\n",
    "\n",
    "    TotalSquaredError = evaluation_df_1['souener_pred_L2'].abs().sum()\n",
    "    \n",
    "    MeanAbsoluteError = evaluation_df_1['souener_pred_L1'].abs().sum()/evaluation_df_1['souener_pred_L1'].abs().count()\n",
    "\n",
    "    MeanSquaredError = evaluation_df_1['souener_pred_L2'].abs().sum()/evaluation_df_1['souener_pred_L2'].abs().count()\n",
    "    \n",
    "    NumPoints = evaluation_df_1['souener_pred_L1Percent'].abs().count()\n",
    "    \n",
    "    MeanPercentageError = evaluation_df_1['souener_pred_L1Percent'].abs().sum()/NumPoints\n",
    "    \n",
    "    return [MeanAbsoluteError,TotalAbsoluteError,MeanPercentageError,MeanSquaredError,TotalSquaredError,NumPoints]\n",
    "\n",
    "def printError (err):\n",
    "    MeanAbsoluteError = err[0]\n",
    "    TotalAbsoluteError = err[1]\n",
    "    MeanPercentageError = err[2]\n",
    "    MeanSquaredError = err[3]\n",
    "    TotalSquaredError = err[4]\n",
    "    NumPoints = err[5]\n",
    "    print ('Total Absolute Error: ', TotalAbsoluteError)\n",
    "    print ('Mean Absolute Error: ', MeanAbsoluteError)\n",
    "    print ('Mean Percentage Error: ', MeanPercentageError)\n",
    "    print ('Total Squared Error: ', TotalSquaredError)\n",
    "    print ('Mean Squared Error: ', MeanSquaredError)\n",
    "    print ('Number of Points: ', NumPoints)\n",
    "\n",
    "def computeAndPrintError(Y_pred, Y_test):    \n",
    "    err = computeError (Y_pred, Y_test)\n",
    "    printError (err)\n",
    "    return err\n",
    "\n",
    "def computeErrorAcrossDependents(Y_pred_df, Y_test_df):    \n",
    "    err_data = []\n",
    "    for dependent in dependents:\n",
    "        Y_pred = Y_pred_df[dependent].values\n",
    "        Y_test = Y_test_df[dependent].values\n",
    "        err = computeError (Y_pred, Y_test)\n",
    "        err.insert(0,dependent)\n",
    "        err_data.append(err)\n",
    "    err_df = pd.DataFrame(data=err_data, columns=[\"Dependent\",\"Mean ABS\",\"Total ABS\",\"Mean Pct Err\",\"Mean SSE\",\"Total SSE\", \"#Pts\" ])\n",
    "    err_df.drop(columns=[\"Mean Pct Err\",\"Mean SSE\",\"Total SSE\"], inplace=True)\n",
    "    return err_df\n"
   ]
  },
  {
   "cell_type": "markdown",
   "metadata": {},
   "source": [
    "## DNN Method Support Functions"
   ]
  },
  {
   "cell_type": "code",
   "execution_count": 9,
   "metadata": {},
   "outputs": [],
   "source": [
    "def getResiduals(Y_test,Y_pred):\n",
    "    evaluation_df_1 = pd.DataFrame()\n",
    "\n",
    "    evaluation_df_1['actual'] = Y_test.flatten()\n",
    "\n",
    "    evaluation_df_1['prediction'] = Y_pred.flatten()\n",
    "\n",
    "    evaluation_df_1['res'] = evaluation_df_1['actual'] - evaluation_df_1['prediction'] \n",
    "   \n",
    "    return evaluation_df_1['res'].values\n"
   ]
  },
  {
   "cell_type": "code",
   "execution_count": 10,
   "metadata": {},
   "outputs": [],
   "source": [
    "def plot_loss(history):\n",
    "    plt.plot(history.history['loss'], label='loss')\n",
    "    plt.plot(history.history['val_loss'], label='val_loss')\n",
    "    plt.xlabel('Epoch')\n",
    "    plt.ylabel('Error [All Souspecs + Souener]')\n",
    "    plt.legend()\n",
    "    plt.grid(True)\n",
    "    \n",
    "   "
   ]
  },
  {
   "cell_type": "code",
   "execution_count": 11,
   "metadata": {},
   "outputs": [],
   "source": [
    "def plot_loss_physics_and_regression(history):\n",
    "    f = plt.figure(figsize=(10,3))\n",
    "    ax = f.add_subplot(121)\n",
    "    ax2 = f.add_subplot(122)\n",
    "    \n",
    "    ax.plot(history.history['prediction_loss'], label='loss')\n",
    "    ax.plot(history.history['val_prediction_loss'], label='val_loss')\n",
    "    ax.set_title('Souener Prediction Loss')\n",
    "    ax.set(xlabel='Epoch', ylabel='Souener Error')\n",
    "    ax.legend()\n",
    "\n",
    "    ax2.plot(history.history['physics_loss'], label='loss')\n",
    "    ax2.plot(history.history['val_physics_loss'], label='val_loss')\n",
    "    ax2.set_title('Physics Loss')\n",
    "    ax2.set(xlabel='Epoch', ylabel='Physics Error')\n",
    "    ax2.legend()\n",
    "        "
   ]
  },
  {
   "cell_type": "code",
   "execution_count": 16,
   "metadata": {},
   "outputs": [],
   "source": [
    "def getLinearEncoder(dnn):\n",
    "        \n",
    "    input_layer = None\n",
    "\n",
    "    linear_embedding_layer = None\n",
    "\n",
    "    zmix_layer =  None\n",
    "\n",
    "    for layer in dnn.layers:\n",
    "        print(layer.name)            \n",
    "        if layer.name == \"species_input\":\n",
    "            input_layer = layer\n",
    "        if layer.name == \"zmix\":\n",
    "            zmix_layer = layer\n",
    "        if layer.name == \"linear_embedding\":\n",
    "            linear_embedding_layer = layer\n",
    "\n",
    "    if zmix_layer is not None:\n",
    "        model = tf.keras.Model ([input_layer.input],[linear_embedding_layer.output])\n",
    "\n",
    "    else:\n",
    "        model = tf.keras.Model ([input_layer.input],[linear_embedding_layer.output])\n",
    "\n",
    "    model.summary()\n",
    "\n",
    "    return model\n",
    "    \n",
    "def getRegressor(dnn):\n",
    "\n",
    "    #Copy the model configuration\n",
    "    model_cfg = dnn.get_config()\n",
    "\n",
    "\n",
    "\n",
    "    model_cfg['layers'][0] = {\n",
    "                  'class_name': 'InputLayer',\n",
    "                  'config': {\n",
    "                      'batch_input_shape': (None, 2),\n",
    "                      'dtype': 'float32',\n",
    "                      'sparse': False,\n",
    "                      'ragged': False,\n",
    "                      'name': 'linear_embedding'\n",
    "                  },\n",
    "                  'name': 'linear_embedding',       \n",
    "                  'inbound_nodes': []\n",
    "              }\n",
    "\n",
    "    model_cfg['layers'].pop(2)\n",
    "\n",
    "    model_cfg['input_layers'] = [['linear_embedding', 0, 0], ['zmix', 0, 0]]\n",
    "\n",
    "    regressor = tf.keras.Model().from_config(model_cfg,custom_objects=self.concreteClassCustomObject)        \n",
    "\n",
    "    regressor.summary() \n",
    "\n",
    "    #Copy the Weights of the Layers\n",
    "    weights = [layer.get_weights() for layer in self.model.layers[3:]]\n",
    "\n",
    "    for layer, weight in zip(regressor.layers[2:], weights):\n",
    "        layer.set_weights(weight)\n",
    "\n",
    "\n",
    "    return regressor"
   ]
  },
  {
   "cell_type": "code",
   "execution_count": 17,
   "metadata": {},
   "outputs": [],
   "source": [
    "# patient early stopping\n",
    "es = EarlyStopping(monitor='val_loss', mode='min', verbose=1, patience=45)\n",
    "from tensorflow.keras import regularizers, activations, initializers, constraints, Sequential\n",
    "from tensorflow.keras.constraints import UnitNorm, Constraint\n",
    "from tensorflow.keras import backend as K"
   ]
  },
  {
   "cell_type": "code",
   "execution_count": 18,
   "metadata": {},
   "outputs": [],
   "source": [
    "num_principal_components = 5\n",
    "\n",
    "pca = PCA(n_components=num_principal_components)\n",
    "\n",
    "icovariates = []\n",
    "for c in df.columns:\n",
    "    if c[0:2] == 'Yi':\n",
    "        icovariates.append(c)\n",
    "\n",
    "X = df[icovariates].values\n",
    "        \n",
    "pure_pca_dim_cols = [\"PURE_PCA_\"+str(i+1) for i in range(num_principal_components)]\n",
    "\n",
    "pca.fit_transform(X)\n",
    "        \n",
    "df_pure_pca = pd.DataFrame(pca.transform(X), columns = pure_pca_dim_cols)\n",
    "        \n",
    "df = pd.concat([df,df_pure_pca], axis=1)\n",
    "\n",
    "zmix_pca_dim_cols = [\"Zmix_PCA_\"+str(i+1) for i in range(num_principal_components)]\n",
    "\n",
    "wopt = np.array([0.25131806468584, 1.0, 0.0, 0.0, 0.05926499970012948, 0.11189834407236524, 0.03053739933116691, 0.05926499970012948, 0.0, 0.07742283372149472, 0.14371856860332313, 0.14371856860332313, 0.20112514400193687, 1.0, 0.0, 0.0, 0.03473494419333629, 0.06713785861443991, 0.09743596683886535, 0.09743596683886535, 0.12582790137651187, 0.04027033873046593, 0.07742283372149472, 0.11180607885607882, 0.14371856860332313, 0.17341738612784788, 0.20112514400193687, 0.024566681794273966, 0.04795526192839207, 0.04795526192839207, 0.0, 0.06713048065088474, 0.12581494366075874, 0.17755300484072126, 0.034730994502665966, 0.0, 0.0, 0.0, 0.03249947443158002, 0.0, 0.0372961080230628, 0.07191024382448291, 0.024564706019978535, 0.023426986426879046, 0.023426986426879046, 0.023426986426879046, 0.0, 0.16374935944566987, 0.18286442054789118, 0.07024850027715426, 0.09152158240065958, 0.0, 0.0] , dtype=float)\n",
    "\n",
    "w = wopt[:,np.newaxis]\n",
    "\n",
    "# center the data\n",
    "Xcenter = X - np.mean(X)\n",
    "\n",
    "A = np.cov(X.T)\n",
    "\n",
    "# calculate A - ww^TA\n",
    "L = A - np.dot(np.dot(w,w.T),A)\n",
    "\n",
    "# get the first eigen vector\n",
    "values,vectors = np.linalg.eig(L)\n",
    "\n",
    "vectors = np.real(vectors)\n",
    "\n",
    "values = np.real(values)\n",
    "\n",
    "df_zmix_pca = pd.DataFrame(df['flame_key_int'], columns = ['flame_key_int'])\n",
    "\n",
    "df_zmix_pca[zmix_pca_dim_cols[0]] = Xcenter.dot(wopt)\n",
    "\n",
    "for i in range(len(zmix_pca_dim_cols)-1):\n",
    "    df_zmix_pca[zmix_pca_dim_cols[i+1]] = Xcenter.dot(vectors.T[i])\n",
    "\n",
    "df_zmix_pca = pd.DataFrame(pca.transform(X), columns = zmix_pca_dim_cols)\n",
    "        \n",
    "df = pd.concat([df,df_zmix_pca], axis=1)"
   ]
  },
  {
   "cell_type": "code",
   "execution_count": 31,
   "metadata": {},
   "outputs": [],
   "source": [
    "# demonstrate data normalization with sklearn\n",
    "from sklearn.preprocessing import QuantileTransformer,MinMaxScaler\n",
    "\n",
    "icovariates = []\n",
    "for c in df.columns:\n",
    "    if c[0:2] == 'Yi':\n",
    "        icovariates.append(c)\n",
    "\n",
    "dependents = [\"souener\",\"souspecO2\", \"souspecCO\", \"souspecCO2\", \"souspecH2O\", \"souspecOH\", \"souspecH2\", \"souspecCH4\"]\n",
    "phytrackers = [\"X_bins\",\"flame_key_int\"]\n",
    "def getHalfData(ipscaler=\"MinMaxScaler\",opscaler=\"MinMaxScaler\"):\n",
    "    X_allSpecies = df[icovariates].values\n",
    "    X= df[zmix_pca_dim_cols].values\n",
    "    Y = df[dependents].values\n",
    "    Zmix = df[\"Zmix\"].values\n",
    "    Xpos = df[\"X\"].values\n",
    "    Xpos_bins = df[\"X_bins\"].values\n",
    "    flame_keys = df[\" flame_key\"].values\n",
    "    flame_key_ints = df[\"flame_key_int\"].values\n",
    "    \n",
    "    from sklearn.utils import shuffle\n",
    "    \n",
    "    X_allSpecies_shuffled,X_shuffled, Y_shuffled,Zmix_shuffled,Xpos_shuffled,Xpos_bins_shuffled,\\\n",
    "     flame_keys_shuffled,flame_key_ints_shuffled = shuffle(X_allSpecies,X,Y,Zmix,Xpos,Xpos_bins,flame_keys,flame_key_ints, random_state=0)\n",
    "\n",
    "    \n",
    "    X_allSpecies_train = X_allSpecies_shuffled[::2]\n",
    "    X_train = X_shuffled[::2]\n",
    "    Y_train = Y_shuffled[::2]\n",
    "    Zmix_train = Zmix_shuffled[::2]\n",
    "    Xpos_train = Xpos_shuffled[::2]\n",
    "    Xpos_bins_train = Xpos_bins_shuffled[::2]\n",
    "    flame_keys_train = flame_keys_shuffled[::2]\n",
    "    flame_key_ints_train = flame_key_ints_shuffled[::2]\n",
    "    \n",
    "    \n",
    "    X_allSpecies_test = X_allSpecies_shuffled[1::2]\n",
    "    X_test = X_shuffled[1::2]\n",
    "    Y_test = Y_shuffled[1::2]\n",
    "    Zmix_test = Zmix_shuffled[1::2]\n",
    "    Xpos_test = Xpos_shuffled[1::2]\n",
    "    Xpos_bins_test = Xpos_bins_shuffled[1::2]\n",
    "    flame_keys_test = flame_keys_shuffled[1::2]\n",
    "    flame_key_ints_test = flame_key_ints_shuffled[1::2]\n",
    "    \n",
    "    if ipscaler == \"MinMaxScaler\":\n",
    "        inputScalerFunction = MinMaxScaler\n",
    "    else:\n",
    "        inputScalerFunction = QuantileTransformer\n",
    "    \n",
    "    if opscaler == \"MinMaxScaler\":\n",
    "        outputScalerFunction = MinMaxScaler\n",
    "    else:\n",
    "        outputScalerFunction = QuantileTransformer\n",
    "    \n",
    "    \n",
    "    # create scaler\n",
    "    scaler_species = inputScalerFunction()\n",
    "    # fit and transform in one step\n",
    "    normalized_species_train = scaler_species.fit_transform(X_allSpecies_train)\n",
    "    normalized_species_test = scaler_species.fit_transform(X_allSpecies_test)\n",
    "\n",
    "    \n",
    "    # create scaler\n",
    "    scaler_zmixpca = inputScalerFunction()\n",
    "    \n",
    "    # fit and transform in one step\n",
    "    normalized_zmixpca_train = scaler_zmixpca.fit_transform(X_train)\n",
    "    normalized_zmixpca_test = scaler_zmixpca.fit_transform(X_test)\n",
    "\n",
    "    scaler_souener = outputScalerFunction()#()#MinMaxScaler()\n",
    "    \n",
    "    # fit and transform in one step\n",
    "    normalized_souener_train = scaler_souener.fit_transform(Y_train)\n",
    "    normalized_souener_test = scaler_souener.fit_transform(Y_test)\n",
    "\n",
    "    normalized_souener_train = normalized_souener_train\n",
    "    normalized_souener_test = normalized_souener_test\n",
    "    return {\"scaler_species\":scaler_species,\"scaler_zmixpca\":scaler_zmixpca,\"scaler_souener\":scaler_souener,\\\n",
    "            \"X_tain\":X_train,\"X_test\":X_test,\"Zmix_train\":Zmix_train,\"Zmix_test\":Zmix_test,\\\n",
    "            \"normalized_species_train\":normalized_species_train,\"normalized_species_test\":normalized_species_test,\\\n",
    "            \"Y_test\":Y_test,\"Y_train\":Y_train,\"normalized_zmixpca_train\":normalized_zmixpca_train,\\\n",
    "            \"normalized_zmixpca_test\":normalized_zmixpca_test,\"normalized_souener_train\": normalized_souener_train,\\\n",
    "            \"normalized_souener_test\":normalized_souener_test,\"Xpos_bins_train\":Xpos_bins_train,\\\n",
    "            \"flame_key_ints_train\":flame_key_ints_train,\"Xpos_bins_test\":Xpos_bins_test,\\\n",
    "            \"flame_key_ints_test\":flame_key_ints_test,\"Xpos_train\":Xpos_train,\"Xpos_test\":Xpos_test,\\\n",
    "            \"flame_keys_train\":flame_keys_train,\"flame_keys_test\":flame_keys_test}"
   ]
  },
  {
   "cell_type": "code",
   "execution_count": 32,
   "metadata": {},
   "outputs": [
    {
     "data": {
      "text/plain": [
       "(8222, 8)"
      ]
     },
     "execution_count": 32,
     "metadata": {},
     "output_type": "execute_result"
    }
   ],
   "source": [
    "getHalfData()['normalized_souener_train'].shape"
   ]
  },
  {
   "cell_type": "markdown",
   "metadata": {},
   "source": [
    "### Unconstrained DNN -- Baseline (Zmix + 4 Dim Non-Linear Embedding)"
   ]
  },
  {
   "cell_type": "code",
   "execution_count": 33,
   "metadata": {},
   "outputs": [],
   "source": [
    "halfData = getHalfData()"
   ]
  },
  {
   "cell_type": "code",
   "execution_count": 34,
   "metadata": {},
   "outputs": [],
   "source": [
    "encoding_dim = 4\n",
    "\n",
    "species_inputs = keras.Input(shape=(53,), name=\"species_input\")\n",
    "\n",
    "Zmix = keras.Input(shape=(1,), name=\"Zmix\")\n",
    "\n",
    "x = layers.Dense(encoding_dim, activation=\"relu\")(species_inputs)\n",
    "\n",
    "#Concatenate the Linear Embedding and Zmix together\n",
    "x = layers.Concatenate()([Zmix, x])\n",
    "\n",
    "x = layers.Dense(32, activation=\"relu\")(x)\n",
    "x = layers.Dense(64, activation=\"relu\")(x)\n",
    "x = layers.Dense(128, activation=\"relu\")(x)\n",
    "x = layers.Dense(256, activation=\"relu\")(x)\n",
    "x = layers.Dense(512, activation=\"relu\")(x)\n",
    "x = layers.Dense(256, activation=\"relu\")(x)\n",
    "x = layers.Dense(128, activation=\"relu\")(x)\n",
    "x = layers.Dense(64, activation=\"relu\")(x)\n",
    "x = layers.Dense(32, activation=\"relu\")(x)\n",
    "#Predict the source energy & source terms\n",
    "souener_pred = layers.Dense(8, name=\"prediction\")(x)\n",
    "\n",
    "model = keras.Model(\n",
    "    inputs=[species_inputs,Zmix],\n",
    "    outputs=[souener_pred],\n",
    ")\n",
    "\n",
    "\n",
    "#,kernel_regularizer=WeightsOrthogonalityConstraint(encoding_dim, weightage=1., axis=0)\n",
    "#,kernel_constraint=UnitNorm(axis=0)\n",
    "#,activity_regularizer=UncorrelatedFeaturesConstraint(encoding_dim, weightage=1.)\n",
    "#model.summary()"
   ]
  },
  {
   "cell_type": "code",
   "execution_count": 35,
   "metadata": {},
   "outputs": [
    {
     "data": {
      "text/plain": [
       "'\\ntf.keras.utils.plot_model(model,to_file=\"model.png\",\\n    show_shapes=True,\\n    show_layer_names=True,\\n    rankdir=\"TB\",\\n    expand_nested=False,\\n    dpi=96)\\n'"
      ]
     },
     "execution_count": 35,
     "metadata": {},
     "output_type": "execute_result"
    }
   ],
   "source": [
    "'''\n",
    "tf.keras.utils.plot_model(model,to_file=\"model.png\",\n",
    "    show_shapes=True,\n",
    "    show_layer_names=True,\n",
    "    rankdir=\"TB\",\n",
    "    expand_nested=False,\n",
    "    dpi=96)\n",
    "'''"
   ]
  },
  {
   "cell_type": "code",
   "execution_count": 36,
   "metadata": {},
   "outputs": [],
   "source": [
    "model.compile(loss='mean_absolute_error',optimizer=tf.keras.optimizers.Adam(0.001))"
   ]
  },
  {
   "cell_type": "code",
   "execution_count": 37,
   "metadata": {},
   "outputs": [],
   "source": [
    "halfData = getHalfData()"
   ]
  },
  {
   "cell_type": "code",
   "execution_count": 38,
   "metadata": {},
   "outputs": [
    {
     "data": {
      "text/plain": [
       "dict_keys(['scaler_species', 'scaler_zmixpca', 'scaler_souener', 'X_tain', 'X_test', 'Zmix_train', 'Zmix_test', 'normalized_species_train', 'normalized_species_test', 'Y_test', 'Y_train', 'normalized_zmixpca_train', 'normalized_zmixpca_test', 'normalized_souener_train', 'normalized_souener_test', 'Xpos_bins_train', 'flame_key_ints_train', 'Xpos_bins_test', 'flame_key_ints_test', 'Xpos_train', 'Xpos_test', 'flame_keys_train', 'flame_keys_test'])"
      ]
     },
     "execution_count": 38,
     "metadata": {},
     "output_type": "execute_result"
    }
   ],
   "source": [
    "halfData.keys()"
   ]
  },
  {
   "cell_type": "code",
   "execution_count": 39,
   "metadata": {},
   "outputs": [
    {
     "name": "stdout",
     "output_type": "stream",
     "text": [
      "CPU times: user 18.5 s, sys: 1.69 s, total: 20.2 s\n",
      "Wall time: 12.9 s\n"
     ]
    }
   ],
   "source": [
    "%%time\n",
    "\n",
    "normalized_species_train = halfData[\"normalized_species_train\"]\n",
    "Zmix_train = halfData[\"Zmix_train\"] \n",
    "normalized_souener_train = halfData[\"normalized_souener_train\"]\n",
    "\n",
    "history = model.fit([normalized_species_train,Zmix_train], \n",
    "                          normalized_souener_train,\n",
    "                          validation_split=0.2,\n",
    "                          verbose=0, \n",
    "                          epochs=10, \n",
    "                          callbacks=[es])"
   ]
  },
  {
   "cell_type": "code",
   "execution_count": 40,
   "metadata": {
    "scrolled": false
   },
   "outputs": [
    {
     "data": {
      "image/png": "[encoded data removed]",
      "text/plain": [
       "<Figure size 432x288 with 1 Axes>"
      ]
     },
     "metadata": {
      "needs_background": "light"
     },
     "output_type": "display_data"
    }
   ],
   "source": [
    "plot_loss(history)"
   ]
  },
  {
   "cell_type": "code",
   "execution_count": 105,
   "metadata": {},
   "outputs": [],
   "source": [
    "normalized_species_test = halfData[\"normalized_species_test\"]\n",
    "\n",
    "Zmix_test =  halfData[\"Zmix_test\"]\n",
    "\n",
    "predictions = model.predict([normalized_species_test,Zmix_test])\n",
    "\n",
    "normalized_souener_pred = predictions\n",
    "\n",
    "\n",
    "scaler_souener = halfData[\"scaler_souener\"]\n",
    "Y_pred = scaler_souener.inverse_transform(normalized_souener_pred)\n",
    "\n",
    "\n",
    "Y_pred_df = pd.DataFrame(data=Y_pred,  columns=dependents)\n",
    "\n",
    "\n",
    "Y_test_df = pd.DataFrame(data=halfData[\"Y_test\"],  columns=dependents)\n",
    "\n",
    "\n",
    "err_df = computeErrorAcrossDependents(Y_pred_df, Y_test_df)"
   ]
  },
  {
   "cell_type": "code",
   "execution_count": 106,
   "metadata": {},
   "outputs": [
    {
     "data": {
      "text/html": [
       "<div>\n",
       "<style scoped>\n",
       "    .dataframe tbody tr th:only-of-type {\n",
       "        vertical-align: middle;\n",
       "    }\n",
       "\n",
       "    .dataframe tbody tr th {\n",
       "        vertical-align: top;\n",
       "    }\n",
       "\n",
       "    .dataframe thead th {\n",
       "        text-align: right;\n",
       "    }\n",
       "</style>\n",
       "<table border=\"1\" class=\"dataframe\">\n",
       "  <thead>\n",
       "    <tr style=\"text-align: right;\">\n",
       "      <th></th>\n",
       "      <th>Dependent</th>\n",
       "      <th>Mean ABS</th>\n",
       "      <th>Total ABS</th>\n",
       "      <th>#Pts</th>\n",
       "    </tr>\n",
       "  </thead>\n",
       "  <tbody>\n",
       "    <tr>\n",
       "      <th>0</th>\n",
       "      <td>souener</td>\n",
       "      <td>1.929683e+09</td>\n",
       "      <td>1.586585e+13</td>\n",
       "      <td>8222</td>\n",
       "    </tr>\n",
       "    <tr>\n",
       "      <th>1</th>\n",
       "      <td>souspecO2</td>\n",
       "      <td>4.228676e+02</td>\n",
       "      <td>3.476818e+06</td>\n",
       "      <td>8222</td>\n",
       "    </tr>\n",
       "    <tr>\n",
       "      <th>2</th>\n",
       "      <td>souspecCO</td>\n",
       "      <td>1.118385e+02</td>\n",
       "      <td>9.195365e+05</td>\n",
       "      <td>8222</td>\n",
       "    </tr>\n",
       "    <tr>\n",
       "      <th>3</th>\n",
       "      <td>souspecCO2</td>\n",
       "      <td>8.376652e+01</td>\n",
       "      <td>6.887284e+05</td>\n",
       "      <td>8222</td>\n",
       "    </tr>\n",
       "    <tr>\n",
       "      <th>4</th>\n",
       "      <td>souspecH2O</td>\n",
       "      <td>1.517236e+02</td>\n",
       "      <td>1.247471e+06</td>\n",
       "      <td>8222</td>\n",
       "    </tr>\n",
       "    <tr>\n",
       "      <th>5</th>\n",
       "      <td>souspecOH</td>\n",
       "      <td>1.362359e+02</td>\n",
       "      <td>1.120132e+06</td>\n",
       "      <td>8222</td>\n",
       "    </tr>\n",
       "    <tr>\n",
       "      <th>6</th>\n",
       "      <td>souspecH2</td>\n",
       "      <td>2.143617e+01</td>\n",
       "      <td>1.762482e+05</td>\n",
       "      <td>8222</td>\n",
       "    </tr>\n",
       "    <tr>\n",
       "      <th>7</th>\n",
       "      <td>souspecCH4</td>\n",
       "      <td>1.082143e+02</td>\n",
       "      <td>8.897381e+05</td>\n",
       "      <td>8222</td>\n",
       "    </tr>\n",
       "  </tbody>\n",
       "</table>\n",
       "</div>"
      ],
      "text/plain": [
       "    Dependent      Mean ABS     Total ABS  #Pts\n",
       "0     souener  1.929683e+09  1.586585e+13  8222\n",
       "1   souspecO2  4.228676e+02  3.476818e+06  8222\n",
       "2   souspecCO  1.118385e+02  9.195365e+05  8222\n",
       "3  souspecCO2  8.376652e+01  6.887284e+05  8222\n",
       "4  souspecH2O  1.517236e+02  1.247471e+06  8222\n",
       "5   souspecOH  1.362359e+02  1.120132e+06  8222\n",
       "6   souspecH2  2.143617e+01  1.762482e+05  8222\n",
       "7  souspecCH4  1.082143e+02  8.897381e+05  8222"
      ]
     },
     "execution_count": 106,
     "metadata": {},
     "output_type": "execute_result"
    }
   ],
   "source": [
    "err_df"
   ]
  },
  {
   "cell_type": "code",
   "execution_count": 107,
   "metadata": {},
   "outputs": [
    {
     "name": "stderr",
     "output_type": "stream",
     "text": [
      "/home/dwyerdei/.conda/envs/rom-project/lib/python3.8/site-packages/seaborn/_decorators.py:36: FutureWarning: Pass the following variables as keyword args: x, y. From version 0.12, the only valid positional argument will be `data`, and passing other arguments without an explicit keyword will result in an error or misinterpretation.\n",
      "  warnings.warn(\n"
     ]
    },
    {
     "data": {
      "text/plain": [
       "<AxesSubplot:>"
      ]
     },
     "execution_count": 107,
     "metadata": {},
     "output_type": "execute_result"
    },
    {
     "data": {
      "image/png": "[encoded data removed]",
      "text/plain": [
       "<Figure size 432x288 with 1 Axes>"
      ]
     },
     "metadata": {
      "needs_background": "light"
     },
     "output_type": "display_data"
    }
   ],
   "source": [
    "Y_pred = Y_pred_df[\"souener\"].values\n",
    "Y_test = Y_test_df[\"souener\"].values\n",
    "sns.residplot(Y_test, getResiduals(Y_test,Y_pred))"
   ]
  },
  {
   "cell_type": "markdown",
   "metadata": {},
   "source": [
    "### Unconstrained DNN -- Baseline (Zmix + 4 Dim Linear Embedding)"
   ]
  },
  {
   "cell_type": "code",
   "execution_count": 108,
   "metadata": {},
   "outputs": [],
   "source": [
    "encoding_dim = 4\n",
    "\n",
    "species_inputs = keras.Input(shape=(53,), name=\"species_input\")\n",
    "\n",
    "Zmix = keras.Input(shape=(1,), name=\"Zmix\")\n",
    "\n",
    "x = layers.Dense(encoding_dim, activation=\"linear\")(species_inputs)\n",
    "\n",
    "#Concatenate the Linear Embedding and Zmix together\n",
    "x = layers.Concatenate()([Zmix, x])\n",
    "\n",
    "x = layers.Dense(32, activation=\"relu\")(x)\n",
    "x = layers.Dense(64, activation=\"relu\")(x)\n",
    "x = layers.Dense(128, activation=\"relu\")(x)\n",
    "x = layers.Dense(256, activation=\"relu\")(x)\n",
    "x = layers.Dense(512, activation=\"relu\")(x)\n",
    "x = layers.Dense(256, activation=\"relu\")(x)\n",
    "x = layers.Dense(128, activation=\"relu\")(x)\n",
    "x = layers.Dense(64, activation=\"relu\")(x)\n",
    "x = layers.Dense(32, activation=\"relu\")(x)\n",
    "#Predict the source energy\n",
    "souener_pred = layers.Dense(8, name=\"prediction\")(x)\n",
    "\n",
    "model = keras.Model(\n",
    "    inputs=[species_inputs,Zmix],\n",
    "    outputs=[souener_pred],\n",
    ")\n",
    "\n",
    "\n",
    "#,kernel_regularizer=WeightsOrthogonalityConstraint(encoding_dim, weightage=1., axis=0)\n",
    "#,kernel_constraint=UnitNorm(axis=0)\n",
    "#,activity_regularizer=UncorrelatedFeaturesConstraint(encoding_dim, weightage=1.)\n",
    "#model.summary()"
   ]
  },
  {
   "cell_type": "code",
   "execution_count": 38,
   "metadata": {},
   "outputs": [
    {
     "data": {
      "text/plain": [
       "'\\ntf.keras.utils.plot_model(model,to_file=\"model.png\",\\n    show_shapes=True,\\n    show_layer_names=True,\\n    rankdir=\"TB\",\\n    expand_nested=False,\\n    dpi=96)\\n'"
      ]
     },
     "execution_count": 38,
     "metadata": {},
     "output_type": "execute_result"
    }
   ],
   "source": [
    "'''\n",
    "tf.keras.utils.plot_model(model,to_file=\"model.png\",\n",
    "    show_shapes=True,\n",
    "    show_layer_names=True,\n",
    "    rankdir=\"TB\",\n",
    "    expand_nested=False,\n",
    "    dpi=96)\n",
    "'''"
   ]
  },
  {
   "cell_type": "code",
   "execution_count": 39,
   "metadata": {},
   "outputs": [],
   "source": [
    "model.compile(loss='mean_absolute_error',optimizer=tf.keras.optimizers.Adam(0.001))"
   ]
  },
  {
   "cell_type": "code",
   "execution_count": 40,
   "metadata": {},
   "outputs": [],
   "source": [
    "halfData = getHalfData()"
   ]
  },
  {
   "cell_type": "code",
   "execution_count": 41,
   "metadata": {},
   "outputs": [
    {
     "data": {
      "text/plain": [
       "dict_keys(['scaler_species', 'scaler_zmixpca', 'scaler_souener', 'X_tain', 'X_test', 'Zmix_train', 'Zmix_test', 'normalized_species_train', 'normalized_species_test', 'Y_test', 'Y_train', 'normalized_zmixpca_train', 'normalized_zmixpca_test', 'normalized_souener_train', 'normalized_souener_test', 'Xpos_bins_train', 'flame_key_ints_train', 'Xpos_bins_test', 'flame_key_ints_test', 'Xpos_train', 'Xpos_test', 'flame_keys_train', 'flame_keys_test'])"
      ]
     },
     "execution_count": 41,
     "metadata": {},
     "output_type": "execute_result"
    }
   ],
   "source": [
    "halfData.keys()"
   ]
  },
  {
   "cell_type": "code",
   "execution_count": 42,
   "metadata": {},
   "outputs": [
    {
     "name": "stdout",
     "output_type": "stream",
     "text": [
      "CPU times: user 18.7 s, sys: 1.51 s, total: 20.2 s\n",
      "Wall time: 13.4 s\n"
     ]
    }
   ],
   "source": [
    "%%time\n",
    "\n",
    "normalized_species_train = halfData[\"normalized_species_train\"]\n",
    "Zmix_train = halfData[\"Zmix_train\"] \n",
    "normalized_souener_train = halfData[\"normalized_souener_train\"]\n",
    "\n",
    "history = model.fit([normalized_species_train,Zmix_train], \n",
    "                          normalized_souener_train,\n",
    "                          validation_split=0.2,\n",
    "                          verbose=0, \n",
    "                          epochs=10, \n",
    "                          callbacks=[es])"
   ]
  },
  {
   "cell_type": "code",
   "execution_count": 43,
   "metadata": {
    "scrolled": false
   },
   "outputs": [
    {
     "data": {
      "image/png": "[encoded data removed]",
      "text/plain": [
       "<Figure size 432x288 with 1 Axes>"
      ]
     },
     "metadata": {
      "needs_background": "light"
     },
     "output_type": "display_data"
    }
   ],
   "source": [
    "plot_loss(history)"
   ]
  },
  {
   "cell_type": "code",
   "execution_count": 44,
   "metadata": {},
   "outputs": [],
   "source": [
    "normalized_species_test = halfData[\"normalized_species_test\"]\n",
    "\n",
    "Zmix_test =  halfData[\"Zmix_test\"]\n",
    "\n",
    "predictions = model.predict([normalized_species_test,Zmix_test])\n",
    "\n",
    "normalized_souener_pred = predictions\n",
    "\n",
    "scaler_souener = halfData[\"scaler_souener\"]\n",
    "Y_pred = scaler_souener.inverse_transform(normalized_souener_pred)\n",
    "\n",
    "\n",
    "Y_pred_df = pd.DataFrame(data=Y_pred,  columns=dependents)\n",
    "\n",
    "\n",
    "Y_test_df = pd.DataFrame(data=halfData[\"Y_test\"],  columns=dependents)\n",
    "\n",
    "\n",
    "err_df = computeErrorAcrossDependents(Y_pred_df, Y_test_df)"
   ]
  },
  {
   "cell_type": "code",
   "execution_count": 45,
   "metadata": {},
   "outputs": [
    {
     "data": {
      "text/html": [
       "<div>\n",
       "<style scoped>\n",
       "    .dataframe tbody tr th:only-of-type {\n",
       "        vertical-align: middle;\n",
       "    }\n",
       "\n",
       "    .dataframe tbody tr th {\n",
       "        vertical-align: top;\n",
       "    }\n",
       "\n",
       "    .dataframe thead th {\n",
       "        text-align: right;\n",
       "    }\n",
       "</style>\n",
       "<table border=\"1\" class=\"dataframe\">\n",
       "  <thead>\n",
       "    <tr style=\"text-align: right;\">\n",
       "      <th></th>\n",
       "      <th>Dependent</th>\n",
       "      <th>Mean ABS</th>\n",
       "      <th>Total ABS</th>\n",
       "      <th>#Pts</th>\n",
       "    </tr>\n",
       "  </thead>\n",
       "  <tbody>\n",
       "    <tr>\n",
       "      <th>0</th>\n",
       "      <td>souener</td>\n",
       "      <td>1.345913e+09</td>\n",
       "      <td>1.106610e+13</td>\n",
       "      <td>8222</td>\n",
       "    </tr>\n",
       "    <tr>\n",
       "      <th>1</th>\n",
       "      <td>souspecO2</td>\n",
       "      <td>4.411686e+02</td>\n",
       "      <td>3.627288e+06</td>\n",
       "      <td>8222</td>\n",
       "    </tr>\n",
       "    <tr>\n",
       "      <th>2</th>\n",
       "      <td>souspecCO</td>\n",
       "      <td>9.122138e+01</td>\n",
       "      <td>7.500222e+05</td>\n",
       "      <td>8222</td>\n",
       "    </tr>\n",
       "    <tr>\n",
       "      <th>3</th>\n",
       "      <td>souspecCO2</td>\n",
       "      <td>9.037079e+01</td>\n",
       "      <td>7.430286e+05</td>\n",
       "      <td>8222</td>\n",
       "    </tr>\n",
       "    <tr>\n",
       "      <th>4</th>\n",
       "      <td>souspecH2O</td>\n",
       "      <td>1.208874e+02</td>\n",
       "      <td>9.939361e+05</td>\n",
       "      <td>8222</td>\n",
       "    </tr>\n",
       "    <tr>\n",
       "      <th>5</th>\n",
       "      <td>souspecOH</td>\n",
       "      <td>1.344773e+02</td>\n",
       "      <td>1.105673e+06</td>\n",
       "      <td>8222</td>\n",
       "    </tr>\n",
       "    <tr>\n",
       "      <th>6</th>\n",
       "      <td>souspecH2</td>\n",
       "      <td>1.441792e+01</td>\n",
       "      <td>1.185441e+05</td>\n",
       "      <td>8222</td>\n",
       "    </tr>\n",
       "    <tr>\n",
       "      <th>7</th>\n",
       "      <td>souspecCH4</td>\n",
       "      <td>2.101197e+02</td>\n",
       "      <td>1.727604e+06</td>\n",
       "      <td>8222</td>\n",
       "    </tr>\n",
       "  </tbody>\n",
       "</table>\n",
       "</div>"
      ],
      "text/plain": [
       "    Dependent      Mean ABS     Total ABS  #Pts\n",
       "0     souener  1.345913e+09  1.106610e+13  8222\n",
       "1   souspecO2  4.411686e+02  3.627288e+06  8222\n",
       "2   souspecCO  9.122138e+01  7.500222e+05  8222\n",
       "3  souspecCO2  9.037079e+01  7.430286e+05  8222\n",
       "4  souspecH2O  1.208874e+02  9.939361e+05  8222\n",
       "5   souspecOH  1.344773e+02  1.105673e+06  8222\n",
       "6   souspecH2  1.441792e+01  1.185441e+05  8222\n",
       "7  souspecCH4  2.101197e+02  1.727604e+06  8222"
      ]
     },
     "execution_count": 45,
     "metadata": {},
     "output_type": "execute_result"
    }
   ],
   "source": [
    "err_df"
   ]
  },
  {
   "cell_type": "code",
   "execution_count": 46,
   "metadata": {},
   "outputs": [
    {
     "name": "stderr",
     "output_type": "stream",
     "text": [
      "/home/dwyerdei/.conda/envs/rom-project/lib/python3.8/site-packages/seaborn/_decorators.py:36: FutureWarning: Pass the following variables as keyword args: x, y. From version 0.12, the only valid positional argument will be `data`, and passing other arguments without an explicit keyword will result in an error or misinterpretation.\n",
      "  warnings.warn(\n"
     ]
    },
    {
     "data": {
      "text/plain": [
       "<AxesSubplot:>"
      ]
     },
     "execution_count": 46,
     "metadata": {},
     "output_type": "execute_result"
    },
    {
     "data": {
      "image/png": "[encoded data removed]",
      "text/plain": [
       "<Figure size 432x288 with 1 Axes>"
      ]
     },
     "metadata": {
      "needs_background": "light"
     },
     "output_type": "display_data"
    }
   ],
   "source": [
    "Y_pred = Y_pred_df[\"souener\"].values\n",
    "Y_test = Y_test_df[\"souener\"].values\n",
    "sns.residplot(Y_test, getResiduals(Y_test,Y_pred))"
   ]
  },
  {
   "cell_type": "markdown",
   "metadata": {},
   "source": [
    "# ChemTab Implementation Architecture"
   ]
  },
  {
   "attachments": {
    "ChemTab.jpeg": {
     "image/jpeg": "[encoded data removed]"
    }
   },
   "cell_type": "markdown",
   "metadata": {},
   "source": [
    "![ChemTab.jpeg](attachment:ChemTab.jpeg)"
   ]
  },
  {
   "cell_type": "markdown",
   "metadata": {},
   "source": [
    "## ChemTab Implementation Formulation"
   ]
  },
  {
   "cell_type": "markdown",
   "metadata": {},
   "source": [
    "### Overall Network\n",
    "\n",
    "\\begin{equation}\\label{eqn:DNN}\n",
    "    \\begin{aligned}\n",
    "      f_{\\mathcal{\\theta}}(y) = W^{[L-1]}\\mathcal{\\sigma} \\: \\mathcal{\\rm o} \\: (W^{[L−2]}\\mathcal{\\sigma} \\: \\mathcal{\\rm o} \\: (\\dots(W^{[1]}\\mathcal{\\sigma} \\: \\mathcal{\\rm o} \\: (W^{[0]}y + b^{[0]}) + b^{[1]})\\dots) + b\\\\\n",
    "     \\textrm{where,} \\quad W^{[l]} \\in R^{m_{l+1} \\: \\times \\: m_{l}}\\\\\n",
    "      b^{[l]} = R^{m_{l+1}}\\\\\n",
    "      m_{0} = d_{in} = d\\\\\n",
    "      m_{L} = d_{out}\\\\\n",
    "      \\mathcal{\\sigma} \\: \\textrm{is a scalar/activation function}\\\\ \n",
    "      \\mathcal{\\rm o} \\: \\textrm{is an entry-wise operation}\\\\\n",
    "      m \\: \\textrm{is the number of neurons}\\\\\n",
    "      in = s \\times n\\\\\n",
    "      s = \\textrm{the number of species in the mechanism}\\\\\n",
    "      n = \\textrm{the number of data points (no. of flames * axial coordinate range)}\\\\\n",
    "      out = \\textrm{no. of thermo-chemical variables  }\\mathcal{S}\\\\\n",
    "    \\end{aligned}\n",
    "\\end{equation}\n",
    "\n",
    "### Layer Specifics\n",
    "\\begin{equation}\\label{eqn:DNN-expansion}\n",
    "    \\begin{aligned}\n",
    "    f_{\\mathcal{\\theta}}^{[0]}(y) = y \\\\\n",
    "    f_{\\mathcal{\\theta}}^{[1]}(y) = (W^{[0]} f_{\\mathcal{\\theta}}^{[0]}(y)) \\\\\n",
    "    f_{\\mathcal{\\theta}}^{[l]}(y) = \\mathcal{\\sigma} \\: \\mathcal{\\rm o} \\: (W^{[l−1]} f_{\\mathcal{\\theta}}^{[l-1]}(y) \\:+\\: b^{[l-1]} ) \\:\\:\\:  2 \\geq l \\leq L-1  \\\\\n",
    "    f_{\\mathcal{\\theta}}(y) = f_{\\mathcal{\\theta}}^{[L]}(y) = \\mathcal{\\sigma} \\: \\mathcal{\\rm o} \\: (W^{[L-1]} f_{\\mathcal{\\theta}}^{[L-1]}(y) \\:+\\: b^{[L-1]} ) \n",
    "    \\end{aligned}\n",
    "\\end{equation}\n",
    "\n",
    "### Optimization Specifics\n",
    "\\begin{equation}\\label{eqn:ChemTab-Constraints}\n",
    "    \\begin{aligned}\n",
    "        \\arg\\min_{\\mathcal{\\theta}} \\quad \\lvert f_{\\mathcal{\\theta}}(y) - \\mathcal{S} \\rvert\\\\\n",
    "        s.t. \\quad W^{[0]T}W^{[0]} = I\\\\\n",
    "        \\Vert W^{[0]} \\Vert = 1\\\\\n",
    "        f_{\\mathcal{\\theta}}^{[1]}(y)^Tf_{\\mathcal{\\theta}}^{[1]}(y) = I\\\\\n",
    "        \\textrm{where,} \\quad f_{\\mathcal{\\theta}}(y) \\quad \\textrm{is regressor's prediction}\\\\\n",
    "        \\mathcal{S} \\quad \\textrm{is true thermo-chemical state variables}\n",
    "    \\end{aligned}\n",
    "\\end{equation}\n"
   ]
  },
  {
   "cell_type": "markdown",
   "metadata": {},
   "source": [
    "## Ablation Study / Experiments"
   ]
  },
  {
   "cell_type": "markdown",
   "metadata": {},
   "source": [
    "### Constrained DNN -- Baseline (Zmix + 4 Dim Linear Embedding; Unit Norm)"
   ]
  },
  {
   "cell_type": "code",
   "execution_count": 55,
   "metadata": {},
   "outputs": [],
   "source": [
    "encoding_dim = 4\n",
    "\n",
    "species_inputs = keras.Input(shape=(53,), name=\"species_input\")\n",
    "\n",
    "Zmix = keras.Input(shape=(1,), name=\"Zmix\")\n",
    "\n",
    "x = layers.Dense(encoding_dim, activation=\"linear\",kernel_constraint=UnitNorm(axis=0))(species_inputs)\n",
    "\n",
    "#Concatenate the Linear Embedding and Zmix together\n",
    "x = layers.Concatenate()([Zmix, x])\n",
    "\n",
    "x = layers.Dense(32, activation=\"relu\")(x)\n",
    "x = layers.Dense(64, activation=\"relu\")(x)\n",
    "x = layers.Dense(128, activation=\"relu\")(x)\n",
    "x = layers.Dense(256, activation=\"relu\")(x)\n",
    "x = layers.Dense(512, activation=\"relu\")(x)\n",
    "x = layers.Dense(256, activation=\"relu\")(x)\n",
    "x = layers.Dense(128, activation=\"relu\")(x)\n",
    "x = layers.Dense(64, activation=\"relu\")(x)\n",
    "x = layers.Dense(32, activation=\"relu\")(x)\n",
    "#Predict the source energy\n",
    "souener_pred = layers.Dense(8, name=\"prediction\")(x)\n",
    "\n",
    "model = keras.Model(\n",
    "    inputs=[species_inputs,Zmix],\n",
    "    outputs=[souener_pred],\n",
    ")\n",
    "\n",
    "\n",
    "#,kernel_regularizer=WeightsOrthogonalityConstraint(encoding_dim, weightage=1., axis=0)\n",
    "#,kernel_constraint=UnitNorm(axis=0)\n",
    "#,activity_regularizer=UncorrelatedFeaturesConstraint(encoding_dim, weightage=1.)\n",
    "#model.summary()"
   ]
  },
  {
   "cell_type": "code",
   "execution_count": 56,
   "metadata": {},
   "outputs": [
    {
     "data": {
      "text/plain": [
       "'\\ntf.keras.utils.plot_model(model,to_file=\"model.png\",\\n    show_shapes=True,\\n    show_layer_names=True,\\n    rankdir=\"TB\",\\n    expand_nested=False,\\n    dpi=96)\\n'"
      ]
     },
     "execution_count": 56,
     "metadata": {},
     "output_type": "execute_result"
    }
   ],
   "source": [
    "'''\n",
    "tf.keras.utils.plot_model(model,to_file=\"model.png\",\n",
    "    show_shapes=True,\n",
    "    show_layer_names=True,\n",
    "    rankdir=\"TB\",\n",
    "    expand_nested=False,\n",
    "    dpi=96)\n",
    "'''    "
   ]
  },
  {
   "cell_type": "code",
   "execution_count": 57,
   "metadata": {},
   "outputs": [],
   "source": [
    "model.compile(loss='mean_absolute_error',optimizer=tf.keras.optimizers.Adam(0.001))"
   ]
  },
  {
   "cell_type": "code",
   "execution_count": 58,
   "metadata": {},
   "outputs": [],
   "source": [
    "halfData = getHalfData()"
   ]
  },
  {
   "cell_type": "code",
   "execution_count": 59,
   "metadata": {},
   "outputs": [
    {
     "name": "stdout",
     "output_type": "stream",
     "text": [
      "CPU times: user 3min 1s, sys: 14.1 s, total: 3min 15s\n",
      "Wall time: 2min 13s\n"
     ]
    }
   ],
   "source": [
    "%%time\n",
    "\n",
    "normalized_species_train = halfData[\"normalized_species_train\"]\n",
    "Zmix_train = halfData[\"Zmix_train\"] \n",
    "normalized_souener_train = halfData[\"normalized_souener_train\"]\n",
    "\n",
    "history = model.fit([normalized_species_train,Zmix_train], \n",
    "                          normalized_souener_train,\n",
    "                          validation_split=0.2,\n",
    "                          verbose=0, \n",
    "                          epochs=100, \n",
    "                          callbacks=[es])"
   ]
  },
  {
   "cell_type": "code",
   "execution_count": 60,
   "metadata": {
    "scrolled": false
   },
   "outputs": [
    {
     "data": {
      "image/png": "[encoded data removed]",
      "text/plain": [
       "<Figure size 432x288 with 1 Axes>"
      ]
     },
     "metadata": {
      "needs_background": "light"
     },
     "output_type": "display_data"
    }
   ],
   "source": [
    "plot_loss(history)"
   ]
  },
  {
   "cell_type": "code",
   "execution_count": 61,
   "metadata": {},
   "outputs": [],
   "source": [
    "normalized_species_test = halfData[\"normalized_species_test\"]\n",
    "\n",
    "Zmix_test =  halfData[\"Zmix_test\"]\n",
    "\n",
    "predictions = model.predict([normalized_species_test,Zmix_test])\n",
    "\n",
    "normalized_souener_pred = predictions\n",
    "\n",
    "\n",
    "scaler_souener = halfData[\"scaler_souener\"]\n",
    "Y_pred = scaler_souener.inverse_transform(normalized_souener_pred)\n",
    "\n",
    "\n",
    "Y_pred_df = pd.DataFrame(data=Y_pred,  columns=dependents)\n",
    "\n",
    "\n",
    "Y_test_df = pd.DataFrame(data=halfData[\"Y_test\"],  columns=dependents)\n",
    "\n",
    "\n",
    "err_df = computeErrorAcrossDependents(Y_pred_df, Y_test_df)"
   ]
  },
  {
   "cell_type": "code",
   "execution_count": 62,
   "metadata": {},
   "outputs": [
    {
     "data": {
      "text/html": [
       "<div>\n",
       "<style scoped>\n",
       "    .dataframe tbody tr th:only-of-type {\n",
       "        vertical-align: middle;\n",
       "    }\n",
       "\n",
       "    .dataframe tbody tr th {\n",
       "        vertical-align: top;\n",
       "    }\n",
       "\n",
       "    .dataframe thead th {\n",
       "        text-align: right;\n",
       "    }\n",
       "</style>\n",
       "<table border=\"1\" class=\"dataframe\">\n",
       "  <thead>\n",
       "    <tr style=\"text-align: right;\">\n",
       "      <th></th>\n",
       "      <th>Dependent</th>\n",
       "      <th>Mean ABS</th>\n",
       "      <th>Total ABS</th>\n",
       "      <th>#Pts</th>\n",
       "    </tr>\n",
       "  </thead>\n",
       "  <tbody>\n",
       "    <tr>\n",
       "      <th>0</th>\n",
       "      <td>souener</td>\n",
       "      <td>7.442032e+08</td>\n",
       "      <td>6.118839e+12</td>\n",
       "      <td>8222</td>\n",
       "    </tr>\n",
       "    <tr>\n",
       "      <th>1</th>\n",
       "      <td>souspecO2</td>\n",
       "      <td>2.372395e+02</td>\n",
       "      <td>1.950583e+06</td>\n",
       "      <td>8222</td>\n",
       "    </tr>\n",
       "    <tr>\n",
       "      <th>2</th>\n",
       "      <td>souspecCO</td>\n",
       "      <td>5.735666e+01</td>\n",
       "      <td>4.715864e+05</td>\n",
       "      <td>8222</td>\n",
       "    </tr>\n",
       "    <tr>\n",
       "      <th>3</th>\n",
       "      <td>souspecCO2</td>\n",
       "      <td>2.175347e+01</td>\n",
       "      <td>1.788570e+05</td>\n",
       "      <td>8222</td>\n",
       "    </tr>\n",
       "    <tr>\n",
       "      <th>4</th>\n",
       "      <td>souspecH2O</td>\n",
       "      <td>4.903245e+01</td>\n",
       "      <td>4.031448e+05</td>\n",
       "      <td>8222</td>\n",
       "    </tr>\n",
       "    <tr>\n",
       "      <th>5</th>\n",
       "      <td>souspecOH</td>\n",
       "      <td>6.697034e+01</td>\n",
       "      <td>5.506301e+05</td>\n",
       "      <td>8222</td>\n",
       "    </tr>\n",
       "    <tr>\n",
       "      <th>6</th>\n",
       "      <td>souspecH2</td>\n",
       "      <td>6.828041e+00</td>\n",
       "      <td>5.614015e+04</td>\n",
       "      <td>8222</td>\n",
       "    </tr>\n",
       "    <tr>\n",
       "      <th>7</th>\n",
       "      <td>souspecCH4</td>\n",
       "      <td>3.634117e+01</td>\n",
       "      <td>2.987971e+05</td>\n",
       "      <td>8222</td>\n",
       "    </tr>\n",
       "  </tbody>\n",
       "</table>\n",
       "</div>"
      ],
      "text/plain": [
       "    Dependent      Mean ABS     Total ABS  #Pts\n",
       "0     souener  7.442032e+08  6.118839e+12  8222\n",
       "1   souspecO2  2.372395e+02  1.950583e+06  8222\n",
       "2   souspecCO  5.735666e+01  4.715864e+05  8222\n",
       "3  souspecCO2  2.175347e+01  1.788570e+05  8222\n",
       "4  souspecH2O  4.903245e+01  4.031448e+05  8222\n",
       "5   souspecOH  6.697034e+01  5.506301e+05  8222\n",
       "6   souspecH2  6.828041e+00  5.614015e+04  8222\n",
       "7  souspecCH4  3.634117e+01  2.987971e+05  8222"
      ]
     },
     "execution_count": 62,
     "metadata": {},
     "output_type": "execute_result"
    }
   ],
   "source": [
    "err_df"
   ]
  },
  {
   "cell_type": "code",
   "execution_count": 63,
   "metadata": {},
   "outputs": [
    {
     "name": "stderr",
     "output_type": "stream",
     "text": [
      "/home/dwyerdei/.conda/envs/rom-project/lib/python3.8/site-packages/seaborn/_decorators.py:36: FutureWarning: Pass the following variables as keyword args: x, y. From version 0.12, the only valid positional argument will be `data`, and passing other arguments without an explicit keyword will result in an error or misinterpretation.\n",
      "  warnings.warn(\n"
     ]
    },
    {
     "data": {
      "text/plain": [
       "<AxesSubplot:>"
      ]
     },
     "execution_count": 63,
     "metadata": {},
     "output_type": "execute_result"
    },
    {
     "data": {
      "image/png": "[encoded data removed]",
      "text/plain": [
       "<Figure size 432x288 with 1 Axes>"
      ]
     },
     "metadata": {
      "needs_background": "light"
     },
     "output_type": "display_data"
    }
   ],
   "source": [
    "Y_pred = Y_pred_df[\"souener\"].values\n",
    "Y_test = Y_test_df[\"souener\"].values\n",
    "sns.residplot(Y_test, getResiduals(Y_test,Y_pred))"
   ]
  },
  {
   "cell_type": "markdown",
   "metadata": {},
   "source": [
    "### Constrained DNN -- Baseline (Zmix + 4 Dim Linear Embedding; Orthogonal Weights)"
   ]
  },
  {
   "cell_type": "code",
   "execution_count": 64,
   "metadata": {},
   "outputs": [],
   "source": [
    "encoding_dim = 4\n",
    "\n",
    "species_inputs = keras.Input(shape=(53,), name=\"species_input\")\n",
    "\n",
    "Zmix = keras.Input(shape=(1,), name=\"Zmix\")\n",
    "\n",
    "x = layers.Dense(encoding_dim, activation=\"linear\",kernel_regularizer=WeightsOrthogonalityConstraint(encoding_dim, weightage=1., axis=0))(species_inputs)\n",
    "\n",
    "#Concatenate the Linear Embedding and Zmix together\n",
    "x = layers.Concatenate()([Zmix, x])\n",
    "\n",
    "x = layers.Dense(32, activation=\"relu\")(x)\n",
    "x = layers.Dense(64, activation=\"relu\")(x)\n",
    "x = layers.Dense(128, activation=\"relu\")(x)\n",
    "x = layers.Dense(256, activation=\"relu\")(x)\n",
    "x = layers.Dense(512, activation=\"relu\")(x)\n",
    "x = layers.Dense(256, activation=\"relu\")(x)\n",
    "x = layers.Dense(128, activation=\"relu\")(x)\n",
    "x = layers.Dense(64, activation=\"relu\")(x)\n",
    "x = layers.Dense(32, activation=\"relu\")(x)\n",
    "#Predict the source energy\n",
    "souener_pred = layers.Dense(8, name=\"prediction\")(x)\n",
    "\n",
    "model = keras.Model(\n",
    "    inputs=[species_inputs,Zmix],\n",
    "    outputs=[souener_pred],\n",
    ")\n",
    "\n",
    "\n",
    "#,kernel_regularizer=WeightsOrthogonalityConstraint(encoding_dim, weightage=1., axis=0)\n",
    "#,kernel_constraint=UnitNorm(axis=0)\n",
    "#,activity_regularizer=UncorrelatedFeaturesConstraint(encoding_dim, weightage=1.)\n",
    "#model.summary()"
   ]
  },
  {
   "cell_type": "code",
   "execution_count": 48,
   "metadata": {},
   "outputs": [
    {
     "data": {
      "text/plain": [
       "'\\ntf.keras.utils.plot_model(model,to_file=\"model.png\",\\n    show_shapes=True,\\n    show_layer_names=True,\\n    rankdir=\"TB\",\\n    expand_nested=False,\\n    dpi=96)\\n '"
      ]
     },
     "execution_count": 48,
     "metadata": {},
     "output_type": "execute_result"
    }
   ],
   "source": [
    "'''\n",
    "tf.keras.utils.plot_model(model,to_file=\"model.png\",\n",
    "    show_shapes=True,\n",
    "    show_layer_names=True,\n",
    "    rankdir=\"TB\",\n",
    "    expand_nested=False,\n",
    "    dpi=96)\n",
    " '''   "
   ]
  },
  {
   "cell_type": "code",
   "execution_count": 49,
   "metadata": {},
   "outputs": [],
   "source": [
    "model.compile(loss='mean_absolute_error',optimizer=tf.keras.optimizers.Adam(0.001))"
   ]
  },
  {
   "cell_type": "code",
   "execution_count": 50,
   "metadata": {},
   "outputs": [],
   "source": [
    "halfData = getHalfData()"
   ]
  },
  {
   "cell_type": "code",
   "execution_count": 51,
   "metadata": {},
   "outputs": [
    {
     "name": "stdout",
     "output_type": "stream",
     "text": [
      "Wall time: 54.8 s\n"
     ]
    }
   ],
   "source": [
    "%%time\n",
    "\n",
    "normalized_species_train = halfData[\"normalized_species_train\"]\n",
    "Zmix_train = halfData[\"Zmix_train\"] \n",
    "normalized_souener_train = halfData[\"normalized_souener_train\"]\n",
    "\n",
    "history = model.fit([normalized_species_train,Zmix_train], \n",
    "                          normalized_souener_train,\n",
    "                          validation_split=0.2,\n",
    "                          verbose=0, \n",
    "                          epochs=100, \n",
    "                          callbacks=[es])"
   ]
  },
  {
   "cell_type": "code",
   "execution_count": 52,
   "metadata": {
    "scrolled": false
   },
   "outputs": [
    {
     "data": {
      "image/png": "[encoded data removed]",
      "text/plain": [
       "<Figure size 432x288 with 1 Axes>"
      ]
     },
     "metadata": {
      "needs_background": "light"
     },
     "output_type": "display_data"
    }
   ],
   "source": [
    "plot_loss(history)"
   ]
  },
  {
   "cell_type": "code",
   "execution_count": 53,
   "metadata": {},
   "outputs": [],
   "source": [
    "normalized_species_test = halfData[\"normalized_species_test\"]\n",
    "\n",
    "Zmix_test =  halfData[\"Zmix_test\"]\n",
    "\n",
    "predictions = model.predict([normalized_species_test,Zmix_test])\n",
    "\n",
    "normalized_souener_pred = predictions\n",
    "\n",
    "\n",
    "scaler_souener = halfData[\"scaler_souener\"]\n",
    "Y_pred = scaler_souener.inverse_transform(normalized_souener_pred)\n",
    "\n",
    "\n",
    "Y_pred_df = pd.DataFrame(data=Y_pred,  columns=dependents)\n",
    "\n",
    "\n",
    "Y_test_df = pd.DataFrame(data=halfData[\"Y_test\"],  columns=dependents)\n",
    "\n",
    "\n",
    "err_df = computeErrorAcrossDependents(Y_pred_df, Y_test_df)"
   ]
  },
  {
   "cell_type": "code",
   "execution_count": 54,
   "metadata": {},
   "outputs": [
    {
     "data": {
      "text/html": [
       "<div>\n",
       "<style scoped>\n",
       "    .dataframe tbody tr th:only-of-type {\n",
       "        vertical-align: middle;\n",
       "    }\n",
       "\n",
       "    .dataframe tbody tr th {\n",
       "        vertical-align: top;\n",
       "    }\n",
       "\n",
       "    .dataframe thead th {\n",
       "        text-align: right;\n",
       "    }\n",
       "</style>\n",
       "<table border=\"1\" class=\"dataframe\">\n",
       "  <thead>\n",
       "    <tr style=\"text-align: right;\">\n",
       "      <th></th>\n",
       "      <th>Dependent</th>\n",
       "      <th>Mean ABS</th>\n",
       "      <th>Total ABS</th>\n",
       "      <th>#Pts</th>\n",
       "    </tr>\n",
       "  </thead>\n",
       "  <tbody>\n",
       "    <tr>\n",
       "      <th>0</th>\n",
       "      <td>souener</td>\n",
       "      <td>7.871037e+08</td>\n",
       "      <td>6.471566e+12</td>\n",
       "      <td>8222</td>\n",
       "    </tr>\n",
       "    <tr>\n",
       "      <th>1</th>\n",
       "      <td>souspecO2</td>\n",
       "      <td>1.988912e+02</td>\n",
       "      <td>1.635284e+06</td>\n",
       "      <td>8222</td>\n",
       "    </tr>\n",
       "    <tr>\n",
       "      <th>2</th>\n",
       "      <td>souspecCO</td>\n",
       "      <td>3.934019e+01</td>\n",
       "      <td>3.234550e+05</td>\n",
       "      <td>8222</td>\n",
       "    </tr>\n",
       "    <tr>\n",
       "      <th>3</th>\n",
       "      <td>souspecCO2</td>\n",
       "      <td>3.973378e+01</td>\n",
       "      <td>3.266911e+05</td>\n",
       "      <td>8222</td>\n",
       "    </tr>\n",
       "    <tr>\n",
       "      <th>4</th>\n",
       "      <td>souspecH2O</td>\n",
       "      <td>5.379462e+01</td>\n",
       "      <td>4.422993e+05</td>\n",
       "      <td>8222</td>\n",
       "    </tr>\n",
       "    <tr>\n",
       "      <th>5</th>\n",
       "      <td>souspecOH</td>\n",
       "      <td>9.268640e+01</td>\n",
       "      <td>7.620676e+05</td>\n",
       "      <td>8222</td>\n",
       "    </tr>\n",
       "    <tr>\n",
       "      <th>6</th>\n",
       "      <td>souspecH2</td>\n",
       "      <td>8.390635e+00</td>\n",
       "      <td>6.898780e+04</td>\n",
       "      <td>8222</td>\n",
       "    </tr>\n",
       "    <tr>\n",
       "      <th>7</th>\n",
       "      <td>souspecCH4</td>\n",
       "      <td>4.900650e+01</td>\n",
       "      <td>4.029314e+05</td>\n",
       "      <td>8222</td>\n",
       "    </tr>\n",
       "  </tbody>\n",
       "</table>\n",
       "</div>"
      ],
      "text/plain": [
       "    Dependent      Mean ABS     Total ABS  #Pts\n",
       "0     souener  7.871037e+08  6.471566e+12  8222\n",
       "1   souspecO2  1.988912e+02  1.635284e+06  8222\n",
       "2   souspecCO  3.934019e+01  3.234550e+05  8222\n",
       "3  souspecCO2  3.973378e+01  3.266911e+05  8222\n",
       "4  souspecH2O  5.379462e+01  4.422993e+05  8222\n",
       "5   souspecOH  9.268640e+01  7.620676e+05  8222\n",
       "6   souspecH2  8.390635e+00  6.898780e+04  8222\n",
       "7  souspecCH4  4.900650e+01  4.029314e+05  8222"
      ]
     },
     "execution_count": 54,
     "metadata": {},
     "output_type": "execute_result"
    }
   ],
   "source": [
    "err_df"
   ]
  },
  {
   "cell_type": "code",
   "execution_count": 55,
   "metadata": {},
   "outputs": [
    {
     "name": "stderr",
     "output_type": "stream",
     "text": [
      "C:\\Users\\amol\\.conda\\envs\\tensorflow_v2\\lib\\site-packages\\seaborn\\_decorators.py:43: FutureWarning: Pass the following variables as keyword args: x, y. From version 0.12, the only valid positional argument will be `data`, and passing other arguments without an explicit keyword will result in an error or misinterpretation.\n",
      "  FutureWarning\n"
     ]
    },
    {
     "data": {
      "text/plain": [
       "<AxesSubplot:>"
      ]
     },
     "execution_count": 55,
     "metadata": {},
     "output_type": "execute_result"
    },
    {
     "data": {
      "image/png": "[encoded data removed]",
      "text/plain": [
       "<Figure size 432x288 with 1 Axes>"
      ]
     },
     "metadata": {
      "needs_background": "light"
     },
     "output_type": "display_data"
    }
   ],
   "source": [
    "Y_pred = Y_pred_df[\"souener\"].values\n",
    "Y_test = Y_test_df[\"souener\"].values\n",
    "sns.residplot(Y_test, getResiduals(Y_test,Y_pred))"
   ]
  },
  {
   "cell_type": "code",
   "execution_count": null,
   "metadata": {},
   "outputs": [],
   "source": []
  },
  {
   "cell_type": "markdown",
   "metadata": {},
   "source": [
    "### Constrained DNN -- Baseline (Zmix + 4 Dim Linear Embedding; Uncorrelated Features)"
   ]
  },
  {
   "cell_type": "code",
   "execution_count": null,
   "metadata": {},
   "outputs": [],
   "source": []
  },
  {
   "cell_type": "code",
   "execution_count": 65,
   "metadata": {},
   "outputs": [],
   "source": [
    "encoding_dim = 4\n",
    "\n",
    "species_inputs = keras.Input(shape=(53,), name=\"species_input\")\n",
    "\n",
    "Zmix = keras.Input(shape=(1,), name=\"Zmix\")\n",
    "\n",
    "x = layers.Dense(encoding_dim, activation=\"linear\",activity_regularizer=UncorrelatedFeaturesConstraint(encoding_dim, weightage=1.))(species_inputs)\n",
    "\n",
    "#Concatenate the Linear Embedding and Zmix together\n",
    "x = layers.Concatenate()([Zmix, x])\n",
    "\n",
    "x = layers.Dense(32, activation=\"relu\")(x)\n",
    "x = layers.Dense(64, activation=\"relu\")(x)\n",
    "x = layers.Dense(128, activation=\"relu\")(x)\n",
    "x = layers.Dense(256, activation=\"relu\")(x)\n",
    "x = layers.Dense(512, activation=\"relu\")(x)\n",
    "x = layers.Dense(256, activation=\"relu\")(x)\n",
    "x = layers.Dense(128, activation=\"relu\")(x)\n",
    "x = layers.Dense(64, activation=\"relu\")(x)\n",
    "x = layers.Dense(32, activation=\"relu\")(x)\n",
    "#Predict the source energy\n",
    "souener_pred = layers.Dense(8, name=\"prediction\")(x)\n",
    "\n",
    "model = keras.Model(\n",
    "    inputs=[species_inputs,Zmix],\n",
    "    outputs=[souener_pred],\n",
    ")\n",
    "\n",
    "\n",
    "#,kernel_regularizer=WeightsOrthogonalityConstraint(encoding_dim, weightage=1., axis=0)\n",
    "#,kernel_constraint=UnitNorm(axis=0)\n",
    "#,activity_regularizer=UncorrelatedFeaturesConstraint(encoding_dim, weightage=1.)\n",
    "\n",
    "#model.summary()"
   ]
  },
  {
   "cell_type": "code",
   "execution_count": 66,
   "metadata": {},
   "outputs": [],
   "source": [
    "#mae = tf.keras.losses.MeanAbsoluteError(reduction=tf.keras.losses.Reduction.SUM) #--> additive ERROR across sou term with equal importance\n",
    "#mae = tf.keras.losses.MeanAbsoluteError() #--> (avg across all souspec* (avg ERROR for each souspec across all data pts))\n",
    "\n",
    "model.compile(loss='mean_absolute_error',optimizer=tf.keras.optimizers.Adam(0.001))"
   ]
  },
  {
   "cell_type": "code",
   "execution_count": 67,
   "metadata": {},
   "outputs": [],
   "source": [
    "halfData = getHalfData()"
   ]
  },
  {
   "cell_type": "code",
   "execution_count": 68,
   "metadata": {},
   "outputs": [
    {
     "name": "stdout",
     "output_type": "stream",
     "text": [
      "CPU times: user 3min 49s, sys: 18 s, total: 4min 7s\n",
      "Wall time: 2min 44s\n"
     ]
    }
   ],
   "source": [
    "%%time\n",
    "\n",
    "normalized_species_train = halfData[\"normalized_species_train\"]\n",
    "Zmix_train = halfData[\"Zmix_train\"] \n",
    "normalized_souener_train = halfData[\"normalized_souener_train\"]\n",
    "\n",
    "history = model.fit([normalized_species_train,Zmix_train], \n",
    "                          normalized_souener_train,\n",
    "                          validation_split=0.2,\n",
    "                          verbose=0, \n",
    "                          epochs=100, \n",
    "                          callbacks=[es])"
   ]
  },
  {
   "cell_type": "code",
   "execution_count": 69,
   "metadata": {
    "scrolled": false
   },
   "outputs": [
    {
     "data": {
      "image/png": "[encoded data removed]",
      "text/plain": [
       "<Figure size 432x288 with 1 Axes>"
      ]
     },
     "metadata": {
      "needs_background": "light"
     },
     "output_type": "display_data"
    }
   ],
   "source": [
    "plot_loss(history)"
   ]
  },
  {
   "cell_type": "code",
   "execution_count": 70,
   "metadata": {},
   "outputs": [],
   "source": [
    "normalized_species_test = halfData[\"normalized_species_test\"]\n",
    "\n",
    "Zmix_test =  halfData[\"Zmix_test\"]\n",
    "\n",
    "predictions = model.predict([normalized_species_test,Zmix_test])\n",
    "\n",
    "normalized_souener_pred = predictions\n",
    "\n",
    "\n",
    "scaler_souener = halfData[\"scaler_souener\"]\n",
    "Y_pred = scaler_souener.inverse_transform(normalized_souener_pred)\n",
    "\n",
    "Y_pred_df = pd.DataFrame(data=Y_pred,  columns=dependents)\n",
    "Y_test_df = pd.DataFrame(data=halfData[\"Y_test\"],  columns=dependents)\n",
    "\n",
    "err_df = computeErrorAcrossDependents(Y_pred_df, Y_test_df)"
   ]
  },
  {
   "cell_type": "code",
   "execution_count": 71,
   "metadata": {},
   "outputs": [
    {
     "data": {
      "text/html": [
       "<div>\n",
       "<style scoped>\n",
       "    .dataframe tbody tr th:only-of-type {\n",
       "        vertical-align: middle;\n",
       "    }\n",
       "\n",
       "    .dataframe tbody tr th {\n",
       "        vertical-align: top;\n",
       "    }\n",
       "\n",
       "    .dataframe thead th {\n",
       "        text-align: right;\n",
       "    }\n",
       "</style>\n",
       "<table border=\"1\" class=\"dataframe\">\n",
       "  <thead>\n",
       "    <tr style=\"text-align: right;\">\n",
       "      <th></th>\n",
       "      <th>Dependent</th>\n",
       "      <th>Mean ABS</th>\n",
       "      <th>Total ABS</th>\n",
       "      <th>#Pts</th>\n",
       "    </tr>\n",
       "  </thead>\n",
       "  <tbody>\n",
       "    <tr>\n",
       "      <th>0</th>\n",
       "      <td>souener</td>\n",
       "      <td>6.112959e+08</td>\n",
       "      <td>5.026075e+12</td>\n",
       "      <td>8222</td>\n",
       "    </tr>\n",
       "    <tr>\n",
       "      <th>1</th>\n",
       "      <td>souspecO2</td>\n",
       "      <td>1.748034e+02</td>\n",
       "      <td>1.437233e+06</td>\n",
       "      <td>8222</td>\n",
       "    </tr>\n",
       "    <tr>\n",
       "      <th>2</th>\n",
       "      <td>souspecCO</td>\n",
       "      <td>6.300231e+01</td>\n",
       "      <td>5.180050e+05</td>\n",
       "      <td>8222</td>\n",
       "    </tr>\n",
       "    <tr>\n",
       "      <th>3</th>\n",
       "      <td>souspecCO2</td>\n",
       "      <td>2.090275e+01</td>\n",
       "      <td>1.718624e+05</td>\n",
       "      <td>8222</td>\n",
       "    </tr>\n",
       "    <tr>\n",
       "      <th>4</th>\n",
       "      <td>souspecH2O</td>\n",
       "      <td>4.910439e+01</td>\n",
       "      <td>4.037363e+05</td>\n",
       "      <td>8222</td>\n",
       "    </tr>\n",
       "    <tr>\n",
       "      <th>5</th>\n",
       "      <td>souspecOH</td>\n",
       "      <td>5.577613e+01</td>\n",
       "      <td>4.585913e+05</td>\n",
       "      <td>8222</td>\n",
       "    </tr>\n",
       "    <tr>\n",
       "      <th>6</th>\n",
       "      <td>souspecH2</td>\n",
       "      <td>8.638430e+00</td>\n",
       "      <td>7.102517e+04</td>\n",
       "      <td>8222</td>\n",
       "    </tr>\n",
       "    <tr>\n",
       "      <th>7</th>\n",
       "      <td>souspecCH4</td>\n",
       "      <td>6.066533e+01</td>\n",
       "      <td>4.987903e+05</td>\n",
       "      <td>8222</td>\n",
       "    </tr>\n",
       "  </tbody>\n",
       "</table>\n",
       "</div>"
      ],
      "text/plain": [
       "    Dependent      Mean ABS     Total ABS  #Pts\n",
       "0     souener  6.112959e+08  5.026075e+12  8222\n",
       "1   souspecO2  1.748034e+02  1.437233e+06  8222\n",
       "2   souspecCO  6.300231e+01  5.180050e+05  8222\n",
       "3  souspecCO2  2.090275e+01  1.718624e+05  8222\n",
       "4  souspecH2O  4.910439e+01  4.037363e+05  8222\n",
       "5   souspecOH  5.577613e+01  4.585913e+05  8222\n",
       "6   souspecH2  8.638430e+00  7.102517e+04  8222\n",
       "7  souspecCH4  6.066533e+01  4.987903e+05  8222"
      ]
     },
     "execution_count": 71,
     "metadata": {},
     "output_type": "execute_result"
    }
   ],
   "source": [
    "err_df"
   ]
  },
  {
   "cell_type": "code",
   "execution_count": 72,
   "metadata": {},
   "outputs": [
    {
     "name": "stderr",
     "output_type": "stream",
     "text": [
      "/home/dwyerdei/.conda/envs/rom-project/lib/python3.8/site-packages/seaborn/_decorators.py:36: FutureWarning: Pass the following variables as keyword args: x, y. From version 0.12, the only valid positional argument will be `data`, and passing other arguments without an explicit keyword will result in an error or misinterpretation.\n",
      "  warnings.warn(\n"
     ]
    },
    {
     "data": {
      "text/plain": [
       "<AxesSubplot:>"
      ]
     },
     "execution_count": 72,
     "metadata": {},
     "output_type": "execute_result"
    },
    {
     "data": {
      "image/png": "[encoded data removed]",
      "text/plain": [
       "<Figure size 432x288 with 1 Axes>"
      ]
     },
     "metadata": {
      "needs_background": "light"
     },
     "output_type": "display_data"
    }
   ],
   "source": [
    "Y_pred = Y_pred_df[\"souener\"].values\n",
    "Y_test = Y_test_df[\"souener\"].values\n",
    "sns.residplot(Y_test, getResiduals(Y_test,Y_pred))"
   ]
  },
  {
   "cell_type": "code",
   "execution_count": 73,
   "metadata": {},
   "outputs": [],
   "source": [
    "w_encoder = np.round(model.layers[2].get_weights()[0], 2) #53 * 4 --> 53 Species, 4 Cpvs"
   ]
  },
  {
   "cell_type": "code",
   "execution_count": 74,
   "metadata": {},
   "outputs": [],
   "source": [
    "#w_encoder"
   ]
  },
  {
   "cell_type": "markdown",
   "metadata": {},
   "source": [
    "### Unit Norm Constraint on the Weights of the Encoder"
   ]
  },
  {
   "cell_type": "code",
   "execution_count": 75,
   "metadata": {},
   "outputs": [
    {
     "name": "stdout",
     "output_type": "stream",
     "text": [
      "Encoder weights norm, \n",
      " [1.773 1.405 1.36  1.21 ]\n"
     ]
    }
   ],
   "source": [
    "print('Encoder weights norm, \\n',  np.round(np.sum(w_encoder.T ** 2, axis = 1),3)) #--> L2 Norm"
   ]
  },
  {
   "cell_type": "markdown",
   "metadata": {},
   "source": [
    "### Orthogonal Weights Constraint of the Encoder"
   ]
  },
  {
   "cell_type": "code",
   "execution_count": 76,
   "metadata": {},
   "outputs": [
    {
     "data": {
      "text/plain": [
       "array([[ 1.773,  0.369, -0.254,  0.523],\n",
       "       [ 0.369,  1.405,  0.003, -0.015],\n",
       "       [-0.254,  0.003,  1.36 ,  0.285],\n",
       "       [ 0.523, -0.015,  0.285,  1.21 ]], dtype=float32)"
      ]
     },
     "execution_count": 76,
     "metadata": {},
     "output_type": "execute_result"
    }
   ],
   "source": [
    "np.round(np.dot(w_encoder.T, w_encoder), 3)"
   ]
  },
  {
   "cell_type": "markdown",
   "metadata": {},
   "source": [
    "### Uncorrelated Features Constraint of the Encoder"
   ]
  },
  {
   "cell_type": "code",
   "execution_count": 77,
   "metadata": {},
   "outputs": [
    {
     "name": "stdout",
     "output_type": "stream",
     "text": [
      "Encoded feature covariance\n",
      " [[ 0.006  0.     0.    -0.   ]\n",
      " [ 0.     0.007  0.     0.   ]\n",
      " [ 0.     0.     0.017 -0.001]\n",
      " [-0.     0.    -0.001  0.019]]\n"
     ]
    }
   ],
   "source": [
    "encoder_layer = Model(inputs=model.inputs[0], outputs=model.layers[2].output)\n",
    "encoded_features = np.array(encoder_layer.predict(normalized_species_test))\n",
    "print('Encoded feature covariance\\n', np.round(np.cov(encoded_features.T),3))"
   ]
  },
  {
   "cell_type": "code",
   "execution_count": 78,
   "metadata": {},
   "outputs": [],
   "source": [
    "cpv_df = pd.DataFrame(data=encoder_layer.predict(normalized_species_test), columns=[\"Cpv1\", \"Cpv2\", \"Cpv3\", \"Cpv4\"])"
   ]
  },
  {
   "cell_type": "code",
   "execution_count": 79,
   "metadata": {},
   "outputs": [
    {
     "data": {
      "text/plain": [
       "array([[<AxesSubplot:title={'center':'Cpv1'}>,\n",
       "        <AxesSubplot:title={'center':'Cpv2'}>],\n",
       "       [<AxesSubplot:title={'center':'Cpv3'}>,\n",
       "        <AxesSubplot:title={'center':'Cpv4'}>]], dtype=object)"
      ]
     },
     "execution_count": 79,
     "metadata": {},
     "output_type": "execute_result"
    },
    {
     "data": {
      "image/png": "[encoded data removed]",
      "text/plain": [
       "<Figure size 432x288 with 4 Axes>"
      ]
     },
     "metadata": {
      "needs_background": "light"
     },
     "output_type": "display_data"
    }
   ],
   "source": [
    "cpv_df.hist()"
   ]
  },
  {
   "cell_type": "markdown",
   "metadata": {},
   "source": [
    "### Constrained DNN -- Baseline (Zmix + 4 Dim Linear Embedding; All Constraints)"
   ]
  },
  {
   "cell_type": "code",
   "execution_count": 80,
   "metadata": {},
   "outputs": [],
   "source": [
    "encoding_dim = 4\n",
    "\n",
    "species_inputs = keras.Input(shape=(53,), name=\"species_input\")\n",
    "\n",
    "Zmix = keras.Input(shape=(1,), name=\"zmix\")\n",
    "\n",
    "x = layers.Dense(encoding_dim,name='linear_embedding', activation=\"linear\",kernel_constraint=UnitNorm(axis=0),kernel_regularizer=WeightsOrthogonalityConstraint(encoding_dim, weightage=1., axis=0),activity_regularizer=UncorrelatedFeaturesConstraint(encoding_dim, weightage=1.))(species_inputs)\n",
    "\n",
    "#Concatenate the Linear Embedding and Zmix together\n",
    "x = layers.Concatenate()([Zmix, x])\n",
    "\n",
    "x = layers.Dense(32, activation=\"relu\")(x)\n",
    "x = layers.Dense(64, activation=\"relu\")(x)\n",
    "x = layers.Dense(128, activation=\"relu\")(x)\n",
    "x = layers.Dense(256, activation=\"relu\")(x)\n",
    "x = layers.Dense(512, activation=\"relu\")(x)\n",
    "x = layers.Dense(256, activation=\"relu\")(x)\n",
    "x = layers.Dense(128, activation=\"relu\")(x)\n",
    "x = layers.Dense(64, activation=\"relu\")(x)\n",
    "x = layers.Dense(32, activation=\"relu\")(x)\n",
    "#Predict the source energy\n",
    "souener_pred = layers.Dense(8, name=\"prediction\")(x)\n",
    "\n",
    "model = keras.Model(\n",
    "    inputs=[species_inputs,Zmix],\n",
    "    outputs=[souener_pred],\n",
    ")\n",
    "\n",
    "\n",
    "#,kernel_regularizer=WeightsOrthogonalityConstraint(encoding_dim, weightage=1., axis=0)\n",
    "#,kernel_constraint=UnitNorm(axis=0)\n",
    "#,activity_regularizer=UncorrelatedFeaturesConstraint(encoding_dim, weightage=1.)\n"
   ]
  },
  {
   "cell_type": "code",
   "execution_count": 72,
   "metadata": {},
   "outputs": [
    {
     "data": {
      "text/plain": [
       "'\\ntf.keras.utils.plot_model(model,to_file=\"model.png\",\\n    show_shapes=True,\\n    show_layer_names=True,\\n    rankdir=\"TB\",\\n    expand_nested=False,\\n    dpi=96)\\n'"
      ]
     },
     "execution_count": 72,
     "metadata": {},
     "output_type": "execute_result"
    }
   ],
   "source": [
    "'''\n",
    "tf.keras.utils.plot_model(model,to_file=\"model.png\",\n",
    "    show_shapes=True,\n",
    "    show_layer_names=True,\n",
    "    rankdir=\"TB\",\n",
    "    expand_nested=False,\n",
    "    dpi=96)\n",
    "'''"
   ]
  },
  {
   "cell_type": "code",
   "execution_count": 81,
   "metadata": {},
   "outputs": [],
   "source": [
    "model.compile(loss='mean_absolute_error',optimizer=tf.keras.optimizers.Adam(0.001))"
   ]
  },
  {
   "cell_type": "code",
   "execution_count": 82,
   "metadata": {},
   "outputs": [],
   "source": [
    "halfData = getHalfData()"
   ]
  },
  {
   "cell_type": "code",
   "execution_count": 83,
   "metadata": {},
   "outputs": [
    {
     "name": "stdout",
     "output_type": "stream",
     "text": [
      "CPU times: user 4min 3s, sys: 20.2 s, total: 4min 23s\n",
      "Wall time: 2min 52s\n"
     ]
    }
   ],
   "source": [
    "%%time\n",
    "\n",
    "normalized_species_train = halfData[\"normalized_species_train\"]\n",
    "Zmix_train = halfData[\"Zmix_train\"] \n",
    "normalized_souener_train = halfData[\"normalized_souener_train\"]\n",
    "\n",
    "history = model.fit([normalized_species_train,Zmix_train], \n",
    "                          normalized_souener_train,\n",
    "                          validation_split=0.2,\n",
    "                          verbose=0, \n",
    "                          epochs=100, \n",
    "                          callbacks=[es])"
   ]
  },
  {
   "cell_type": "code",
   "execution_count": 84,
   "metadata": {
    "scrolled": false
   },
   "outputs": [
    {
     "data": {
      "image/png": "[encoded data removed]",
      "text/plain": [
       "<Figure size 432x288 with 1 Axes>"
      ]
     },
     "metadata": {
      "needs_background": "light"
     },
     "output_type": "display_data"
    }
   ],
   "source": [
    "plot_loss(history)"
   ]
  },
  {
   "cell_type": "code",
   "execution_count": 85,
   "metadata": {},
   "outputs": [],
   "source": [
    "normalized_species_test = halfData[\"normalized_species_test\"]\n",
    "\n",
    "Zmix_test =  halfData[\"Zmix_test\"]\n",
    "\n",
    "predictions = model.predict([normalized_species_test,Zmix_test])\n",
    "\n",
    "normalized_souener_pred = predictions\n",
    "\n",
    "\n",
    "scaler_souener = halfData[\"scaler_souener\"]\n",
    "Y_pred = scaler_souener.inverse_transform(normalized_souener_pred)\n",
    "\n",
    "\n",
    "Y_pred_df = pd.DataFrame(data=Y_pred,  columns=dependents)\n",
    "\n",
    "Y_test_df = pd.DataFrame(data=halfData[\"Y_test\"],  columns=dependents)\n",
    "\n",
    "\n",
    "err_df = computeErrorAcrossDependents(Y_pred_df, Y_test_df)"
   ]
  },
  {
   "cell_type": "code",
   "execution_count": 78,
   "metadata": {},
   "outputs": [
    {
     "data": {
      "text/html": [
       "<div>\n",
       "<style scoped>\n",
       "    .dataframe tbody tr th:only-of-type {\n",
       "        vertical-align: middle;\n",
       "    }\n",
       "\n",
       "    .dataframe tbody tr th {\n",
       "        vertical-align: top;\n",
       "    }\n",
       "\n",
       "    .dataframe thead th {\n",
       "        text-align: right;\n",
       "    }\n",
       "</style>\n",
       "<table border=\"1\" class=\"dataframe\">\n",
       "  <thead>\n",
       "    <tr style=\"text-align: right;\">\n",
       "      <th></th>\n",
       "      <th>Dependent</th>\n",
       "      <th>Mean ABS</th>\n",
       "      <th>Total ABS</th>\n",
       "      <th>#Pts</th>\n",
       "    </tr>\n",
       "  </thead>\n",
       "  <tbody>\n",
       "    <tr>\n",
       "      <th>0</th>\n",
       "      <td>souener</td>\n",
       "      <td>9.591666e+08</td>\n",
       "      <td>7.886268e+12</td>\n",
       "      <td>8222</td>\n",
       "    </tr>\n",
       "    <tr>\n",
       "      <th>1</th>\n",
       "      <td>souspecO2</td>\n",
       "      <td>3.100430e+02</td>\n",
       "      <td>2.549174e+06</td>\n",
       "      <td>8222</td>\n",
       "    </tr>\n",
       "    <tr>\n",
       "      <th>2</th>\n",
       "      <td>souspecCO</td>\n",
       "      <td>6.417466e+01</td>\n",
       "      <td>5.276440e+05</td>\n",
       "      <td>8222</td>\n",
       "    </tr>\n",
       "    <tr>\n",
       "      <th>3</th>\n",
       "      <td>souspecCO2</td>\n",
       "      <td>4.202822e+01</td>\n",
       "      <td>3.455561e+05</td>\n",
       "      <td>8222</td>\n",
       "    </tr>\n",
       "    <tr>\n",
       "      <th>4</th>\n",
       "      <td>souspecH2O</td>\n",
       "      <td>6.768270e+01</td>\n",
       "      <td>5.564872e+05</td>\n",
       "      <td>8222</td>\n",
       "    </tr>\n",
       "    <tr>\n",
       "      <th>5</th>\n",
       "      <td>souspecOH</td>\n",
       "      <td>6.795081e+01</td>\n",
       "      <td>5.586915e+05</td>\n",
       "      <td>8222</td>\n",
       "    </tr>\n",
       "    <tr>\n",
       "      <th>6</th>\n",
       "      <td>souspecH2</td>\n",
       "      <td>7.802425e+00</td>\n",
       "      <td>6.415154e+04</td>\n",
       "      <td>8222</td>\n",
       "    </tr>\n",
       "    <tr>\n",
       "      <th>7</th>\n",
       "      <td>souspecCH4</td>\n",
       "      <td>2.864547e+01</td>\n",
       "      <td>2.355230e+05</td>\n",
       "      <td>8222</td>\n",
       "    </tr>\n",
       "  </tbody>\n",
       "</table>\n",
       "</div>"
      ],
      "text/plain": [
       "    Dependent      Mean ABS     Total ABS  #Pts\n",
       "0     souener  9.591666e+08  7.886268e+12  8222\n",
       "1   souspecO2  3.100430e+02  2.549174e+06  8222\n",
       "2   souspecCO  6.417466e+01  5.276440e+05  8222\n",
       "3  souspecCO2  4.202822e+01  3.455561e+05  8222\n",
       "4  souspecH2O  6.768270e+01  5.564872e+05  8222\n",
       "5   souspecOH  6.795081e+01  5.586915e+05  8222\n",
       "6   souspecH2  7.802425e+00  6.415154e+04  8222\n",
       "7  souspecCH4  2.864547e+01  2.355230e+05  8222"
      ]
     },
     "execution_count": 78,
     "metadata": {},
     "output_type": "execute_result"
    }
   ],
   "source": [
    "err_df"
   ]
  },
  {
   "cell_type": "code",
   "execution_count": 79,
   "metadata": {},
   "outputs": [
    {
     "name": "stderr",
     "output_type": "stream",
     "text": [
      "C:\\Users\\amol\\.conda\\envs\\tensorflow_v2\\lib\\site-packages\\seaborn\\_decorators.py:43: FutureWarning: Pass the following variables as keyword args: x, y. From version 0.12, the only valid positional argument will be `data`, and passing other arguments without an explicit keyword will result in an error or misinterpretation.\n",
      "  FutureWarning\n"
     ]
    },
    {
     "data": {
      "text/plain": [
       "<AxesSubplot:>"
      ]
     },
     "execution_count": 79,
     "metadata": {},
     "output_type": "execute_result"
    },
    {
     "data": {
      "image/png": "[encoded data removed]",
      "text/plain": [
       "<Figure size 432x288 with 1 Axes>"
      ]
     },
     "metadata": {
      "needs_background": "light"
     },
     "output_type": "display_data"
    }
   ],
   "source": [
    "Y_pred = Y_pred_df[\"souener\"].values\n",
    "Y_test = Y_test_df[\"souener\"].values\n",
    "\n",
    "sns.residplot(Y_test, getResiduals(Y_test,Y_pred))"
   ]
  },
  {
   "cell_type": "markdown",
   "metadata": {},
   "source": [
    "#### Testing on the entire dataset"
   ]
  },
  {
   "cell_type": "code",
   "execution_count": 80,
   "metadata": {},
   "outputs": [
    {
     "data": {
      "text/plain": [
       "'\\nY_pred = Y_pred_df[\"souener\"].values\\n\\n\\nY_test = Y_test_df[\"souener\"].values\\n\\nerr = computeAndPrintError(Y_pred, Y_test)\\n'"
      ]
     },
     "execution_count": 80,
     "metadata": {},
     "output_type": "execute_result"
    }
   ],
   "source": [
    "normalized_species_test = halfData[\"normalized_species_test\"]\n",
    "\n",
    "Zmix_test =  halfData[\"Zmix_test\"]\n",
    "\n",
    "normalized_species_train = halfData[\"normalized_species_train\"]\n",
    "\n",
    "Zmix_train =  halfData[\"Zmix_train\"]\n",
    "\n",
    "normalized_species_all = np.concatenate((normalized_species_test,normalized_species_train))\n",
    "\n",
    "Zmix_all = np.concatenate((Zmix_test, Zmix_train))\n",
    "\n",
    "\n",
    "predictions = model.predict([normalized_species_all,Zmix_all])\n",
    "\n",
    "normalized_souener_pred_all = predictions\n",
    "\n",
    "\n",
    "scaler_souener = halfData[\"scaler_souener\"]\n",
    "Y_pred = scaler_souener.inverse_transform(normalized_souener_pred_all)\n",
    "Y_pred_df = pd.DataFrame(data=Y_pred,  columns=dependents)\n",
    "Y_test_df = pd.DataFrame(data=np.concatenate((halfData[\"Y_test\"],halfData[\"Y_train\"])),  columns=dependents)\n",
    "err_df = computeErrorAcrossDependents(Y_pred_df, Y_test_df)\n",
    "\n",
    "\n",
    "'''\n",
    "Y_pred = Y_pred_df[\"souener\"].values\n",
    "\n",
    "\n",
    "Y_test = Y_test_df[\"souener\"].values\n",
    "\n",
    "err = computeAndPrintError(Y_pred, Y_test)\n",
    "'''\n"
   ]
  },
  {
   "cell_type": "code",
   "execution_count": 81,
   "metadata": {},
   "outputs": [
    {
     "data": {
      "text/html": [
       "<div>\n",
       "<style scoped>\n",
       "    .dataframe tbody tr th:only-of-type {\n",
       "        vertical-align: middle;\n",
       "    }\n",
       "\n",
       "    .dataframe tbody tr th {\n",
       "        vertical-align: top;\n",
       "    }\n",
       "\n",
       "    .dataframe thead th {\n",
       "        text-align: right;\n",
       "    }\n",
       "</style>\n",
       "<table border=\"1\" class=\"dataframe\">\n",
       "  <thead>\n",
       "    <tr style=\"text-align: right;\">\n",
       "      <th></th>\n",
       "      <th>Dependent</th>\n",
       "      <th>Mean ABS</th>\n",
       "      <th>Total ABS</th>\n",
       "      <th>#Pts</th>\n",
       "    </tr>\n",
       "  </thead>\n",
       "  <tbody>\n",
       "    <tr>\n",
       "      <th>0</th>\n",
       "      <td>souener</td>\n",
       "      <td>9.444429e+08</td>\n",
       "      <td>1.553042e+13</td>\n",
       "      <td>16444</td>\n",
       "    </tr>\n",
       "    <tr>\n",
       "      <th>1</th>\n",
       "      <td>souspecO2</td>\n",
       "      <td>3.108655e+02</td>\n",
       "      <td>5.111872e+06</td>\n",
       "      <td>16444</td>\n",
       "    </tr>\n",
       "    <tr>\n",
       "      <th>2</th>\n",
       "      <td>souspecCO</td>\n",
       "      <td>6.390556e+01</td>\n",
       "      <td>1.050863e+06</td>\n",
       "      <td>16444</td>\n",
       "    </tr>\n",
       "    <tr>\n",
       "      <th>3</th>\n",
       "      <td>souspecCO2</td>\n",
       "      <td>4.180789e+01</td>\n",
       "      <td>6.874890e+05</td>\n",
       "      <td>16444</td>\n",
       "    </tr>\n",
       "    <tr>\n",
       "      <th>4</th>\n",
       "      <td>souspecH2O</td>\n",
       "      <td>6.646914e+01</td>\n",
       "      <td>1.093019e+06</td>\n",
       "      <td>16444</td>\n",
       "    </tr>\n",
       "    <tr>\n",
       "      <th>5</th>\n",
       "      <td>souspecOH</td>\n",
       "      <td>6.763814e+01</td>\n",
       "      <td>1.112242e+06</td>\n",
       "      <td>16444</td>\n",
       "    </tr>\n",
       "    <tr>\n",
       "      <th>6</th>\n",
       "      <td>souspecH2</td>\n",
       "      <td>7.864733e+00</td>\n",
       "      <td>1.293277e+05</td>\n",
       "      <td>16444</td>\n",
       "    </tr>\n",
       "    <tr>\n",
       "      <th>7</th>\n",
       "      <td>souspecCH4</td>\n",
       "      <td>2.835044e+01</td>\n",
       "      <td>4.661947e+05</td>\n",
       "      <td>16444</td>\n",
       "    </tr>\n",
       "  </tbody>\n",
       "</table>\n",
       "</div>"
      ],
      "text/plain": [
       "    Dependent      Mean ABS     Total ABS   #Pts\n",
       "0     souener  9.444429e+08  1.553042e+13  16444\n",
       "1   souspecO2  3.108655e+02  5.111872e+06  16444\n",
       "2   souspecCO  6.390556e+01  1.050863e+06  16444\n",
       "3  souspecCO2  4.180789e+01  6.874890e+05  16444\n",
       "4  souspecH2O  6.646914e+01  1.093019e+06  16444\n",
       "5   souspecOH  6.763814e+01  1.112242e+06  16444\n",
       "6   souspecH2  7.864733e+00  1.293277e+05  16444\n",
       "7  souspecCH4  2.835044e+01  4.661947e+05  16444"
      ]
     },
     "execution_count": 81,
     "metadata": {},
     "output_type": "execute_result"
    }
   ],
   "source": [
    "err_df"
   ]
  },
  {
   "cell_type": "markdown",
   "metadata": {},
   "source": [
    "#### Error Density by FlameId & XPos"
   ]
  },
  {
   "cell_type": "code",
   "execution_count": 82,
   "metadata": {},
   "outputs": [
    {
     "data": {
      "text/plain": [
       "<seaborn.axisgrid.JointGrid at 0x255525bf988>"
      ]
     },
     "execution_count": 82,
     "metadata": {},
     "output_type": "execute_result"
    },
    {
     "data": {
      "image/png": "[encoded data removed]",
      "text/plain": [
       "<Figure size 576x396 with 1 Axes>"
      ]
     },
     "metadata": {},
     "output_type": "display_data"
    },
    {
     "data": {
      "image/png": "[encoded data removed]",
      "text/plain": [
       "<Figure size 432x432 with 3 Axes>"
      ]
     },
     "metadata": {},
     "output_type": "display_data"
    }
   ],
   "source": [
    "# libraries and data\n",
    "plt.style.use('seaborn')\n",
    "\n",
    "#residual/error\n",
    "\n",
    "residuals = getResiduals(Y_test_df['souener'].values,Y_pred_df['souener'].values)\n",
    "\n",
    "Xpos = np.append(halfData[\"Xpos_test\"],halfData[\"Xpos_train\"],axis=0)\n",
    "\n",
    "plt_df = pd.DataFrame()\n",
    "plt_df[\"Xpos\"]=Xpos\n",
    "plt_df[\"Error\"] = residuals\n",
    "# plot\n",
    "plt.plot( 'Xpos', 'Error', data=plt_df, linestyle='', marker='o',markersize=1.5)\n",
    "plt.xlabel('Value of Xpos')\n",
    "plt.ylabel('Value of Error')\n",
    "plt.title('Scatterplot:', loc='left')\n",
    "\n",
    "# 2D density + marginal distribution:\n",
    "sns.jointplot(x=plt_df.Xpos, y=plt_df.Error, kind='kde')"
   ]
  },
  {
   "cell_type": "code",
   "execution_count": 83,
   "metadata": {},
   "outputs": [
    {
     "data": {
      "text/plain": [
       "<seaborn.axisgrid.JointGrid at 0x2555ad425c8>"
      ]
     },
     "execution_count": 83,
     "metadata": {},
     "output_type": "execute_result"
    },
    {
     "data": {
      "image/png": "[encoded data removed]",
      "text/plain": [
       "<Figure size 576x396 with 1 Axes>"
      ]
     },
     "metadata": {},
     "output_type": "display_data"
    },
    {
     "data": {
      "image/png": "[encoded data removed]",
      "text/plain": [
       "<Figure size 432x432 with 3 Axes>"
      ]
     },
     "metadata": {},
     "output_type": "display_data"
    }
   ],
   "source": [
    "residuals = getResiduals(Y_test_df['souener'].values,Y_pred_df['souener'].values)\n",
    "\n",
    "flamekeys = np.append(halfData[\"flame_keys_test\"],halfData[\"flame_keys_train\"],axis=0)\n",
    "\n",
    "plt_df = pd.DataFrame()\n",
    "plt_df[\"Flamekeys\"]=flamekeys\n",
    "plt_df[\"Error\"] = residuals\n",
    "# plot\n",
    "plt.plot( 'Flamekeys', 'Error', data=plt_df, linestyle='', marker='o',markersize=1.5)\n",
    "plt.xlabel('Value of Flamekey')\n",
    "plt.ylabel('Value of Error')\n",
    "plt.title('Scatterplot:', loc='left')\n",
    "\n",
    "# 2D density + marginal distribution:\n",
    "sns.jointplot(x=plt_df.Flamekeys, y=plt_df.Error, kind='kde')\n"
   ]
  },
  {
   "cell_type": "code",
   "execution_count": 84,
   "metadata": {},
   "outputs": [],
   "source": [
    "#w_encoder"
   ]
  },
  {
   "cell_type": "markdown",
   "metadata": {},
   "source": [
    "### Unit Norm Constraint on the Weights of the Encoder"
   ]
  },
  {
   "cell_type": "code",
   "execution_count": 85,
   "metadata": {},
   "outputs": [
    {
     "name": "stdout",
     "output_type": "stream",
     "text": [
      "Encoder weights norm, \n",
      " [1.513 1.448 1.408 1.72 ]\n"
     ]
    }
   ],
   "source": [
    "print('Encoder weights norm, \\n',  np.round(np.sum(w_encoder.T ** 2, axis = 1),3)) #--> L2 Norm"
   ]
  },
  {
   "cell_type": "markdown",
   "metadata": {},
   "source": [
    "### Orthogonal Weights Constraint of the Encoder"
   ]
  },
  {
   "cell_type": "code",
   "execution_count": 86,
   "metadata": {},
   "outputs": [
    {
     "data": {
      "text/plain": [
       "array([[ 1.513, -0.101,  0.184,  0.221],\n",
       "       [-0.101,  1.448, -0.281, -0.124],\n",
       "       [ 0.184, -0.281,  1.408,  0.057],\n",
       "       [ 0.221, -0.124,  0.057,  1.72 ]], dtype=float32)"
      ]
     },
     "execution_count": 86,
     "metadata": {},
     "output_type": "execute_result"
    }
   ],
   "source": [
    "np.round(np.dot(w_encoder.T, w_encoder), 3)"
   ]
  },
  {
   "cell_type": "markdown",
   "metadata": {},
   "source": [
    "### Uncorrelated Features Constraint of the Encoder"
   ]
  },
  {
   "cell_type": "code",
   "execution_count": 87,
   "metadata": {},
   "outputs": [
    {
     "name": "stdout",
     "output_type": "stream",
     "text": [
      "Encoded feature covariance\n",
      " [[ 0.013 -0.001 -0.    -0.   ]\n",
      " [-0.001  0.017  0.     0.   ]\n",
      " [-0.     0.     0.012  0.   ]\n",
      " [-0.     0.     0.     0.023]]\n"
     ]
    }
   ],
   "source": [
    "encoder_layer = Model(inputs=model.inputs[0], outputs=model.layers[2].output)\n",
    "encoded_features = np.array(encoder_layer.predict(normalized_species_test))\n",
    "print('Encoded feature covariance\\n', np.round(np.cov(encoded_features.T),3))"
   ]
  },
  {
   "cell_type": "code",
   "execution_count": 88,
   "metadata": {},
   "outputs": [],
   "source": [
    "cpv_df = pd.DataFrame(data=encoder_layer.predict(normalized_species_test), columns=[\"Cpv1\", \"Cpv2\", \"Cpv3\", \"Cpv4\"])"
   ]
  },
  {
   "cell_type": "code",
   "execution_count": 89,
   "metadata": {},
   "outputs": [
    {
     "data": {
      "text/plain": [
       "array([[<AxesSubplot:title={'center':'Cpv1'}>,\n",
       "        <AxesSubplot:title={'center':'Cpv2'}>],\n",
       "       [<AxesSubplot:title={'center':'Cpv3'}>,\n",
       "        <AxesSubplot:title={'center':'Cpv4'}>]], dtype=object)"
      ]
     },
     "execution_count": 89,
     "metadata": {},
     "output_type": "execute_result"
    },
    {
     "data": {
      "image/png": "[encoded data removed]",
      "text/plain": [
       "<Figure size 576x396 with 4 Axes>"
      ]
     },
     "metadata": {},
     "output_type": "display_data"
    }
   ],
   "source": [
    "cpv_df.hist()"
   ]
  },
  {
   "cell_type": "code",
   "execution_count": 95,
   "metadata": {},
   "outputs": [
    {
     "ename": "ValueError",
     "evalue": "The truth value of a Series is ambiguous. Use a.empty, a.bool(), a.item(), a.any() or a.all().",
     "output_type": "error",
     "traceback": [
      "\u001b[1;31m---------------------------------------------------------------------------\u001b[0m",
      "\u001b[1;31mValueError\u001b[0m                                Traceback (most recent call last)",
      "\u001b[1;32m<ipython-input-95-7abd4539d88f>\u001b[0m in \u001b[0;36m<module>\u001b[1;34m\u001b[0m\n\u001b[1;32m----> 1\u001b[1;33m \u001b[1;33m(\u001b[0m\u001b[0mdf\u001b[0m\u001b[1;33m[\u001b[0m\u001b[1;34m'souener'\u001b[0m\u001b[1;33m]\u001b[0m \u001b[1;33m<\u001b[0m \u001b[1;36m1\u001b[0m \u001b[1;32mand\u001b[0m \u001b[0mdf\u001b[0m\u001b[1;33m[\u001b[0m\u001b[1;34m'souener'\u001b[0m\u001b[1;33m]\u001b[0m \u001b[1;33m>\u001b[0m \u001b[1;33m-\u001b[0m\u001b[1;36m1\u001b[0m\u001b[1;33m)\u001b[0m\u001b[1;33m.\u001b[0m\u001b[0msum\u001b[0m\u001b[1;33m(\u001b[0m\u001b[1;33m)\u001b[0m\u001b[1;33m\u001b[0m\u001b[1;33m\u001b[0m\u001b[0m\n\u001b[0m",
      "\u001b[1;32m~\\.conda\\envs\\tensorflow_v2\\lib\\site-packages\\pandas\\core\\generic.py\u001b[0m in \u001b[0;36m__nonzero__\u001b[1;34m(self)\u001b[0m\n\u001b[0;32m   1441\u001b[0m     \u001b[1;32mdef\u001b[0m \u001b[0m__nonzero__\u001b[0m\u001b[1;33m(\u001b[0m\u001b[0mself\u001b[0m\u001b[1;33m)\u001b[0m\u001b[1;33m:\u001b[0m\u001b[1;33m\u001b[0m\u001b[1;33m\u001b[0m\u001b[0m\n\u001b[0;32m   1442\u001b[0m         raise ValueError(\n\u001b[1;32m-> 1443\u001b[1;33m             \u001b[1;34mf\"The truth value of a {type(self).__name__} is ambiguous. \"\u001b[0m\u001b[1;33m\u001b[0m\u001b[1;33m\u001b[0m\u001b[0m\n\u001b[0m\u001b[0;32m   1444\u001b[0m             \u001b[1;34m\"Use a.empty, a.bool(), a.item(), a.any() or a.all().\"\u001b[0m\u001b[1;33m\u001b[0m\u001b[1;33m\u001b[0m\u001b[0m\n\u001b[0;32m   1445\u001b[0m         )\n",
      "\u001b[1;31mValueError\u001b[0m: The truth value of a Series is ambiguous. Use a.empty, a.bool(), a.item(), a.any() or a.all()."
     ]
    }
   ],
   "source": [
    "(df['souener'] < 1 and df['souener'] > -1).sum()"
   ]
  },
  {
   "cell_type": "markdown",
   "metadata": {},
   "source": [
    "## RESULTS SUMMARY"
   ]
  },
  {
   "cell_type": "markdown",
   "metadata": {},
   "source": [
    "<table>\n",
    "<tr>\n",
    "<td>Method </td>\n",
    "<td>MAE_PREV</td>\n",
    "<td>MAE_CURRENT</td>    \n",
    "</tr>\n",
    "<tr>\n",
    "<td>Framework (UnTrimmed Flames Only)</td>\n",
    "<td>2.24 E+09</td>\n",
    "<td>2.24 E+09</td>\n",
    "</tr>\n",
    "<tr>\n",
    "<td>Framework (All Flames) </td>\n",
    "<td>5.19 E+09</td>\n",
    "<td>5.19 E+09</td>    \n",
    "</tr>\n",
    "<tr>    \n",
    "<td>DNN (Non-Linear Embedding) </td>\n",
    "<td>9.304 E+08</td>\n",
    "<td></td>    \n",
    "</tr>    \n",
    "<tr>\n",
    "<td>DNN (Linear Embedding [No Constraints]) </td>\n",
    "<td>2.042 E+09</td>\n",
    "<td></td>    \n",
    "</tr>       \n",
    "<tr>\n",
    "<td>ChemTab (Unit Norm Constraints) </td>\n",
    "<td>6.28 E+08</td>\n",
    "<td></td>    \n",
    "</tr>\n",
    "<tr>\n",
    "<td>ChemTab (Orthogonal Weights Constraints) </td>\n",
    "<td>6.05 E+08</td>\n",
    "<td></td>    \n",
    "</tr>\n",
    "<tr>\n",
    "<td>ChemTab (Uncorrelated Features Constraints) </td>\n",
    "<td>5.7 E+08</td>\n",
    "<td>7.08 E+08</td>    \n",
    "</tr>\n",
    "<tr>\n",
    "<td>ChemTab (All Constraints) </td>\n",
    "<td>8.008 E+08</td>\n",
    "<td>7.11 E+08 | 6.945E+08 (all data) </td>\n",
    "</tr>\n",
    "    \n",
    "</table>"
   ]
  }
 ],
 "metadata": {
  "authors": [
   {
    "name": "Amol Salunkhe"
   }
  ],
  "kernelspec": {
   "display_name": "Python 3",
   "language": "python",
   "name": "python3"
  },
  "language_info": {
   "codemirror_mode": {
    "name": "ipython",
    "version": 3
   },
   "file_extension": ".py",
   "mimetype": "text/x-python",
   "name": "python",
   "nbconvert_exporter": "python",
   "pygments_lexer": "ipython3",
   "version": "3.8.8"
  },
  "title": "ChemTab(PCDNN_v2) Benchmark"
 },
 "nbformat": 4,
 "nbformat_minor": 2
}
