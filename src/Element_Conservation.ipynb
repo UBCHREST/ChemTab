{
 "cells": [
  {
   "cell_type": "code",
   "execution_count": 4,
   "id": "d4bed406",
   "metadata": {},
   "outputs": [],
   "source": [
    "# Deprecated, ignore this\n",
    "\"\"\"\n",
    "def decompose_name(name):\n",
    "    name = name[2:]\n",
    "    prev_letter = name[0]\n",
    "    try: int(name[-1])\n",
    "    except ValueError: name+='1' # normalize to flush last value\n",
    "    element_count = {}\n",
    "    for letter in name[1:]:\n",
    "        try: count=int(letter); letter=None\n",
    "        except ValueError: count=1\n",
    "        \n",
    "        if prev_letter:\n",
    "            element_count[prev_letter]=element_count.setdefault(prev_letter, 0)+count\n",
    "        prev_letter=letter\n",
    "        print(element_count)\n",
    "    return element_count\n",
    "decompose_name('YiCH2CHO')\n",
    "\"\"\""
   ]
  },
  {
   "cell_type": "code",
   "execution_count": 52,
   "id": "d05c2582",
   "metadata": {},
   "outputs": [
    {
     "name": "stdout",
     "output_type": "stream",
     "text": [
      "using element masses:\n",
      " Ar    39.94800\n",
      "C     12.01070\n",
      "H      1.00794\n",
      "N     14.00670\n",
      "O     15.99940\n",
      "dtype: float64\n"
     ]
    }
   ],
   "source": [
    "import yaml\n",
    "import pandas as pd\n",
    "import numpy as np\n",
    "\n",
    "from periodictable import Ar,C,H,N,O,Nd as NDD\n",
    "\n",
    "class ElementConservationConstraint:\n",
    "    # verified to work: 11/2/22\n",
    "    def __init__(self, mech_fn):\n",
    "        ##### Load Mech #####\n",
    "        with open(mech_fn, 'r') as f:\n",
    "            mech = yaml.load(f, yaml.BaseLoader) # BaseLoader needed so that \"NO\" is not loaded as a boolean...\n",
    "        species_compositions = {'Yi'+species['name']: pd.Series(species['composition']).astype(int) for species in mech['species']}\n",
    "        type_is_str = [type(k) is str for k in species_compositions.keys()]\n",
    "        assert all(type_is_str)\n",
    "        comp_df = pd.DataFrame(species_compositions).T\n",
    "        comp_df = comp_df.fillna(0)\n",
    "        self.comp_df = comp_df\n",
    "        \n",
    "        ########## Make dE/dY: ##########\n",
    "        # molecular weight vector\n",
    "        MW_vec = pd.Series([eval(f'{col}.mass') for col in self.comp_df.columns], index=self.comp_df.columns)\n",
    "        print('using element masses:\\n', MW_vec)\n",
    "        mass_comp_df = (self.comp_df*MW_vec).T\n",
    "        self.dE_dY = mass_comp_df/mass_comp_df.sum()\n",
    "        #################################\n",
    "        \n",
    "        assert np.all(self.dE_dY>=0)\n",
    "        assert len(self.dE_dY.index==len(MW_vec))\n",
    "        \n",
    "    # also can quantify element derivatives\n",
    "    def quantify_elements(self, Yi_state: pd.Series):\n",
    "        if type(Yi_state) is pd.DataFrame: # handle dataframe!\n",
    "            element_quantities = [self.quantify_elements(Yi_state.loc[i]) for i in Yi_state.index]\n",
    "            element_quantities = pd.concat(element_quantities,axis=1).T\n",
    "            return element_quantities\n",
    "        \n",
    "        missing_elements = self.dE_dY.columns[np.logical_not(np.isin(self.dE_dY.columns, Yi_state.index))]\n",
    "        if len(missing_elements)>0:\n",
    "            print('columns in dE_dY not in Yi_state: ', missing_elements)\n",
    "        \n",
    "        assert len(missing_elements)<len(self.dE_dY.columns)\n",
    "        \n",
    "        # we can't use numpy dot(), because some Yi's can be missing from the state (which is ok, but breaks dot())\n",
    "        #return self.dE_dY.dot(Yi_state)\n",
    "        return (self.dE_dY*Yi_state.squeeze()).T.sum() # this is the same as the dot-product except it is tolerant of missing values in Yi_state\n",
    "        # We can use this magic notation because when we transpose comp_df\n",
    "        # Yi_state index & comp_df columns align which makes it easy to multiply\n",
    "        # https://stackoverflow.com/questions/69226160/pandas-how-to-multiply-each-element-of-a-series-to-each-element-of-a-column-in"
   ]
  },
  {
   "cell_type": "markdown",
   "id": "f49b080b",
   "metadata": {},
   "source": [
    "## Load Data & Check that Mechanism File Matches the Dataset..."
   ]
  },
  {
   "cell_type": "code",
   "execution_count": 100,
   "id": "372b45fd",
   "metadata": {},
   "outputs": [
    {
     "name": "stdout",
     "output_type": "stream",
     "text": [
      "using element masses:\n",
      " Ar    39.94800\n",
      "C     12.01070\n",
      "H      1.00794\n",
      "N     14.00670\n",
      "O     15.99940\n",
      "dtype: float64\n",
      "['YiH2', 'YiH', 'YiCH2', 'YiCH2(S)', 'YiCH3', 'YiCH4', 'YiCO', 'YiCO2', 'YiHCO', 'YiCH2O', 'YiCH2OH', 'YiCH3O', 'YiO', 'YiCH3OH', 'YiC2H', 'YiC2H2', 'YiC2H3', 'YiC2H4', 'YiC2H5', 'YiC2H6', 'YiHCCO', 'YiCH2CO', 'YiHCCOH', 'YiO2', 'YiN', 'YiNH', 'YiNH2', 'YiNH3', 'YiNNH', 'YiNO', 'YiNO2', 'YiN2O', 'YiHNO', 'YiCN', 'YiOH', 'YiHCN', 'YiH2CN', 'YiHCNN', 'YiHCNO', 'YiHOCN', 'YiHNCO', 'YiNCO', 'YiAR', 'YiC3H7', 'YiC3H8', 'YiH2O', 'YiCH2CHO', 'YiCH3CHO', 'YiN2', 'YiHO2', 'YiH2O2', 'YiC', 'YiCH']\n",
      "Index(['YiH2', 'YiH', 'YiO', 'YiO2', 'YiOH', 'YiH2O', 'YiHO2', 'YiH2O2', 'YiC',\n",
      "       'YiCH', 'YiCH2', 'YiCH2(S)', 'YiCH3', 'YiCH4', 'YiCO', 'YiCO2', 'YiHCO',\n",
      "       'YiCH2O', 'YiCH2OH', 'YiCH3O', 'YiCH3OH', 'YiC2H', 'YiC2H2', 'YiC2H3',\n",
      "       'YiC2H4', 'YiC2H5', 'YiC2H6', 'YiHCCO', 'YiCH2CO', 'YiHCCOH', 'YiN',\n",
      "       'YiNH', 'YiNH2', 'YiNH3', 'YiNNH', 'YiNO', 'YiNO2', 'YiN2O', 'YiHNO',\n",
      "       'YiCN', 'YiHCN', 'YiH2CN', 'YiHCNN', 'YiHCNO', 'YiHOCN', 'YiHNCO',\n",
      "       'YiNCO', 'YiN2', 'YiAR', 'YiC3H7', 'YiC3H8', 'YiCH2CHO', 'YiCH3CHO'],\n",
      "      dtype='object')\n",
      "\n",
      "Assert Mask:  {'YiH2': True, 'YiH': True, 'YiCH2': True, 'YiCH2(S)': True, 'YiCH3': True, 'YiCH4': True, 'YiCO': True, 'YiCO2': True, 'YiHCO': True, 'YiCH2O': True, 'YiCH2OH': True, 'YiCH3O': True, 'YiO': True, 'YiCH3OH': True, 'YiC2H': True, 'YiC2H2': True, 'YiC2H3': True, 'YiC2H4': True, 'YiC2H5': True, 'YiC2H6': True, 'YiHCCO': True, 'YiCH2CO': True, 'YiHCCOH': True, 'YiO2': True, 'YiN': True, 'YiNH': True, 'YiNH2': True, 'YiNH3': True, 'YiNNH': True, 'YiNO': True, 'YiNO2': True, 'YiN2O': True, 'YiHNO': True, 'YiCN': True, 'YiOH': True, 'YiHCN': True, 'YiH2CN': True, 'YiHCNN': True, 'YiHCNO': True, 'YiHOCN': True, 'YiHNCO': True, 'YiNCO': True, 'YiAR': True, 'YiC3H7': True, 'YiC3H8': True, 'YiH2O': True, 'YiCH2CHO': True, 'YiCH3CHO': True, 'YiN2': True, 'YiHO2': True, 'YiH2O2': True, 'YiC': True, 'YiCH': True}\n",
      "\n",
      "Failing Yis:  []\n"
     ]
    },
    {
     "data": {
      "text/html": [
       "<div>\n",
       "<style scoped>\n",
       "    .dataframe tbody tr th:only-of-type {\n",
       "        vertical-align: middle;\n",
       "    }\n",
       "\n",
       "    .dataframe tbody tr th {\n",
       "        vertical-align: top;\n",
       "    }\n",
       "\n",
       "    .dataframe thead th {\n",
       "        text-align: right;\n",
       "    }\n",
       "</style>\n",
       "<table border=\"1\" class=\"dataframe\">\n",
       "  <thead>\n",
       "    <tr style=\"text-align: right;\">\n",
       "      <th></th>\n",
       "      <th>YiH2</th>\n",
       "      <th>YiH</th>\n",
       "      <th>YiCH2</th>\n",
       "      <th>YiCH2(S)</th>\n",
       "      <th>YiCH3</th>\n",
       "      <th>YiCH4</th>\n",
       "      <th>YiCO</th>\n",
       "      <th>YiCO2</th>\n",
       "      <th>YiHCO</th>\n",
       "      <th>YiCH2O</th>\n",
       "      <th>...</th>\n",
       "      <th>YiC3H7</th>\n",
       "      <th>YiC3H8</th>\n",
       "      <th>YiH2O</th>\n",
       "      <th>YiCH2CHO</th>\n",
       "      <th>YiCH3CHO</th>\n",
       "      <th>YiN2</th>\n",
       "      <th>YiHO2</th>\n",
       "      <th>YiH2O2</th>\n",
       "      <th>YiC</th>\n",
       "      <th>YiCH</th>\n",
       "    </tr>\n",
       "  </thead>\n",
       "  <tbody>\n",
       "    <tr>\n",
       "      <th>1851566</th>\n",
       "      <td>7.865587e-08</td>\n",
       "      <td>2.132567e-11</td>\n",
       "      <td>2.245860e-07</td>\n",
       "      <td>0.947809</td>\n",
       "      <td>3.510892e-06</td>\n",
       "      <td>0.009642</td>\n",
       "      <td>3.258170e-07</td>\n",
       "      <td>1.251263e-06</td>\n",
       "      <td>3.965958e-28</td>\n",
       "      <td>2.891421e-23</td>\n",
       "      <td>...</td>\n",
       "      <td>1.521473e-11</td>\n",
       "      <td>2.327977e-13</td>\n",
       "      <td>1.156660e-11</td>\n",
       "      <td>3.261548e-15</td>\n",
       "      <td>2.402997e-23</td>\n",
       "      <td>4.384600e-11</td>\n",
       "      <td>1.084524e-09</td>\n",
       "      <td>2.826038e-13</td>\n",
       "      <td>2.964389e-11</td>\n",
       "      <td>0.008344</td>\n",
       "    </tr>\n",
       "    <tr>\n",
       "      <th>2164492</th>\n",
       "      <td>7.145679e-11</td>\n",
       "      <td>8.477145e-18</td>\n",
       "      <td>5.280235e-10</td>\n",
       "      <td>0.999943</td>\n",
       "      <td>4.342816e-09</td>\n",
       "      <td>0.000008</td>\n",
       "      <td>5.399706e-10</td>\n",
       "      <td>1.013907e-09</td>\n",
       "      <td>3.250454e-33</td>\n",
       "      <td>6.133507e-34</td>\n",
       "      <td>...</td>\n",
       "      <td>9.833684e-15</td>\n",
       "      <td>1.272390e-16</td>\n",
       "      <td>7.521984e-15</td>\n",
       "      <td>7.877332e-19</td>\n",
       "      <td>1.832414e-26</td>\n",
       "      <td>3.802851e-14</td>\n",
       "      <td>2.525070e-12</td>\n",
       "      <td>4.628119e-20</td>\n",
       "      <td>2.893241e-13</td>\n",
       "      <td>0.000021</td>\n",
       "    </tr>\n",
       "    <tr>\n",
       "      <th>947437</th>\n",
       "      <td>8.789002e-08</td>\n",
       "      <td>3.977217e-11</td>\n",
       "      <td>2.996569e-07</td>\n",
       "      <td>0.941690</td>\n",
       "      <td>4.042024e-06</td>\n",
       "      <td>0.012437</td>\n",
       "      <td>4.233552e-07</td>\n",
       "      <td>1.375127e-06</td>\n",
       "      <td>1.163580e-27</td>\n",
       "      <td>5.015029e-22</td>\n",
       "      <td>...</td>\n",
       "      <td>8.145335e-11</td>\n",
       "      <td>1.159693e-12</td>\n",
       "      <td>6.842569e-11</td>\n",
       "      <td>3.402850e-14</td>\n",
       "      <td>3.322308e-23</td>\n",
       "      <td>7.155356e-11</td>\n",
       "      <td>4.910322e-09</td>\n",
       "      <td>4.108421e-12</td>\n",
       "      <td>2.082863e-11</td>\n",
       "      <td>0.001949</td>\n",
       "    </tr>\n",
       "    <tr>\n",
       "      <th>1769650</th>\n",
       "      <td>1.000852e-07</td>\n",
       "      <td>2.367606e-15</td>\n",
       "      <td>1.872068e-09</td>\n",
       "      <td>0.995870</td>\n",
       "      <td>9.585388e-09</td>\n",
       "      <td>0.000617</td>\n",
       "      <td>3.910645e-08</td>\n",
       "      <td>2.173284e-07</td>\n",
       "      <td>3.254476e-31</td>\n",
       "      <td>4.866249e-31</td>\n",
       "      <td>...</td>\n",
       "      <td>2.293850e-11</td>\n",
       "      <td>6.492151e-13</td>\n",
       "      <td>5.788478e-11</td>\n",
       "      <td>2.366941e-17</td>\n",
       "      <td>6.648028e-25</td>\n",
       "      <td>1.120905e-12</td>\n",
       "      <td>1.759310e-09</td>\n",
       "      <td>1.226020e-16</td>\n",
       "      <td>2.704941e-10</td>\n",
       "      <td>0.001362</td>\n",
       "    </tr>\n",
       "    <tr>\n",
       "      <th>1274146</th>\n",
       "      <td>6.815949e-08</td>\n",
       "      <td>3.709535e-11</td>\n",
       "      <td>6.967249e-07</td>\n",
       "      <td>0.974123</td>\n",
       "      <td>4.647400e-06</td>\n",
       "      <td>0.005119</td>\n",
       "      <td>6.931992e-07</td>\n",
       "      <td>1.050421e-06</td>\n",
       "      <td>0.000000e+00</td>\n",
       "      <td>9.414850e-25</td>\n",
       "      <td>...</td>\n",
       "      <td>3.242914e-13</td>\n",
       "      <td>2.329426e-15</td>\n",
       "      <td>1.984784e-13</td>\n",
       "      <td>8.728512e-17</td>\n",
       "      <td>1.786374e-23</td>\n",
       "      <td>2.267385e-12</td>\n",
       "      <td>7.160252e-11</td>\n",
       "      <td>1.918980e-14</td>\n",
       "      <td>1.165348e-12</td>\n",
       "      <td>0.002727</td>\n",
       "    </tr>\n",
       "  </tbody>\n",
       "</table>\n",
       "<p>5 rows × 53 columns</p>\n",
       "</div>"
      ],
      "text/plain": [
       "                 YiH2           YiH         YiCH2  YiCH2(S)         YiCH3  \\\n",
       "1851566  7.865587e-08  2.132567e-11  2.245860e-07  0.947809  3.510892e-06   \n",
       "2164492  7.145679e-11  8.477145e-18  5.280235e-10  0.999943  4.342816e-09   \n",
       "947437   8.789002e-08  3.977217e-11  2.996569e-07  0.941690  4.042024e-06   \n",
       "1769650  1.000852e-07  2.367606e-15  1.872068e-09  0.995870  9.585388e-09   \n",
       "1274146  6.815949e-08  3.709535e-11  6.967249e-07  0.974123  4.647400e-06   \n",
       "\n",
       "            YiCH4          YiCO         YiCO2         YiHCO        YiCH2O  \\\n",
       "1851566  0.009642  3.258170e-07  1.251263e-06  3.965958e-28  2.891421e-23   \n",
       "2164492  0.000008  5.399706e-10  1.013907e-09  3.250454e-33  6.133507e-34   \n",
       "947437   0.012437  4.233552e-07  1.375127e-06  1.163580e-27  5.015029e-22   \n",
       "1769650  0.000617  3.910645e-08  2.173284e-07  3.254476e-31  4.866249e-31   \n",
       "1274146  0.005119  6.931992e-07  1.050421e-06  0.000000e+00  9.414850e-25   \n",
       "\n",
       "         ...        YiC3H7        YiC3H8         YiH2O      YiCH2CHO  \\\n",
       "1851566  ...  1.521473e-11  2.327977e-13  1.156660e-11  3.261548e-15   \n",
       "2164492  ...  9.833684e-15  1.272390e-16  7.521984e-15  7.877332e-19   \n",
       "947437   ...  8.145335e-11  1.159693e-12  6.842569e-11  3.402850e-14   \n",
       "1769650  ...  2.293850e-11  6.492151e-13  5.788478e-11  2.366941e-17   \n",
       "1274146  ...  3.242914e-13  2.329426e-15  1.984784e-13  8.728512e-17   \n",
       "\n",
       "             YiCH3CHO          YiN2         YiHO2        YiH2O2           YiC  \\\n",
       "1851566  2.402997e-23  4.384600e-11  1.084524e-09  2.826038e-13  2.964389e-11   \n",
       "2164492  1.832414e-26  3.802851e-14  2.525070e-12  4.628119e-20  2.893241e-13   \n",
       "947437   3.322308e-23  7.155356e-11  4.910322e-09  4.108421e-12  2.082863e-11   \n",
       "1769650  6.648028e-25  1.120905e-12  1.759310e-09  1.226020e-16  2.704941e-10   \n",
       "1274146  1.786374e-23  2.267385e-12  7.160252e-11  1.918980e-14  1.165348e-12   \n",
       "\n",
       "             YiCH  \n",
       "1851566  0.008344  \n",
       "2164492  0.000021  \n",
       "947437   0.001949  \n",
       "1769650  0.001362  \n",
       "1274146  0.002727  \n",
       "\n",
       "[5 rows x 53 columns]"
      ]
     },
     "metadata": {},
     "output_type": "display_data"
    }
   ],
   "source": [
    "import pandas as pd\n",
    "#dataset_path = '../datasets/methane_air_master.csv' # simit\n",
    "dataset_path = '../datasets/ablate_data/ablate_chunk-3497492503491009882.csv' # extracted from hdf5\n",
    "mech_path = '../datasets/GRIMech30.yaml'\n",
    "\n",
    "conservation_constraint = ElementConservationConstraint(mech_path)\n",
    "\n",
    "df = pd.read_csv(dataset_path)\n",
    "if len(df)>20000: df = df.sample(n=20000) # downsample\n",
    "\n",
    "# Verify that mechanism file matches the dataset\n",
    "Yi_col_names = [col for col in df.columns if col.startswith('Yi')]\n",
    "print(Yi_col_names)\n",
    "print(conservation_constraint.comp_df.index)\n",
    "assert_mask = {col: col in conservation_constraint.comp_df.index for col in Yi_col_names}\n",
    "print('\\nAssert Mask: ', assert_mask)\n",
    "failing_Yis = [k for k in assert_mask if not assert_mask[k]]\n",
    "print('\\nFailing Yis: ', failing_Yis)\n",
    "assert all(assert_mask.values())\n",
    "\n",
    "# isolate Yi_data (mass fracs)\n",
    "Yi_data = df[Yi_col_names]\n",
    "display(Yi_data.head())"
   ]
  },
  {
   "cell_type": "markdown",
   "id": "07819b72",
   "metadata": {},
   "source": [
    "## Isolate Source Data:"
   ]
  },
  {
   "cell_type": "code",
   "execution_count": 101,
   "id": "1dc06f19",
   "metadata": {},
   "outputs": [],
   "source": [
    "source_data = df[[col for col in df.columns if col.startswith('souspec')]]\n",
    "\n",
    "# check that Yi mass fracs & Yi souspecs match\n",
    "source_cols_stripped = np.array([col[len('souspec'):] for col in source_data.columns])\n",
    "Yi_cols_stripped = np.array([col[2:] for col in Yi_data.columns])\n",
    "assert all(np.array(source_cols_stripped)==np.array(Yi_cols_stripped)[:len(source_cols_stripped)])"
   ]
  },
  {
   "cell_type": "markdown",
   "id": "f5fa4b55",
   "metadata": {},
   "source": [
    "## Analytic Sanity Check: Passing!\n",
    "Context: (To verify my own code) we (me & Kenny) created a toy example of 2 Yi states & derived the 2nd state from conservation constraints applied to the first. Involved equations are below:"
   ]
  },
  {
   "cell_type": "markdown",
   "id": "72e2becf",
   "metadata": {},
   "source": [
    "![analytic equations1](./EQs_1.jpeg)\n",
    "![analytic equations2](./EQs_2.jpeg)"
   ]
  },
  {
   "cell_type": "code",
   "execution_count": 80,
   "id": "273ccefc",
   "metadata": {},
   "outputs": [
    {
     "name": "stdout",
     "output_type": "stream",
     "text": [
      "columns in dE_dY not in Yi_state:  Index(['YiH2', 'YiH', 'YiO', 'YiOH', 'YiH2O', 'YiHO2', 'YiH2O2', 'YiC', 'YiCH',\n",
      "       'YiCH2', 'YiCH2(S)', 'YiCH3', 'YiCH4', 'YiHCO', 'YiCH2O', 'YiCH2OH',\n",
      "       'YiCH3O', 'YiCH3OH', 'YiC2H', 'YiC2H2', 'YiC2H3', 'YiC2H4', 'YiC2H5',\n",
      "       'YiC2H6', 'YiHCCO', 'YiCH2CO', 'YiHCCOH', 'YiN', 'YiNH', 'YiNH2',\n",
      "       'YiNH3', 'YiNNH', 'YiNO', 'YiNO2', 'YiN2O', 'YiHNO', 'YiCN', 'YiHCN',\n",
      "       'YiH2CN', 'YiHCNN', 'YiHCNO', 'YiHOCN', 'YiHNCO', 'YiNCO', 'YiN2',\n",
      "       'YiAR', 'YiC3H7', 'YiC3H8', 'YiCH2CHO', 'YiCH3CHO'],\n",
      "      dtype='object')\n",
      "Ar    0.000000\n",
      "C     0.210513\n",
      "H     0.000000\n",
      "N     0.000000\n",
      "O     0.789487\n",
      "dtype: float64\n",
      "0.395468364784876\n",
      "0.45453163521512396\n",
      "columns in dE_dY not in Yi_state:  Index(['YiH2', 'YiH', 'YiO', 'YiOH', 'YiH2O', 'YiHO2', 'YiH2O2', 'YiC', 'YiCH',\n",
      "       'YiCH2', 'YiCH2(S)', 'YiCH3', 'YiCH4', 'YiHCO', 'YiCH2O', 'YiCH2OH',\n",
      "       'YiCH3O', 'YiCH3OH', 'YiC2H', 'YiC2H2', 'YiC2H3', 'YiC2H4', 'YiC2H5',\n",
      "       'YiC2H6', 'YiHCCO', 'YiCH2CO', 'YiHCCOH', 'YiN', 'YiNH', 'YiNH2',\n",
      "       'YiNH3', 'YiNNH', 'YiNO', 'YiNO2', 'YiN2O', 'YiHNO', 'YiCN', 'YiHCN',\n",
      "       'YiH2CN', 'YiHCNN', 'YiHCNO', 'YiHOCN', 'YiHNCO', 'YiNCO', 'YiN2',\n",
      "       'YiAR', 'YiC3H7', 'YiC3H8', 'YiCH2CHO', 'YiCH3CHO'],\n",
      "      dtype='object')\n",
      "Ar    0.000000\n",
      "C     0.210513\n",
      "H     0.000000\n",
      "N     0.000000\n",
      "O     0.789487\n",
      "dtype: float64\n",
      "columns in dE_dY not in Yi_state:  Index(['YiH2', 'YiH', 'YiO', 'YiOH', 'YiH2O', 'YiHO2', 'YiH2O2', 'YiC', 'YiCH',\n",
      "       'YiCH2', 'YiCH2(S)', 'YiCH3', 'YiCH4', 'YiHCO', 'YiCH2O', 'YiCH2OH',\n",
      "       'YiCH3O', 'YiCH3OH', 'YiC2H', 'YiC2H2', 'YiC2H3', 'YiC2H4', 'YiC2H5',\n",
      "       'YiC2H6', 'YiHCCO', 'YiCH2CO', 'YiHCCOH', 'YiN', 'YiNH', 'YiNH2',\n",
      "       'YiNH3', 'YiNNH', 'YiNO', 'YiNO2', 'YiN2O', 'YiHNO', 'YiCN', 'YiHCN',\n",
      "       'YiH2CN', 'YiHCNN', 'YiHCNO', 'YiHOCN', 'YiHNCO', 'YiNCO', 'YiN2',\n",
      "       'YiAR', 'YiC3H7', 'YiC3H8', 'YiCH2CHO', 'YiCH3CHO'],\n",
      "      dtype='object')\n",
      "element_dot (should be 0):  Ar    0.000000e+00\n",
      "C     2.081668e-17\n",
      "H     0.000000e+00\n",
      "N     0.000000e+00\n",
      "O    -4.163336e-17\n",
      "dtype: float64\n",
      "Sanity check passed! your code works!\n"
     ]
    }
   ],
   "source": [
    "# analytic test case\n",
    "Yi_mass1 = pd.DataFrame([{'YiCO2': 0.3, 'YiCO': 0.3, 'YiO2': 0.4}])\n",
    "\n",
    "elem_mass_1 = conservation_constraint.quantify_elements(Yi_mass1.iloc[0])\n",
    "print(elem_mass_1)\n",
    "\n",
    "dE_dY = conservation_constraint.dE_dY[['YiCO2', 'YiCO', 'YiO2']]\n",
    "\n",
    "# These equations derived analytically using element constraints (see equations),\n",
    "# & 0.15 chosen arbitrarily\n",
    "X = (elem_mass_1['C']-dE_dY['YiCO2'].loc['C']*0.15)/dE_dY['YiCO'].loc['C']\n",
    "Y = elem_mass_1['O']-(dE_dY['YiCO2'].loc['O']*0.15+dE_dY['YiCO'].loc['O']*X)\n",
    "print(X)\n",
    "print(Y)\n",
    "\n",
    "Yi_mass2 = pd.DataFrame([{'YiCO2': 0.15, 'YiCO': X, 'YiO2': Y}])\n",
    "elem_mass_2 = conservation_constraint.quantify_elements(Yi_mass2.iloc[0])\n",
    "print(elem_mass_2)\n",
    "\n",
    "elem_dot = conservation_constraint.quantify_elements(Yi_mass2.iloc[0]-Yi_mass1.iloc[0])\n",
    "print('element_dot (should be 0): ', elem_dot)\n",
    "\n",
    "assert np.allclose(elem_dot, 0), 'sanity check failed your code doesn\\'t work' # fails if conservation code is wrong\n",
    "print(\"Sanity check passed! your code works!\")"
   ]
  },
  {
   "cell_type": "code",
   "execution_count": 84,
   "id": "d6951ff3",
   "metadata": {},
   "outputs": [],
   "source": [
    "from copy import deepcopy\n",
    "assert len(source_data)>0\n",
    "\n",
    "# Rename 'souspec' data prefixes to 'Yi', so conservation constraint can process it\n",
    "source_data_renamed = deepcopy(source_data)\n",
    "source_data_renamed.columns=[col.replace('souspec','Yi') for col in source_data.columns]\n",
    "source_data_renamed['YiAR']=0\n",
    "\n",
    "# Compute element sources for each datapoint\n",
    "element_sources = conservation_constraint.quantify_elements(source_data_renamed)"
   ]
  },
  {
   "cell_type": "code",
   "execution_count": 85,
   "id": "4f8bec11",
   "metadata": {},
   "outputs": [],
   "source": [
    "element_masses = conservation_constraint.quantify_elements(Yi_data)"
   ]
  },
  {
   "cell_type": "code",
   "execution_count": 102,
   "id": "1f389225",
   "metadata": {
    "scrolled": true
   },
   "outputs": [
    {
     "data": {
      "image/png": "[encoded data removed]",
      "text/plain": [
       "<Figure size 432x288 with 1 Axes>"
      ]
     },
     "metadata": {
      "needs_background": "light"
     },
     "output_type": "display_data"
    }
   ],
   "source": [
    "import matplotlib.pyplot as plt\n",
    "\n",
    "# Sanity check: this should all be 0's (converted dYi/dt to dei/dt)\n",
    "rel_error = np.log(element_sources.abs()/element_masses.abs() + 1e-32)\n",
    "plt.hist(np.array(rel_error).flatten())\n",
    "plt.title('(Log scale) Relative conservation error=log(elem_source/elem_mass)')\n",
    "plt.show()"
   ]
  },
  {
   "cell_type": "code",
   "execution_count": 93,
   "id": "98d925fa",
   "metadata": {},
   "outputs": [
    {
     "data": {
      "image/png": "[encoded data removed]",
      "text/plain": [
       "<Figure size 432x288 with 1 Axes>"
      ]
     },
     "metadata": {
      "needs_background": "light"
     },
     "output_type": "display_data"
    },
    {
     "name": "stdout",
     "output_type": "stream",
     "text": [
      "num data above 25: 0\n",
      "median(element sources):  Ar    0.000000e+00\n",
      "C     3.401839e-10\n",
      "H     7.170726e-11\n",
      "N     1.799306e-22\n",
      "O     3.188694e-10\n",
      "dtype: float64\n",
      "mean(element sources):  Ar    0.000000e+00\n",
      "C     6.133153e-04\n",
      "H     9.464697e-05\n",
      "N     6.262117e-07\n",
      "O     9.647161e-04\n",
      "dtype: float64\n",
      "max(sum(element sources)) (sum across elements, max across data points):  0.6035585829453448\n",
      "mean(sum(element sources)) (sum across elements, mean across data points):  0.001673304570399192\n"
     ]
    }
   ],
   "source": [
    "import matplotlib.pyplot as plt\n",
    "plt.hist(np.log(element_sources.abs().sum(axis=1)+1e-32))\n",
    "plt.title('(Log scale) Total conservation error\\n(sum(abs(element_sources)) across elements)')\n",
    "plt.show()\n",
    "\n",
    "print('num data above 25:', (element_sources.abs().sum(axis=1)>25).sum())\n",
    "print('median(element sources): ', element_sources.abs().median())\n",
    "print('mean(element sources): ', element_sources.abs().mean())\n",
    "print('max(sum(element sources)) (sum across elements, max across data points): ', element_sources.abs().sum(axis=1).max())\n",
    "print('mean(sum(element sources)) (sum across elements, mean across data points): ', element_sources.abs().sum(axis=1).mean())"
   ]
  },
  {
   "cell_type": "markdown",
   "id": "a5fc9858",
   "metadata": {},
   "source": [
    "## Inspect Worst Case "
   ]
  },
  {
   "cell_type": "code",
   "execution_count": 72,
   "id": "9a134693",
   "metadata": {},
   "outputs": [],
   "source": [
    "max_error_id = element_sources.abs().sum(axis=1).argmax()"
   ]
  },
  {
   "cell_type": "code",
   "execution_count": 74,
   "id": "cbd25777",
   "metadata": {},
   "outputs": [
    {
     "name": "stdout",
     "output_type": "stream",
     "text": [
      "Elements (legible):  ['H2' 'H' 'CH2' 'CH2(S)' 'CH3' 'CH4' 'CO' 'CO2' 'HCO' 'CH2O' 'CH2OH'\n",
      " 'CH3O' 'O' 'CH3OH' 'C2H' 'C2H2' 'C2H3' 'C2H4' 'C2H5' 'C2H6' 'HCCO'\n",
      " 'CH2CO' 'HCCOH' 'O2' 'N' 'NH' 'NH2' 'NH3' 'NNH' 'NO' 'NO2' 'N2O' 'HNO'\n",
      " 'CN' 'OH' 'HCN' 'H2CN' 'HCNN' 'HCNO' 'HOCN' 'HNCO' 'NCO' 'AR' 'C3H7'\n",
      " 'C3H8' 'H2O' 'CH2CHO' 'CH3CHO' 'N2' 'HO2' 'H2O2' 'C' 'CH']\n"
     ]
    },
    {
     "data": {
      "image/png": "[encoded data removed]",
      "text/plain": [
       "<Figure size 432x288 with 1 Axes>"
      ]
     },
     "metadata": {
      "needs_background": "light"
     },
     "output_type": "display_data"
    }
   ],
   "source": [
    "plt.bar(source_cols_stripped, source_data.iloc[max_error_id])\n",
    "plt.xticks(rotation = 70)\n",
    "plt.title('Worst Case Yi sources:')\n",
    "print('Elements (legible): ', source_cols_stripped)"
   ]
  },
  {
   "cell_type": "code",
   "execution_count": 75,
   "id": "0419cf8f",
   "metadata": {},
   "outputs": [
    {
     "data": {
      "text/plain": [
       "Text(0.5, 1.0, 'Worst Case Element sources:')"
      ]
     },
     "execution_count": 75,
     "metadata": {},
     "output_type": "execute_result"
    },
    {
     "data": {
      "image/png": "[encoded data removed]",
      "text/plain": [
       "<Figure size 432x288 with 1 Axes>"
      ]
     },
     "metadata": {
      "needs_background": "light"
     },
     "output_type": "display_data"
    }
   ],
   "source": [
    "plt.bar(element_sources.columns, element_sources.iloc[max_error_id])\n",
    "plt.xticks(rotation = 70)\n",
    "plt.title('Worst Case Element sources:')"
   ]
  }
 ],
 "metadata": {
  "kernelspec": {
   "display_name": "Python 3 (ipykernel)",
   "language": "python",
   "name": "python3"
  },
  "language_info": {
   "codemirror_mode": {
    "name": "ipython",
    "version": 3
   },
   "file_extension": ".py",
   "mimetype": "text/x-python",
   "name": "python",
   "nbconvert_exporter": "python",
   "pygments_lexer": "ipython3",
   "version": "3.9.11"
  }
 },
 "nbformat": 4,
 "nbformat_minor": 5
}
