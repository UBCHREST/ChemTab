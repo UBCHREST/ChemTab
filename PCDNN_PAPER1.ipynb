{
 "cells": [
  {
   "cell_type": "markdown",
   "metadata": {},
   "source": [
    "# CH4-AIR Notebook \n",
    "This notebook contains all the methods and the 2 experiments"
   ]
  },
  {
   "cell_type": "code",
   "execution_count": 2,
   "metadata": {},
   "outputs": [],
   "source": [
    "import pandas as pd\n",
    "import matplotlib.pyplot as plt\n",
    "import numpy as np\n",
    "from sklearn.linear_model import Ridge, LinearRegression\n",
    "from sklearn import gaussian_process\n",
    "from sklearn.gaussian_process import GaussianProcessRegressor\n",
    "import scipy.optimize\n",
    "from sklearn.utils.optimize import _check_optimize_result\n",
    "from sklearn.gaussian_process.kernels import Matern, RBF, WhiteKernel, RationalQuadratic, ExpSineSquared\n",
    "import time\n",
    "from sklearn.decomposition import PCA, SparsePCA\n",
    "%matplotlib inline\n",
    "import seaborn as sns"
   ]
  },
  {
   "cell_type": "code",
   "execution_count": 3,
   "metadata": {},
   "outputs": [],
   "source": [
    "import tensorflow as tf"
   ]
  },
  {
   "cell_type": "code",
   "execution_count": 4,
   "metadata": {},
   "outputs": [
    {
     "data": {
      "text/plain": [
       "'/home/dwyerdei/rom_project'"
      ]
     },
     "execution_count": 4,
     "metadata": {},
     "output_type": "execute_result"
    }
   ],
   "source": [
    "import os\n",
    "os.getcwd()"
   ]
  },
  {
   "cell_type": "markdown",
   "metadata": {},
   "source": [
    "# Load and prepare data"
   ]
  },
  {
   "cell_type": "code",
   "execution_count": 5,
   "metadata": {},
   "outputs": [
    {
     "name": "stdout",
     "output_type": "stream",
     "text": [
      "0\n"
     ]
    }
   ],
   "source": [
    "#read the data into a dataframe\n",
    "#df = pd.read_csv('NewData_flames_data_with_L1_L2_errors_CH4-AIR_with_trimming.txt')\n",
    "df = pd.read_csv('NewData_flames_data_with_L1_L2_errors_CH4-AIR_without_trimming.txt')\n",
    "df = df.iloc[:-1]\n",
    "import math\n",
    "\n",
    "print(np.sum(list(map(math.isnan, df[' flame_key']))))\n",
    "\n",
    "#create an integer representation of the flame-id and add to the data frame\n",
    "df['flame_key_int'] = df[' flame_key'].mul(10000000).astype(int)\n",
    "\n",
    "#create an integer to determine if the flame is included by the framework in the manifold creation and reverselookup\n",
    "#framework_untrimmed_flameids = [0.00115982, 0.00122087, 0.00128512, 0.00135276, 0.00142396, 0.0014989, 0.00157779, 0.00166083, 0.00174825, 0.00184026, 0.00193711, 0.00203907, 0.00214639, 0.00225936, 0.00237827, 0.01]\n",
    "\n",
    "framework_untrimmed_flameids = ['2.0276547153583627E-4', '2.1343733845877503E-4', '2.2467088258818426E-4', '2.3649566588229923E-4', '2.4894280619189394E-4', '2.6204505914936203E-4', '2.7583690436774953E-4', '2.903546361765785E-4', '3.056364591332405E-4', '3.2172258856130585E-4', '3.3865535638032194E-4', '0.0032353354497370902']\n",
    "\n",
    "\n",
    "framework_untrimmed_flame_key_ints = [int(float(framework_untrimmed_flameids[i])*10000000) for i in range(len(framework_untrimmed_flameids))]\n",
    "\n",
    "def isFlame_included(flame_key_int):\n",
    "    if flame_key_int in framework_untrimmed_flame_key_ints:\n",
    "        ret_val = 1\n",
    "    else:\n",
    "        ret_val = 0\n",
    "    return ret_val\n",
    "\n",
    "df['is_flame_included_by_framework'] = df['flame_key_int'].map(lambda x: isFlame_included(x))\n",
    "\n",
    "df['souener_deciles'] = pd.qcut(df['souener'],10)\n"
   ]
  },
  {
   "cell_type": "code",
   "execution_count": 6,
   "metadata": {},
   "outputs": [
    {
     "name": "stdout",
     "output_type": "stream",
     "text": [
      "train_set_keys:  [25034, 15777, 32353, 23782, 2134, 3217, 7694, 2903, 14989, 3056, 21463, 11018, 8974, 10467, 3386, 20390, 5373, 9446, 3949, 3564, 18402, 6944, 30735, 12208, 3752, 14239, 2620]\n",
      "test_set_keys:  [2758, 2246, 4849, 2364, 9944, 2027, 4376, 13527, 5104, 7309, 16608, 12851, 5656, 6267, 8099, 27738, 4157, 17482, 2489, 5953, 8525, 11598, 19371, 29198, 6597, 26352, 22593, 4606]\n",
      "train:  [32353 30735 25034 23782 21463]\n",
      "test:  [29198 27738 26352 22593 19371]\n"
     ]
    }
   ],
   "source": [
    "def train_test_split_on_flamekey(df, train_portion=0.5):\n",
    "    import random\n",
    "    random.seed(0)\n",
    "    flame_keys = list(set(df['flame_key_int']))\n",
    "    random.shuffle(flame_keys)\n",
    "    train_set_keys = flame_keys[:int(len(flame_keys)*train_portion)]\n",
    "    test_set_keys = flame_keys[int(len(flame_keys)*train_portion):]\n",
    "    print('train_set_keys: ', train_set_keys)\n",
    "    print('test_set_keys: ', test_set_keys)\n",
    "\n",
    "    train_set = df[np.isin(df['flame_key_int'], train_set_keys)]\n",
    "    test_set = df[np.isin(df['flame_key_int'], test_set_keys)]\n",
    "    print('train: ', train_set['flame_key_int'].unique()[:5])\n",
    "    print('test: ', test_set['flame_key_int'].unique()[:5])\n",
    "    return train_set, test_set\n",
    "\n",
    "train_set, test_set = train_test_split_on_flamekey(df)"
   ]
  },
  {
   "cell_type": "markdown",
   "metadata": {},
   "source": [
    "### Create PCAs using all the data and add to DF\n"
   ]
  },
  {
   "cell_type": "code",
   "execution_count": 7,
   "metadata": {},
   "outputs": [],
   "source": [
    "num_principal_components = 5\n",
    "\n",
    "pca = PCA(n_components=num_principal_components)\n",
    "\n",
    "icovariates = []\n",
    "for c in df.columns:\n",
    "    if c[0:2] == 'Yi':\n",
    "        icovariates.append(c)\n",
    "\n",
    "X = df[icovariates].values\n",
    "        \n",
    "pure_pca_dim_cols = [\"PURE_PCA_\"+str(i+1) for i in range(num_principal_components)]\n",
    "\n",
    "pca.fit_transform(X)\n",
    "        \n",
    "df_pure_pca = pd.DataFrame(pca.transform(X), columns = pure_pca_dim_cols)\n",
    "        \n",
    "df = pd.concat([df,df_pure_pca], axis=1)\n"
   ]
  },
  {
   "cell_type": "code",
   "execution_count": 8,
   "metadata": {},
   "outputs": [
    {
     "data": {
      "text/plain": [
       "\"\\npca = PCA().fit(X)\\nplt.xticks(np.arange(0, 40, 2.0))\\nplt.plot(np.cumsum(pca.explained_variance_ratio_))\\nplt.xlabel('number of components')\\nplt.ylabel('cumulative explained variance');\\n\""
      ]
     },
     "execution_count": 8,
     "metadata": {},
     "output_type": "execute_result"
    }
   ],
   "source": [
    "#don't run this\n",
    "'''\n",
    "pca = PCA().fit(X)\n",
    "plt.xticks(np.arange(0, 40, 2.0))\n",
    "plt.plot(np.cumsum(pca.explained_variance_ratio_))\n",
    "plt.xlabel('number of components')\n",
    "plt.ylabel('cumulative explained variance');\n",
    "'''"
   ]
  },
  {
   "cell_type": "markdown",
   "metadata": {},
   "source": [
    "### Create Sparse PCA"
   ]
  },
  {
   "cell_type": "code",
   "execution_count": 9,
   "metadata": {},
   "outputs": [],
   "source": [
    "sparsepca = SparsePCA(n_components=num_principal_components)\n",
    "      \n",
    "sparse_pca_dim_cols = [\"SPARSE_PCA_\"+str(i+1) for i in range(num_principal_components)]\n",
    "\n",
    "sparsepca.fit_transform(X)\n",
    "        \n",
    "df_sparse_pca = pd.DataFrame(sparsepca.transform(X), columns = sparse_pca_dim_cols)\n",
    "        \n",
    "df = pd.concat([df,df_sparse_pca], axis=1)"
   ]
  },
  {
   "cell_type": "markdown",
   "metadata": {},
   "source": [
    "### Create PCAs orthogonal to Zmix and add to DF"
   ]
  },
  {
   "cell_type": "code",
   "execution_count": 10,
   "metadata": {},
   "outputs": [],
   "source": [
    "zmix_pca_dim_cols = [\"Zmix_PCA_\"+str(i+1) for i in range(num_principal_components)]\n",
    "\n",
    "wopt = np.array([0.25131806468584, 1.0, 0.0, 0.0, 0.05926499970012948, 0.11189834407236524, 0.03053739933116691, 0.05926499970012948, 0.0, 0.07742283372149472, 0.14371856860332313, 0.14371856860332313, 0.20112514400193687, 1.0, 0.0, 0.0, 0.03473494419333629, 0.06713785861443991, 0.09743596683886535, 0.09743596683886535, 0.12582790137651187, 0.04027033873046593, 0.07742283372149472, 0.11180607885607882, 0.14371856860332313, 0.17341738612784788, 0.20112514400193687, 0.024566681794273966, 0.04795526192839207, 0.04795526192839207, 0.0, 0.06713048065088474, 0.12581494366075874, 0.17755300484072126, 0.034730994502665966, 0.0, 0.0, 0.0, 0.03249947443158002, 0.0, 0.0372961080230628, 0.07191024382448291, 0.024564706019978535, 0.023426986426879046, 0.023426986426879046, 0.023426986426879046, 0.0, 0.16374935944566987, 0.18286442054789118, 0.07024850027715426, 0.09152158240065958, 0.0, 0.0] , dtype=float)\n",
    "\n",
    "w = wopt[:,np.newaxis]\n",
    "\n",
    "# center the data\n",
    "Xcenter = X - np.mean(X)\n",
    "\n",
    "A = np.cov(X.T)\n",
    "\n",
    "# calculate A - ww^TA\n",
    "L = A - np.dot(np.dot(w,w.T),A)\n",
    "\n",
    "# get the first eigen vector\n",
    "values,vectors = np.linalg.eig(L)\n",
    "\n",
    "vectors = np.real(vectors)\n",
    "\n",
    "values = np.real(values)\n",
    "\n",
    "df_zmix_pca = pd.DataFrame(df['flame_key_int'], columns = ['flame_key_int'])\n",
    "\n",
    "df_zmix_pca[zmix_pca_dim_cols[0]] = Xcenter.dot(wopt)\n",
    "\n",
    "for i in range(len(zmix_pca_dim_cols)-1):\n",
    "    df_zmix_pca[zmix_pca_dim_cols[i+1]] = Xcenter.dot(vectors.T[i])\n",
    "\n",
    "df_zmix_pca = pd.DataFrame(pca.transform(X), columns = zmix_pca_dim_cols)\n",
    "        \n",
    "df = pd.concat([df,df_zmix_pca], axis=1)"
   ]
  },
  {
   "cell_type": "code",
   "execution_count": 11,
   "metadata": {},
   "outputs": [],
   "source": [
    "framework_included_flames_int = df[df['is_flame_included_by_framework'] == 1]['flame_key_int'].unique()\n",
    "\n",
    "framework_excluded_flames_int = df[df['is_flame_included_by_framework'] == 0]['flame_key_int'].unique()\n",
    "\n",
    "all_flames_int = df['flame_key_int'].unique()\n",
    "\n",
    "def getTrainTestFlames(method):\n",
    "    \n",
    "    training_flames_int = []\n",
    "\n",
    "    testing_flames_int = []\n",
    "\n",
    "    if(method == \"frameworkincludedexcludedequalsplit\"):\n",
    "    \n",
    "        for x in framework_included_flames_int:\n",
    "            training_flames_int.append(x)\n",
    "\n",
    "        for x in framework_excluded_flames_int[::2]:\n",
    "            training_flames_int.append(x)\n",
    "\n",
    "        for x in framework_included_flames_int:\n",
    "            testing_flames_int.append(x)\n",
    "\n",
    "        for x in framework_excluded_flames_int[1::2]:\n",
    "            testing_flames_int.append(x)\n",
    "    \n",
    "    elif(method == \"frameworkincludedtrainexcludedtest\"):\n",
    "        for x in framework_included_flames_int:\n",
    "            training_flames_int.append(x)\n",
    "\n",
    "        for x in framework_excluded_flames_int:\n",
    "            testing_flames_int.append(x)\n",
    "    \n",
    "    elif(method == \"frameworkincludedtrainexcludedandincludedtest\"):\n",
    "        for x in framework_included_flames_int:\n",
    "            training_flames_int.append(x)\n",
    "\n",
    "        for x in framework_included_flames_int:\n",
    "            testing_flames_int.append(x)\n",
    "\n",
    "        for x in framework_excluded_flames_int:\n",
    "            testing_flames_int.append(x)\n",
    "            \n",
    "    else:\n",
    "        for x in all_flames_int:\n",
    "            training_flames_int.append(x)\n",
    "            testing_flames_int.append(x)\n",
    "    \n",
    "    df_training = df[df['flame_key_int'].isin(training_flames_int)]\n",
    "\n",
    "    df_testing = df[df['flame_key_int'].isin(testing_flames_int)]\n",
    "    \n",
    "    return df_training,df_testing\n",
    "\n",
    "\n",
    "def getTrainTestData(method):\n",
    "    \n",
    "    method_parts = method.split('_')\n",
    "\n",
    "    df_trainingFlames, df_testingFlames = getTrainTestFlames(method_parts[1])\n",
    "\n",
    "    if method_parts[0] == \"ZmixCpv\":\n",
    "        X_train = df_trainingFlames [[\"Zmix\",\"Cpv\"]].values\n",
    "        \n",
    "        Y_train = df_trainingFlames [[\"souener\"]].values\n",
    "        \n",
    "        X_test = df_testingFlames [[\"Zmix\",\"Cpv\"]].values\n",
    "        \n",
    "        Y_test = df_testingFlames [[\"souener\"]].values\n",
    "    \n",
    "    elif method_parts[0] == \"ZmixPCA\":\n",
    "        X_train = df_trainingFlames [zmix_pca_dim_cols].values\n",
    "        \n",
    "        Y_train = df_trainingFlames [[\"souener\"]].values\n",
    "        \n",
    "        X_test = df_testingFlames [zmix_pca_dim_cols].values\n",
    "        \n",
    "        Y_test = df_testingFlames [[\"souener\"]].values\n",
    "        \n",
    "    elif method_parts[0] == \"SparsePCA\":\n",
    "        X_train = df_trainingFlames [sparse_pca_dim_cols].values\n",
    "        \n",
    "        Y_train = df_trainingFlames [[\"souener\"]].values\n",
    "        \n",
    "        X_test = df_testingFlames [sparse_pca_dim_cols].values\n",
    "        \n",
    "        Y_test = df_testingFlames [[\"souener\"]].values\n",
    "    \n",
    "    elif method_parts[0] == \"PurePCA\":\n",
    "        X_train = df_trainingFlames [pure_pca_dim_cols].values\n",
    "        \n",
    "        Y_train = df_trainingFlames [[\"souener\"]].values\n",
    "        \n",
    "        X_test = df_testingFlames [pure_pca_dim_cols].values\n",
    "        \n",
    "        Y_test = df_testingFlames [[\"souener\"]].values\n",
    "        \n",
    "    else:\n",
    "        X_train = df_trainingFlames [icovariates].values\n",
    "        \n",
    "        Y_train = df_trainingFlames [[\"souener\"]].values\n",
    "        \n",
    "        X_test = df_testingFlames [icovariates].values\n",
    "        \n",
    "        Y_test = df_testingFlames [[\"souener\"]].values\n",
    "    \n",
    "    return X_train,Y_train,X_test,Y_test"
   ]
  },
  {
   "cell_type": "code",
   "execution_count": 12,
   "metadata": {},
   "outputs": [],
   "source": [
    "def computeError (Y_pred, Y_test):\n",
    "    evaluation_df_1 = pd.DataFrame()\n",
    "\n",
    "    evaluation_df_1['souener'] = Y_test.flatten()\n",
    "\n",
    "    evaluation_df_1['souener_pred'] = Y_pred.flatten()\n",
    "\n",
    "    evaluation_df_1['souener_pred_L1'] = evaluation_df_1['souener'] - evaluation_df_1['souener_pred'] \n",
    "\n",
    "    evaluation_df_1['souener_pred_L2'] = evaluation_df_1['souener_pred_L1'] * evaluation_df_1['souener_pred_L1']\n",
    "    \n",
    "    evaluation_df_1['souener_pred_L1Percent'] = ((evaluation_df_1['souener'] - evaluation_df_1['souener_pred'])/evaluation_df_1['souener']) \n",
    "    \n",
    "    TotalAbsoluteError = evaluation_df_1['souener_pred_L1'].abs().sum()\n",
    "\n",
    "    TotalSquaredError = evaluation_df_1['souener_pred_L2'].abs().sum()\n",
    "    \n",
    "    MeanAbsoluteError = evaluation_df_1['souener_pred_L1'].abs().sum()/evaluation_df_1['souener_pred_L1'].abs().count()\n",
    "\n",
    "    MeanSquaredError = evaluation_df_1['souener_pred_L2'].abs().sum()/evaluation_df_1['souener_pred_L2'].abs().count()\n",
    "    \n",
    "    NumPoints = evaluation_df_1['souener_pred_L1Percent'].abs().count()\n",
    "    \n",
    "    MeanPercentageError = evaluation_df_1['souener_pred_L1Percent'].abs().sum()/NumPoints\n",
    "    \n",
    "    return [TotalAbsoluteError,TotalSquaredError,MeanAbsoluteError,MeanSquaredError,MeanPercentageError,NumPoints]\n",
    "\n",
    "def printError (err):\n",
    "    TotalAbsoluteError = err[0]\n",
    "\n",
    "    TotalSquaredError = err[1]\n",
    "\n",
    "    MeanAbsoluteError = err[2]\n",
    "\n",
    "    MeanSquaredError = err[3]\n",
    "\n",
    "    MeanPercentageError = err[4]\n",
    "\n",
    "    NumPoints = err[5]\n",
    "    print ('Total Absolute Error: ', TotalAbsoluteError)\n",
    "    print ('Mean Absolute Error: ', MeanAbsoluteError)\n",
    "    print ('Mean Percentage Error: ', MeanPercentageError)\n",
    "    print ('Total Squared Error: ', TotalSquaredError)\n",
    "    print ('Mean Squared Error: ', MeanSquaredError)\n",
    "    print ('Number of Points: ', NumPoints)\n",
    "\n",
    "def computeAndPrintError(Y_pred, Y_test):    \n",
    "    err = computeError (Y_pred, Y_test)\n",
    "    printError (err)\n",
    "    return err\n",
    "\n"
   ]
  },
  {
   "cell_type": "code",
   "execution_count": 13,
   "metadata": {},
   "outputs": [],
   "source": [
    "class CustomGPR(GaussianProcessRegressor):\n",
    "    def __init__(self, *args, max_iter=150, gtol=1e-06, **kwargs):\n",
    "        super().__init__(*args, **kwargs)\n",
    "        self._max_iter = max_iter\n",
    "        self._gtol = gtol\n",
    "\n",
    "    def _constrained_optimization(self, obj_func, initial_theta, bounds):\n",
    "        if self.optimizer == \"fmin_l_bfgs_b\":\n",
    "            opt_res = scipy.optimize.minimize(obj_func, initial_theta, method=\"L-BFGS-B\", jac=True, bounds=bounds, options={'maxiter':self._max_iter, 'gtol': self._gtol})\n",
    "            _check_optimize_result(\"lbfgs\", opt_res)\n",
    "            theta_opt, func_min = opt_res.x, opt_res.fun\n",
    "        elif callable(self.optimizer):\n",
    "            theta_opt, func_min = self.optimizer(obj_func, initial_theta, bounds=bounds)\n",
    "        else:\n",
    "            raise ValueError(\"Unknown optimizer %s.\" % self.optimizer)\n",
    "        return theta_opt, func_min\n",
    "\n",
    "\n",
    "\n",
    "\n",
    "def fitGPAndCalcL1Err(X_train, Y_train, X_test, Y_test,kernel=\"Matern\"):\n",
    "    \n",
    "    if kernel == \"Matern_RationalQuadratic\":\n",
    "        \n",
    "        # medium term irregularities\n",
    "        k1 = 0.5* Matern(length_scale=2, nu=3/2)\n",
    "        k2 = 0.5* RationalQuadratic(length_scale=1.0, alpha=1.0)\n",
    "    \n",
    "        '''\n",
    "        k4 = 0.1**2 * RBF(length_scale=0.1) \\+ WhiteKernel(noise_level=0.1**2,\n",
    "                      noise_level_bounds=(1e-3, np.inf))  # noise terms\n",
    "        '''\n",
    "        kernel = k1 + k2\n",
    "    \n",
    "    elif kernel == \"RationalQuadratic\":\n",
    "        \n",
    "        # medium term irregularities\n",
    "        kernel = RationalQuadratic(length_scale=1.0, alpha=1.0)    \n",
    "    \n",
    "    else:\n",
    "        kernel = Matern(length_scale=2, nu=3/2)\n",
    "    \n",
    "    #gp_1 = gaussian_process.GaussianProcessRegressor(kernel=kernel)\n",
    "\n",
    "    \n",
    "    t = time.process_time()\n",
    "\n",
    "    gp_1 = CustomGPR(kernel=kernel)\n",
    "    \n",
    "    gp_1.fit(X_train, Y_train)\n",
    "\n",
    "    elapsed_time = time.process_time() - t\n",
    "\n",
    "    print (\"GP Time for Initial Fit: \", elapsed_time)\n",
    "    \n",
    "    t = time.process_time()\n",
    "    \n",
    "    #Y_pred = gp_1.predict(X_test, return_std=False)\n",
    "    Y_pred = gp_1.predict(X_test, return_std=False)\n",
    "    \n",
    "    elapsed_time = time.process_time() - t\n",
    "\n",
    "    print (\"GP Time for Prediction: \", elapsed_time)\n",
    "    \n",
    "    err = computeAndPrintError(Y_pred, Y_test)\n",
    "    \n",
    "    return gp_1, err,Y_pred"
   ]
  },
  {
   "cell_type": "code",
   "execution_count": 14,
   "metadata": {},
   "outputs": [
    {
     "data": {
      "text/html": [
       "<div>\n",
       "<style scoped>\n",
       "    .dataframe tbody tr th:only-of-type {\n",
       "        vertical-align: middle;\n",
       "    }\n",
       "\n",
       "    .dataframe tbody tr th {\n",
       "        vertical-align: top;\n",
       "    }\n",
       "\n",
       "    .dataframe thead th {\n",
       "        text-align: right;\n",
       "    }\n",
       "</style>\n",
       "<table border=\"1\" class=\"dataframe\">\n",
       "  <thead>\n",
       "    <tr style=\"text-align: right;\">\n",
       "      <th></th>\n",
       "      <th>count</th>\n",
       "      <th>mean</th>\n",
       "      <th>std</th>\n",
       "      <th>min</th>\n",
       "      <th>25%</th>\n",
       "      <th>50%</th>\n",
       "      <th>75%</th>\n",
       "      <th>max</th>\n",
       "    </tr>\n",
       "  </thead>\n",
       "  <tbody>\n",
       "    <tr>\n",
       "      <th>Zmix</th>\n",
       "      <td>16441.0</td>\n",
       "      <td>4.300753e-01</td>\n",
       "      <td>2.603548e-01</td>\n",
       "      <td>4.542561e-03</td>\n",
       "      <td>2.126891e-01</td>\n",
       "      <td>3.964378e-01</td>\n",
       "      <td>6.316525e-01</td>\n",
       "      <td>9.954029e-01</td>\n",
       "    </tr>\n",
       "    <tr>\n",
       "      <th>Zmix_PCA_1</th>\n",
       "      <td>16441.0</td>\n",
       "      <td>2.086606e-18</td>\n",
       "      <td>3.251895e-01</td>\n",
       "      <td>-4.906146e-01</td>\n",
       "      <td>-2.377393e-01</td>\n",
       "      <td>-1.149401e-01</td>\n",
       "      <td>2.354814e-01</td>\n",
       "      <td>7.919904e-01</td>\n",
       "    </tr>\n",
       "    <tr>\n",
       "      <th>Zmix_PCA_2</th>\n",
       "      <td>16441.0</td>\n",
       "      <td>3.132273e-17</td>\n",
       "      <td>2.386475e-01</td>\n",
       "      <td>-3.176912e-01</td>\n",
       "      <td>-1.897163e-01</td>\n",
       "      <td>-4.602780e-02</td>\n",
       "      <td>1.333178e-01</td>\n",
       "      <td>7.845406e-01</td>\n",
       "    </tr>\n",
       "    <tr>\n",
       "      <th>Zmix_PCA_3</th>\n",
       "      <td>16441.0</td>\n",
       "      <td>1.481980e-17</td>\n",
       "      <td>6.041821e-02</td>\n",
       "      <td>-1.516269e-01</td>\n",
       "      <td>-2.526227e-02</td>\n",
       "      <td>3.244706e-03</td>\n",
       "      <td>3.534856e-02</td>\n",
       "      <td>1.816277e-01</td>\n",
       "    </tr>\n",
       "    <tr>\n",
       "      <th>Zmix_PCA_4</th>\n",
       "      <td>16441.0</td>\n",
       "      <td>-3.097082e-17</td>\n",
       "      <td>1.796422e-02</td>\n",
       "      <td>-4.138414e-02</td>\n",
       "      <td>-1.144189e-02</td>\n",
       "      <td>-1.985625e-03</td>\n",
       "      <td>7.267487e-03</td>\n",
       "      <td>5.825280e-02</td>\n",
       "    </tr>\n",
       "    <tr>\n",
       "      <th>Zmix_PCA_5</th>\n",
       "      <td>16441.0</td>\n",
       "      <td>-2.459591e-18</td>\n",
       "      <td>1.219545e-02</td>\n",
       "      <td>-2.677533e-02</td>\n",
       "      <td>-8.928321e-03</td>\n",
       "      <td>-4.568207e-04</td>\n",
       "      <td>8.279846e-03</td>\n",
       "      <td>2.862893e-02</td>\n",
       "    </tr>\n",
       "    <tr>\n",
       "      <th>souener</th>\n",
       "      <td>16441.0</td>\n",
       "      <td>1.235628e+10</td>\n",
       "      <td>2.958959e+10</td>\n",
       "      <td>-2.857737e+09</td>\n",
       "      <td>4.573454e+07</td>\n",
       "      <td>1.461805e+09</td>\n",
       "      <td>8.146965e+09</td>\n",
       "      <td>2.041413e+11</td>\n",
       "    </tr>\n",
       "  </tbody>\n",
       "</table>\n",
       "</div>"
      ],
      "text/plain": [
       "              count          mean           std           min           25%  \\\n",
       "Zmix        16441.0  4.300753e-01  2.603548e-01  4.542561e-03  2.126891e-01   \n",
       "Zmix_PCA_1  16441.0  2.086606e-18  3.251895e-01 -4.906146e-01 -2.377393e-01   \n",
       "Zmix_PCA_2  16441.0  3.132273e-17  2.386475e-01 -3.176912e-01 -1.897163e-01   \n",
       "Zmix_PCA_3  16441.0  1.481980e-17  6.041821e-02 -1.516269e-01 -2.526227e-02   \n",
       "Zmix_PCA_4  16441.0 -3.097082e-17  1.796422e-02 -4.138414e-02 -1.144189e-02   \n",
       "Zmix_PCA_5  16441.0 -2.459591e-18  1.219545e-02 -2.677533e-02 -8.928321e-03   \n",
       "souener     16441.0  1.235628e+10  2.958959e+10 -2.857737e+09  4.573454e+07   \n",
       "\n",
       "                     50%           75%           max  \n",
       "Zmix        3.964378e-01  6.316525e-01  9.954029e-01  \n",
       "Zmix_PCA_1 -1.149401e-01  2.354814e-01  7.919904e-01  \n",
       "Zmix_PCA_2 -4.602780e-02  1.333178e-01  7.845406e-01  \n",
       "Zmix_PCA_3  3.244706e-03  3.534856e-02  1.816277e-01  \n",
       "Zmix_PCA_4 -1.985625e-03  7.267487e-03  5.825280e-02  \n",
       "Zmix_PCA_5 -4.568207e-04  8.279846e-03  2.862893e-02  \n",
       "souener     1.461805e+09  8.146965e+09  2.041413e+11  "
      ]
     },
     "execution_count": 14,
     "metadata": {},
     "output_type": "execute_result"
    }
   ],
   "source": [
    "df[[\"Zmix\",\"Zmix_PCA_1\",\"Zmix_PCA_2\",\"Zmix_PCA_3\",\"Zmix_PCA_4\",\"Zmix_PCA_5\",\"souener\"]].describe().T"
   ]
  },
  {
   "cell_type": "code",
   "execution_count": 15,
   "metadata": {},
   "outputs": [
    {
     "data": {
      "text/plain": [
       "count    1.644100e+04\n",
       "mean     1.235628e+10\n",
       "std      2.958959e+10\n",
       "min     -2.857737e+09\n",
       "25%      4.573454e+07\n",
       "50%      1.461805e+09\n",
       "75%      8.146965e+09\n",
       "max      2.041413e+11\n",
       "Name: souener, dtype: float64"
      ]
     },
     "execution_count": 15,
     "metadata": {},
     "output_type": "execute_result"
    }
   ],
   "source": [
    "df[\"souener\"].describe()"
   ]
  },
  {
   "cell_type": "markdown",
   "metadata": {},
   "source": [
    "## DNN Method Support Functions"
   ]
  },
  {
   "cell_type": "code",
   "execution_count": 16,
   "metadata": {},
   "outputs": [],
   "source": [
    "from numpy import genfromtxt\n",
    "def get_neighborhood(neighborhooddisttype,datasettype):\n",
    "    #neighbors_cosine_dataset_test_ZmixPCA_frameworkincludedexcludedequalsplit\n",
    "    train_filename = \"neighbors_\" + neighborhooddisttype + \"_dataset_train_\" + datasettype + \".csv\"\n",
    "    test_filename = \"neighbors_\" + neighborhooddisttype + \"_dataset_test_\" + datasettype + \".csv\"\n",
    "    neighbors_dataset_train = genfromtxt(train_filename, delimiter=',')\n",
    "    neighbors_dataset_test = genfromtxt(test_filename, delimiter=',')\n",
    "    return neighbors_dataset_train,neighbors_dataset_test\n",
    "\n",
    "def computeAndSaveNeighborhood():        \n",
    "    # Train distance function\n",
    "    neighbors_dataset_train = list()\n",
    "\n",
    "    for i in range(X_train.shape[0]):\n",
    "        neighbors_dataset_train.append(get_neighbors(X_train, Y_train, X_train[i], num_neighbors,\"manhattan\"))\n",
    "\n",
    "    # Test distance function\n",
    "    neighbors_dataset_test = list()\n",
    "\n",
    "    for i in range(X_test.shape[0]):\n",
    "        neighbors_dataset_test.append(get_neighbors(X_train, Y_train, X_test[i], num_neighbors,\"manhattan\"))\n",
    "\n",
    "    neighbors_dataset_train = np.asarray(neighbors_dataset_train)\n",
    "    neighbors_dataset_test = np.asarray(neighbors_dataset_test)\n",
    "    from numpy import savetxt\n",
    "    savetxt('neighbors_dataset_train_ZmixPCA.csv', neighbors_dataset_train, delimiter=',')\n",
    "    savetxt('neighbors_dataset_test_ZmixPCA.csv', neighbors_dataset_test, delimiter=',')"
   ]
  },
  {
   "cell_type": "code",
   "execution_count": 17,
   "metadata": {},
   "outputs": [],
   "source": [
    "# Example of getting neighbors for an instance\n",
    "from math import sqrt\n",
    "from scipy import spatial\n",
    "\n",
    "num_neighbors = 48\n",
    "\n",
    "# calculate the Euclidean distance between two vectors\n",
    "def euclidean_distance(row1, row2):\n",
    "    distance = 0.0\n",
    "    for i in range(len(row1)-1):\n",
    "        distance += (row1[i] - row2[i])**2\n",
    "    return sqrt(distance)\n",
    "\n",
    "# calculate the Euclidean distance between two vectors\n",
    "def weighted_euclidean_distance(row1, row2):\n",
    "    distance = 0.0\n",
    "    j = len(row1)\n",
    "    for i in range(len(row1)-1):\n",
    "        distance += j*(row1[i] - row2[i])**2\n",
    "        j = j -1\n",
    "    return sqrt(distance)\n",
    "\n",
    "# calculate the Manhattan distance between two vectors\n",
    "def weighted_manhattan_distance(row1, row2):\n",
    "    distance = 0.0\n",
    "    j = len(row1)\n",
    "    for i in range(len(row1)-1):\n",
    "        distance += j* abs(row1[i] - row2[i])\n",
    "        j = j -1\n",
    "    return distance\n",
    "\n",
    "# calculate the Manhattan distance between two vectors\n",
    "def manhattan_distance(row1, row2):\n",
    "    distance = 0.0\n",
    "    for i in range(len(row1)-1):\n",
    "        distance += abs(row1[i] - row2[i])\n",
    "    return distance\n",
    "\n",
    "def cosine_distance(row1, row2):\n",
    "    distance = 0.0\n",
    "    distance = 1 - spatial.distance.cosine(row1, row2)\n",
    "    return distance\n",
    "\n",
    "\n",
    "# Locate the most similar neighbors\n",
    "def get_neighbors(train, train_label, test_row, num_neighbors,dist_type):\n",
    "    \n",
    "    distances = list()\n",
    "    \n",
    "    i = 0\n",
    "    \n",
    "    for train_row in train:\n",
    "        \n",
    "        if dist_type == \"cosine\":\n",
    "            dist = cosine_distance(test_row, train_row)\n",
    "        elif dist_type == \"manhattan\":\n",
    "            dist = manhattan_distance(test_row, train_row)    \n",
    "        elif dist_type == \"weighted_manhattan\":\n",
    "            dist = weighted_manhattan_distance(test_row, train_row)    \n",
    "        elif dist_type == \"weighted_euclidean\":\n",
    "            #euclidean\":\n",
    "            dist = weighted_euclidean_distance(test_row, train_row)\n",
    "        else:\n",
    "            #euclidean\":\n",
    "            dist = euclidean_distance(test_row, train_row)\n",
    "        \n",
    "        distances.append((train_label[i],train_row, dist))\n",
    "        \n",
    "        i = i + 1\n",
    "    \n",
    "    distances.sort(key=lambda tup: tup[2])\n",
    "   \n",
    "    neighbors = list()\n",
    "    \n",
    "    for i in range(num_neighbors):\n",
    "        neighbors.append(distances[i][0])\n",
    "    \n",
    "    neighbors = np.asarray(neighbors).flatten()\n",
    "    \n",
    "    return neighbors"
   ]
  },
  {
   "cell_type": "code",
   "execution_count": 18,
   "metadata": {},
   "outputs": [],
   "source": [
    "def getResiduals(Y_test,Y_pred):\n",
    "    evaluation_df_1 = pd.DataFrame()\n",
    "\n",
    "    evaluation_df_1['souener'] = Y_test.flatten()\n",
    "\n",
    "    evaluation_df_1['souener_pred'] = Y_pred.flatten()\n",
    "\n",
    "    evaluation_df_1['res'] = evaluation_df_1['souener'] - evaluation_df_1['souener_pred'] \n",
    "   \n",
    "    return evaluation_df_1['res'].values\n"
   ]
  },
  {
   "cell_type": "code",
   "execution_count": 19,
   "metadata": {},
   "outputs": [],
   "source": [
    "def plot_loss(history):\n",
    "    plt.plot(history.history['loss'], label='loss')\n",
    "    plt.plot(history.history['val_loss'], label='val_loss')\n",
    "    plt.xlabel('Epoch')\n",
    "    plt.ylabel('Error [Souener]')\n",
    "    plt.legend()\n",
    "    plt.grid(True)"
   ]
  },
  {
   "cell_type": "markdown",
   "metadata": {},
   "source": [
    "# Experiment I\n",
    "## Training on all Untrimed Flames\n",
    "### Zmix, Cpv"
   ]
  },
  {
   "cell_type": "code",
   "execution_count": 20,
   "metadata": {},
   "outputs": [],
   "source": [
    "#ZmixPCA_frameworkincludedtrainexcludedtest\n",
    "#ZmixPCA_frameworkincludedexcludedequalsplit\n",
    "X_train,Y_train,X_test, Y_test  = getTrainTestData(\"ZmixCpv_frameworkincludedtrainexcludedtest\")\n"
   ]
  },
  {
   "cell_type": "code",
   "execution_count": 21,
   "metadata": {},
   "outputs": [
    {
     "data": {
      "text/plain": [
       "<seaborn.axisgrid.PairGrid at 0x7ff9eb418940>"
      ]
     },
     "execution_count": 21,
     "metadata": {},
     "output_type": "execute_result"
    },
    {
     "data": {
      "image/png": "[encoded data removed]",
      "text/plain": [
       "<Figure size 360x360 with 6 Axes>"
      ]
     },
     "metadata": {
      "needs_background": "light"
     },
     "output_type": "display_data"
    }
   ],
   "source": [
    "#X_train_df = pd.DataFrame(X_train ,columns = zmix_pca_dim_cols)\n",
    "X_train_df = pd.DataFrame(X_train ,columns = [\"Zmix\",\"Cpv\"])\n",
    "sns.pairplot(X_train_df, diag_kind='kde')\n",
    "\n",
    "#The following image is not used in the Paper; may be we can add it to give a better description"
   ]
  },
  {
   "cell_type": "markdown",
   "metadata": {},
   "source": [
    "### GP Matern Kernel"
   ]
  },
  {
   "cell_type": "code",
   "execution_count": 22,
   "metadata": {},
   "outputs": [
    {
     "name": "stdout",
     "output_type": "stream",
     "text": [
      "Zmix+PCA(2 components) trained using Framework Included Flames and Test on Flames Excluded by Framework\n",
      "\n",
      "GP Time for Initial Fit:  34.655911403\n",
      "GP Time for Prediction:  3.0505428570000035\n",
      "Total Absolute Error:  77046923711119.56\n",
      "Mean Absolute Error:  5992605095.365914\n",
      "Mean Percentage Error:  0.9781810518642444\n",
      "Total Squared Error:  2.8175944104747773e+24\n",
      "Mean Squared Error:  2.191486669110039e+20\n",
      "Number of Points:  12857\n"
     ]
    }
   ],
   "source": [
    "print ('Zmix+PCA(2 components) trained using Framework Included Flames and Test on Flames Excluded by Framework\\n')\n",
    "gp,err, Y_pred = fitGPAndCalcL1Err(X_train, Y_train.flatten(), X_test, Y_test.flatten())"
   ]
  },
  {
   "cell_type": "code",
   "execution_count": 23,
   "metadata": {},
   "outputs": [],
   "source": [
    "errorLst = {}"
   ]
  },
  {
   "cell_type": "code",
   "execution_count": 24,
   "metadata": {},
   "outputs": [],
   "source": [
    "errorLst['Zmix+PCA(2 Components) GP'] = err"
   ]
  },
  {
   "cell_type": "code",
   "execution_count": 25,
   "metadata": {},
   "outputs": [
    {
     "name": "stderr",
     "output_type": "stream",
     "text": [
      "/opt/anaconda/lib/python3.8/site-packages/seaborn/_decorators.py:36: FutureWarning: Pass the following variables as keyword args: x, y. From version 0.12, the only valid positional argument will be `data`, and passing other arguments without an explicit keyword will result in an error or misinterpretation.\n",
      "  warnings.warn(\n"
     ]
    },
    {
     "data": {
      "text/plain": [
       "<AxesSubplot:>"
      ]
     },
     "execution_count": 25,
     "metadata": {},
     "output_type": "execute_result"
    },
    {
     "data": {
      "image/png": "[encoded data removed]",
      "text/plain": [
       "<Figure size 432x288 with 1 Axes>"
      ]
     },
     "metadata": {
      "needs_background": "light"
     },
     "output_type": "display_data"
    }
   ],
   "source": [
    "sns.residplot(Y_test.flatten(), getResiduals(Y_test,Y_pred))"
   ]
  },
  {
   "cell_type": "markdown",
   "metadata": {},
   "source": [
    "### Simple DNN "
   ]
  },
  {
   "cell_type": "code",
   "execution_count": 26,
   "metadata": {},
   "outputs": [],
   "source": [
    "import tensorflow as tf\n",
    "\n",
    "from tensorflow import keras\n",
    "from tensorflow.keras import layers\n",
    "from tensorflow.keras.layers.experimental import preprocessing\n",
    "from tensorflow.keras.callbacks import EarlyStopping\n",
    "\n",
    "# patient early stopping\n",
    "es = EarlyStopping(monitor='val_loss', mode='min', verbose=1, patience=45)\n",
    "\n",
    "width = 512\n",
    "halfwidth = 128\n",
    "def build_and_compile_model(norm):\n",
    "    model = keras.Sequential([\n",
    "      norm,\n",
    "      layers.Dense(width, activation='relu'),\n",
    "      layers.Dense(width, activation='relu'),\n",
    "      layers.Dense(halfwidth, activation='relu'),\n",
    "      layers.Dense(halfwidth, activation='relu'),  \n",
    "      layers.Dense(width, activation='relu'),\n",
    "      layers.Dense(width, activation='relu'),\n",
    "      layers.Dense(1)\n",
    "    ])\n",
    "        \n",
    "    \n",
    "    model.compile(loss='mean_absolute_error',optimizer=tf.keras.optimizers.Adam(0.001))\n",
    "    #model.compile(loss=tf.keras.losses.MeanAbsolutePercentageError(),optimizer=tf.keras.optimizers.Adam(0.001))\n",
    "    return model"
   ]
  },
  {
   "cell_type": "code",
   "execution_count": 27,
   "metadata": {},
   "outputs": [
    {
     "name": "stdout",
     "output_type": "stream",
     "text": [
      "Model: \"sequential\"\n",
      "_________________________________________________________________\n",
      "Layer (type)                 Output Shape              Param #   \n",
      "=================================================================\n",
      "normalization (Normalization (None, 2)                 5         \n",
      "_________________________________________________________________\n",
      "dense (Dense)                (None, 512)               1536      \n",
      "_________________________________________________________________\n",
      "dense_1 (Dense)              (None, 512)               262656    \n",
      "_________________________________________________________________\n",
      "dense_2 (Dense)              (None, 128)               65664     \n",
      "_________________________________________________________________\n",
      "dense_3 (Dense)              (None, 128)               16512     \n",
      "_________________________________________________________________\n",
      "dense_4 (Dense)              (None, 512)               66048     \n",
      "_________________________________________________________________\n",
      "dense_5 (Dense)              (None, 512)               262656    \n",
      "_________________________________________________________________\n",
      "dense_6 (Dense)              (None, 1)                 513       \n",
      "=================================================================\n",
      "Total params: 675,590\n",
      "Trainable params: 675,585\n",
      "Non-trainable params: 5\n",
      "_________________________________________________________________\n"
     ]
    }
   ],
   "source": [
    "X_normalizer = preprocessing.Normalization()\n",
    "X_normalizer.adapt(np.array(X_train.copy()))\n",
    "model = build_and_compile_model(X_normalizer)\n",
    "model.summary()"
   ]
  },
  {
   "cell_type": "code",
   "execution_count": 28,
   "metadata": {},
   "outputs": [
    {
     "name": "stdout",
     "output_type": "stream",
     "text": [
      "('You must install pydot (`pip install pydot`) and install graphviz (see instructions at https://graphviz.gitlab.io/download/) ', 'for plot_model/model_to_dot to work.')\n"
     ]
    }
   ],
   "source": [
    "tf.keras.utils.plot_model(model,to_file=\"model.png\",\n",
    "    show_shapes=True,\n",
    "    show_layer_names=True,\n",
    "    rankdir=\"TB\",\n",
    "    expand_nested=False,\n",
    "    dpi=96)"
   ]
  },
  {
   "cell_type": "code",
   "execution_count": 29,
   "metadata": {},
   "outputs": [
    {
     "name": "stdout",
     "output_type": "stream",
     "text": [
      "CPU times: user 4min 3s, sys: 43.6 s, total: 4min 46s\n",
      "Wall time: 56.4 s\n"
     ]
    }
   ],
   "source": [
    "%%time\n",
    "history = model.fit(X_train, Y_train,validation_split=0.2,verbose=0, epochs=100, callbacks=[es])"
   ]
  },
  {
   "cell_type": "code",
   "execution_count": 30,
   "metadata": {
    "scrolled": true
   },
   "outputs": [
    {
     "data": {
      "image/png": "[encoded data removed]",
      "text/plain": [
       "<Figure size 432x288 with 1 Axes>"
      ]
     },
     "metadata": {
      "needs_background": "light"
     },
     "output_type": "display_data"
    }
   ],
   "source": [
    "plot_loss(history)"
   ]
  },
  {
   "cell_type": "code",
   "execution_count": 31,
   "metadata": {},
   "outputs": [
    {
     "data": {
      "image/png": "[encoded data removed]",
      "text/plain": [
       "<Figure size 432x288 with 1 Axes>"
      ]
     },
     "metadata": {
      "needs_background": "light"
     },
     "output_type": "display_data"
    }
   ],
   "source": [
    "Y_pred = model.predict(X_test)\n",
    "\n",
    "a = plt.axes(aspect='equal')\n",
    "plt.scatter(Y_test.flatten(), Y_pred.flatten())\n",
    "plt.xlabel('True Values [souener]')\n",
    "plt.ylabel('Predictions [souener]')\n",
    "lims = [0, 1e11]\n",
    "plt.xlim(lims)\n",
    "plt.ylim(lims)\n",
    "_ = plt.plot(lims, lims)"
   ]
  },
  {
   "cell_type": "code",
   "execution_count": 32,
   "metadata": {},
   "outputs": [
    {
     "name": "stdout",
     "output_type": "stream",
     "text": [
      "Total Absolute Error:  114399867282781.58\n",
      "Mean Absolute Error:  8897866320.508795\n",
      "Mean Percentage Error:  253.9173635431402\n",
      "Total Squared Error:  3.702275873206155e+24\n",
      "Mean Squared Error:  2.8795798967147505e+20\n",
      "Number of Points:  12857\n"
     ]
    }
   ],
   "source": [
    "err = computeAndPrintError(Y_pred, Y_test)"
   ]
  },
  {
   "cell_type": "code",
   "execution_count": 33,
   "metadata": {},
   "outputs": [],
   "source": [
    "errorLst['Zmix+PCA(2 Components) DNN'] = err"
   ]
  },
  {
   "cell_type": "code",
   "execution_count": 34,
   "metadata": {},
   "outputs": [
    {
     "data": {
      "text/plain": [
       "<AxesSubplot:>"
      ]
     },
     "execution_count": 34,
     "metadata": {},
     "output_type": "execute_result"
    },
    {
     "data": {
      "image/png": "[encoded data removed]",
      "text/plain": [
       "<Figure size 432x288 with 1 Axes>"
      ]
     },
     "metadata": {
      "needs_background": "light"
     },
     "output_type": "display_data"
    }
   ],
   "source": [
    "sns.residplot(Y_test.flatten(), getResiduals(Y_test,Y_pred))"
   ]
  },
  {
   "cell_type": "markdown",
   "metadata": {},
   "source": [
    "### Scrambled Data "
   ]
  },
  {
   "cell_type": "code",
   "execution_count": 35,
   "metadata": {},
   "outputs": [],
   "source": [
    "X = df[[\"Zmix\",\"Cpv\"]].values\n",
    "Y = df[\"souener\"].values\n",
    "from sklearn.utils import shuffle\n",
    "X_shuffled, Y_shuffled = shuffle(X, Y, random_state=0)\n",
    "X_train = X_shuffled[::2]\n",
    "Y_train = Y_shuffled[::2]\n",
    "X_test = X_shuffled[1::2]\n",
    "Y_test = Y_shuffled[1::2]\n",
    "\n"
   ]
  },
  {
   "cell_type": "markdown",
   "metadata": {},
   "source": [
    "### Matern GP "
   ]
  },
  {
   "cell_type": "code",
   "execution_count": null,
   "metadata": {},
   "outputs": [
    {
     "name": "stdout",
     "output_type": "stream",
     "text": [
      "Zmix+PCA(2 components) trained using 50% Test Flames \n",
      "\n"
     ]
    }
   ],
   "source": [
    "print ('Zmix+PCA(2 components) trained using 50% Test Flames \\n')\n",
    "gp,err, Y_pred = fitGPAndCalcL1Err(X_train, Y_train.flatten(), X_test, Y_test.flatten())"
   ]
  },
  {
   "cell_type": "code",
   "execution_count": null,
   "metadata": {},
   "outputs": [],
   "source": [
    "errorLst['Zmix+PCA(2 Components) GP 50% Random'] = err"
   ]
  },
  {
   "cell_type": "code",
   "execution_count": null,
   "metadata": {},
   "outputs": [],
   "source": [
    "sns.residplot(Y_test.flatten(), getResiduals(Y_test,Y_pred))"
   ]
  },
  {
   "cell_type": "markdown",
   "metadata": {},
   "source": [
    "### Simple DNNN"
   ]
  },
  {
   "cell_type": "code",
   "execution_count": null,
   "metadata": {},
   "outputs": [],
   "source": [
    "%%time\n",
    "X_normalizer = preprocessing.Normalization()\n",
    "X_normalizer.adapt(np.array(X_train.copy()))\n",
    "model = build_and_compile_model(X_normalizer)\n",
    "model.summary()\n",
    "history = model.fit(X_train, Y_train,validation_split=0.2,verbose=0, epochs=100, callbacks=[es])"
   ]
  },
  {
   "cell_type": "code",
   "execution_count": null,
   "metadata": {},
   "outputs": [],
   "source": [
    "plot_loss(history)"
   ]
  },
  {
   "cell_type": "code",
   "execution_count": null,
   "metadata": {},
   "outputs": [],
   "source": [
    "Y_pred = model.predict(X_test)\n",
    "\n",
    "a = plt.axes(aspect='equal')\n",
    "plt.scatter(Y_test.flatten(), Y_pred.flatten())\n",
    "plt.xlabel('True Values [souener]')\n",
    "plt.ylabel('Predictions [souener]')\n",
    "lims = [0, 1e11]\n",
    "plt.xlim(lims)\n",
    "plt.ylim(lims)\n",
    "_ = plt.plot(lims, lims)"
   ]
  },
  {
   "cell_type": "code",
   "execution_count": null,
   "metadata": {},
   "outputs": [],
   "source": [
    "err = computeAndPrintError(Y_pred, Y_test)"
   ]
  },
  {
   "cell_type": "code",
   "execution_count": null,
   "metadata": {},
   "outputs": [],
   "source": [
    "errorLst['Zmix+PCA(2 Components) DNN 50% Random'] = err"
   ]
  },
  {
   "cell_type": "code",
   "execution_count": null,
   "metadata": {},
   "outputs": [],
   "source": [
    "sns.residplot(Y_test.flatten(), getResiduals(Y_test,Y_pred))"
   ]
  },
  {
   "cell_type": "markdown",
   "metadata": {},
   "source": [
    "# Experiment II\n",
    "## Training on all Untrimed Flames\n",
    "### Zmix, 4 PCA"
   ]
  },
  {
   "cell_type": "code",
   "execution_count": null,
   "metadata": {},
   "outputs": [],
   "source": [
    "#ZmixPCA_frameworkincludedtrainexcludedtest\n",
    "#ZmixPCA_frameworkincludedexcludedequalsplit\n",
    "X_train,Y_train,X_test, Y_test  = getTrainTestData(\"ZmixPCA_frameworkincludedtrainexcludedtest\")"
   ]
  },
  {
   "cell_type": "markdown",
   "metadata": {},
   "source": [
    "### Matern GP"
   ]
  },
  {
   "cell_type": "code",
   "execution_count": null,
   "metadata": {},
   "outputs": [],
   "source": [
    "print ('Zmix+PCA(4 components) trained using Framework Included Flames and Test on Flames Excluded by Framework\\n')\n",
    "gp,err, Y_pred = fitGPAndCalcL1Err(X_train, Y_train.flatten(), X_test, Y_test.flatten())"
   ]
  },
  {
   "cell_type": "code",
   "execution_count": null,
   "metadata": {},
   "outputs": [],
   "source": [
    "errorLst['Zmix+PCA(4 Components) GP'] = err"
   ]
  },
  {
   "cell_type": "code",
   "execution_count": null,
   "metadata": {},
   "outputs": [],
   "source": [
    "sns.residplot(Y_test.flatten(), getResiduals(Y_test,Y_pred))"
   ]
  },
  {
   "cell_type": "markdown",
   "metadata": {
    "collapsed": true
   },
   "source": [
    "### Simple DNN "
   ]
  },
  {
   "cell_type": "code",
   "execution_count": null,
   "metadata": {},
   "outputs": [],
   "source": [
    "X_normalizer = preprocessing.Normalization()\n",
    "X_normalizer.adapt(np.array(X_train.copy()))\n",
    "model = build_and_compile_model(X_normalizer)\n",
    "model.summary()"
   ]
  },
  {
   "cell_type": "code",
   "execution_count": null,
   "metadata": {},
   "outputs": [],
   "source": [
    "tf.keras.utils.plot_model(model,to_file=\"model.png\",\n",
    "    show_shapes=True,\n",
    "    show_layer_names=True,\n",
    "    rankdir=\"TB\",\n",
    "    expand_nested=False,\n",
    "    dpi=96)\n"
   ]
  },
  {
   "cell_type": "code",
   "execution_count": null,
   "metadata": {},
   "outputs": [],
   "source": [
    "%%time\n",
    "history = model.fit(X_train, Y_train,validation_split=0.2,verbose=0, epochs=100, callbacks=[es])"
   ]
  },
  {
   "cell_type": "code",
   "execution_count": null,
   "metadata": {},
   "outputs": [],
   "source": [
    "plot_loss(history)"
   ]
  },
  {
   "cell_type": "code",
   "execution_count": null,
   "metadata": {},
   "outputs": [],
   "source": [
    "Y_pred = model.predict(X_test)\n",
    "err = computeAndPrintError(Y_pred, Y_test)"
   ]
  },
  {
   "cell_type": "code",
   "execution_count": null,
   "metadata": {},
   "outputs": [],
   "source": [
    "errorLst['Zmix+PCA(4 Components) DNN'] = err"
   ]
  },
  {
   "cell_type": "code",
   "execution_count": null,
   "metadata": {},
   "outputs": [],
   "source": [
    "sns.residplot(Y_test.flatten(), getResiduals(Y_test,Y_pred))"
   ]
  },
  {
   "cell_type": "code",
   "execution_count": null,
   "metadata": {},
   "outputs": [],
   "source": []
  },
  {
   "cell_type": "markdown",
   "metadata": {},
   "source": [
    "### Scrambled Data "
   ]
  },
  {
   "cell_type": "markdown",
   "metadata": {},
   "source": [
    "### Matern GP "
   ]
  },
  {
   "cell_type": "code",
   "execution_count": null,
   "metadata": {},
   "outputs": [],
   "source": [
    "X = df[zmix_pca_dim_cols].values\n",
    "Y = df[\"souener\"].values\n",
    "from sklearn.utils import shuffle\n",
    "X_shuffled, Y_shuffled = shuffle(X, Y, random_state=0)\n",
    "X_train = X_shuffled[::2]\n",
    "Y_train = Y_shuffled[::2]\n",
    "X_test = X_shuffled[1::2]\n",
    "Y_test = Y_shuffled[1::2]\n",
    "\n"
   ]
  },
  {
   "cell_type": "code",
   "execution_count": null,
   "metadata": {
    "scrolled": true
   },
   "outputs": [],
   "source": [
    "print ('Zmix+PCA(4 components) trained using 50% data\\n')\n",
    "gp,err, Y_pred = fitGPAndCalcL1Err(X_train, Y_train.flatten(), X_test, Y_test.flatten())"
   ]
  },
  {
   "cell_type": "code",
   "execution_count": null,
   "metadata": {},
   "outputs": [],
   "source": [
    "errorLst['Zmix+PCA(4 Components) GP 50% data'] = err"
   ]
  },
  {
   "cell_type": "code",
   "execution_count": null,
   "metadata": {},
   "outputs": [],
   "source": [
    "sns.residplot(Y_test.flatten(), getResiduals(Y_test,Y_pred))"
   ]
  },
  {
   "cell_type": "markdown",
   "metadata": {
    "collapsed": true
   },
   "source": [
    "### Simple DNN "
   ]
  },
  {
   "cell_type": "code",
   "execution_count": null,
   "metadata": {},
   "outputs": [],
   "source": [
    "X_normalizer = preprocessing.Normalization()\n",
    "X_normalizer.adapt(np.array(X_train.copy()))\n",
    "model = build_and_compile_model(X_normalizer)\n",
    "model.summary()"
   ]
  },
  {
   "cell_type": "code",
   "execution_count": null,
   "metadata": {},
   "outputs": [],
   "source": [
    "tf.keras.utils.plot_model(model,to_file=\"model.png\",\n",
    "    show_shapes=True,\n",
    "    show_layer_names=True,\n",
    "    rankdir=\"TB\",\n",
    "    expand_nested=False,\n",
    "    dpi=96)"
   ]
  },
  {
   "cell_type": "code",
   "execution_count": null,
   "metadata": {},
   "outputs": [],
   "source": [
    "%%time\n",
    "history = model.fit(X_train, Y_train,validation_split=0.2,verbose=0, epochs=100, callbacks=[es])"
   ]
  },
  {
   "cell_type": "code",
   "execution_count": null,
   "metadata": {
    "scrolled": true
   },
   "outputs": [],
   "source": [
    "plot_loss(history)"
   ]
  },
  {
   "cell_type": "code",
   "execution_count": null,
   "metadata": {},
   "outputs": [],
   "source": [
    "Y_pred = model.predict(X_test)\n",
    "err = computeAndPrintError(Y_pred, Y_test)"
   ]
  },
  {
   "cell_type": "code",
   "execution_count": null,
   "metadata": {},
   "outputs": [],
   "source": [
    "errorLst['Zmix+PCA(4 Components) DNN'] = err"
   ]
  },
  {
   "cell_type": "code",
   "execution_count": null,
   "metadata": {},
   "outputs": [],
   "source": [
    "sns.residplot(Y_test.flatten(), getResiduals(Y_test,Y_pred))"
   ]
  },
  {
   "cell_type": "markdown",
   "metadata": {},
   "source": [
    "## Experiement III"
   ]
  },
  {
   "cell_type": "markdown",
   "metadata": {},
   "source": [
    "### All Species Physics Constrained - DNN"
   ]
  },
  {
   "cell_type": "code",
   "execution_count": null,
   "metadata": {},
   "outputs": [],
   "source": [
    "X_allSpecies = df[icovariates].values\n",
    "X= df[zmix_pca_dim_cols].values\n",
    "Y = df[\"souener\"].values\n",
    "from sklearn.utils import shuffle\n",
    "X_allSpecies_shuffled,X_shuffled, Y_shuffled = shuffle(X_allSpecies,X,Y, random_state=0)\n",
    "\n",
    "\n",
    "X_allSpecies_train = X_allSpecies_shuffled[::2]\n",
    "X_train = X_shuffled[::2]\n",
    "Y_train = Y_shuffled[::2]\n",
    "\n",
    "X_allSpecies_test = X_allSpecies_shuffled[1::2]\n",
    "X_test = X_shuffled[1::2]\n",
    "Y_test = Y_shuffled[1::2]"
   ]
  },
  {
   "cell_type": "code",
   "execution_count": null,
   "metadata": {},
   "outputs": [],
   "source": [
    "Y_test"
   ]
  },
  {
   "cell_type": "code",
   "execution_count": null,
   "metadata": {},
   "outputs": [],
   "source": [
    "# demonstrate data normalization with sklearn\n",
    "from sklearn.preprocessing import MinMaxScaler\n",
    "\n",
    "# create scaler\n",
    "scaler_species = MinMaxScaler()\n",
    "# fit and transform in one step\n",
    "normalized_species_train = scaler_species.fit_transform(X_allSpecies_train)\n",
    "normalized_species_test = scaler_species.fit_transform(X_allSpecies_test)\n",
    "\n",
    "# create scaler\n",
    "scaler_zmixpca = MinMaxScaler()\n",
    "# fit and transform in one step\n",
    "normalized_zmixpca_train = scaler_zmixpca.fit_transform(X_train)\n",
    "normalized_zmixpca_test = scaler_zmixpca.fit_transform(X_test)\n",
    "\n",
    "\n",
    "\n",
    "scaler_souener = MinMaxScaler()\n",
    "# fit and transform in one step\n",
    "\n",
    "Y_train = Y_train.reshape(Y_train.shape[0], 1)\n",
    "Y_test = Y_test.reshape(Y_test.shape[0], 1)\n",
    "\n",
    "normalized_souener_train = scaler_souener.fit_transform(Y_train)\n",
    "normalized_souener_test = scaler_souener.fit_transform(Y_test)"
   ]
  },
  {
   "cell_type": "code",
   "execution_count": null,
   "metadata": {},
   "outputs": [],
   "source": [
    "normalized_souener_train = normalized_souener_train.flatten()\n",
    "normalized_souener_test = normalized_souener_test.flatten()\n",
    "\n",
    "Y_train = Y_train.flatten()\n",
    "Y_test = Y_test.flatten()"
   ]
  },
  {
   "cell_type": "code",
   "execution_count": null,
   "metadata": {},
   "outputs": [],
   "source": [
    "normalized_souener_train.shape"
   ]
  },
  {
   "cell_type": "code",
   "execution_count": null,
   "metadata": {},
   "outputs": [],
   "source": [
    "import tensorflow as tf\n",
    "\n",
    "from tensorflow import keras\n",
    "from tensorflow.keras import layers\n",
    "from tensorflow.keras.layers.experimental import preprocessing\n",
    "species_inputs = keras.Input(shape=(53,), name=\"species_input\")\n",
    "\n",
    "linear_reduced_dims = layers.Dense(5, name=\"linear_layer\")(species_inputs)\n",
    "\n",
    "x = layers.Dense(32, activation=\"relu\")(linear_reduced_dims)\n",
    "x = layers.Dense(64, activation=\"relu\")(x)\n",
    "x = layers.Dense(128, activation=\"relu\")(x)\n",
    "x = layers.Dense(256, activation=\"relu\")(x)\n",
    "x = layers.Dense(512, activation=\"relu\")(x)\n",
    "x = layers.Dense(256, activation=\"relu\")(x)\n",
    "x = layers.Dense(128, activation=\"relu\")(x)\n",
    "x = layers.Dense(64, activation=\"relu\")(x)\n",
    "x = layers.Dense(32, activation=\"relu\")(x)\n",
    "#Predict the source energy\n",
    "souener_pred = layers.Dense(1, name=\"prediction\")(x)\n",
    "\n",
    "physics_pred = layers.Dense(5, name=\"physics\")(linear_reduced_dims)\n",
    "\n",
    "model = keras.Model(\n",
    "    inputs=[species_inputs],\n",
    "    outputs=[souener_pred, physics_pred],\n",
    ")\n",
    "\n",
    "model.summary()"
   ]
  },
  {
   "cell_type": "code",
   "execution_count": null,
   "metadata": {},
   "outputs": [],
   "source": [
    "tf.keras.utils.plot_model(model,to_file=\"model.png\",\n",
    "    show_shapes=True,\n",
    "    show_layer_names=True,\n",
    "    rankdir=\"TB\",\n",
    "    expand_nested=False,\n",
    "    dpi=96)"
   ]
  },
  {
   "cell_type": "code",
   "execution_count": null,
   "metadata": {},
   "outputs": [],
   "source": [
    "opt = keras.optimizers.Adam(learning_rate=0.01)\n",
    "model.compile(\n",
    "    optimizer=opt,\n",
    "    loss={\n",
    "        \"physics\": keras.losses.MeanAbsoluteError(),\n",
    "        \"prediction\": keras.losses.MeanAbsoluteError(),\n",
    "    },\n",
    "    loss_weights=[2.0, 0.2],\n",
    ")\n",
    "\n"
   ]
  },
  {
   "cell_type": "code",
   "execution_count": null,
   "metadata": {},
   "outputs": [],
   "source": [
    "%%time\n",
    "#batch_size=100,\n",
    "history = model.fit(normalized_species_train, \n",
    "                    {\n",
    "                        \"physics\": normalized_zmixpca_train,\n",
    "                        \"prediction\":normalized_souener_train#Y_train\n",
    "                    },\n",
    "                    validation_split=0.2,\n",
    "                    verbose=0, \n",
    "                    epochs=100\n",
    "                   )"
   ]
  },
  {
   "cell_type": "code",
   "execution_count": null,
   "metadata": {},
   "outputs": [],
   "source": [
    "def plot_loss_physics_and_regression(history):\n",
    "    '''\n",
    "    fig, axs = plt.subplots(1, 2, figsize=(6,6))\n",
    "    plt.subplots_adjust(wspace=.75)\n",
    "    axs[0].plot(history.history['prediction_loss'], label='loss')\n",
    "    axs[0].plot(history.history['val_prediction_loss'], label='val_loss')\n",
    "    axs[0].set_title('Souener Prediction Loss')\n",
    "    axs[0].set(xlabel='Epoch', ylabel='Souener Error')\n",
    "    axs[0].legend()\n",
    "    \n",
    "    axs[1].plot(history.history['physics_loss'], label='loss')\n",
    "    axs[1].plot(history.history['val_physics_loss'], label='val_loss')\n",
    "    axs[1].set_title('Physics Loss')\n",
    "    axs[1].set(xlabel='Epoch', ylabel='Physics Error')\n",
    "    axs[1].legend()\n",
    "    '''\n",
    "    \n",
    "    \n",
    "    f = plt.figure(figsize=(10,3))\n",
    "    ax = f.add_subplot(121)\n",
    "    ax2 = f.add_subplot(122)\n",
    "    \n",
    "    ax.plot(history.history['prediction_loss'], label='loss')\n",
    "    ax.plot(history.history['val_prediction_loss'], label='val_loss')\n",
    "    ax.set_title('Souener Prediction Loss')\n",
    "    ax.set(xlabel='Epoch', ylabel='Souener Error')\n",
    "    ax.legend()\n",
    "\n",
    "    ax2.plot(history.history['physics_loss'], label='loss')\n",
    "    ax2.plot(history.history['val_physics_loss'], label='val_loss')\n",
    "    ax2.set_title('Physics Loss')\n",
    "    ax2.set(xlabel='Epoch', ylabel='Physics Error')\n",
    "    ax2.legend()\n",
    "        "
   ]
  },
  {
   "cell_type": "code",
   "execution_count": null,
   "metadata": {},
   "outputs": [],
   "source": [
    "plot_loss_physics_and_regression(history)"
   ]
  },
  {
   "cell_type": "code",
   "execution_count": null,
   "metadata": {},
   "outputs": [],
   "source": [
    "predictions = model.predict(normalized_species_test)\n",
    "\n",
    "normalized_souener_pred = predictions[0]\n",
    "\n",
    "normalized_zmixpca_pred = predictions[1]"
   ]
  },
  {
   "cell_type": "code",
   "execution_count": null,
   "metadata": {},
   "outputs": [],
   "source": [
    "Y_pred = scaler_souener.inverse_transform(normalized_souener_pred)"
   ]
  },
  {
   "cell_type": "code",
   "execution_count": null,
   "metadata": {},
   "outputs": [],
   "source": [
    "Y_pred = Y_pred.flatten()"
   ]
  },
  {
   "cell_type": "code",
   "execution_count": null,
   "metadata": {},
   "outputs": [],
   "source": [
    "err = computeAndPrintError(Y_pred, Y_test)"
   ]
  },
  {
   "cell_type": "code",
   "execution_count": null,
   "metadata": {},
   "outputs": [],
   "source": [
    "sns.residplot(Y_test.flatten(), getResiduals(Y_test,Y_pred))"
   ]
  },
  {
   "cell_type": "code",
   "execution_count": null,
   "metadata": {},
   "outputs": [],
   "source": [
    "#Model Saved for the following configuration\n",
    "'''\n",
    "Total Absolute Error:  4075696778120.0723\n",
    "Mean Absolute Error:  495887185.56029594\n",
    "model.save(\"pcdnn_paper_1\")\n",
    "'''"
   ]
  },
  {
   "cell_type": "markdown",
   "metadata": {},
   "source": [
    "### All Species Unconstrained DNN"
   ]
  },
  {
   "cell_type": "code",
   "execution_count": null,
   "metadata": {},
   "outputs": [],
   "source": [
    "species_inputs = keras.Input(shape=(53,), name=\"species_input\")\n",
    "\n",
    "x = layers.Dense(5, activation=\"relu\")(species_inputs)\n",
    "x = layers.Dense(32, activation=\"relu\")(x)\n",
    "x = layers.Dense(64, activation=\"relu\")(x)\n",
    "x = layers.Dense(128, activation=\"relu\")(x)\n",
    "x = layers.Dense(256, activation=\"relu\")(x)\n",
    "x = layers.Dense(512, activation=\"relu\")(x)\n",
    "x = layers.Dense(256, activation=\"relu\")(x)\n",
    "x = layers.Dense(128, activation=\"relu\")(x)\n",
    "x = layers.Dense(64, activation=\"relu\")(x)\n",
    "x = layers.Dense(32, activation=\"relu\")(x)\n",
    "#Predict the source energy\n",
    "souener_pred = layers.Dense(1, name=\"prediction\")(x)\n",
    "\n",
    "nlfullmodel = keras.Model(\n",
    "    inputs=[species_inputs],\n",
    "    outputs=[souener_pred],\n",
    ")\n",
    "\n",
    "nlfullmodel.summary()"
   ]
  },
  {
   "cell_type": "code",
   "execution_count": null,
   "metadata": {},
   "outputs": [],
   "source": [
    "tf.keras.utils.plot_model(nlfullmodel,to_file=\"model.png\",\n",
    "    show_shapes=True,\n",
    "    show_layer_names=True,\n",
    "    rankdir=\"TB\",\n",
    "    expand_nested=False,\n",
    "    dpi=96)"
   ]
  },
  {
   "cell_type": "code",
   "execution_count": null,
   "metadata": {},
   "outputs": [],
   "source": [
    "nlfullmodel.compile(loss='mean_absolute_error',optimizer=tf.keras.optimizers.Adam(0.001))"
   ]
  },
  {
   "cell_type": "code",
   "execution_count": null,
   "metadata": {},
   "outputs": [],
   "source": [
    "# demonstrate data normalization with sklearn\n",
    "from sklearn.preprocessing import MinMaxScaler\n",
    "\n",
    "X_allSpecies = df[icovariates].values\n",
    "X= df[zmix_pca_dim_cols].values\n",
    "Y = df[\"souener\"].values\n",
    "from sklearn.utils import shuffle\n",
    "X_allSpecies_shuffled,X_shuffled, Y_shuffled = shuffle(X_allSpecies,X,Y, random_state=0)\n",
    "\n",
    "\n",
    "X_allSpecies_train = X_allSpecies_shuffled[::2]\n",
    "X_train = X_shuffled[::2]\n",
    "Y_train = Y_shuffled[::2]\n",
    "\n",
    "X_allSpecies_test = X_allSpecies_shuffled[1::2]\n",
    "X_test = X_shuffled[1::2]\n",
    "Y_test = Y_shuffled[1::2]\n",
    "\n",
    "# create scaler\n",
    "scaler_species = MinMaxScaler()\n",
    "# fit and transform in one step\n",
    "normalized_species_train = scaler_species.fit_transform(X_allSpecies_train)\n",
    "normalized_species_test = scaler_species.fit_transform(X_allSpecies_test)\n",
    "\n",
    "# create scaler\n",
    "scaler_zmixpca = MinMaxScaler()\n",
    "# fit and transform in one step\n",
    "normalized_zmixpca_train = scaler_zmixpca.fit_transform(X_train)\n",
    "normalized_zmixpca_test = scaler_zmixpca.fit_transform(X_test)\n",
    "\n",
    "\n",
    "\n",
    "scaler_souener = MinMaxScaler()\n",
    "# fit and transform in one step\n",
    "\n",
    "Y_train = Y_train.reshape(Y_train.shape[0], 1)\n",
    "Y_test = Y_test.reshape(Y_test.shape[0], 1)\n",
    "\n",
    "normalized_souener_train = scaler_souener.fit_transform(Y_train)\n",
    "normalized_souener_test = scaler_souener.fit_transform(Y_test)"
   ]
  },
  {
   "cell_type": "code",
   "execution_count": null,
   "metadata": {},
   "outputs": [],
   "source": [
    "normalized_souener_train = normalized_souener_train.flatten()\n",
    "normalized_souener_test = normalized_souener_test.flatten()\n",
    "\n",
    "Y_train = Y_train.flatten()\n",
    "Y_test = Y_test.flatten()"
   ]
  },
  {
   "cell_type": "code",
   "execution_count": null,
   "metadata": {},
   "outputs": [],
   "source": [
    "nlfullmodel"
   ]
  },
  {
   "cell_type": "code",
   "execution_count": null,
   "metadata": {},
   "outputs": [],
   "source": [
    "%%time\n",
    "history = nlfullmodel.fit(normalized_species_train, \n",
    "                          normalized_souener_train,\n",
    "                          validation_split=0.2,\n",
    "                          verbose=0, \n",
    "                          epochs=100, \n",
    "                          callbacks=[es])"
   ]
  },
  {
   "cell_type": "code",
   "execution_count": null,
   "metadata": {
    "scrolled": true
   },
   "outputs": [],
   "source": [
    "plot_loss(history)"
   ]
  },
  {
   "cell_type": "code",
   "execution_count": null,
   "metadata": {},
   "outputs": [],
   "source": [
    "predictions = nlfullmodel.predict(normalized_species_test)\n",
    "\n",
    "normalized_souener_pred = predictions\n"
   ]
  },
  {
   "cell_type": "code",
   "execution_count": null,
   "metadata": {},
   "outputs": [],
   "source": [
    "Y_pred = scaler_souener.inverse_transform(normalized_souener_pred)"
   ]
  },
  {
   "cell_type": "code",
   "execution_count": null,
   "metadata": {},
   "outputs": [],
   "source": [
    "Y_pred = Y_pred.flatten()"
   ]
  },
  {
   "cell_type": "code",
   "execution_count": null,
   "metadata": {},
   "outputs": [],
   "source": [
    "err = computeAndPrintError(Y_pred, Y_test)"
   ]
  },
  {
   "cell_type": "code",
   "execution_count": null,
   "metadata": {},
   "outputs": [],
   "source": [
    "sns.residplot(Y_test.flatten(), getResiduals(Y_test,Y_pred))"
   ]
  },
  {
   "cell_type": "code",
   "execution_count": null,
   "metadata": {},
   "outputs": [],
   "source": []
  }
 ],
 "metadata": {
  "kernelspec": {
   "display_name": "Python 3",
   "language": "python",
   "name": "python3"
  },
  "language_info": {
   "codemirror_mode": {
    "name": "ipython",
    "version": 3
   },
   "file_extension": ".py",
   "mimetype": "text/x-python",
   "name": "python",
   "nbconvert_exporter": "python",
   "pygments_lexer": "ipython3",
   "version": "3.8.5"
  }
 },
 "nbformat": 4,
 "nbformat_minor": 2
}
